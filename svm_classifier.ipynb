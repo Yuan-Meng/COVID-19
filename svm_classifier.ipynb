{
 "cells": [
  {
   "cell_type": "code",
   "execution_count": 1,
   "metadata": {},
   "outputs": [],
   "source": [
    "# Import libraries\n",
    "%matplotlib inline\n",
    "import matplotlib.pyplot as plt\n",
    "import seaborn as sns\n",
    "import numpy as np\n",
    "import pandas as pd\n",
    "from sklearn import svm\n",
    "from sklearn.preprocessing import RobustScaler\n",
    "from sklearn.impute import SimpleImputer\n",
    "from sklearn.model_selection import train_test_split, GridSearchCV, cross_val_score\n",
    "from sklearn.metrics import classification_report, roc_auc_score, plot_confusion_matrix\n",
    "from imblearn.over_sampling import SMOTE\n",
    "import pickle\n",
    "\n",
    "import warnings\n",
    "\n",
    "warnings.simplefilter(\"ignore\")"
   ]
  },
  {
   "cell_type": "markdown",
   "metadata": {},
   "source": [
    "# Load saved data and models"
   ]
  },
  {
   "cell_type": "code",
   "execution_count": 2,
   "metadata": {},
   "outputs": [],
   "source": [
    "# Load processed data\n",
    "with open(\"X_train.pkl\", \"rb\") as file:\n",
    "    X_train = pickle.load(file)\n",
    "    \n",
    "with open(\"X_test.pkl\", \"rb\") as file:\n",
    "    X_test = pickle.load(file)    \n",
    "\n",
    "with open(\"X.pkl\", \"rb\") as file:\n",
    "    X = pickle.load(file)      \n",
    "    \n",
    "with open(\"y_train.pkl\", \"rb\") as file:\n",
    "    y_train = pickle.load(file)        \n",
    "    \n",
    "with open(\"y_test.pkl\", \"rb\") as file:\n",
    "    y_test = pickle.load(file)   \n",
    "\n",
    "with open(\"y.pkl\", \"rb\") as file:\n",
    "    y = pickle.load(file)      "
   ]
  },
  {
   "cell_type": "code",
   "execution_count": 4,
   "metadata": {},
   "outputs": [],
   "source": [
    "# Drop chronic_disease_binary, which is pretty useless\n",
    "X_train.drop([\"chronic_disease_binary\"], axis=1, inplace=True)\n",
    "X_test.drop([\"chronic_disease_binary\"], axis=1, inplace=True)\n",
    "X.drop([\"chronic_disease_binary\"], axis=1, inplace=True)"
   ]
  },
  {
   "cell_type": "markdown",
   "metadata": {},
   "source": [
    "# Preprocessing"
   ]
  },
  {
   "cell_type": "code",
   "execution_count": 5,
   "metadata": {},
   "outputs": [],
   "source": [
    "# Same feature names\n",
    "feature_names = X.columns.tolist()"
   ]
  },
  {
   "cell_type": "code",
   "execution_count": 6,
   "metadata": {},
   "outputs": [],
   "source": [
    "# Impute missing values\n",
    "imp_train = SimpleImputer(missing_values=np.nan, strategy='mean')\n",
    "imp_test = SimpleImputer(missing_values=np.nan, strategy='mean')\n",
    "imp_full = SimpleImputer(missing_values=np.nan, strategy='mean')\n",
    "\n",
    "X_train = imp_train.fit_transform(X_train)\n",
    "X_test = imp_test.fit_transform(X_test)\n",
    "X = imp_full.fit_transform(X)"
   ]
  },
  {
   "cell_type": "code",
   "execution_count": 7,
   "metadata": {},
   "outputs": [],
   "source": [
    "# Oversample\n",
    "res_train = SMOTE()\n",
    "X_train, y_train = res_train.fit_resample(X_train, y_train)\n",
    "\n",
    "res_test = SMOTE()\n",
    "X_test, y_test = res_test.fit_resample(X_test, y_test)\n",
    "\n",
    "res_full = SMOTE()\n",
    "X, y = res_full.fit_resample(X, y)"
   ]
  },
  {
   "cell_type": "code",
   "execution_count": 8,
   "metadata": {},
   "outputs": [],
   "source": [
    "# Convert back to dataframes (or scaler somehow doesn't work)\n",
    "X_train = pd.DataFrame(X_train, columns = feature_names)\n",
    "X_test = pd.DataFrame(X_test, columns = feature_names)\n",
    "X = pd.DataFrame(X, columns = feature_names)"
   ]
  },
  {
   "cell_type": "code",
   "execution_count": 9,
   "metadata": {},
   "outputs": [],
   "source": [
    "# Scale age\n",
    "scale_full = RobustScaler()\n",
    "scale_train = RobustScaler()\n",
    "scale_test = RobustScaler()\n",
    "\n",
    "X_train[\"age\"] = scale_train.fit_transform(X_train[[\"age\"]])\n",
    "X_test[\"age\"] = scale_test.fit_transform(X_test[[\"age\"]])\n",
    "X[\"age\"] = scale_full.fit_transform(X[[\"age\"]])"
   ]
  },
  {
   "cell_type": "markdown",
   "metadata": {},
   "source": [
    "# Model training"
   ]
  },
  {
   "cell_type": "code",
   "execution_count": 10,
   "metadata": {},
   "outputs": [
    {
     "name": "stdout",
     "output_type": "stream",
     "text": [
      "AUC in each fold: [0.86457546 0.90854119 0.92302847 0.91710758 0.91635173 0.92239859\n",
      " 0.91962711 0.89795918 0.91484001 0.95439657]; mean: 0.9138825900730663\n",
      "\n",
      "              precision    recall  f1-score   support\n",
      "\n",
      "           0       0.93      0.92      0.93       159\n",
      "           1       0.93      0.93      0.93       159\n",
      "\n",
      "    accuracy                           0.93       318\n",
      "   macro avg       0.93      0.93      0.93       318\n",
      "weighted avg       0.93      0.93      0.93       318\n",
      "\n"
     ]
    },
    {
     "data": {
      "image/png": "[encoded data removed]",
      "text/plain": [
       "<Figure size 432x288 with 2 Axes>"
      ]
     },
     "metadata": {
      "needs_background": "light"
     },
     "output_type": "display_data"
    }
   ],
   "source": [
    "# SVM classifier object\n",
    "clf = svm.SVC(probability=True)\n",
    "\n",
    "# Train classifier and evaluate performance\n",
    "def model_fit(model, data_train, data_test, target_train, target_test):\n",
    "\n",
    "    # Fit on training data\n",
    "    model.fit(data_train, target_train)\n",
    "\n",
    "    # Cross validate on training data\n",
    "    scores = cross_val_score(model, data_train, target_train, cv=10, scoring=\"roc_auc\")\n",
    "    print(\"AUC in each fold: {}; mean: {}\\n\".format(scores, scores.mean()))\n",
    "\n",
    "    # Predict outcome for testing data\n",
    "    y_pred = model.predict(data_test)\n",
    "\n",
    "    # Display performance metrics\n",
    "    svm_eval = classification_report(target_test, y_pred, labels=[0, 1])\n",
    "    print(svm_eval)\n",
    "\n",
    "    # Confusion matrix\n",
    "    plot_confusion_matrix(\n",
    "        model,\n",
    "        data_test,\n",
    "        target_test,\n",
    "        display_labels=[\"survived\", \"dead\"],\n",
    "        cmap=plt.cm.Blues,\n",
    "        normalize=None,\n",
    "    )\n",
    "    plt.title(\"Confusion matrix\")\n",
    "    \n",
    "model_fit(clf, X_train, X_test, y_train, y_test)    "
   ]
  },
  {
   "cell_type": "code",
   "execution_count": 11,
   "metadata": {},
   "outputs": [
    {
     "name": "stdout",
     "output_type": "stream",
     "text": [
      "              precision    recall  f1-score   support\n",
      "\n",
      "           0       0.86      0.90      0.88       789\n",
      "           1       0.90      0.85      0.87       789\n",
      "\n",
      "    accuracy                           0.88      1578\n",
      "   macro avg       0.88      0.88      0.88      1578\n",
      "weighted avg       0.88      0.88      0.88      1578\n",
      "\n"
     ]
    },
    {
     "data": {
      "text/plain": [
       "Text(0.5, 1.0, 'Confusion matrix')"
      ]
     },
     "execution_count": 11,
     "metadata": {},
     "output_type": "execute_result"
    },
    {
     "data": {
      "image/png": "[encoded data removed]",
      "text/plain": [
       "<Figure size 432x288 with 2 Axes>"
      ]
     },
     "metadata": {
      "needs_background": "light"
     },
     "output_type": "display_data"
    }
   ],
   "source": [
    "# Retrain on full data\n",
    "clf.fit(X, y)\n",
    "\n",
    "# Cross validation\n",
    "y_pred = clf.predict(X)\n",
    "svm_eval = classification_report(y, y_pred, labels=[0, 1])\n",
    "print(svm_eval)\n",
    "\n",
    "# Confusion matrix\n",
    "plot_confusion_matrix(\n",
    "    clf,\n",
    "    X,\n",
    "    y,\n",
    "    display_labels=[\"survived\", \"dead\"],\n",
    "    cmap=plt.cm.Blues,\n",
    "    normalize=None,\n",
    ")\n",
    "plt.title(\"Confusion matrix\")"
   ]
  },
  {
   "cell_type": "markdown",
   "metadata": {},
   "source": [
    "# Predict your risk"
   ]
  },
  {
   "cell_type": "markdown",
   "metadata": {},
   "source": [
    "## Try for yourself"
   ]
  },
  {
   "cell_type": "code",
   "execution_count": 12,
   "metadata": {},
   "outputs": [],
   "source": [
    "# Function: Take patient info\n",
    "def patient_info():\n",
    "\n",
    "    # Demographic info\n",
    "    age = input(\"What's your age?\")\n",
    "    sex = input(\"What's your biological sex? (female: 1, male: 0)\")\n",
    "#     country = input(\"Which country do you live in?\")\n",
    "#     docs_per_10k = medical.loc[\n",
    "#         medical[\"country\"].str.contains(country), \"docs_per_10k\"\n",
    "#     ].item()\n",
    "#     beds_per_10k = medical.loc[\n",
    "#         medical[\"country\"].str.contains(country), \"beds_per_10k\"\n",
    "#     ].item()\n",
    "\n",
    "    # Pre-conditions\n",
    "#     preconition = input(\"Any chronic dieases that you know of? (yes: 1, no: 0)\")\n",
    "    hypertension = input(\"Do you have hypertension? (yes: 1, no: 0)\")\n",
    "    diabetes = input(\"Do you have diabetes? (yes: 1, no: 0)\")\n",
    "    heart = input(\"Do you have heart diseases? (yes: 1, no: 0)\")\n",
    "\n",
    "    # Symptoms\n",
    "    fever = input(\"Do you have fever? (yes: 1, no: 0)\")\n",
    "    cough = input(\"Are you coughing? (yes: 1, no: 0)\")\n",
    "    fatigue = input(\"Do you feel fatigue? (yes: 1, no: 0)\")\n",
    "    sore_throat = input(\"Do you have a sore throat? (yes: 1 , no:0)\")\n",
    "\n",
    "    # Save results in a list\n",
    "    return {\n",
    "        \"age_scaled\": float(scale_full.transform([[age]])),\n",
    "        \"sex\": int(sex),\n",
    "#         \"chronic_disease_binary\": int(preconition),\n",
    "#         \"beds_per_10k\": float(beds_scaler.transform([[beds_per_10k]])),\n",
    "#         \"docs_per_10k\": float(docs_scaler.transform([[docs_per_10k]])),\n",
    "        \"hypertension\": int(hypertension),\n",
    "        \"diabetes\": int(diabetes),\n",
    "        \"heart\": int(heart),\n",
    "        \"fever\": int(fever),\n",
    "        \"cough\": int(cough),\n",
    "        \"fatigue\": int(fatigue),\n",
    "        \"sore throat\": int(sore_throat),\n",
    "    }\n",
    "\n",
    "# Function: Output risk\n",
    "def risk_predictor():\n",
    "\n",
    "    # Get patient info\n",
    "    new_case = patient_info()\n",
    "\n",
    "    # Convert to useable format\n",
    "    new_case = pd.DataFrame(new_case, index=[0])\n",
    "\n",
    "    # Make prediction\n",
    "    new_prediction = clf.predict_proba(new_case)\n",
    "\n",
    "    # Print result\n",
    "    print(\n",
    "        \"Once contracted COVID-19, your mortality risk is {}%.\".format(\n",
    "            round(new_prediction[0][1] * 100, 2)\n",
    "        )\n",
    "    )"
   ]
  },
  {
   "cell_type": "code",
   "execution_count": 13,
   "metadata": {},
   "outputs": [
    {
     "name": "stdin",
     "output_type": "stream",
     "text": [
      "What's your age? 25\n",
      "What's your biological sex? (female: 1, male: 0) 0\n",
      "Do you have hypertension? (yes: 1, no: 0) 0\n",
      "Do you have diabetes? (yes: 1, no: 0) 0\n",
      "Do you have heart diseases? (yes: 1, no: 0) 0\n",
      "Do you have fever? (yes: 1, no: 0) 0\n",
      "Are you coughing? (yes: 1, no: 0) 0\n",
      "Do you feel fatigue? (yes: 1, no: 0) 0\n",
      "Do you have a sore throat? (yes: 1 , no:0) 0\n"
     ]
    },
    {
     "name": "stdout",
     "output_type": "stream",
     "text": [
      "Once contracted COVID-19, your mortality risk is 11.86%.\n"
     ]
    }
   ],
   "source": [
    "risk_predictor()"
   ]
  },
  {
   "cell_type": "markdown",
   "metadata": {},
   "source": [
    "## Save model"
   ]
  },
  {
   "cell_type": "code",
   "execution_count": 14,
   "metadata": {},
   "outputs": [],
   "source": [
    "with open(\"covid19_risk_svm.pkl\", \"wb\") as file:\n",
    "    pickle.dump(clf, file, protocol = 2)"
   ]
  },
  {
   "cell_type": "code",
   "execution_count": 15,
   "metadata": {},
   "outputs": [],
   "source": [
    "with open(\"svm_scaler.pkl\", \"wb\") as file:\n",
    "    pickle.dump(scale_full, file, protocol = 2)"
   ]
  },
  {
   "cell_type": "code",
   "execution_count": null,
   "metadata": {},
   "outputs": [],
   "source": []
  }
 ],
 "metadata": {
  "kernelspec": {
   "display_name": "Python 3",
   "language": "python",
   "name": "python3"
  },
  "language_info": {
   "codemirror_mode": {
    "name": "ipython",
    "version": 3
   },
   "file_extension": ".py",
   "mimetype": "text/x-python",
   "name": "python",
   "nbconvert_exporter": "python",
   "pygments_lexer": "ipython3",
   "version": "3.7.6"
  }
 },
 "nbformat": 4,
 "nbformat_minor": 4
}
