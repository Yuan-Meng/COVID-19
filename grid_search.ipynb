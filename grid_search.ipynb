{
 "cells": [
  {
   "cell_type": "code",
   "execution_count": null,
   "metadata": {
    "persistent_id": "a0e22083-cd2d-4fac-8417-bff379f1931d"
   },
   "outputs": [],
   "source": [
    "# Function: Find best estimator\n",
    "def param_tuning(estimator, parameters, data, target):\n",
    "\n",
    "    # Set up grid search\n",
    "    grid_search = GridSearchCV(\n",
    "        estimator=estimator,\n",
    "        param_grid=parameters,\n",
    "        scoring=\"roc_auc\",\n",
    "        n_jobs=10,\n",
    "        cv=10,\n",
    "        verbose=True,\n",
    "    )\n",
    "\n",
    "    # Train on training data\n",
    "    grid_search.fit(data, target)\n",
    "\n",
    "    # Output best estimator\n",
    "    return grid_search.best_estimator_"
   ]
  },
  {
   "cell_type": "code",
   "execution_count": null,
   "metadata": {
    "persistent_id": "324966bb-2de2-4c97-9fc0-8a3702eb17df"
   },
   "outputs": [],
   "source": [
    "# Function: Train classifier and evaluate performance\n",
    "def model_fit(model, data_train, data_test, target_train, target_test):\n",
    "\n",
    "    # Fit on training data\n",
    "    model.fit(data_train, target_train)\n",
    "\n",
    "    # Cross validate on training data\n",
    "    scores = cross_val_score(model, data_train, target_train, cv=10, scoring=\"roc_auc\")\n",
    "    print(\"AUC in each fold: {}; mean: {}\\n\".format(scores, scores.mean()))\n",
    "\n",
    "    # Predict outcome for testing data\n",
    "    y_pred = model.predict(data_test)\n",
    "\n",
    "    # Display performance metrics\n",
    "    xgb_eval = classification_report(target_test, y_pred, labels=[0, 1])\n",
    "    print(xgb_eval)\n",
    "\n",
    "    # Confusion matrix\n",
    "    plot_confusion_matrix(\n",
    "        model,\n",
    "        data_test,\n",
    "        target_test,\n",
    "        display_labels=[\"survived\", \"dead\"],\n",
    "        cmap=plt.cm.Blues,\n",
    "        normalize=None,\n",
    "    )\n",
    "    plt.title(\"Confusion matrix\")"
   ]
  },
  {
   "cell_type": "code",
   "execution_count": null,
   "metadata": {
    "persistent_id": "4d54dd37-1fa7-4ac1-a4a7-5edb11296d24"
   },
   "outputs": [],
   "source": [
    "# Default model\n",
    "xgb_base = XGBClassifier(learning_rate=0.1, early_stopping_rounds=10)\n",
    "model_fit(xgb_base, X_train, X_test, y_train, y_test)"
   ]
  },
  {
   "cell_type": "code",
   "execution_count": null,
   "metadata": {
    "persistent_id": "4f56ec2f-cc12-4a9e-afe9-2c64be2f800b"
   },
   "outputs": [],
   "source": [
    "# Tune max_depth and min_child_weight\n",
    "param_step1 = {\"max_depth\": range(2, 10, 1), \"min_child_weight\": range(1, 6, 2)}\n",
    "xgb_step1 = param_tuning(xgb_base, param_step1, X_train, y_train)\n",
    "model_fit(xgb_step1, X_train, X_test, y_train, y_test)"
   ]
  },
  {
   "cell_type": "code",
   "execution_count": null,
   "metadata": {
    "persistent_id": "30f2f6c5-9871-477b-962b-1bb97158422d"
   },
   "outputs": [],
   "source": [
    "# Tune gamma\n",
    "param_step2 = {\"gamma\": np.arange(0.0, 10.0, 0.05)}\n",
    "xgb_step2 = param_tuning(xgb_step1, param_step2, X_train, y_train)\n",
    "model_fit(xgb_step2, X_train, X_test, y_train, y_test)"
   ]
  },
  {
   "cell_type": "code",
   "execution_count": null,
   "metadata": {
    "persistent_id": "63c9512c-7c05-4770-852c-2581387342b0"
   },
   "outputs": [],
   "source": [
    "# Tune subsample and colsample_bytree\n",
    "param_step3 = {\n",
    "    \"subsample\": [0.5, 0.6, 0.7, 0.8, 0.9],\n",
    "    \"colsample_bytree\": [0.5, 0.6, 0.7, 0.8, 0.9],\n",
    "}\n",
    "xgb_step3 = param_tuning(xgb_step2, param_step3, X_train, y_train)\n",
    "model_fit(xgb_step3, X_train, X_test, y_train, y_test)"
   ]
  },
  {
   "cell_type": "code",
   "execution_count": null,
   "metadata": {
    "persistent_id": "f550d04c-4e0a-4d1d-95ac-3004b08526d9"
   },
   "outputs": [],
   "source": [
    "# Tune reg_alpha\n",
    "param_step4 = {\"reg_alpha\": [1e-5, 1e-2, 0.1, 0.5, 1, 5, 100]}\n",
    "xgb_step4 = param_tuning(xgb_step3, param_step4, X_train, y_train)\n",
    "model_fit(xgb_step4, X_train, X_test, y_train, y_test)"
   ]
  },
  {
   "cell_type": "code",
   "execution_count": null,
   "metadata": {
    "persistent_id": "254f91a0-66f4-426c-88cd-35473038b95a"
   },
   "outputs": [],
   "source": [
    "# Tune learning rate\n",
    "param_step5 = {\"learning_rate\": np.arange(0.001, 0.1, 0.0001)}\n",
    "xgb_step5 = param_tuning(xgb_step4, param_step5, X_train, y_train)\n",
    "model_fit(xgb_step5, X_train, X_test, y_train, y_test)"
   ]
  },
  {
   "cell_type": "code",
   "execution_count": null,
   "metadata": {},
   "outputs": [],
   "source": []
  },
  {
   "cell_type": "code",
   "execution_count": null,
   "metadata": {},
   "outputs": [],
   "source": []
  },
  {
   "cell_type": "code",
   "execution_count": null,
   "metadata": {},
   "outputs": [],
   "source": []
  }
 ],
 "metadata": {
  "history": [],
  "kernelspec": {
   "display_name": "Python 3",
   "language": "python",
   "name": "python3"
  },
  "language_info": {
   "codemirror_mode": {
    "name": "ipython",
    "version": 3
   },
   "file_extension": ".py",
   "mimetype": "text/x-python",
   "name": "python",
   "nbconvert_exporter": "python",
   "pygments_lexer": "ipython3",
   "version": "3.7.3"
  },
  "uuid": "f8e86c20-cdd9-47d1-a0ef-f836197c7bef"
 },
 "nbformat": 4,
 "nbformat_minor": 4
}
