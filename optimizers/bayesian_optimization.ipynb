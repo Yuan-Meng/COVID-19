{
 "cells": [
  {
   "cell_type": "code",
   "execution_count": 1,
   "metadata": {
    "collapsed": true,
    "execution_event_id": "33595f8f-5a52-4296-94d3-ed9cb771ffb9",
    "jupyter": {
     "outputs_hidden": true
    },
    "last_executed_text": "import numpy as np\nimport pandas as pd\n\nfrom xgboost import XGBClassifier\nfrom sklearn.model_selection import KFold, train_test_split, cross_val_score\nfrom sklearn.datasets import make_classification\nfrom sklearn.metrics import roc_auc_score \nfrom hyperopt import hp, fmin, tpe, STATUS_OK, Trials\n\nimport time",
    "persistent_id": "d60ead82-894d-4856-85ef-81e1bab7f888"
   },
   "outputs": [],
   "source": [
    "import numpy as np\n",
    "import pandas as pd\n",
    "\n",
    "from xgboost import XGBClassifier\n",
    "from sklearn.model_selection import KFold, train_test_split, cross_val_score\n",
    "from sklearn.datasets import make_classification\n",
    "from sklearn.metrics import roc_auc_score \n",
    "from hyperopt import hp, fmin, tpe, STATUS_OK, Trials\n",
    "\n",
    "import time"
   ]
  },
  {
   "cell_type": "markdown",
   "metadata": {
    "collapsed": "false",
    "persistent_id": "e01d0a26-19b3-49b6-82da-d915f5e5fd50"
   },
   "source": [
    "Bayesian optimization using [Hyperopt](https://mlwhiz.com/blog/2017/12/28/hyperopt_tuning_ml_model/)."
   ]
  },
  {
   "cell_type": "code",
   "execution_count": 2,
   "metadata": {
    "collapsed": true,
    "execution_event_id": "42d7506f-b56d-4ee1-afa2-3c9a8f34ee5e",
    "jupyter": {
     "outputs_hidden": true
    },
    "last_executed_text": "# Make a toy dataset\nfrom sklearn.datasets import make_classification\n\nX, y = make_classification(\n    n_samples=300,\n    n_features=25,\n    n_informative=2,\n    n_redundant=10,\n    n_classes=2,\n    random_state=8,\n)",
    "persistent_id": "1056d6a9-43c4-49e6-a137-021b8d0a2922"
   },
   "outputs": [],
   "source": [
    "# Make a toy dataset\n",
    "from sklearn.datasets import make_classification\n",
    "\n",
    "X, y = make_classification(\n",
    "    n_samples=300,\n",
    "    n_features=25,\n",
    "    n_informative=2,\n",
    "    n_redundant=10,\n",
    "    n_classes=2,\n",
    "    random_state=8,\n",
    ")"
   ]
  },
  {
   "cell_type": "code",
   "execution_count": 3,
   "metadata": {
    "collapsed": true,
    "execution_event_id": "9e2c97cb-61b7-4843-9ed7-d34afd441a44",
    "jupyter": {
     "outputs_hidden": true
    },
    "last_executed_text": "# Create training and testing datasets\nX_train, X_test, y_train, y_test = train_test_split(\n    X, y, test_size=0.2, random_state=465\n)",
    "persistent_id": "fdd0059c-7a8b-4da1-8442-fff820f5a515"
   },
   "outputs": [],
   "source": [
    "# Create training and testing datasets\n",
    "X_train, X_test, y_train, y_test = train_test_split(\n",
    "    X, y, test_size=0.2, random_state=465\n",
    ")"
   ]
  },
  {
   "cell_type": "code",
   "execution_count": 7,
   "metadata": {
    "collapsed": true,
    "execution_event_id": "c4c9267e-670d-4af1-b4d4-c63987da217d",
    "jupyter": {
     "outputs_hidden": true
    },
    "last_executed_text": "def objective(space):\n    print(space)\n    clf = XGBClassifier(\n        n_estimators=1000,\n        colsample_bytree=space[\"colsample_bytree\"],\n        learning_rate=space[\"learning_rate\"],\n        max_depth=int(space[\"max_depth\"]),\n        min_child_weight=space[\"min_child_weight\"],\n        subsample=space[\"subsample\"],\n        gamma=space[\"gamma\"],\n        reg_lambda=space[\"reg_lambda\"],\n    )\n\n    eval_set = [(X_train, y_train), (X_test, y_test)]\n\n    clf.fit(\n        X_train,\n        y_train,\n        eval_set=eval_set,\n        eval_metric=\"auc\",\n        early_stopping_rounds=10,\n        verbose=False,\n    )\n\n    pred = clf.predict(X_test)\n    auc = roc_auc_score(y_test, pred)\n    # change the metric if you like\n    return {\"loss\": auc, \"status\": STATUS_OK}\n\n\nspace = {\n    \"max_depth\": hp.quniform(\"max_depth\", 4, 16, 1),\n    \"min_child_weight\": hp.quniform(\"min_child\", 1, 10, 1),\n    \"subsample\": hp.uniform(\"subsample\", 0.7, 1),\n    \"gamma\": hp.uniform(\"gamma\", 0.1, 0.5),\n    \"learning_rate\": hp.uniform(\"learning_rate\", 0.001, 0.5),\n    \"colsample_bytree\": hp.uniform(\"colsample_bytree\", 0.7, 1),\n    \"reg_lambda\": hp.uniform(\"reg_lambda\", 0, 1),\n}\n\n\ntrials = Trials()\nbest = fmin(fn=objective, space=space, algo=tpe.suggest, max_evals=100, trials=trials)",
    "persistent_id": "e6746755-3f43-48da-b7d8-617bf323bee0"
   },
   "outputs": [
    {
     "name": "stdout",
     "output_type": "stream",
     "text": [
      "{'colsample_bytree': 0.8772890295173994, 'gamma': 0.36455399113729536, 'learning_rate': 0.10890762328307076, 'max_depth': 6.0, 'min_child_weight': 9.0, 'reg_lambda': 0.8676589084988392, 'subsample': 0.9411745386011886}\n",
      "{'colsample_bytree': 0.8058941661780578, 'gamma': 0.38219199413803573, 'learning_rate': 0.10555663815331348, 'max_depth': 7.0, 'min_child_weight': 6.0, 'reg_lambda': 0.4307733123112034, 'subsample': 0.8608179944915223}\n",
      "{'colsample_bytree': 0.7894410579466669, 'gamma': 0.10149102452879136, 'learning_rate': 0.04865044955768253, 'max_depth': 4.0, 'min_child_weight': 2.0, 'reg_lambda': 0.924084758283155, 'subsample': 0.8841456459388891}\n",
      "{'colsample_bytree': 0.919603911972503, 'gamma': 0.1741317714564891, 'learning_rate': 0.28228265199736585, 'max_depth': 6.0, 'min_child_weight': 4.0, 'reg_lambda': 0.7756492078808049, 'subsample': 0.9873349413399752}\n",
      "{'colsample_bytree': 0.7656008001213244, 'gamma': 0.42100781524023445, 'learning_rate': 0.45335886355889776, 'max_depth': 6.0, 'min_child_weight': 8.0, 'reg_lambda': 0.9984341783497731, 'subsample': 0.8149034768852615}\n",
      "{'colsample_bytree': 0.9318825952045255, 'gamma': 0.1922809903686673, 'learning_rate': 0.17723465001613561, 'max_depth': 14.0, 'min_child_weight': 8.0, 'reg_lambda': 0.8943905330495189, 'subsample': 0.837166126993554}\n",
      "{'colsample_bytree': 0.7967436070346824, 'gamma': 0.3266446670997344, 'learning_rate': 0.025198128012977956, 'max_depth': 11.0, 'min_child_weight': 9.0, 'reg_lambda': 0.8032245595484423, 'subsample': 0.7464771918353285}\n",
      "{'colsample_bytree': 0.9713578678290367, 'gamma': 0.3634211463556851, 'learning_rate': 0.08007104442488014, 'max_depth': 8.0, 'min_child_weight': 5.0, 'reg_lambda': 0.8546082557284331, 'subsample': 0.9464509048187856}\n",
      "{'colsample_bytree': 0.7775257557446044, 'gamma': 0.18273008559506554, 'learning_rate': 0.3639416812605327, 'max_depth': 6.0, 'min_child_weight': 2.0, 'reg_lambda': 0.3391079891014487, 'subsample': 0.7775852183909631}\n",
      "{'colsample_bytree': 0.9100979011318487, 'gamma': 0.39924860976390075, 'learning_rate': 0.28292383997268894, 'max_depth': 6.0, 'min_child_weight': 5.0, 'reg_lambda': 0.4927666634152703, 'subsample': 0.909966494798531}\n",
      "{'colsample_bytree': 0.8067276075118469, 'gamma': 0.19323568495174556, 'learning_rate': 0.11997124120549055, 'max_depth': 14.0, 'min_child_weight': 4.0, 'reg_lambda': 0.6614914496513973, 'subsample': 0.8058880452270917}\n",
      "{'colsample_bytree': 0.9027474282601755, 'gamma': 0.3345963153955261, 'learning_rate': 0.19733633588651767, 'max_depth': 8.0, 'min_child_weight': 5.0, 'reg_lambda': 0.41445768017451023, 'subsample': 0.7250805224990395}\n",
      "{'colsample_bytree': 0.9933970340457319, 'gamma': 0.4946054883668908, 'learning_rate': 0.015011684467192608, 'max_depth': 13.0, 'min_child_weight': 8.0, 'reg_lambda': 0.9019720258612768, 'subsample': 0.9903231786010084}\n",
      "{'colsample_bytree': 0.9979768218807012, 'gamma': 0.388785964900911, 'learning_rate': 0.3738927308160373, 'max_depth': 14.0, 'min_child_weight': 1.0, 'reg_lambda': 0.1486673378811142, 'subsample': 0.7906833479794619}\n",
      "{'colsample_bytree': 0.7556069259346301, 'gamma': 0.3570386117249785, 'learning_rate': 0.4785787677141049, 'max_depth': 4.0, 'min_child_weight': 5.0, 'reg_lambda': 0.4065219260407119, 'subsample': 0.8559196961372217}\n",
      "{'colsample_bytree': 0.8592766774601146, 'gamma': 0.33289180722359324, 'learning_rate': 0.2798606969490296, 'max_depth': 8.0, 'min_child_weight': 10.0, 'reg_lambda': 0.46711566142138117, 'subsample': 0.7918536227578109}\n",
      "{'colsample_bytree': 0.9143524975599768, 'gamma': 0.1408367048314615, 'learning_rate': 0.4444015352972125, 'max_depth': 8.0, 'min_child_weight': 8.0, 'reg_lambda': 0.8626445745068925, 'subsample': 0.7811268452388886}\n",
      "{'colsample_bytree': 0.8376025559830718, 'gamma': 0.29573587394103407, 'learning_rate': 0.04270935916500759, 'max_depth': 6.0, 'min_child_weight': 9.0, 'reg_lambda': 0.8984348556332588, 'subsample': 0.7355680606113967}\n",
      "{'colsample_bytree': 0.7092557413469623, 'gamma': 0.41327374326064736, 'learning_rate': 0.018018117037428984, 'max_depth': 5.0, 'min_child_weight': 1.0, 'reg_lambda': 0.113505346664176, 'subsample': 0.8550726510204378}\n",
      "{'colsample_bytree': 0.7060103364748749, 'gamma': 0.38340691473337263, 'learning_rate': 0.24229662693105425, 'max_depth': 10.0, 'min_child_weight': 6.0, 'reg_lambda': 0.11487355474212746, 'subsample': 0.8123949174912001}\n",
      "{'colsample_bytree': 0.9576050776889421, 'gamma': 0.26248237434137267, 'learning_rate': 0.19854844185468135, 'max_depth': 10.0, 'min_child_weight': 3.0, 'reg_lambda': 0.6037624014344577, 'subsample': 0.7104541229365038}\n",
      "{'colsample_bytree': 0.8913785275091453, 'gamma': 0.24417130809752857, 'learning_rate': 0.35460602280093656, 'max_depth': 12.0, 'min_child_weight': 4.0, 'reg_lambda': 0.28352313651023586, 'subsample': 0.9798239709679455}\n",
      "{'colsample_bytree': 0.9405904623380901, 'gamma': 0.24086532812750044, 'learning_rate': 0.1715583643302433, 'max_depth': 9.0, 'min_child_weight': 4.0, 'reg_lambda': 0.6656617086665642, 'subsample': 0.9505580084907217}\n",
      "{'colsample_bytree': 0.8514867780941686, 'gamma': 0.4771878061120747, 'learning_rate': 0.31354625797220836, 'max_depth': 16.0, 'min_child_weight': 7.0, 'reg_lambda': 0.22801192652964344, 'subsample': 0.7093654026081947}\n",
      "{'colsample_bytree': 0.8815428622810721, 'gamma': 0.4575705486021878, 'learning_rate': 0.22189591972669698, 'max_depth': 9.0, 'min_child_weight': 3.0, 'reg_lambda': 0.588412776962301, 'subsample': 0.8936682378127351}\n",
      "{'colsample_bytree': 0.8318542724541486, 'gamma': 0.10239478517191354, 'learning_rate': 0.1513259377295694, 'max_depth': 5.0, 'min_child_weight': 3.0, 'reg_lambda': 0.7611647947794309, 'subsample': 0.922624297823931}\n",
      "{'colsample_bytree': 0.9712984699219138, 'gamma': 0.28575277611887356, 'learning_rate': 0.31217492855035894, 'max_depth': 7.0, 'min_child_weight': 6.0, 'reg_lambda': 0.027844055861580563, 'subsample': 0.7438243471442164}\n",
      "{'colsample_bytree': 0.9087517572798413, 'gamma': 0.14838739342336466, 'learning_rate': 0.40872714009220545, 'max_depth': 9.0, 'min_child_weight': 7.0, 'reg_lambda': 0.5802126373794194, 'subsample': 0.9785434994274841}\n",
      "{'colsample_bytree': 0.8670221321480247, 'gamma': 0.2236641915975886, 'learning_rate': 0.2621795707082902, 'max_depth': 7.0, 'min_child_weight': 2.0, 'reg_lambda': 0.7054908327706002, 'subsample': 0.9686087126689816}\n",
      "{'colsample_bytree': 0.9394108438685242, 'gamma': 0.3336942719593379, 'learning_rate': 0.2191790660319856, 'max_depth': 5.0, 'min_child_weight': 4.0, 'reg_lambda': 0.993736236713358, 'subsample': 0.7660016224169748}\n",
      "{'colsample_bytree': 0.8959061162843476, 'gamma': 0.13713856561217247, 'learning_rate': 0.13252919868447566, 'max_depth': 11.0, 'min_child_weight': 7.0, 'reg_lambda': 0.35805968813727673, 'subsample': 0.8310397207165012}\n",
      "{'colsample_bytree': 0.8273659095276097, 'gamma': 0.4425914925330145, 'learning_rate': 0.07979645816392039, 'max_depth': 4.0, 'min_child_weight': 5.0, 'reg_lambda': 0.5413294845975581, 'subsample': 0.8741122758415274}\n",
      "{'colsample_bytree': 0.9229726478315439, 'gamma': 0.27744692793699477, 'learning_rate': 0.3206523975698145, 'max_depth': 7.0, 'min_child_weight': 3.0, 'reg_lambda': 0.7487148027847902, 'subsample': 0.9983539587420689}\n",
      "{'colsample_bytree': 0.9546876328877906, 'gamma': 0.11364855681559316, 'learning_rate': 0.1975727788993052, 'max_depth': 5.0, 'min_child_weight': 6.0, 'reg_lambda': 0.20602082303571123, 'subsample': 0.9189118627730458}\n",
      "{'colsample_bytree': 0.8752203448665341, 'gamma': 0.21474711052251239, 'learning_rate': 0.4092860220804936, 'max_depth': 8.0, 'min_child_weight': 4.0, 'reg_lambda': 0.4326414409628446, 'subsample': 0.7004100459240739}\n",
      "{'colsample_bytree': 0.9824582896190093, 'gamma': 0.319651205979356, 'learning_rate': 0.0907764911144194, 'max_depth': 11.0, 'min_child_weight': 5.0, 'reg_lambda': 0.9940634507647144, 'subsample': 0.7301958157526582}\n",
      "{'colsample_bytree': 0.8155014776431652, 'gamma': 0.16713239299331956, 'learning_rate': 0.34124921542924214, 'max_depth': 7.0, 'min_child_weight': 2.0, 'reg_lambda': 0.525877711635193, 'subsample': 0.8302812543251006}\n",
      "{'colsample_bytree': 0.8978396017675098, 'gamma': 0.3544879808387195, 'learning_rate': 0.2453341365427241, 'max_depth': 9.0, 'min_child_weight': 7.0, 'reg_lambda': 0.8022240135145176, 'subsample': 0.7612008888428659}\n",
      "{'colsample_bytree': 0.9311633260668291, 'gamma': 0.2136716875757668, 'learning_rate': 0.15269365834771415, 'max_depth': 4.0, 'min_child_weight': 3.0, 'reg_lambda': 0.3389842451635068, 'subsample': 0.8755415779786544}\n",
      "{'colsample_bytree': 0.9504291351975998, 'gamma': 0.3120084050787198, 'learning_rate': 0.2926673134020852, 'max_depth': 6.0, 'min_child_weight': 6.0, 'reg_lambda': 0.9599523061292257, 'subsample': 0.8982662897524492}\n",
      "{'colsample_bytree': 0.7569493279737654, 'gamma': 0.24949479653686096, 'learning_rate': 0.38605828912686563, 'max_depth': 16.0, 'min_child_weight': 5.0, 'reg_lambda': 0.6743021280987278, 'subsample': 0.9354036842326734}\n",
      "{'colsample_bytree': 0.7876202349204763, 'gamma': 0.43215155822839535, 'learning_rate': 0.18482189176333844, 'max_depth': 12.0, 'min_child_weight': 1.0, 'reg_lambda': 0.286565751921967, 'subsample': 0.9588383287764423}\n",
      "{'colsample_bytree': 0.7379392277966189, 'gamma': 0.17012049264423423, 'learning_rate': 0.22126661059557967, 'max_depth': 8.0, 'min_child_weight': 4.0, 'reg_lambda': 0.8200945502164293, 'subsample': 0.839982983002589}\n",
      "{'colsample_bytree': 0.9753323020073476, 'gamma': 0.3406440397961056, 'learning_rate': 0.4932628990926288, 'max_depth': 7.0, 'min_child_weight': 2.0, 'reg_lambda': 0.4078987232171967, 'subsample': 0.8044157633969741}\n",
      "{'colsample_bytree': 0.9988337626080027, 'gamma': 0.2716113338547517, 'learning_rate': 0.26767446158601543, 'max_depth': 6.0, 'min_child_weight': 5.0, 'reg_lambda': 0.7356405109527726, 'subsample': 0.7216732173033016}\n",
      "{'colsample_bytree': 0.9128586276720855, 'gamma': 0.30581982769958294, 'learning_rate': 0.06457837614416498, 'max_depth': 10.0, 'min_child_weight': 10.0, 'reg_lambda': 0.030758015978594566, 'subsample': 0.9350328015468385}\n",
      "{'colsample_bytree': 0.8474152002410714, 'gamma': 0.37348576139312206, 'learning_rate': 0.10878090669745231, 'max_depth': 11.0, 'min_child_weight': 9.0, 'reg_lambda': 0.6167513080082081, 'subsample': 0.8694285222081655}\n",
      "{'colsample_bytree': 0.880862850626544, 'gamma': 0.3992261437371607, 'learning_rate': 0.43848663587826275, 'max_depth': 8.0, 'min_child_weight': 6.0, 'reg_lambda': 0.45719768256560167, 'subsample': 0.7527585014275812}\n",
      "{'colsample_bytree': 0.8170716606034406, 'gamma': 0.12737081877138343, 'learning_rate': 0.13123344094385211, 'max_depth': 12.0, 'min_child_weight': 8.0, 'reg_lambda': 0.49481554365124375, 'subsample': 0.8192996026222885}\n",
      "{'colsample_bytree': 0.865705941685274, 'gamma': 0.19041500045823662, 'learning_rate': 0.2964535186470884, 'max_depth': 15.0, 'min_child_weight': 4.0, 'reg_lambda': 0.36822111000875407, 'subsample': 0.8451726458416349}\n",
      "{'colsample_bytree': 0.9246731013360565, 'gamma': 0.22990859515864492, 'learning_rate': 0.33666417942824717, 'max_depth': 13.0, 'min_child_weight': 5.0, 'reg_lambda': 0.5466442430871259, 'subsample': 0.7936494476900665}\n",
      "{'colsample_bytree': 0.9595112829676221, 'gamma': 0.29460325373956975, 'learning_rate': 0.04430450649132042, 'max_depth': 6.0, 'min_child_weight': 2.0, 'reg_lambda': 0.28724897846913894, 'subsample': 0.9996294487878151}\n",
      "{'colsample_bytree': 0.9884812791997971, 'gamma': 0.20499390940049053, 'learning_rate': 0.16718159780598857, 'max_depth': 5.0, 'min_child_weight': 1.0, 'reg_lambda': 0.9389794376861547, 'subsample': 0.895477410916209}\n",
      "{'colsample_bytree': 0.843882453857455, 'gamma': 0.34538219681449506, 'learning_rate': 0.23436062450949832, 'max_depth': 9.0, 'min_child_weight': 3.0, 'reg_lambda': 0.635040008716385, 'subsample': 0.7744710259169525}\n",
      "{'colsample_bytree': 0.7998652499949512, 'gamma': 0.4914958736256023, 'learning_rate': 0.3862604774956459, 'max_depth': 4.0, 'min_child_weight': 7.0, 'reg_lambda': 0.8494594778088177, 'subsample': 0.9166968426428407}\n",
      "{'colsample_bytree': 0.9022622191657979, 'gamma': 0.25897277744812336, 'learning_rate': 0.2595633740437397, 'max_depth': 10.0, 'min_child_weight': 6.0, 'reg_lambda': 0.07739140349282186, 'subsample': 0.860644472584354}\n",
      "{'colsample_bytree': 0.9426292564582905, 'gamma': 0.4077535796686569, 'learning_rate': 0.20331124775236964, 'max_depth': 8.0, 'min_child_weight': 4.0, 'reg_lambda': 0.7863712283081932, 'subsample': 0.9543804492913471}\n",
      "{'colsample_bytree': 0.8874852191155752, 'gamma': 0.16034771845320253, 'learning_rate': 0.28153386136948033, 'max_depth': 7.0, 'min_child_weight': 3.0, 'reg_lambda': 0.20093079128936545, 'subsample': 0.904133160771131}\n",
      "{'colsample_bytree': 0.9644967934187119, 'gamma': 0.37154873719345466, 'learning_rate': 0.4558612492498435, 'max_depth': 6.0, 'min_child_weight': 5.0, 'reg_lambda': 0.6922993338791539, 'subsample': 0.8827010650501075}\n",
      "{'colsample_bytree': 0.8577362019155294, 'gamma': 0.18096922541577748, 'learning_rate': 0.32779420821979044, 'max_depth': 5.0, 'min_child_weight': 8.0, 'reg_lambda': 0.25189615991213293, 'subsample': 0.9872665836248264}\n",
      "{'colsample_bytree': 0.7237893050615438, 'gamma': 0.32318797781561215, 'learning_rate': 0.15243973092503868, 'max_depth': 9.0, 'min_child_weight': 2.0, 'reg_lambda': 0.1652556080155998, 'subsample': 0.8222632807853423}\n",
      "{'colsample_bytree': 0.9252044072237003, 'gamma': 0.4587415427864082, 'learning_rate': 0.30471289830609294, 'max_depth': 13.0, 'min_child_weight': 10.0, 'reg_lambda': 0.5621344060346585, 'subsample': 0.7032848839777619}\n",
      "{'colsample_bytree': 0.7779215966459627, 'gamma': 0.11562504920749736, 'learning_rate': 0.36759322275139983, 'max_depth': 10.0, 'min_child_weight': 4.0, 'reg_lambda': 0.6436308166260056, 'subsample': 0.7172185270352047}\n",
      "{'colsample_bytree': 0.8703123834666167, 'gamma': 0.42526024402326595, 'learning_rate': 0.349275611516121, 'max_depth': 6.0, 'min_child_weight': 9.0, 'reg_lambda': 0.7106914312470675, 'subsample': 0.9671073465119449}\n",
      "{'colsample_bytree': 0.9038178805162737, 'gamma': 0.39147375681782254, 'learning_rate': 0.03285163597767593, 'max_depth': 5.0, 'min_child_weight': 7.0, 'reg_lambda': 0.47123967404642286, 'subsample': 0.7858987099673062}\n",
      "{'colsample_bytree': 0.9198298315298121, 'gamma': 0.30224151987712405, 'learning_rate': 0.08515202363242648, 'max_depth': 11.0, 'min_child_weight': 6.0, 'reg_lambda': 0.0528775879276753, 'subsample': 0.9366058904076331}\n",
      "{'colsample_bytree': 0.9131726662071613, 'gamma': 0.310629941907082, 'learning_rate': 0.18475243302267266, 'max_depth': 10.0, 'min_child_weight': 5.0, 'reg_lambda': 0.8897525363639229, 'subsample': 0.9760558158708402}\n",
      "{'colsample_bytree': 0.8343467897244045, 'gamma': 0.3639935148612093, 'learning_rate': 0.0020723304526676645, 'max_depth': 8.0, 'min_child_weight': 9.0, 'reg_lambda': 0.3872270303857891, 'subsample': 0.7993752174688326}\n",
      "{'colsample_bytree': 0.8829315281559197, 'gamma': 0.2364223179470574, 'learning_rate': 0.0687230380647216, 'max_depth': 9.0, 'min_child_weight': 4.0, 'reg_lambda': 0.1539272097235267, 'subsample': 0.9938098770037344}\n",
      "{'colsample_bytree': 0.864369331423265, 'gamma': 0.2819077397206289, 'learning_rate': 0.2685784715438797, 'max_depth': 7.0, 'min_child_weight': 10.0, 'reg_lambda': 0.32058394212055286, 'subsample': 0.7374873811633351}\n",
      "{'colsample_bytree': 0.933208648756528, 'gamma': 0.2798893781767617, 'learning_rate': 0.23280655811620807, 'max_depth': 7.0, 'min_child_weight': 3.0, 'reg_lambda': 0.3400643778917776, 'subsample': 0.7493688562245733}\n",
      "{'colsample_bytree': 0.8588899965455503, 'gamma': 0.2561030780816993, 'learning_rate': 0.20755012986071358, 'max_depth': 7.0, 'min_child_weight': 6.0, 'reg_lambda': 0.32675456216930066, 'subsample': 0.7301698795536542}\n",
      "{'colsample_bytree': 0.8163332708428785, 'gamma': 0.29233527563067513, 'learning_rate': 0.2655179083783634, 'max_depth': 4.0, 'min_child_weight': 5.0, 'reg_lambda': 0.4350398864662255, 'subsample': 0.7658026298651646}\n",
      "{'colsample_bytree': 0.8883256873432619, 'gamma': 0.2694695699784874, 'learning_rate': 0.25082575226524917, 'max_depth': 7.0, 'min_child_weight': 4.0, 'reg_lambda': 0.30480960939178375, 'subsample': 0.7188410146643439}\n",
      "{'colsample_bytree': 0.9480231107850691, 'gamma': 0.35053102732762925, 'learning_rate': 0.06833323290091697, 'max_depth': 12.0, 'min_child_weight': 8.0, 'reg_lambda': 0.010956943248105713, 'subsample': 0.9459494588711105}\n",
      "{'colsample_bytree': 0.8263818957745727, 'gamma': 0.20618404663425205, 'learning_rate': 0.1257642235612898, 'max_depth': 8.0, 'min_child_weight': 3.0, 'reg_lambda': 0.227095559207848, 'subsample': 0.7359708313964172}\n",
      "{'colsample_bytree': 0.8939074626317788, 'gamma': 0.32629151836429926, 'learning_rate': 0.4158991095790292, 'max_depth': 6.0, 'min_child_weight': 5.0, 'reg_lambda': 0.11258225460183341, 'subsample': 0.775062874639045}\n",
      "{'colsample_bytree': 0.8509743794083309, 'gamma': 0.14758481779686036, 'learning_rate': 0.16712834687586256, 'max_depth': 8.0, 'min_child_weight': 7.0, 'reg_lambda': 0.511048683536619, 'subsample': 0.7412692210453911}\n",
      "{'colsample_bytree': 0.9705728391888695, 'gamma': 0.3364285117696889, 'learning_rate': 0.009300154353499956, 'max_depth': 10.0, 'min_child_weight': 6.0, 'reg_lambda': 0.7664014353709467, 'subsample': 0.9261609763726095}\n",
      "{'colsample_bytree': 0.8756854314474468, 'gamma': 0.38424742138924367, 'learning_rate': 0.28354573187159426, 'max_depth': 9.0, 'min_child_weight': 2.0, 'reg_lambda': 0.4706118731316058, 'subsample': 0.8523084094722518}\n",
      "{'colsample_bytree': 0.9333478033968752, 'gamma': 0.31185425775287373, 'learning_rate': 0.09734126301754825, 'max_depth': 11.0, 'min_child_weight': 4.0, 'reg_lambda': 0.9750517196410211, 'subsample': 0.92961901449664}\n",
      "{'colsample_bytree': 0.9816810657213426, 'gamma': 0.24646424866533986, 'learning_rate': 0.05707177969218813, 'max_depth': 15.0, 'min_child_weight': 7.0, 'reg_lambda': 0.9216596627764885, 'subsample': 0.9642245850006558}\n",
      "{'colsample_bytree': 0.8419497683089877, 'gamma': 0.18039228698057927, 'learning_rate': 0.1417913606643087, 'max_depth': 6.0, 'min_child_weight': 1.0, 'reg_lambda': 0.25982304179747284, 'subsample': 0.7111001746282058}\n",
      "{'colsample_bytree': 0.9094832878376242, 'gamma': 0.3040315776153889, 'learning_rate': 0.026749682160143007, 'max_depth': 10.0, 'min_child_weight': 10.0, 'reg_lambda': 0.859660619363233, 'subsample': 0.985123832202445}\n",
      "{'colsample_bytree': 0.9013535593221877, 'gamma': 0.45271396905501055, 'learning_rate': 0.37923530071200984, 'max_depth': 5.0, 'min_child_weight': 8.0, 'reg_lambda': 0.5883575417618429, 'subsample': 0.8087742350156819}\n",
      "{'colsample_bytree': 0.9453153199396997, 'gamma': 0.22873113446543525, 'learning_rate': 0.19168640454755873, 'max_depth': 14.0, 'min_child_weight': 5.0, 'reg_lambda': 0.08587584257900538, 'subsample': 0.9119641157802902}\n",
      "{'colsample_bytree': 0.8048772360613806, 'gamma': 0.19422470034798833, 'learning_rate': 0.30309125770946993, 'max_depth': 4.0, 'min_child_weight': 3.0, 'reg_lambda': 0.37726079654662725, 'subsample': 0.7315994885402601}\n",
      "{'colsample_bytree': 0.9182987098058464, 'gamma': 0.2649731261571915, 'learning_rate': 0.10932619672913049, 'max_depth': 13.0, 'min_child_weight': 6.0, 'reg_lambda': 0.005378804733796871, 'subsample': 0.9742592864829303}\n",
      "{'colsample_bytree': 0.8673012106480069, 'gamma': 0.10284706187677903, 'learning_rate': 0.21430741588110883, 'max_depth': 7.0, 'min_child_weight': 4.0, 'reg_lambda': 0.18379021614895075, 'subsample': 0.7577256426142962}\n",
      "{'colsample_bytree': 0.7879665077468925, 'gamma': 0.13598356085791596, 'learning_rate': 0.23379816162463452, 'max_depth': 9.0, 'min_child_weight': 5.0, 'reg_lambda': 0.40505712475226135, 'subsample': 0.7831186480125856}\n",
      "{'colsample_bytree': 0.9630584026294747, 'gamma': 0.37418239978728113, 'learning_rate': 0.16163988574262453, 'max_depth': 12.0, 'min_child_weight': 7.0, 'reg_lambda': 0.8373145167587659, 'subsample': 0.8844285958515271}\n",
      "{'colsample_bytree': 0.9946295144493019, 'gamma': 0.40911087325334217, 'learning_rate': 0.39817240330912285, 'max_depth': 11.0, 'min_child_weight': 3.0, 'reg_lambda': 0.6205068934130928, 'subsample': 0.9413712168471332}\n",
      "{'colsample_bytree': 0.9520644493855057, 'gamma': 0.21949023982405025, 'learning_rate': 0.13999088250323827, 'max_depth': 8.0, 'min_child_weight': 6.0, 'reg_lambda': 0.7285693792814453, 'subsample': 0.8659240205521888}\n",
      "{'colsample_bytree': 0.8229957188106574, 'gamma': 0.4741879098072994, 'learning_rate': 0.3266196172128485, 'max_depth': 8.0, 'min_child_weight': 4.0, 'reg_lambda': 0.5684880990124492, 'subsample': 0.8252319500521947}\n",
      "{'colsample_bytree': 0.9361390086540811, 'gamma': 0.3611951305132334, 'learning_rate': 0.11856338481641923, 'max_depth': 9.0, 'min_child_weight': 8.0, 'reg_lambda': 0.8861423030005039, 'subsample': 0.885030458765005}\n",
      "{'colsample_bytree': 0.9276079317695133, 'gamma': 0.34753475323452315, 'learning_rate': 0.3548850235118309, 'max_depth': 10.0, 'min_child_weight': 5.0, 'reg_lambda': 0.68283463884252, 'subsample': 0.957936754791976}\n",
      "{'colsample_bytree': 0.9053029356693919, 'gamma': 0.28970989601899283, 'learning_rate': 0.1819055656835625, 'max_depth': 11.0, 'min_child_weight': 2.0, 'reg_lambda': 0.7908833689858213, 'subsample': 0.9042536149617454}\n",
      "{'colsample_bytree': 0.9158310727849086, 'gamma': 0.3955712272044959, 'learning_rate': 0.249521428107613, 'max_depth': 9.0, 'min_child_weight': 2.0, 'reg_lambda': 0.6566209590052968, 'subsample': 0.9935317178717024}\n",
      "{'colsample_bytree': 0.9835512936414555, 'gamma': 0.3194693287554488, 'learning_rate': 0.42387783991896477, 'max_depth': 5.0, 'min_child_weight': 3.0, 'reg_lambda': 0.5365695499652154, 'subsample': 0.9848356780093491}\n",
      "{'colsample_bytree': 0.8859291422541781, 'gamma': 0.25305523531758284, 'learning_rate': 0.054581120244663994, 'max_depth': 6.0, 'min_child_weight': 4.0, 'reg_lambda': 0.1260406068457447, 'subsample': 0.8354659686968094}\n",
      "100%|██████████| 100/100 [00:03<00:00, 27.59it/s, best loss: 0.8246606334841627]\n"
     ]
    }
   ],
   "source": [
    "def objective(space):\n",
    "\n",
    "    clf = XGBClassifier(\n",
    "        n_estimators=space[\"n_estimators\"],\n",
    "        colsample_bytree=space[\"colsample_bytree\"],\n",
    "        learning_rate=space[\"learning_rate\"],\n",
    "        max_depth=space[\"max_depth\"],\n",
    "        min_child_weight=space[\"min_child_weight\"],\n",
    "        subsample=space[\"subsample\"],\n",
    "        gamma=space[\"gamma\"],\n",
    "    )\n",
    "\n",
    "    eval_set = [(X_train, y_train), (X_test, y_test)]\n",
    "\n",
    "    clf.fit(\n",
    "        X_train,\n",
    "        y_train,\n",
    "        eval_set=eval_set,\n",
    "        eval_metric=\"auc\",\n",
    "        early_stopping_rounds=10,\n",
    "        verbose=False,\n",
    "    )\n",
    "\n",
    "    pred = clf.predict(X_test)\n",
    "    auc = roc_auc_score(y_test, pred)\n",
    "\n",
    "    return {\"loss\": auc, \"status\": STATUS_OK}\n",
    "\n",
    "\n",
    "space = {\n",
    "    \"max_depth\": hp.choice(\"max_depth\", np.arange(2, 11, dtype=int)),\n",
    "    \"min_child_weight\": hp.choice(\"min_child_weight\", np.arange(2, 11, dtype=int)),\n",
    "    \"n_estimators\": hp.choice(\"n_estimators\", np.arange(10, 1001, dtype=int)),\n",
    "    \"subsample\": hp.uniform(\"subsample\", 0.5, 1),\n",
    "    \"gamma\": hp.uniform(\"gamma\", 0, 5),\n",
    "    \"learning_rate\": hp.uniform(\"learning_rate\", 0.01, 0.4),\n",
    "    \"colsample_bytree\": hp.uniform(\"colsample_bytree\", 0.7, 1),\n",
    "}\n",
    "\n",
    "\n",
    "trials = Trials()\n",
    "best = fmin(fn=objective, space=space, algo=tpe.suggest, max_evals=100, trials=trials)"
   ]
  },
  {
   "cell_type": "code",
   "execution_count": null,
   "metadata": {
    "collapsed": true,
    "jupyter": {
     "outputs_hidden": true
    },
    "persistent_id": "7e4c8def-ae5f-4f13-adea-8fc58ddd56d4"
   },
   "outputs": [],
   "source": [
    "best"
   ]
  },
  {
   "cell_type": "code",
   "execution_count": null,
   "metadata": {
    "collapsed": true,
    "jupyter": {
     "outputs_hidden": true
    },
    "persistent_id": "8a517004-045a-43ef-8d4b-b126a0f99d10"
   },
   "outputs": [],
   "source": [
    "xgb_opt = XGBClassifier(**best)"
   ]
  },
  {
   "cell_type": "code",
   "execution_count": null,
   "metadata": {
    "collapsed": true,
    "jupyter": {
     "outputs_hidden": true
    },
    "persistent_id": "57e9e393-7fc5-4a01-8987-38e63287daa9"
   },
   "outputs": [],
   "source": [
    "# Function: Train classifier and evaluate performance\n",
    "def model_fit(model, data_train, data_test, target_train, target_test):\n",
    "\n",
    "    # Fit on training data\n",
    "    model.fit(data_train, target_train)\n",
    "\n",
    "    # Cross validate on training data\n",
    "    scores = cross_val_score(model, data_train, target_train, cv=10, scoring=\"roc_auc\")\n",
    "    print(\"AUC in each fold: {}; mean: {}\\n\".format(scores, scores.mean()))\n",
    "\n",
    "    # Predict outcome for testing data\n",
    "    y_pred = model.predict(data_test)\n",
    "\n",
    "    # Display performance metrics\n",
    "    xgb_eval = classification_report(target_test, y_pred, labels=[0, 1])\n",
    "    print(xgb_eval)\n",
    "\n",
    "    # Confusion matrix\n",
    "    plot_confusion_matrix(\n",
    "        model,\n",
    "        data_test,\n",
    "        target_test,\n",
    "        display_labels=[\"survived\", \"dead\"],\n",
    "        cmap=plt.cm.Blues,\n",
    "        normalize=None,\n",
    "    )\n",
    "    plt.title(\"Confusion matrix\")"
   ]
  },
  {
   "cell_type": "code",
   "execution_count": null,
   "metadata": {
    "collapsed": true,
    "jupyter": {
     "outputs_hidden": true
    },
    "persistent_id": "bc6d3cc3-87e5-44eb-abca-df186179a138"
   },
   "outputs": [],
   "source": [
    "model_fit(xgb_opt, X_train, X_test, y_train, y_test)"
   ]
  }
 ],
 "metadata": {
  "history": [
   {
    "cell": {
     "executionCount": 1,
     "executionEventId": "cfbd91b6-d5e3-41e0-91d9-7d7c6766d14a",
     "hasError": false,
     "id": "ee0ed2f3-929b-4ab9-ac7c-f7a2e73edacc",
     "outputs": [],
     "persistentId": "d60ead82-894d-4856-85ef-81e1bab7f888",
     "text": "from sklearn.datasets import make_classification\nimport pandas as pd\n\nX,Y=make_classification(n_samples=300,\n                        n_features=25,\n                        n_informative=2,\n                        n_redundant=10,\n                        n_classes=2,\n                        random_state=8)"
    },
    "executionTime": "2020-03-27T20:48:13.155Z"
   },
   {
    "cell": {
     "executionCount": 2,
     "executionEventId": "71e506d5-c1cc-4f64-82f0-5ec5d0ecdffc",
     "hasError": false,
     "id": "ee0ed2f3-929b-4ab9-ac7c-f7a2e73edacc",
     "outputs": [],
     "persistentId": "d60ead82-894d-4856-85ef-81e1bab7f888",
     "text": "from sklearn.datasets import make_classification\nimport pandas as pd\n\nX,y=make_classification(n_samples=300,\n                        n_features=25,\n                        n_informative=2,\n                        n_redundant=10,\n                        n_classes=2,\n                        random_state=8)"
    },
    "executionTime": "2020-03-27T20:48:14.630Z"
   },
   {
    "cell": {
     "executionCount": 3,
     "executionEventId": "568af3bd-6e1d-432e-ba7d-fec3973150cf",
     "hasError": false,
     "id": "ee0ed2f3-929b-4ab9-ac7c-f7a2e73edacc",
     "outputs": [],
     "persistentId": "d60ead82-894d-4856-85ef-81e1bab7f888",
     "text": "from sklearn.datasets import make_classification\nfrom sklearn.model_selection import cross_val_score\nimport numpy as np\nimport pandas as pd"
    },
    "executionTime": "2020-03-27T20:49:14.304Z"
   },
   {
    "cell": {
     "executionCount": 4,
     "executionEventId": "c5ec1b9b-9df7-49bd-93ef-07118acecfd2",
     "hasError": false,
     "id": "9708f6ed-152b-4e08-a509-c33440c2155a",
     "outputs": [],
     "persistentId": "1056d6a9-43c4-49e6-a137-021b8d0a2922",
     "text": "X, y = make_classification(\n    n_samples=300,\n    n_features=25,\n    n_informative=2,\n    n_redundant=10,\n    n_classes=2,\n    random_state=8,\n)"
    },
    "executionTime": "2020-03-27T20:49:15.330Z"
   },
   {
    "cell": {
     "executionCount": 5,
     "executionEventId": "84db5bb8-8f04-4b92-97d0-b9ca28dacb06",
     "hasError": false,
     "id": "d23d27d5-0fa3-4d5f-b43c-966378b2aea4",
     "outputs": [
      {
       "data": {
        "text/plain": "array([[-0.77298038,  3.01330511,  1.65246232, ...,  0.64968373,\n         0.28067661, -0.55954786],\n       [ 0.44022109, -0.60692523,  0.19839153, ..., -1.28055971,\n        -0.26253419,  1.35954191],\n       [-1.99959181, -0.90975643,  1.26325773, ...,  0.90480764,\n         0.63857854, -0.58110414],\n       ...,\n       [-1.65892317, -0.38051043, -0.64363747, ...,  0.45968579,\n         0.49697107,  0.60823096],\n       [ 0.90868119,  0.50693305,  0.66615242, ..., -0.82239348,\n        -0.33656547,  1.39743509],\n       [ 1.7009957 , -1.14643063, -0.62271321, ..., -0.64207552,\n        -0.52882871, -0.60358238]])"
       },
       "execution_count": 5,
       "metadata": {},
       "output_type": "execute_result"
      }
     ],
     "persistentId": "3b1a2acb-1104-47e1-b642-4a6e7eb8ab0a",
     "text": "X"
    },
    "executionTime": "2020-03-27T20:49:17.355Z"
   },
   {
    "cell": {
     "executionCount": 6,
     "executionEventId": "d224ef98-f4fa-4b96-85c7-8864a6b622a0",
     "hasError": false,
     "id": "d23d27d5-0fa3-4d5f-b43c-966378b2aea4",
     "outputs": [
      {
       "data": {
        "text/plain": "array([0, 0, 1, 0, 1, 1, 0, 1, 1, 1, 1, 1, 1, 1, 1, 1, 0, 1, 0, 1, 0, 0,\n       0, 0, 1, 0, 1, 0, 1, 1, 1, 1, 0, 1, 0, 0, 1, 1, 0, 1, 1, 0, 0, 0,\n       1, 0, 1, 1, 0, 0, 1, 0, 1, 0, 0, 0, 0, 1, 0, 1, 1, 1, 0, 0, 1, 1,\n       1, 1, 1, 1, 1, 0, 0, 1, 0, 0, 1, 0, 0, 1, 0, 0, 1, 1, 1, 0, 0, 0,\n       1, 0, 0, 0, 1, 1, 1, 0, 1, 1, 1, 1, 1, 1, 0, 1, 0, 1, 1, 0, 1, 0,\n       1, 0, 1, 1, 0, 1, 1, 0, 0, 0, 0, 0, 1, 1, 0, 0, 1, 0, 1, 1, 1, 1,\n       1, 0, 0, 1, 1, 0, 0, 1, 0, 1, 1, 1, 1, 1, 0, 1, 0, 0, 0, 0, 1, 1,\n       0, 1, 1, 1, 0, 1, 1, 1, 0, 1, 0, 1, 0, 1, 1, 1, 0, 0, 0, 0, 1, 1,\n       1, 0, 1, 0, 0, 0, 0, 0, 1, 0, 0, 1, 1, 0, 1, 0, 1, 0, 1, 0, 1, 0,\n       1, 0, 1, 0, 1, 0, 0, 0, 1, 0, 0, 0, 1, 0, 0, 0, 1, 1, 0, 0, 0, 0,\n       0, 0, 1, 0, 1, 0, 0, 1, 0, 0, 0, 0, 1, 0, 1, 1, 1, 1, 1, 0, 1, 1,\n       1, 0, 0, 0, 0, 0, 1, 0, 0, 1, 1, 0, 1, 0, 0, 1, 1, 1, 0, 0, 1, 1,\n       1, 1, 0, 0, 1, 1, 0, 0, 0, 1, 0, 0, 0, 0, 1, 0, 1, 0, 0, 0, 1, 1,\n       1, 1, 1, 0, 1, 0, 0, 1, 1, 0, 0, 1, 0, 0])"
       },
       "execution_count": 6,
       "metadata": {},
       "output_type": "execute_result"
      }
     ],
     "persistentId": "3b1a2acb-1104-47e1-b642-4a6e7eb8ab0a",
     "text": "y"
    },
    "executionTime": "2020-03-27T20:49:19.809Z"
   },
   {
    "cell": {
     "executionCount": 7,
     "executionEventId": "32befdd7-3596-4b1a-bb33-ca7d44d2931a",
     "hasError": true,
     "id": "b35cfee7-1cb8-492a-8c87-7c87668ec096",
     "outputs": [
      {
       "ename": "NameError",
       "evalue": "name 'hp' is not defined",
       "output_type": "error",
       "traceback": [
        "\u001b[0;31m---------------------------------------------------------------------------\u001b[0m",
        "\u001b[0;31mNameError\u001b[0m                                 Traceback (most recent call last)",
        "\u001b[0;32m<ipython-input-7-ca43f8f06acc>\u001b[0m in \u001b[0;36m<module>\u001b[0;34m\u001b[0m\n\u001b[1;32m      3\u001b[0m \u001b[0;31m# Declare xgboost search space for Hyperopt\u001b[0m\u001b[0;34m\u001b[0m\u001b[0;34m\u001b[0m\u001b[0;34m\u001b[0m\u001b[0m\n\u001b[1;32m      4\u001b[0m xgboost_space={\n\u001b[0;32m----> 5\u001b[0;31m             \u001b[0;34m'max_depth'\u001b[0m\u001b[0;34m:\u001b[0m \u001b[0mhp\u001b[0m\u001b[0;34m.\u001b[0m\u001b[0mchoice\u001b[0m\u001b[0;34m(\u001b[0m\u001b[0;34m'x_max_depth'\u001b[0m\u001b[0;34m,\u001b[0m\u001b[0;34m[\u001b[0m\u001b[0;36m2\u001b[0m\u001b[0;34m,\u001b[0m\u001b[0;36m3\u001b[0m\u001b[0;34m,\u001b[0m\u001b[0;36m4\u001b[0m\u001b[0;34m,\u001b[0m\u001b[0;36m5\u001b[0m\u001b[0;34m,\u001b[0m\u001b[0;36m6\u001b[0m\u001b[0;34m]\u001b[0m\u001b[0;34m)\u001b[0m\u001b[0;34m,\u001b[0m\u001b[0;34m\u001b[0m\u001b[0;34m\u001b[0m\u001b[0m\n\u001b[0m\u001b[1;32m      6\u001b[0m             \u001b[0;34m'min_child_weight'\u001b[0m\u001b[0;34m:\u001b[0m\u001b[0mhp\u001b[0m\u001b[0;34m.\u001b[0m\u001b[0mchoice\u001b[0m\u001b[0;34m(\u001b[0m\u001b[0;34m'x_min_child_weight'\u001b[0m\u001b[0;34m,\u001b[0m\u001b[0mnp\u001b[0m\u001b[0;34m.\u001b[0m\u001b[0mround\u001b[0m\u001b[0;34m(\u001b[0m\u001b[0mnp\u001b[0m\u001b[0;34m.\u001b[0m\u001b[0marange\u001b[0m\u001b[0;34m(\u001b[0m\u001b[0;36m0.0\u001b[0m\u001b[0;34m,\u001b[0m\u001b[0;36m0.2\u001b[0m\u001b[0;34m,\u001b[0m\u001b[0;36m0.01\u001b[0m\u001b[0;34m)\u001b[0m\u001b[0;34m,\u001b[0m\u001b[0;36m5\u001b[0m\u001b[0;34m)\u001b[0m\u001b[0;34m)\u001b[0m\u001b[0;34m,\u001b[0m\u001b[0;34m\u001b[0m\u001b[0;34m\u001b[0m\u001b[0m\n\u001b[1;32m      7\u001b[0m             \u001b[0;34m'learning_rate'\u001b[0m\u001b[0;34m:\u001b[0m\u001b[0mhp\u001b[0m\u001b[0;34m.\u001b[0m\u001b[0mchoice\u001b[0m\u001b[0;34m(\u001b[0m\u001b[0;34m'x_learning_rate'\u001b[0m\u001b[0;34m,\u001b[0m\u001b[0mnp\u001b[0m\u001b[0;34m.\u001b[0m\u001b[0mround\u001b[0m\u001b[0;34m(\u001b[0m\u001b[0mnp\u001b[0m\u001b[0;34m.\u001b[0m\u001b[0marange\u001b[0m\u001b[0;34m(\u001b[0m\u001b[0;36m0.005\u001b[0m\u001b[0;34m,\u001b[0m\u001b[0;36m0.3\u001b[0m\u001b[0;34m,\u001b[0m\u001b[0;36m0.01\u001b[0m\u001b[0;34m)\u001b[0m\u001b[0;34m,\u001b[0m\u001b[0;36m5\u001b[0m\u001b[0;34m)\u001b[0m\u001b[0;34m)\u001b[0m\u001b[0;34m,\u001b[0m\u001b[0;34m\u001b[0m\u001b[0;34m\u001b[0m\u001b[0m\n",
        "\u001b[0;31mNameError\u001b[0m: name 'hp' is not defined"
       ]
      }
     ],
     "persistentId": "ee8ee53d-4981-4178-8b77-82c328e9b26b",
     "text": "from xgboost import XGBClassifier\n\n# Declare xgboost search space for Hyperopt\nxgboost_space={\n            'max_depth': hp.choice('x_max_depth',[2,3,4,5,6]),\n            'min_child_weight':hp.choice('x_min_child_weight',np.round(np.arange(0.0,0.2,0.01),5)),\n            'learning_rate':hp.choice('x_learning_rate',np.round(np.arange(0.005,0.3,0.01),5)),\n            'subsample':hp.choice('x_subsample',np.round(np.arange(0.1,1.0,0.05),5)),\n            'colsample_bylevel':hp.choice('x_colsample_bylevel',np.round(np.arange(0.1,1.0,0.05),5)),\n            'colsample_bytree':hp.choice('x_colsample_bytree',np.round(np.arange(0.1,1.0,0.05),5)),\n            'n_estimators':hp.choice('x_n_estimators',np.arange(25,100,5))\n            }\n\nbest_score = 1.0"
    },
    "executionTime": "2020-03-27T20:49:34.485Z"
   },
   {
    "cell": {
     "executionCount": 8,
     "executionEventId": "829892c7-3640-4042-94fc-b56874242e71",
     "hasError": false,
     "id": "4079dbd6-6e67-48d5-98f6-2cdad0d225bc",
     "outputs": [],
     "persistentId": "152fc513-c921-46ce-af1f-c8f4a42c2ecc",
     "text": "from hyperopt import hp, fmin, tpe, STATUS_OK, Trials"
    },
    "executionTime": "2020-03-27T20:49:50.062Z"
   },
   {
    "cell": {
     "executionCount": 9,
     "executionEventId": "bdd381b8-8b88-4868-b64d-fea4328c8063",
     "hasError": false,
     "id": "4079dbd6-6e67-48d5-98f6-2cdad0d225bc",
     "outputs": [],
     "persistentId": "152fc513-c921-46ce-af1f-c8f4a42c2ecc",
     "text": "from hyperopt import hp, fmin, tpe, STATUS_OK, Trials\nfrom xgboost import XGBClassifier"
    },
    "executionTime": "2020-03-27T20:49:52.077Z"
   },
   {
    "cell": {
     "executionCount": 10,
     "executionEventId": "681d1828-80d7-470c-be1d-337aa48b57a5",
     "hasError": false,
     "id": "b35cfee7-1cb8-492a-8c87-7c87668ec096",
     "outputs": [],
     "persistentId": "ee8ee53d-4981-4178-8b77-82c328e9b26b",
     "text": "# Declare xgboost search space for Hyperopt\nxgboost_space={\n            'max_depth': hp.choice('x_max_depth',[2,3,4,5,6]),\n            'min_child_weight':hp.choice('x_min_child_weight',np.round(np.arange(0.0,0.2,0.01),5)),\n            'learning_rate':hp.choice('x_learning_rate',np.round(np.arange(0.005,0.3,0.01),5)),\n            'subsample':hp.choice('x_subsample',np.round(np.arange(0.1,1.0,0.05),5)),\n            'colsample_bylevel':hp.choice('x_colsample_bylevel',np.round(np.arange(0.1,1.0,0.05),5)),\n            'colsample_bytree':hp.choice('x_colsample_bytree',np.round(np.arange(0.1,1.0,0.05),5)),\n            'n_estimators':hp.choice('x_n_estimators',np.arange(25,100,5))\n            }\n\nbest_score = 1.0"
    },
    "executionTime": "2020-03-27T20:49:55.083Z"
   },
   {
    "cell": {
     "executionCount": 11,
     "executionEventId": "b50ad547-c281-4ad7-97f6-a1d6ff101f9c",
     "hasError": false,
     "id": "c6b293a3-401b-493c-a025-76beb7dc87b0",
     "outputs": [],
     "persistentId": "c16e4dcd-c24c-49ad-9bb4-c17ee468a8be",
     "text": "from sklearn.model_selection import KFold"
    },
    "executionTime": "2020-03-27T20:52:07.341Z"
   },
   {
    "cell": {
     "executionCount": 1,
     "executionEventId": "6d4c93cf-1559-48b8-aeba-7e04aa988be6",
     "hasError": false,
     "id": "ee0ed2f3-929b-4ab9-ac7c-f7a2e73edacc",
     "outputs": [],
     "persistentId": "d60ead82-894d-4856-85ef-81e1bab7f888",
     "text": "from sklearn.datasets import make_classification\nfrom sklearn.model_selection import KFold\nfrom sklearn.model_selection import cross_val_score\nimport numpy as np\nimport pandas as pd\nfrom hyperopt import hp, fmin, tpe, STATUS_OK, Trials\nfrom xgboost import XGBClassifier"
    },
    "executionTime": "2020-03-27T20:53:35.776Z"
   },
   {
    "cell": {
     "executionCount": 2,
     "executionEventId": "0b9cef00-e43d-4be8-8ab1-93ee05bdc556",
     "hasError": false,
     "id": "9708f6ed-152b-4e08-a509-c33440c2155a",
     "outputs": [],
     "persistentId": "1056d6a9-43c4-49e6-a137-021b8d0a2922",
     "text": "# Make a toy dataset\nX, y = make_classification(\n    n_samples=300,\n    n_features=25,\n    n_informative=2,\n    n_redundant=10,\n    n_classes=2,\n    random_state=8,\n)"
    },
    "executionTime": "2020-03-27T20:53:37.767Z"
   },
   {
    "cell": {
     "executionCount": 3,
     "executionEventId": "074034fe-a4b2-430d-ab70-ea9d341dfb44",
     "hasError": false,
     "id": "b35cfee7-1cb8-492a-8c87-7c87668ec096",
     "outputs": [],
     "persistentId": "ee8ee53d-4981-4178-8b77-82c328e9b26b",
     "text": "# Declare xgboost search space for Hyperopt\nxgboost_space = {\n    \"max_depth\": hp.choice(\"x_max_depth\", [2, 3, 4, 5, 6]),\n    \"min_child_weight\": hp.choice(\n        \"x_min_child_weight\", np.round(np.arange(0.0, 0.2, 0.01), 5)\n    ),\n    \"learning_rate\": hp.choice(\n        \"x_learning_rate\", np.round(np.arange(0.005, 0.3, 0.01), 5)\n    ),\n    \"subsample\": hp.choice(\"x_subsample\", np.round(np.arange(0.1, 1.0, 0.05), 5)),\n    \"colsample_bylevel\": hp.choice(\n        \"x_colsample_bylevel\", np.round(np.arange(0.1, 1.0, 0.05), 5)\n    ),\n    \"colsample_bytree\": hp.choice(\n        \"x_colsample_bytree\", np.round(np.arange(0.1, 1.0, 0.05), 5)\n    ),\n    \"n_estimators\": hp.choice(\"x_n_estimators\", np.arange(25, 100, 5)),\n}\n\nbest_score = 1.0"
    },
    "executionTime": "2020-03-27T20:53:47.162Z"
   },
   {
    "cell": {
     "executionCount": 4,
     "executionEventId": "9e070b1f-8fce-495c-9b3c-2b50154bfda0",
     "hasError": false,
     "id": "eed29441-53e9-4fcc-997c-a35475485c53",
     "outputs": [],
     "persistentId": "e6746755-3f43-48da-b7d8-617bf323bee0",
     "text": "def objective(space):\n\n    model = XGBClassifier(**space, n_jobs=-1)\n    kfold = KFold(n_splits=3, random_state=1985, shuffle=True)\n    score = -cross_val_score(\n        model, X, Y, cv=kfold, scoring=\"roc_auc\", verbose=False\n    ).mean()\n\n    if score < best_score:\n        best_score = score\n\n    return score"
    },
    "executionTime": "2020-03-27T20:53:57.920Z"
   },
   {
    "cell": {
     "executionCount": 5,
     "executionEventId": "18fc35c3-3584-410b-ba5d-a0af07604adf",
     "hasError": true,
     "id": "b55e6ec6-53a6-4475-b042-885e13199275",
     "outputs": [
      {
       "name": "stdout",
       "output_type": "stream",
       "text": "  0%|          | 0/200 [00:00<?, ?it/s, best loss: ?]\n"
      },
      {
       "ename": "NameError",
       "evalue": "name 'Y' is not defined",
       "output_type": "error",
       "traceback": [
        "\u001b[0;31m---------------------------------------------------------------------------\u001b[0m",
        "\u001b[0;31mNameError\u001b[0m                                 Traceback (most recent call last)",
        "\u001b[0;32m<ipython-input-5-b6a8e4809f41>\u001b[0m in \u001b[0;36m<module>\u001b[0;34m\u001b[0m\n\u001b[1;32m      4\u001b[0m   \u001b[0malgo\u001b[0m \u001b[0;34m=\u001b[0m \u001b[0mtpe\u001b[0m\u001b[0;34m.\u001b[0m\u001b[0msuggest\u001b[0m\u001b[0;34m,\u001b[0m\u001b[0;34m\u001b[0m\u001b[0;34m\u001b[0m\u001b[0m\n\u001b[1;32m      5\u001b[0m   \u001b[0mmax_evals\u001b[0m \u001b[0;34m=\u001b[0m \u001b[0;36m200\u001b[0m\u001b[0;34m,\u001b[0m\u001b[0;34m\u001b[0m\u001b[0;34m\u001b[0m\u001b[0m\n\u001b[0;32m----> 6\u001b[0;31m   trials = Trials()) \n\u001b[0m",
        "\u001b[0;32m~/anaconda3/lib/python3.7/site-packages/hyperopt/fmin.py\u001b[0m in \u001b[0;36mfmin\u001b[0;34m(fn, space, algo, max_evals, trials, rstate, allow_trials_fmin, pass_expr_memo_ctrl, catch_eval_exceptions, verbose, return_argmin, points_to_evaluate, max_queue_len, show_progressbar)\u001b[0m\n\u001b[1;32m    401\u001b[0m             \u001b[0mcatch_eval_exceptions\u001b[0m\u001b[0;34m=\u001b[0m\u001b[0mcatch_eval_exceptions\u001b[0m\u001b[0;34m,\u001b[0m\u001b[0;34m\u001b[0m\u001b[0;34m\u001b[0m\u001b[0m\n\u001b[1;32m    402\u001b[0m             \u001b[0mreturn_argmin\u001b[0m\u001b[0;34m=\u001b[0m\u001b[0mreturn_argmin\u001b[0m\u001b[0;34m,\u001b[0m\u001b[0;34m\u001b[0m\u001b[0;34m\u001b[0m\u001b[0m\n\u001b[0;32m--> 403\u001b[0;31m             \u001b[0mshow_progressbar\u001b[0m\u001b[0;34m=\u001b[0m\u001b[0mshow_progressbar\u001b[0m\u001b[0;34m,\u001b[0m\u001b[0;34m\u001b[0m\u001b[0;34m\u001b[0m\u001b[0m\n\u001b[0m\u001b[1;32m    404\u001b[0m         )\n\u001b[1;32m    405\u001b[0m \u001b[0;34m\u001b[0m\u001b[0m\n",
        "\u001b[0;32m~/anaconda3/lib/python3.7/site-packages/hyperopt/base.py\u001b[0m in \u001b[0;36mfmin\u001b[0;34m(self, fn, space, algo, max_evals, max_queue_len, rstate, verbose, pass_expr_memo_ctrl, catch_eval_exceptions, return_argmin, show_progressbar)\u001b[0m\n\u001b[1;32m    649\u001b[0m             \u001b[0mcatch_eval_exceptions\u001b[0m\u001b[0;34m=\u001b[0m\u001b[0mcatch_eval_exceptions\u001b[0m\u001b[0;34m,\u001b[0m\u001b[0;34m\u001b[0m\u001b[0;34m\u001b[0m\u001b[0m\n\u001b[1;32m    650\u001b[0m             \u001b[0mreturn_argmin\u001b[0m\u001b[0;34m=\u001b[0m\u001b[0mreturn_argmin\u001b[0m\u001b[0;34m,\u001b[0m\u001b[0;34m\u001b[0m\u001b[0;34m\u001b[0m\u001b[0m\n\u001b[0;32m--> 651\u001b[0;31m             show_progressbar=show_progressbar)\n\u001b[0m\u001b[1;32m    652\u001b[0m \u001b[0;34m\u001b[0m\u001b[0m\n\u001b[1;32m    653\u001b[0m \u001b[0;34m\u001b[0m\u001b[0m\n",
        "\u001b[0;32m~/anaconda3/lib/python3.7/site-packages/hyperopt/fmin.py\u001b[0m in \u001b[0;36mfmin\u001b[0;34m(fn, space, algo, max_evals, trials, rstate, allow_trials_fmin, pass_expr_memo_ctrl, catch_eval_exceptions, verbose, return_argmin, points_to_evaluate, max_queue_len, show_progressbar)\u001b[0m\n\u001b[1;32m    420\u001b[0m                     show_progressbar=show_progressbar)\n\u001b[1;32m    421\u001b[0m     \u001b[0mrval\u001b[0m\u001b[0;34m.\u001b[0m\u001b[0mcatch_eval_exceptions\u001b[0m \u001b[0;34m=\u001b[0m \u001b[0mcatch_eval_exceptions\u001b[0m\u001b[0;34m\u001b[0m\u001b[0;34m\u001b[0m\u001b[0m\n\u001b[0;32m--> 422\u001b[0;31m     \u001b[0mrval\u001b[0m\u001b[0;34m.\u001b[0m\u001b[0mexhaust\u001b[0m\u001b[0;34m(\u001b[0m\u001b[0;34m)\u001b[0m\u001b[0;34m\u001b[0m\u001b[0;34m\u001b[0m\u001b[0m\n\u001b[0m\u001b[1;32m    423\u001b[0m     \u001b[0;32mif\u001b[0m \u001b[0mreturn_argmin\u001b[0m\u001b[0;34m:\u001b[0m\u001b[0;34m\u001b[0m\u001b[0;34m\u001b[0m\u001b[0m\n\u001b[1;32m    424\u001b[0m         \u001b[0;32mif\u001b[0m \u001b[0mlen\u001b[0m\u001b[0;34m(\u001b[0m\u001b[0mtrials\u001b[0m\u001b[0;34m.\u001b[0m\u001b[0mtrials\u001b[0m\u001b[0;34m)\u001b[0m \u001b[0;34m==\u001b[0m \u001b[0;36m0\u001b[0m\u001b[0;34m:\u001b[0m\u001b[0;34m\u001b[0m\u001b[0;34m\u001b[0m\u001b[0m\n",
        "\u001b[0;32m~/anaconda3/lib/python3.7/site-packages/hyperopt/fmin.py\u001b[0m in \u001b[0;36mexhaust\u001b[0;34m(self)\u001b[0m\n\u001b[1;32m    274\u001b[0m     \u001b[0;32mdef\u001b[0m \u001b[0mexhaust\u001b[0m\u001b[0;34m(\u001b[0m\u001b[0mself\u001b[0m\u001b[0;34m)\u001b[0m\u001b[0;34m:\u001b[0m\u001b[0;34m\u001b[0m\u001b[0;34m\u001b[0m\u001b[0m\n\u001b[1;32m    275\u001b[0m         \u001b[0mn_done\u001b[0m \u001b[0;34m=\u001b[0m \u001b[0mlen\u001b[0m\u001b[0;34m(\u001b[0m\u001b[0mself\u001b[0m\u001b[0;34m.\u001b[0m\u001b[0mtrials\u001b[0m\u001b[0;34m)\u001b[0m\u001b[0;34m\u001b[0m\u001b[0;34m\u001b[0m\u001b[0m\n\u001b[0;32m--> 276\u001b[0;31m         \u001b[0mself\u001b[0m\u001b[0;34m.\u001b[0m\u001b[0mrun\u001b[0m\u001b[0;34m(\u001b[0m\u001b[0mself\u001b[0m\u001b[0;34m.\u001b[0m\u001b[0mmax_evals\u001b[0m \u001b[0;34m-\u001b[0m \u001b[0mn_done\u001b[0m\u001b[0;34m,\u001b[0m \u001b[0mblock_until_done\u001b[0m\u001b[0;34m=\u001b[0m\u001b[0mself\u001b[0m\u001b[0;34m.\u001b[0m\u001b[0masynchronous\u001b[0m\u001b[0;34m)\u001b[0m\u001b[0;34m\u001b[0m\u001b[0;34m\u001b[0m\u001b[0m\n\u001b[0m\u001b[1;32m    277\u001b[0m         \u001b[0mself\u001b[0m\u001b[0;34m.\u001b[0m\u001b[0mtrials\u001b[0m\u001b[0;34m.\u001b[0m\u001b[0mrefresh\u001b[0m\u001b[0;34m(\u001b[0m\u001b[0;34m)\u001b[0m\u001b[0;34m\u001b[0m\u001b[0;34m\u001b[0m\u001b[0m\n\u001b[1;32m    278\u001b[0m         \u001b[0;32mreturn\u001b[0m \u001b[0mself\u001b[0m\u001b[0;34m\u001b[0m\u001b[0;34m\u001b[0m\u001b[0m\n",
        "\u001b[0;32m~/anaconda3/lib/python3.7/site-packages/hyperopt/fmin.py\u001b[0m in \u001b[0;36mrun\u001b[0;34m(self, N, block_until_done)\u001b[0m\n\u001b[1;32m    239\u001b[0m                     \u001b[0;32melse\u001b[0m\u001b[0;34m:\u001b[0m\u001b[0;34m\u001b[0m\u001b[0;34m\u001b[0m\u001b[0m\n\u001b[1;32m    240\u001b[0m                         \u001b[0;31m# -- loop over trials and do the jobs directly\u001b[0m\u001b[0;34m\u001b[0m\u001b[0;34m\u001b[0m\u001b[0;34m\u001b[0m\u001b[0m\n\u001b[0;32m--> 241\u001b[0;31m                         \u001b[0mself\u001b[0m\u001b[0;34m.\u001b[0m\u001b[0mserial_evaluate\u001b[0m\u001b[0;34m(\u001b[0m\u001b[0;34m)\u001b[0m\u001b[0;34m\u001b[0m\u001b[0;34m\u001b[0m\u001b[0m\n\u001b[0m\u001b[1;32m    242\u001b[0m \u001b[0;34m\u001b[0m\u001b[0m\n\u001b[1;32m    243\u001b[0m                     \u001b[0;32mtry\u001b[0m\u001b[0;34m:\u001b[0m\u001b[0;34m\u001b[0m\u001b[0;34m\u001b[0m\u001b[0m\n",
        "\u001b[0;32m~/anaconda3/lib/python3.7/site-packages/hyperopt/fmin.py\u001b[0m in \u001b[0;36mserial_evaluate\u001b[0;34m(self, N)\u001b[0m\n\u001b[1;32m    139\u001b[0m                 \u001b[0mctrl\u001b[0m \u001b[0;34m=\u001b[0m \u001b[0mbase\u001b[0m\u001b[0;34m.\u001b[0m\u001b[0mCtrl\u001b[0m\u001b[0;34m(\u001b[0m\u001b[0mself\u001b[0m\u001b[0;34m.\u001b[0m\u001b[0mtrials\u001b[0m\u001b[0;34m,\u001b[0m \u001b[0mcurrent_trial\u001b[0m\u001b[0;34m=\u001b[0m\u001b[0mtrial\u001b[0m\u001b[0;34m)\u001b[0m\u001b[0;34m\u001b[0m\u001b[0;34m\u001b[0m\u001b[0m\n\u001b[1;32m    140\u001b[0m                 \u001b[0;32mtry\u001b[0m\u001b[0;34m:\u001b[0m\u001b[0;34m\u001b[0m\u001b[0;34m\u001b[0m\u001b[0m\n\u001b[0;32m--> 141\u001b[0;31m                     \u001b[0mresult\u001b[0m \u001b[0;34m=\u001b[0m \u001b[0mself\u001b[0m\u001b[0;34m.\u001b[0m\u001b[0mdomain\u001b[0m\u001b[0;34m.\u001b[0m\u001b[0mevaluate\u001b[0m\u001b[0;34m(\u001b[0m\u001b[0mspec\u001b[0m\u001b[0;34m,\u001b[0m \u001b[0mctrl\u001b[0m\u001b[0;34m)\u001b[0m\u001b[0;34m\u001b[0m\u001b[0;34m\u001b[0m\u001b[0m\n\u001b[0m\u001b[1;32m    142\u001b[0m                 \u001b[0;32mexcept\u001b[0m \u001b[0mException\u001b[0m \u001b[0;32mas\u001b[0m \u001b[0me\u001b[0m\u001b[0;34m:\u001b[0m\u001b[0;34m\u001b[0m\u001b[0;34m\u001b[0m\u001b[0m\n\u001b[1;32m    143\u001b[0m                     \u001b[0mlogger\u001b[0m\u001b[0;34m.\u001b[0m\u001b[0minfo\u001b[0m\u001b[0;34m(\u001b[0m\u001b[0;34m'job exception: %s'\u001b[0m \u001b[0;34m%\u001b[0m \u001b[0mstr\u001b[0m\u001b[0;34m(\u001b[0m\u001b[0me\u001b[0m\u001b[0;34m)\u001b[0m\u001b[0;34m)\u001b[0m\u001b[0;34m\u001b[0m\u001b[0;34m\u001b[0m\u001b[0m\n",
        "\u001b[0;32m~/anaconda3/lib/python3.7/site-packages/hyperopt/base.py\u001b[0m in \u001b[0;36mevaluate\u001b[0;34m(self, config, ctrl, attach_attachments)\u001b[0m\n\u001b[1;32m    854\u001b[0m                 \u001b[0mmemo\u001b[0m\u001b[0;34m=\u001b[0m\u001b[0mmemo\u001b[0m\u001b[0;34m,\u001b[0m\u001b[0;34m\u001b[0m\u001b[0;34m\u001b[0m\u001b[0m\n\u001b[1;32m    855\u001b[0m                 print_node_on_error=self.rec_eval_print_node_on_error)\n\u001b[0;32m--> 856\u001b[0;31m             \u001b[0mrval\u001b[0m \u001b[0;34m=\u001b[0m \u001b[0mself\u001b[0m\u001b[0;34m.\u001b[0m\u001b[0mfn\u001b[0m\u001b[0;34m(\u001b[0m\u001b[0mpyll_rval\u001b[0m\u001b[0;34m)\u001b[0m\u001b[0;34m\u001b[0m\u001b[0;34m\u001b[0m\u001b[0m\n\u001b[0m\u001b[1;32m    857\u001b[0m \u001b[0;34m\u001b[0m\u001b[0m\n\u001b[1;32m    858\u001b[0m         \u001b[0;32mif\u001b[0m \u001b[0misinstance\u001b[0m\u001b[0;34m(\u001b[0m\u001b[0mrval\u001b[0m\u001b[0;34m,\u001b[0m \u001b[0;34m(\u001b[0m\u001b[0mfloat\u001b[0m\u001b[0;34m,\u001b[0m \u001b[0mint\u001b[0m\u001b[0;34m,\u001b[0m \u001b[0mnp\u001b[0m\u001b[0;34m.\u001b[0m\u001b[0mnumber\u001b[0m\u001b[0;34m)\u001b[0m\u001b[0;34m)\u001b[0m\u001b[0;34m:\u001b[0m\u001b[0;34m\u001b[0m\u001b[0;34m\u001b[0m\u001b[0m\n",
        "\u001b[0;32m<ipython-input-4-bef6a3c05633>\u001b[0m in \u001b[0;36mobjective\u001b[0;34m(space)\u001b[0m\n\u001b[1;32m      4\u001b[0m     \u001b[0mkfold\u001b[0m \u001b[0;34m=\u001b[0m \u001b[0mKFold\u001b[0m\u001b[0;34m(\u001b[0m\u001b[0mn_splits\u001b[0m\u001b[0;34m=\u001b[0m\u001b[0;36m3\u001b[0m\u001b[0;34m,\u001b[0m \u001b[0mrandom_state\u001b[0m\u001b[0;34m=\u001b[0m\u001b[0;36m1985\u001b[0m\u001b[0;34m,\u001b[0m \u001b[0mshuffle\u001b[0m\u001b[0;34m=\u001b[0m\u001b[0;32mTrue\u001b[0m\u001b[0;34m)\u001b[0m\u001b[0;34m\u001b[0m\u001b[0;34m\u001b[0m\u001b[0m\n\u001b[1;32m      5\u001b[0m     score = -cross_val_score(\n\u001b[0;32m----> 6\u001b[0;31m         \u001b[0mmodel\u001b[0m\u001b[0;34m,\u001b[0m \u001b[0mX\u001b[0m\u001b[0;34m,\u001b[0m \u001b[0mY\u001b[0m\u001b[0;34m,\u001b[0m \u001b[0mcv\u001b[0m\u001b[0;34m=\u001b[0m\u001b[0mkfold\u001b[0m\u001b[0;34m,\u001b[0m \u001b[0mscoring\u001b[0m\u001b[0;34m=\u001b[0m\u001b[0;34m\"roc_auc\"\u001b[0m\u001b[0;34m,\u001b[0m \u001b[0mverbose\u001b[0m\u001b[0;34m=\u001b[0m\u001b[0;32mFalse\u001b[0m\u001b[0;34m\u001b[0m\u001b[0;34m\u001b[0m\u001b[0m\n\u001b[0m\u001b[1;32m      7\u001b[0m     ).mean()\n\u001b[1;32m      8\u001b[0m \u001b[0;34m\u001b[0m\u001b[0m\n",
        "\u001b[0;31mNameError\u001b[0m: name 'Y' is not defined"
       ]
      }
     ],
     "persistentId": "e8174567-6ee6-4ce6-8563-394e8abfc39c",
     "text": "best = fmin(\n  objective, \n  space = xgboost_space, \n  algo = tpe.suggest, \n  max_evals = 200,\n  trials = Trials()) "
    },
    "executionTime": "2020-03-27T20:55:55.017Z"
   },
   {
    "cell": {
     "executionCount": 6,
     "executionEventId": "e425b0bb-88b5-4908-a14b-fd360b22f6a7",
     "hasError": false,
     "id": "eed29441-53e9-4fcc-997c-a35475485c53",
     "outputs": [],
     "persistentId": "e6746755-3f43-48da-b7d8-617bf323bee0",
     "text": "# The objective function\ndef objective(space):\n\n    model = XGBClassifier(**space, n_jobs=-1)\n    kfold = KFold(n_splits=3, random_state=1985, shuffle=True)\n    score = -cross_val_score(\n        model, X, y, cv=kfold, scoring=\"roc_auc\", verbose=False\n    ).mean()\n\n    if score < best_score:\n        best_score = score\n\n    return score"
    },
    "executionTime": "2020-03-27T20:56:00.532Z"
   },
   {
    "cell": {
     "executionCount": 7,
     "executionEventId": "604c3c74-eacf-4b0b-8820-ac84099f2b03",
     "hasError": true,
     "id": "b55e6ec6-53a6-4475-b042-885e13199275",
     "outputs": [
      {
       "name": "stdout",
       "output_type": "stream",
       "text": "  0%|          | 0/200 [00:00<?, ?it/s, best loss: ?]\n"
      },
      {
       "ename": "UnboundLocalError",
       "evalue": "local variable 'best_score' referenced before assignment",
       "output_type": "error",
       "traceback": [
        "\u001b[0;31m---------------------------------------------------------------------------\u001b[0m",
        "\u001b[0;31mUnboundLocalError\u001b[0m                         Traceback (most recent call last)",
        "\u001b[0;32m<ipython-input-7-b6a8e4809f41>\u001b[0m in \u001b[0;36m<module>\u001b[0;34m\u001b[0m\n\u001b[1;32m      4\u001b[0m   \u001b[0malgo\u001b[0m \u001b[0;34m=\u001b[0m \u001b[0mtpe\u001b[0m\u001b[0;34m.\u001b[0m\u001b[0msuggest\u001b[0m\u001b[0;34m,\u001b[0m\u001b[0;34m\u001b[0m\u001b[0;34m\u001b[0m\u001b[0m\n\u001b[1;32m      5\u001b[0m   \u001b[0mmax_evals\u001b[0m \u001b[0;34m=\u001b[0m \u001b[0;36m200\u001b[0m\u001b[0;34m,\u001b[0m\u001b[0;34m\u001b[0m\u001b[0;34m\u001b[0m\u001b[0m\n\u001b[0;32m----> 6\u001b[0;31m   trials = Trials()) \n\u001b[0m",
        "\u001b[0;32m~/anaconda3/lib/python3.7/site-packages/hyperopt/fmin.py\u001b[0m in \u001b[0;36mfmin\u001b[0;34m(fn, space, algo, max_evals, trials, rstate, allow_trials_fmin, pass_expr_memo_ctrl, catch_eval_exceptions, verbose, return_argmin, points_to_evaluate, max_queue_len, show_progressbar)\u001b[0m\n\u001b[1;32m    401\u001b[0m             \u001b[0mcatch_eval_exceptions\u001b[0m\u001b[0;34m=\u001b[0m\u001b[0mcatch_eval_exceptions\u001b[0m\u001b[0;34m,\u001b[0m\u001b[0;34m\u001b[0m\u001b[0;34m\u001b[0m\u001b[0m\n\u001b[1;32m    402\u001b[0m             \u001b[0mreturn_argmin\u001b[0m\u001b[0;34m=\u001b[0m\u001b[0mreturn_argmin\u001b[0m\u001b[0;34m,\u001b[0m\u001b[0;34m\u001b[0m\u001b[0;34m\u001b[0m\u001b[0m\n\u001b[0;32m--> 403\u001b[0;31m             \u001b[0mshow_progressbar\u001b[0m\u001b[0;34m=\u001b[0m\u001b[0mshow_progressbar\u001b[0m\u001b[0;34m,\u001b[0m\u001b[0;34m\u001b[0m\u001b[0;34m\u001b[0m\u001b[0m\n\u001b[0m\u001b[1;32m    404\u001b[0m         )\n\u001b[1;32m    405\u001b[0m \u001b[0;34m\u001b[0m\u001b[0m\n",
        "\u001b[0;32m~/anaconda3/lib/python3.7/site-packages/hyperopt/base.py\u001b[0m in \u001b[0;36mfmin\u001b[0;34m(self, fn, space, algo, max_evals, max_queue_len, rstate, verbose, pass_expr_memo_ctrl, catch_eval_exceptions, return_argmin, show_progressbar)\u001b[0m\n\u001b[1;32m    649\u001b[0m             \u001b[0mcatch_eval_exceptions\u001b[0m\u001b[0;34m=\u001b[0m\u001b[0mcatch_eval_exceptions\u001b[0m\u001b[0;34m,\u001b[0m\u001b[0;34m\u001b[0m\u001b[0;34m\u001b[0m\u001b[0m\n\u001b[1;32m    650\u001b[0m             \u001b[0mreturn_argmin\u001b[0m\u001b[0;34m=\u001b[0m\u001b[0mreturn_argmin\u001b[0m\u001b[0;34m,\u001b[0m\u001b[0;34m\u001b[0m\u001b[0;34m\u001b[0m\u001b[0m\n\u001b[0;32m--> 651\u001b[0;31m             show_progressbar=show_progressbar)\n\u001b[0m\u001b[1;32m    652\u001b[0m \u001b[0;34m\u001b[0m\u001b[0m\n\u001b[1;32m    653\u001b[0m \u001b[0;34m\u001b[0m\u001b[0m\n",
        "\u001b[0;32m~/anaconda3/lib/python3.7/site-packages/hyperopt/fmin.py\u001b[0m in \u001b[0;36mfmin\u001b[0;34m(fn, space, algo, max_evals, trials, rstate, allow_trials_fmin, pass_expr_memo_ctrl, catch_eval_exceptions, verbose, return_argmin, points_to_evaluate, max_queue_len, show_progressbar)\u001b[0m\n\u001b[1;32m    420\u001b[0m                     show_progressbar=show_progressbar)\n\u001b[1;32m    421\u001b[0m     \u001b[0mrval\u001b[0m\u001b[0;34m.\u001b[0m\u001b[0mcatch_eval_exceptions\u001b[0m \u001b[0;34m=\u001b[0m \u001b[0mcatch_eval_exceptions\u001b[0m\u001b[0;34m\u001b[0m\u001b[0;34m\u001b[0m\u001b[0m\n\u001b[0;32m--> 422\u001b[0;31m     \u001b[0mrval\u001b[0m\u001b[0;34m.\u001b[0m\u001b[0mexhaust\u001b[0m\u001b[0;34m(\u001b[0m\u001b[0;34m)\u001b[0m\u001b[0;34m\u001b[0m\u001b[0;34m\u001b[0m\u001b[0m\n\u001b[0m\u001b[1;32m    423\u001b[0m     \u001b[0;32mif\u001b[0m \u001b[0mreturn_argmin\u001b[0m\u001b[0;34m:\u001b[0m\u001b[0;34m\u001b[0m\u001b[0;34m\u001b[0m\u001b[0m\n\u001b[1;32m    424\u001b[0m         \u001b[0;32mif\u001b[0m \u001b[0mlen\u001b[0m\u001b[0;34m(\u001b[0m\u001b[0mtrials\u001b[0m\u001b[0;34m.\u001b[0m\u001b[0mtrials\u001b[0m\u001b[0;34m)\u001b[0m \u001b[0;34m==\u001b[0m \u001b[0;36m0\u001b[0m\u001b[0;34m:\u001b[0m\u001b[0;34m\u001b[0m\u001b[0;34m\u001b[0m\u001b[0m\n",
        "\u001b[0;32m~/anaconda3/lib/python3.7/site-packages/hyperopt/fmin.py\u001b[0m in \u001b[0;36mexhaust\u001b[0;34m(self)\u001b[0m\n\u001b[1;32m    274\u001b[0m     \u001b[0;32mdef\u001b[0m \u001b[0mexhaust\u001b[0m\u001b[0;34m(\u001b[0m\u001b[0mself\u001b[0m\u001b[0;34m)\u001b[0m\u001b[0;34m:\u001b[0m\u001b[0;34m\u001b[0m\u001b[0;34m\u001b[0m\u001b[0m\n\u001b[1;32m    275\u001b[0m         \u001b[0mn_done\u001b[0m \u001b[0;34m=\u001b[0m \u001b[0mlen\u001b[0m\u001b[0;34m(\u001b[0m\u001b[0mself\u001b[0m\u001b[0;34m.\u001b[0m\u001b[0mtrials\u001b[0m\u001b[0;34m)\u001b[0m\u001b[0;34m\u001b[0m\u001b[0;34m\u001b[0m\u001b[0m\n\u001b[0;32m--> 276\u001b[0;31m         \u001b[0mself\u001b[0m\u001b[0;34m.\u001b[0m\u001b[0mrun\u001b[0m\u001b[0;34m(\u001b[0m\u001b[0mself\u001b[0m\u001b[0;34m.\u001b[0m\u001b[0mmax_evals\u001b[0m \u001b[0;34m-\u001b[0m \u001b[0mn_done\u001b[0m\u001b[0;34m,\u001b[0m \u001b[0mblock_until_done\u001b[0m\u001b[0;34m=\u001b[0m\u001b[0mself\u001b[0m\u001b[0;34m.\u001b[0m\u001b[0masynchronous\u001b[0m\u001b[0;34m)\u001b[0m\u001b[0;34m\u001b[0m\u001b[0;34m\u001b[0m\u001b[0m\n\u001b[0m\u001b[1;32m    277\u001b[0m         \u001b[0mself\u001b[0m\u001b[0;34m.\u001b[0m\u001b[0mtrials\u001b[0m\u001b[0;34m.\u001b[0m\u001b[0mrefresh\u001b[0m\u001b[0;34m(\u001b[0m\u001b[0;34m)\u001b[0m\u001b[0;34m\u001b[0m\u001b[0;34m\u001b[0m\u001b[0m\n\u001b[1;32m    278\u001b[0m         \u001b[0;32mreturn\u001b[0m \u001b[0mself\u001b[0m\u001b[0;34m\u001b[0m\u001b[0;34m\u001b[0m\u001b[0m\n",
        "\u001b[0;32m~/anaconda3/lib/python3.7/site-packages/hyperopt/fmin.py\u001b[0m in \u001b[0;36mrun\u001b[0;34m(self, N, block_until_done)\u001b[0m\n\u001b[1;32m    239\u001b[0m                     \u001b[0;32melse\u001b[0m\u001b[0;34m:\u001b[0m\u001b[0;34m\u001b[0m\u001b[0;34m\u001b[0m\u001b[0m\n\u001b[1;32m    240\u001b[0m                         \u001b[0;31m# -- loop over trials and do the jobs directly\u001b[0m\u001b[0;34m\u001b[0m\u001b[0;34m\u001b[0m\u001b[0;34m\u001b[0m\u001b[0m\n\u001b[0;32m--> 241\u001b[0;31m                         \u001b[0mself\u001b[0m\u001b[0;34m.\u001b[0m\u001b[0mserial_evaluate\u001b[0m\u001b[0;34m(\u001b[0m\u001b[0;34m)\u001b[0m\u001b[0;34m\u001b[0m\u001b[0;34m\u001b[0m\u001b[0m\n\u001b[0m\u001b[1;32m    242\u001b[0m \u001b[0;34m\u001b[0m\u001b[0m\n\u001b[1;32m    243\u001b[0m                     \u001b[0;32mtry\u001b[0m\u001b[0;34m:\u001b[0m\u001b[0;34m\u001b[0m\u001b[0;34m\u001b[0m\u001b[0m\n",
        "\u001b[0;32m~/anaconda3/lib/python3.7/site-packages/hyperopt/fmin.py\u001b[0m in \u001b[0;36mserial_evaluate\u001b[0;34m(self, N)\u001b[0m\n\u001b[1;32m    139\u001b[0m                 \u001b[0mctrl\u001b[0m \u001b[0;34m=\u001b[0m \u001b[0mbase\u001b[0m\u001b[0;34m.\u001b[0m\u001b[0mCtrl\u001b[0m\u001b[0;34m(\u001b[0m\u001b[0mself\u001b[0m\u001b[0;34m.\u001b[0m\u001b[0mtrials\u001b[0m\u001b[0;34m,\u001b[0m \u001b[0mcurrent_trial\u001b[0m\u001b[0;34m=\u001b[0m\u001b[0mtrial\u001b[0m\u001b[0;34m)\u001b[0m\u001b[0;34m\u001b[0m\u001b[0;34m\u001b[0m\u001b[0m\n\u001b[1;32m    140\u001b[0m                 \u001b[0;32mtry\u001b[0m\u001b[0;34m:\u001b[0m\u001b[0;34m\u001b[0m\u001b[0;34m\u001b[0m\u001b[0m\n\u001b[0;32m--> 141\u001b[0;31m                     \u001b[0mresult\u001b[0m \u001b[0;34m=\u001b[0m \u001b[0mself\u001b[0m\u001b[0;34m.\u001b[0m\u001b[0mdomain\u001b[0m\u001b[0;34m.\u001b[0m\u001b[0mevaluate\u001b[0m\u001b[0;34m(\u001b[0m\u001b[0mspec\u001b[0m\u001b[0;34m,\u001b[0m \u001b[0mctrl\u001b[0m\u001b[0;34m)\u001b[0m\u001b[0;34m\u001b[0m\u001b[0;34m\u001b[0m\u001b[0m\n\u001b[0m\u001b[1;32m    142\u001b[0m                 \u001b[0;32mexcept\u001b[0m \u001b[0mException\u001b[0m \u001b[0;32mas\u001b[0m \u001b[0me\u001b[0m\u001b[0;34m:\u001b[0m\u001b[0;34m\u001b[0m\u001b[0;34m\u001b[0m\u001b[0m\n\u001b[1;32m    143\u001b[0m                     \u001b[0mlogger\u001b[0m\u001b[0;34m.\u001b[0m\u001b[0minfo\u001b[0m\u001b[0;34m(\u001b[0m\u001b[0;34m'job exception: %s'\u001b[0m \u001b[0;34m%\u001b[0m \u001b[0mstr\u001b[0m\u001b[0;34m(\u001b[0m\u001b[0me\u001b[0m\u001b[0;34m)\u001b[0m\u001b[0;34m)\u001b[0m\u001b[0;34m\u001b[0m\u001b[0;34m\u001b[0m\u001b[0m\n",
        "\u001b[0;32m~/anaconda3/lib/python3.7/site-packages/hyperopt/base.py\u001b[0m in \u001b[0;36mevaluate\u001b[0;34m(self, config, ctrl, attach_attachments)\u001b[0m\n\u001b[1;32m    854\u001b[0m                 \u001b[0mmemo\u001b[0m\u001b[0;34m=\u001b[0m\u001b[0mmemo\u001b[0m\u001b[0;34m,\u001b[0m\u001b[0;34m\u001b[0m\u001b[0;34m\u001b[0m\u001b[0m\n\u001b[1;32m    855\u001b[0m                 print_node_on_error=self.rec_eval_print_node_on_error)\n\u001b[0;32m--> 856\u001b[0;31m             \u001b[0mrval\u001b[0m \u001b[0;34m=\u001b[0m \u001b[0mself\u001b[0m\u001b[0;34m.\u001b[0m\u001b[0mfn\u001b[0m\u001b[0;34m(\u001b[0m\u001b[0mpyll_rval\u001b[0m\u001b[0;34m)\u001b[0m\u001b[0;34m\u001b[0m\u001b[0;34m\u001b[0m\u001b[0m\n\u001b[0m\u001b[1;32m    857\u001b[0m \u001b[0;34m\u001b[0m\u001b[0m\n\u001b[1;32m    858\u001b[0m         \u001b[0;32mif\u001b[0m \u001b[0misinstance\u001b[0m\u001b[0;34m(\u001b[0m\u001b[0mrval\u001b[0m\u001b[0;34m,\u001b[0m \u001b[0;34m(\u001b[0m\u001b[0mfloat\u001b[0m\u001b[0;34m,\u001b[0m \u001b[0mint\u001b[0m\u001b[0;34m,\u001b[0m \u001b[0mnp\u001b[0m\u001b[0;34m.\u001b[0m\u001b[0mnumber\u001b[0m\u001b[0;34m)\u001b[0m\u001b[0;34m)\u001b[0m\u001b[0;34m:\u001b[0m\u001b[0;34m\u001b[0m\u001b[0;34m\u001b[0m\u001b[0m\n",
        "\u001b[0;32m<ipython-input-6-72d9ac4e3882>\u001b[0m in \u001b[0;36mobjective\u001b[0;34m(space)\u001b[0m\n\u001b[1;32m      8\u001b[0m     ).mean()\n\u001b[1;32m      9\u001b[0m \u001b[0;34m\u001b[0m\u001b[0m\n\u001b[0;32m---> 10\u001b[0;31m     \u001b[0;32mif\u001b[0m \u001b[0mscore\u001b[0m \u001b[0;34m<\u001b[0m \u001b[0mbest_score\u001b[0m\u001b[0;34m:\u001b[0m\u001b[0;34m\u001b[0m\u001b[0;34m\u001b[0m\u001b[0m\n\u001b[0m\u001b[1;32m     11\u001b[0m         \u001b[0mbest_score\u001b[0m \u001b[0;34m=\u001b[0m \u001b[0mscore\u001b[0m\u001b[0;34m\u001b[0m\u001b[0;34m\u001b[0m\u001b[0m\n\u001b[1;32m     12\u001b[0m \u001b[0;34m\u001b[0m\u001b[0m\n",
        "\u001b[0;31mUnboundLocalError\u001b[0m: local variable 'best_score' referenced before assignment"
       ]
      }
     ],
     "persistentId": "e8174567-6ee6-4ce6-8563-394e8abfc39c",
     "text": "best = fmin(\n  objective, \n  space = xgboost_space, \n  algo = tpe.suggest, \n  max_evals = 200,\n  trials = Trials()) "
    },
    "executionTime": "2020-03-27T20:56:01.841Z"
   },
   {
    "cell": {
     "executionCount": 8,
     "executionEventId": "947ddc86-1b40-4714-8500-ccb03438abba",
     "hasError": false,
     "id": "ee0ed2f3-929b-4ab9-ac7c-f7a2e73edacc",
     "outputs": [],
     "persistentId": "d60ead82-894d-4856-85ef-81e1bab7f888",
     "text": "from sklearn.datasets import make_classification\nfrom sklearn.model_selection import KFold\nfrom sklearn.model_selection import cross_val_score\nimport numpy as np\nimport pandas as pd\nfrom hyperopt import hp, fmin, tpe, STATUS_OK, Trials\nfrom xgboost import XGBClassifier"
    },
    "executionTime": "2020-03-27T20:56:28.090Z"
   },
   {
    "cell": {
     "executionCount": 9,
     "executionEventId": "4ac011ae-ee20-4ecd-b1d8-1efa1aafc219",
     "hasError": false,
     "id": "9708f6ed-152b-4e08-a509-c33440c2155a",
     "outputs": [],
     "persistentId": "1056d6a9-43c4-49e6-a137-021b8d0a2922",
     "text": "# Make a toy dataset\nX, y = make_classification(\n    n_samples=300,\n    n_features=25,\n    n_informative=2,\n    n_redundant=10,\n    n_classes=2,\n    random_state=8,\n)"
    },
    "executionTime": "2020-03-27T20:56:28.680Z"
   },
   {
    "cell": {
     "executionCount": 10,
     "executionEventId": "a22bd1fe-6c82-4b27-a8d2-deb566306a7b",
     "hasError": false,
     "id": "b35cfee7-1cb8-492a-8c87-7c87668ec096",
     "outputs": [],
     "persistentId": "ee8ee53d-4981-4178-8b77-82c328e9b26b",
     "text": "# Declare xgboost search space for Hyperopt\nxgboost_space = {\n    \"max_depth\": hp.choice(\"x_max_depth\", [2, 3, 4, 5, 6]),\n    \"min_child_weight\": hp.choice(\n        \"x_min_child_weight\", np.round(np.arange(0.0, 0.2, 0.01), 5)\n    ),\n    \"learning_rate\": hp.choice(\n        \"x_learning_rate\", np.round(np.arange(0.005, 0.3, 0.01), 5)\n    ),\n    \"subsample\": hp.choice(\"x_subsample\", np.round(np.arange(0.1, 1.0, 0.05), 5)),\n    \"colsample_bylevel\": hp.choice(\n        \"x_colsample_bylevel\", np.round(np.arange(0.1, 1.0, 0.05), 5)\n    ),\n    \"colsample_bytree\": hp.choice(\n        \"x_colsample_bytree\", np.round(np.arange(0.1, 1.0, 0.05), 5)\n    ),\n    \"n_estimators\": hp.choice(\"x_n_estimators\", np.arange(25, 100, 5)),\n}\n\nbest_score = 1.0"
    },
    "executionTime": "2020-03-27T20:56:29.856Z"
   },
   {
    "cell": {
     "executionCount": 11,
     "executionEventId": "8171a585-3485-43f7-952f-4cc8b57476bf",
     "hasError": false,
     "id": "eed29441-53e9-4fcc-997c-a35475485c53",
     "outputs": [],
     "persistentId": "e6746755-3f43-48da-b7d8-617bf323bee0",
     "text": "# The objective function\ndef objective(space):\n\n    model = XGBClassifier(**space, n_jobs=-1)\n    kfold = KFold(n_splits=3, random_state=1985, shuffle=True)\n    score = -cross_val_score(\n        model, X, y, cv=kfold, scoring=\"roc_auc\", verbose=False\n    ).mean()\n\n    if score < best_score:\n        best_score = score\n\n    return score"
    },
    "executionTime": "2020-03-27T20:56:30.480Z"
   },
   {
    "cell": {
     "executionCount": 12,
     "executionEventId": "628b8e89-3a9e-4ed0-a28b-7a42ee981952",
     "hasError": true,
     "id": "b55e6ec6-53a6-4475-b042-885e13199275",
     "outputs": [
      {
       "name": "stdout",
       "output_type": "stream",
       "text": "  0%|          | 0/200 [00:00<?, ?it/s, best loss: ?]\n"
      },
      {
       "ename": "UnboundLocalError",
       "evalue": "local variable 'best_score' referenced before assignment",
       "output_type": "error",
       "traceback": [
        "\u001b[0;31m---------------------------------------------------------------------------\u001b[0m",
        "\u001b[0;31mUnboundLocalError\u001b[0m                         Traceback (most recent call last)",
        "\u001b[0;32m<ipython-input-12-b6a8e4809f41>\u001b[0m in \u001b[0;36m<module>\u001b[0;34m\u001b[0m\n\u001b[1;32m      4\u001b[0m   \u001b[0malgo\u001b[0m \u001b[0;34m=\u001b[0m \u001b[0mtpe\u001b[0m\u001b[0;34m.\u001b[0m\u001b[0msuggest\u001b[0m\u001b[0;34m,\u001b[0m\u001b[0;34m\u001b[0m\u001b[0;34m\u001b[0m\u001b[0m\n\u001b[1;32m      5\u001b[0m   \u001b[0mmax_evals\u001b[0m \u001b[0;34m=\u001b[0m \u001b[0;36m200\u001b[0m\u001b[0;34m,\u001b[0m\u001b[0;34m\u001b[0m\u001b[0;34m\u001b[0m\u001b[0m\n\u001b[0;32m----> 6\u001b[0;31m   trials = Trials()) \n\u001b[0m",
        "\u001b[0;32m~/anaconda3/lib/python3.7/site-packages/hyperopt/fmin.py\u001b[0m in \u001b[0;36mfmin\u001b[0;34m(fn, space, algo, max_evals, trials, rstate, allow_trials_fmin, pass_expr_memo_ctrl, catch_eval_exceptions, verbose, return_argmin, points_to_evaluate, max_queue_len, show_progressbar)\u001b[0m\n\u001b[1;32m    401\u001b[0m             \u001b[0mcatch_eval_exceptions\u001b[0m\u001b[0;34m=\u001b[0m\u001b[0mcatch_eval_exceptions\u001b[0m\u001b[0;34m,\u001b[0m\u001b[0;34m\u001b[0m\u001b[0;34m\u001b[0m\u001b[0m\n\u001b[1;32m    402\u001b[0m             \u001b[0mreturn_argmin\u001b[0m\u001b[0;34m=\u001b[0m\u001b[0mreturn_argmin\u001b[0m\u001b[0;34m,\u001b[0m\u001b[0;34m\u001b[0m\u001b[0;34m\u001b[0m\u001b[0m\n\u001b[0;32m--> 403\u001b[0;31m             \u001b[0mshow_progressbar\u001b[0m\u001b[0;34m=\u001b[0m\u001b[0mshow_progressbar\u001b[0m\u001b[0;34m,\u001b[0m\u001b[0;34m\u001b[0m\u001b[0;34m\u001b[0m\u001b[0m\n\u001b[0m\u001b[1;32m    404\u001b[0m         )\n\u001b[1;32m    405\u001b[0m \u001b[0;34m\u001b[0m\u001b[0m\n",
        "\u001b[0;32m~/anaconda3/lib/python3.7/site-packages/hyperopt/base.py\u001b[0m in \u001b[0;36mfmin\u001b[0;34m(self, fn, space, algo, max_evals, max_queue_len, rstate, verbose, pass_expr_memo_ctrl, catch_eval_exceptions, return_argmin, show_progressbar)\u001b[0m\n\u001b[1;32m    649\u001b[0m             \u001b[0mcatch_eval_exceptions\u001b[0m\u001b[0;34m=\u001b[0m\u001b[0mcatch_eval_exceptions\u001b[0m\u001b[0;34m,\u001b[0m\u001b[0;34m\u001b[0m\u001b[0;34m\u001b[0m\u001b[0m\n\u001b[1;32m    650\u001b[0m             \u001b[0mreturn_argmin\u001b[0m\u001b[0;34m=\u001b[0m\u001b[0mreturn_argmin\u001b[0m\u001b[0;34m,\u001b[0m\u001b[0;34m\u001b[0m\u001b[0;34m\u001b[0m\u001b[0m\n\u001b[0;32m--> 651\u001b[0;31m             show_progressbar=show_progressbar)\n\u001b[0m\u001b[1;32m    652\u001b[0m \u001b[0;34m\u001b[0m\u001b[0m\n\u001b[1;32m    653\u001b[0m \u001b[0;34m\u001b[0m\u001b[0m\n",
        "\u001b[0;32m~/anaconda3/lib/python3.7/site-packages/hyperopt/fmin.py\u001b[0m in \u001b[0;36mfmin\u001b[0;34m(fn, space, algo, max_evals, trials, rstate, allow_trials_fmin, pass_expr_memo_ctrl, catch_eval_exceptions, verbose, return_argmin, points_to_evaluate, max_queue_len, show_progressbar)\u001b[0m\n\u001b[1;32m    420\u001b[0m                     show_progressbar=show_progressbar)\n\u001b[1;32m    421\u001b[0m     \u001b[0mrval\u001b[0m\u001b[0;34m.\u001b[0m\u001b[0mcatch_eval_exceptions\u001b[0m \u001b[0;34m=\u001b[0m \u001b[0mcatch_eval_exceptions\u001b[0m\u001b[0;34m\u001b[0m\u001b[0;34m\u001b[0m\u001b[0m\n\u001b[0;32m--> 422\u001b[0;31m     \u001b[0mrval\u001b[0m\u001b[0;34m.\u001b[0m\u001b[0mexhaust\u001b[0m\u001b[0;34m(\u001b[0m\u001b[0;34m)\u001b[0m\u001b[0;34m\u001b[0m\u001b[0;34m\u001b[0m\u001b[0m\n\u001b[0m\u001b[1;32m    423\u001b[0m     \u001b[0;32mif\u001b[0m \u001b[0mreturn_argmin\u001b[0m\u001b[0;34m:\u001b[0m\u001b[0;34m\u001b[0m\u001b[0;34m\u001b[0m\u001b[0m\n\u001b[1;32m    424\u001b[0m         \u001b[0;32mif\u001b[0m \u001b[0mlen\u001b[0m\u001b[0;34m(\u001b[0m\u001b[0mtrials\u001b[0m\u001b[0;34m.\u001b[0m\u001b[0mtrials\u001b[0m\u001b[0;34m)\u001b[0m \u001b[0;34m==\u001b[0m \u001b[0;36m0\u001b[0m\u001b[0;34m:\u001b[0m\u001b[0;34m\u001b[0m\u001b[0;34m\u001b[0m\u001b[0m\n",
        "\u001b[0;32m~/anaconda3/lib/python3.7/site-packages/hyperopt/fmin.py\u001b[0m in \u001b[0;36mexhaust\u001b[0;34m(self)\u001b[0m\n\u001b[1;32m    274\u001b[0m     \u001b[0;32mdef\u001b[0m \u001b[0mexhaust\u001b[0m\u001b[0;34m(\u001b[0m\u001b[0mself\u001b[0m\u001b[0;34m)\u001b[0m\u001b[0;34m:\u001b[0m\u001b[0;34m\u001b[0m\u001b[0;34m\u001b[0m\u001b[0m\n\u001b[1;32m    275\u001b[0m         \u001b[0mn_done\u001b[0m \u001b[0;34m=\u001b[0m \u001b[0mlen\u001b[0m\u001b[0;34m(\u001b[0m\u001b[0mself\u001b[0m\u001b[0;34m.\u001b[0m\u001b[0mtrials\u001b[0m\u001b[0;34m)\u001b[0m\u001b[0;34m\u001b[0m\u001b[0;34m\u001b[0m\u001b[0m\n\u001b[0;32m--> 276\u001b[0;31m         \u001b[0mself\u001b[0m\u001b[0;34m.\u001b[0m\u001b[0mrun\u001b[0m\u001b[0;34m(\u001b[0m\u001b[0mself\u001b[0m\u001b[0;34m.\u001b[0m\u001b[0mmax_evals\u001b[0m \u001b[0;34m-\u001b[0m \u001b[0mn_done\u001b[0m\u001b[0;34m,\u001b[0m \u001b[0mblock_until_done\u001b[0m\u001b[0;34m=\u001b[0m\u001b[0mself\u001b[0m\u001b[0;34m.\u001b[0m\u001b[0masynchronous\u001b[0m\u001b[0;34m)\u001b[0m\u001b[0;34m\u001b[0m\u001b[0;34m\u001b[0m\u001b[0m\n\u001b[0m\u001b[1;32m    277\u001b[0m         \u001b[0mself\u001b[0m\u001b[0;34m.\u001b[0m\u001b[0mtrials\u001b[0m\u001b[0;34m.\u001b[0m\u001b[0mrefresh\u001b[0m\u001b[0;34m(\u001b[0m\u001b[0;34m)\u001b[0m\u001b[0;34m\u001b[0m\u001b[0;34m\u001b[0m\u001b[0m\n\u001b[1;32m    278\u001b[0m         \u001b[0;32mreturn\u001b[0m \u001b[0mself\u001b[0m\u001b[0;34m\u001b[0m\u001b[0;34m\u001b[0m\u001b[0m\n",
        "\u001b[0;32m~/anaconda3/lib/python3.7/site-packages/hyperopt/fmin.py\u001b[0m in \u001b[0;36mrun\u001b[0;34m(self, N, block_until_done)\u001b[0m\n\u001b[1;32m    239\u001b[0m                     \u001b[0;32melse\u001b[0m\u001b[0;34m:\u001b[0m\u001b[0;34m\u001b[0m\u001b[0;34m\u001b[0m\u001b[0m\n\u001b[1;32m    240\u001b[0m                         \u001b[0;31m# -- loop over trials and do the jobs directly\u001b[0m\u001b[0;34m\u001b[0m\u001b[0;34m\u001b[0m\u001b[0;34m\u001b[0m\u001b[0m\n\u001b[0;32m--> 241\u001b[0;31m                         \u001b[0mself\u001b[0m\u001b[0;34m.\u001b[0m\u001b[0mserial_evaluate\u001b[0m\u001b[0;34m(\u001b[0m\u001b[0;34m)\u001b[0m\u001b[0;34m\u001b[0m\u001b[0;34m\u001b[0m\u001b[0m\n\u001b[0m\u001b[1;32m    242\u001b[0m \u001b[0;34m\u001b[0m\u001b[0m\n\u001b[1;32m    243\u001b[0m                     \u001b[0;32mtry\u001b[0m\u001b[0;34m:\u001b[0m\u001b[0;34m\u001b[0m\u001b[0;34m\u001b[0m\u001b[0m\n",
        "\u001b[0;32m~/anaconda3/lib/python3.7/site-packages/hyperopt/fmin.py\u001b[0m in \u001b[0;36mserial_evaluate\u001b[0;34m(self, N)\u001b[0m\n\u001b[1;32m    139\u001b[0m                 \u001b[0mctrl\u001b[0m \u001b[0;34m=\u001b[0m \u001b[0mbase\u001b[0m\u001b[0;34m.\u001b[0m\u001b[0mCtrl\u001b[0m\u001b[0;34m(\u001b[0m\u001b[0mself\u001b[0m\u001b[0;34m.\u001b[0m\u001b[0mtrials\u001b[0m\u001b[0;34m,\u001b[0m \u001b[0mcurrent_trial\u001b[0m\u001b[0;34m=\u001b[0m\u001b[0mtrial\u001b[0m\u001b[0;34m)\u001b[0m\u001b[0;34m\u001b[0m\u001b[0;34m\u001b[0m\u001b[0m\n\u001b[1;32m    140\u001b[0m                 \u001b[0;32mtry\u001b[0m\u001b[0;34m:\u001b[0m\u001b[0;34m\u001b[0m\u001b[0;34m\u001b[0m\u001b[0m\n\u001b[0;32m--> 141\u001b[0;31m                     \u001b[0mresult\u001b[0m \u001b[0;34m=\u001b[0m \u001b[0mself\u001b[0m\u001b[0;34m.\u001b[0m\u001b[0mdomain\u001b[0m\u001b[0;34m.\u001b[0m\u001b[0mevaluate\u001b[0m\u001b[0;34m(\u001b[0m\u001b[0mspec\u001b[0m\u001b[0;34m,\u001b[0m \u001b[0mctrl\u001b[0m\u001b[0;34m)\u001b[0m\u001b[0;34m\u001b[0m\u001b[0;34m\u001b[0m\u001b[0m\n\u001b[0m\u001b[1;32m    142\u001b[0m                 \u001b[0;32mexcept\u001b[0m \u001b[0mException\u001b[0m \u001b[0;32mas\u001b[0m \u001b[0me\u001b[0m\u001b[0;34m:\u001b[0m\u001b[0;34m\u001b[0m\u001b[0;34m\u001b[0m\u001b[0m\n\u001b[1;32m    143\u001b[0m                     \u001b[0mlogger\u001b[0m\u001b[0;34m.\u001b[0m\u001b[0minfo\u001b[0m\u001b[0;34m(\u001b[0m\u001b[0;34m'job exception: %s'\u001b[0m \u001b[0;34m%\u001b[0m \u001b[0mstr\u001b[0m\u001b[0;34m(\u001b[0m\u001b[0me\u001b[0m\u001b[0;34m)\u001b[0m\u001b[0;34m)\u001b[0m\u001b[0;34m\u001b[0m\u001b[0;34m\u001b[0m\u001b[0m\n",
        "\u001b[0;32m~/anaconda3/lib/python3.7/site-packages/hyperopt/base.py\u001b[0m in \u001b[0;36mevaluate\u001b[0;34m(self, config, ctrl, attach_attachments)\u001b[0m\n\u001b[1;32m    854\u001b[0m                 \u001b[0mmemo\u001b[0m\u001b[0;34m=\u001b[0m\u001b[0mmemo\u001b[0m\u001b[0;34m,\u001b[0m\u001b[0;34m\u001b[0m\u001b[0;34m\u001b[0m\u001b[0m\n\u001b[1;32m    855\u001b[0m                 print_node_on_error=self.rec_eval_print_node_on_error)\n\u001b[0;32m--> 856\u001b[0;31m             \u001b[0mrval\u001b[0m \u001b[0;34m=\u001b[0m \u001b[0mself\u001b[0m\u001b[0;34m.\u001b[0m\u001b[0mfn\u001b[0m\u001b[0;34m(\u001b[0m\u001b[0mpyll_rval\u001b[0m\u001b[0;34m)\u001b[0m\u001b[0;34m\u001b[0m\u001b[0;34m\u001b[0m\u001b[0m\n\u001b[0m\u001b[1;32m    857\u001b[0m \u001b[0;34m\u001b[0m\u001b[0m\n\u001b[1;32m    858\u001b[0m         \u001b[0;32mif\u001b[0m \u001b[0misinstance\u001b[0m\u001b[0;34m(\u001b[0m\u001b[0mrval\u001b[0m\u001b[0;34m,\u001b[0m \u001b[0;34m(\u001b[0m\u001b[0mfloat\u001b[0m\u001b[0;34m,\u001b[0m \u001b[0mint\u001b[0m\u001b[0;34m,\u001b[0m \u001b[0mnp\u001b[0m\u001b[0;34m.\u001b[0m\u001b[0mnumber\u001b[0m\u001b[0;34m)\u001b[0m\u001b[0;34m)\u001b[0m\u001b[0;34m:\u001b[0m\u001b[0;34m\u001b[0m\u001b[0;34m\u001b[0m\u001b[0m\n",
        "\u001b[0;32m<ipython-input-11-72d9ac4e3882>\u001b[0m in \u001b[0;36mobjective\u001b[0;34m(space)\u001b[0m\n\u001b[1;32m      8\u001b[0m     ).mean()\n\u001b[1;32m      9\u001b[0m \u001b[0;34m\u001b[0m\u001b[0m\n\u001b[0;32m---> 10\u001b[0;31m     \u001b[0;32mif\u001b[0m \u001b[0mscore\u001b[0m \u001b[0;34m<\u001b[0m \u001b[0mbest_score\u001b[0m\u001b[0;34m:\u001b[0m\u001b[0;34m\u001b[0m\u001b[0;34m\u001b[0m\u001b[0m\n\u001b[0m\u001b[1;32m     11\u001b[0m         \u001b[0mbest_score\u001b[0m \u001b[0;34m=\u001b[0m \u001b[0mscore\u001b[0m\u001b[0;34m\u001b[0m\u001b[0;34m\u001b[0m\u001b[0m\n\u001b[1;32m     12\u001b[0m \u001b[0;34m\u001b[0m\u001b[0m\n",
        "\u001b[0;31mUnboundLocalError\u001b[0m: local variable 'best_score' referenced before assignment"
       ]
      }
     ],
     "persistentId": "e8174567-6ee6-4ce6-8563-394e8abfc39c",
     "text": "best = fmin(\n  objective, \n  space = xgboost_space, \n  algo = tpe.suggest, \n  max_evals = 200,\n  trials = Trials()) "
    },
    "executionTime": "2020-03-27T20:56:34.486Z"
   },
   {
    "cell": {
     "executionCount": 1,
     "executionEventId": "70c14199-4278-4b44-a7a8-6abad58cbb2d",
     "hasError": false,
     "id": "ee0ed2f3-929b-4ab9-ac7c-f7a2e73edacc",
     "outputs": [],
     "persistentId": "d60ead82-894d-4856-85ef-81e1bab7f888",
     "text": "from sklearn.datasets import make_classification\nfrom sklearn.model_selection import KFold\nfrom sklearn.model_selection import cross_val_score\nimport time\nimport numpy as np\nimport pandas as pd\nfrom hyperopt import hp, fmin, tpe, STATUS_OK, Trials\nfrom xgboost import XGBClassifier"
    },
    "executionTime": "2020-03-27T20:57:34.676Z"
   },
   {
    "cell": {
     "executionCount": 2,
     "executionEventId": "0305e039-3a0a-4439-9408-8f71a7b34be1",
     "hasError": false,
     "id": "9708f6ed-152b-4e08-a509-c33440c2155a",
     "outputs": [],
     "persistentId": "1056d6a9-43c4-49e6-a137-021b8d0a2922",
     "text": "# Make a toy dataset\nX, Y = make_classification(\n    n_samples=300,\n    n_features=25,\n    n_informative=2,\n    n_redundant=10,\n    n_classes=2,\n    random_state=8,\n)"
    },
    "executionTime": "2020-03-27T20:57:34.683Z"
   },
   {
    "cell": {
     "executionCount": 3,
     "executionEventId": "cef659bc-a9e9-49a5-be70-d824c5d34372",
     "hasError": true,
     "id": "eed29441-53e9-4fcc-997c-a35475485c53",
     "outputs": [
      {
       "name": "stdout",
       "output_type": "stream",
       "text": "  0%|          | 0/200 [00:00<?, ?it/s, best loss: ?]\n"
      },
      {
       "ename": "UnboundLocalError",
       "evalue": "local variable 'best_score' referenced before assignment",
       "output_type": "error",
       "traceback": [
        "\u001b[0;31m---------------------------------------------------------------------------\u001b[0m",
        "\u001b[0;31mUnboundLocalError\u001b[0m                         Traceback (most recent call last)",
        "\u001b[0;32m<ipython-input-3-ce207ca29535>\u001b[0m in \u001b[0;36m<module>\u001b[0;34m\u001b[0m\n\u001b[1;32m     30\u001b[0m   \u001b[0malgo\u001b[0m \u001b[0;34m=\u001b[0m \u001b[0mtpe\u001b[0m\u001b[0;34m.\u001b[0m\u001b[0msuggest\u001b[0m\u001b[0;34m,\u001b[0m\u001b[0;34m\u001b[0m\u001b[0;34m\u001b[0m\u001b[0m\n\u001b[1;32m     31\u001b[0m   \u001b[0mmax_evals\u001b[0m \u001b[0;34m=\u001b[0m \u001b[0;36m200\u001b[0m\u001b[0;34m,\u001b[0m\u001b[0;34m\u001b[0m\u001b[0;34m\u001b[0m\u001b[0m\n\u001b[0;32m---> 32\u001b[0;31m   trials = Trials())\n\u001b[0m\u001b[1;32m     33\u001b[0m \u001b[0;34m\u001b[0m\u001b[0m\n\u001b[1;32m     34\u001b[0m \u001b[0mprint\u001b[0m\u001b[0;34m(\u001b[0m\u001b[0;34m\"Hyperopt search took %.2f seconds for 200 candidates\"\u001b[0m \u001b[0;34m%\u001b[0m \u001b[0;34m(\u001b[0m\u001b[0;34m(\u001b[0m\u001b[0mtime\u001b[0m\u001b[0;34m.\u001b[0m\u001b[0mtime\u001b[0m\u001b[0;34m(\u001b[0m\u001b[0;34m)\u001b[0m \u001b[0;34m-\u001b[0m \u001b[0mstart\u001b[0m\u001b[0;34m)\u001b[0m\u001b[0;34m)\u001b[0m\u001b[0;34m)\u001b[0m\u001b[0;34m\u001b[0m\u001b[0;34m\u001b[0m\u001b[0m\n",
        "\u001b[0;32m~/anaconda3/lib/python3.7/site-packages/hyperopt/fmin.py\u001b[0m in \u001b[0;36mfmin\u001b[0;34m(fn, space, algo, max_evals, trials, rstate, allow_trials_fmin, pass_expr_memo_ctrl, catch_eval_exceptions, verbose, return_argmin, points_to_evaluate, max_queue_len, show_progressbar)\u001b[0m\n\u001b[1;32m    401\u001b[0m             \u001b[0mcatch_eval_exceptions\u001b[0m\u001b[0;34m=\u001b[0m\u001b[0mcatch_eval_exceptions\u001b[0m\u001b[0;34m,\u001b[0m\u001b[0;34m\u001b[0m\u001b[0;34m\u001b[0m\u001b[0m\n\u001b[1;32m    402\u001b[0m             \u001b[0mreturn_argmin\u001b[0m\u001b[0;34m=\u001b[0m\u001b[0mreturn_argmin\u001b[0m\u001b[0;34m,\u001b[0m\u001b[0;34m\u001b[0m\u001b[0;34m\u001b[0m\u001b[0m\n\u001b[0;32m--> 403\u001b[0;31m             \u001b[0mshow_progressbar\u001b[0m\u001b[0;34m=\u001b[0m\u001b[0mshow_progressbar\u001b[0m\u001b[0;34m,\u001b[0m\u001b[0;34m\u001b[0m\u001b[0;34m\u001b[0m\u001b[0m\n\u001b[0m\u001b[1;32m    404\u001b[0m         )\n\u001b[1;32m    405\u001b[0m \u001b[0;34m\u001b[0m\u001b[0m\n",
        "\u001b[0;32m~/anaconda3/lib/python3.7/site-packages/hyperopt/base.py\u001b[0m in \u001b[0;36mfmin\u001b[0;34m(self, fn, space, algo, max_evals, max_queue_len, rstate, verbose, pass_expr_memo_ctrl, catch_eval_exceptions, return_argmin, show_progressbar)\u001b[0m\n\u001b[1;32m    649\u001b[0m             \u001b[0mcatch_eval_exceptions\u001b[0m\u001b[0;34m=\u001b[0m\u001b[0mcatch_eval_exceptions\u001b[0m\u001b[0;34m,\u001b[0m\u001b[0;34m\u001b[0m\u001b[0;34m\u001b[0m\u001b[0m\n\u001b[1;32m    650\u001b[0m             \u001b[0mreturn_argmin\u001b[0m\u001b[0;34m=\u001b[0m\u001b[0mreturn_argmin\u001b[0m\u001b[0;34m,\u001b[0m\u001b[0;34m\u001b[0m\u001b[0;34m\u001b[0m\u001b[0m\n\u001b[0;32m--> 651\u001b[0;31m             show_progressbar=show_progressbar)\n\u001b[0m\u001b[1;32m    652\u001b[0m \u001b[0;34m\u001b[0m\u001b[0m\n\u001b[1;32m    653\u001b[0m \u001b[0;34m\u001b[0m\u001b[0m\n",
        "\u001b[0;32m~/anaconda3/lib/python3.7/site-packages/hyperopt/fmin.py\u001b[0m in \u001b[0;36mfmin\u001b[0;34m(fn, space, algo, max_evals, trials, rstate, allow_trials_fmin, pass_expr_memo_ctrl, catch_eval_exceptions, verbose, return_argmin, points_to_evaluate, max_queue_len, show_progressbar)\u001b[0m\n\u001b[1;32m    420\u001b[0m                     show_progressbar=show_progressbar)\n\u001b[1;32m    421\u001b[0m     \u001b[0mrval\u001b[0m\u001b[0;34m.\u001b[0m\u001b[0mcatch_eval_exceptions\u001b[0m \u001b[0;34m=\u001b[0m \u001b[0mcatch_eval_exceptions\u001b[0m\u001b[0;34m\u001b[0m\u001b[0;34m\u001b[0m\u001b[0m\n\u001b[0;32m--> 422\u001b[0;31m     \u001b[0mrval\u001b[0m\u001b[0;34m.\u001b[0m\u001b[0mexhaust\u001b[0m\u001b[0;34m(\u001b[0m\u001b[0;34m)\u001b[0m\u001b[0;34m\u001b[0m\u001b[0;34m\u001b[0m\u001b[0m\n\u001b[0m\u001b[1;32m    423\u001b[0m     \u001b[0;32mif\u001b[0m \u001b[0mreturn_argmin\u001b[0m\u001b[0;34m:\u001b[0m\u001b[0;34m\u001b[0m\u001b[0;34m\u001b[0m\u001b[0m\n\u001b[1;32m    424\u001b[0m         \u001b[0;32mif\u001b[0m \u001b[0mlen\u001b[0m\u001b[0;34m(\u001b[0m\u001b[0mtrials\u001b[0m\u001b[0;34m.\u001b[0m\u001b[0mtrials\u001b[0m\u001b[0;34m)\u001b[0m \u001b[0;34m==\u001b[0m \u001b[0;36m0\u001b[0m\u001b[0;34m:\u001b[0m\u001b[0;34m\u001b[0m\u001b[0;34m\u001b[0m\u001b[0m\n",
        "\u001b[0;32m~/anaconda3/lib/python3.7/site-packages/hyperopt/fmin.py\u001b[0m in \u001b[0;36mexhaust\u001b[0;34m(self)\u001b[0m\n\u001b[1;32m    274\u001b[0m     \u001b[0;32mdef\u001b[0m \u001b[0mexhaust\u001b[0m\u001b[0;34m(\u001b[0m\u001b[0mself\u001b[0m\u001b[0;34m)\u001b[0m\u001b[0;34m:\u001b[0m\u001b[0;34m\u001b[0m\u001b[0;34m\u001b[0m\u001b[0m\n\u001b[1;32m    275\u001b[0m         \u001b[0mn_done\u001b[0m \u001b[0;34m=\u001b[0m \u001b[0mlen\u001b[0m\u001b[0;34m(\u001b[0m\u001b[0mself\u001b[0m\u001b[0;34m.\u001b[0m\u001b[0mtrials\u001b[0m\u001b[0;34m)\u001b[0m\u001b[0;34m\u001b[0m\u001b[0;34m\u001b[0m\u001b[0m\n\u001b[0;32m--> 276\u001b[0;31m         \u001b[0mself\u001b[0m\u001b[0;34m.\u001b[0m\u001b[0mrun\u001b[0m\u001b[0;34m(\u001b[0m\u001b[0mself\u001b[0m\u001b[0;34m.\u001b[0m\u001b[0mmax_evals\u001b[0m \u001b[0;34m-\u001b[0m \u001b[0mn_done\u001b[0m\u001b[0;34m,\u001b[0m \u001b[0mblock_until_done\u001b[0m\u001b[0;34m=\u001b[0m\u001b[0mself\u001b[0m\u001b[0;34m.\u001b[0m\u001b[0masynchronous\u001b[0m\u001b[0;34m)\u001b[0m\u001b[0;34m\u001b[0m\u001b[0;34m\u001b[0m\u001b[0m\n\u001b[0m\u001b[1;32m    277\u001b[0m         \u001b[0mself\u001b[0m\u001b[0;34m.\u001b[0m\u001b[0mtrials\u001b[0m\u001b[0;34m.\u001b[0m\u001b[0mrefresh\u001b[0m\u001b[0;34m(\u001b[0m\u001b[0;34m)\u001b[0m\u001b[0;34m\u001b[0m\u001b[0;34m\u001b[0m\u001b[0m\n\u001b[1;32m    278\u001b[0m         \u001b[0;32mreturn\u001b[0m \u001b[0mself\u001b[0m\u001b[0;34m\u001b[0m\u001b[0;34m\u001b[0m\u001b[0m\n",
        "\u001b[0;32m~/anaconda3/lib/python3.7/site-packages/hyperopt/fmin.py\u001b[0m in \u001b[0;36mrun\u001b[0;34m(self, N, block_until_done)\u001b[0m\n\u001b[1;32m    239\u001b[0m                     \u001b[0;32melse\u001b[0m\u001b[0;34m:\u001b[0m\u001b[0;34m\u001b[0m\u001b[0;34m\u001b[0m\u001b[0m\n\u001b[1;32m    240\u001b[0m                         \u001b[0;31m# -- loop over trials and do the jobs directly\u001b[0m\u001b[0;34m\u001b[0m\u001b[0;34m\u001b[0m\u001b[0;34m\u001b[0m\u001b[0m\n\u001b[0;32m--> 241\u001b[0;31m                         \u001b[0mself\u001b[0m\u001b[0;34m.\u001b[0m\u001b[0mserial_evaluate\u001b[0m\u001b[0;34m(\u001b[0m\u001b[0;34m)\u001b[0m\u001b[0;34m\u001b[0m\u001b[0;34m\u001b[0m\u001b[0m\n\u001b[0m\u001b[1;32m    242\u001b[0m \u001b[0;34m\u001b[0m\u001b[0m\n\u001b[1;32m    243\u001b[0m                     \u001b[0;32mtry\u001b[0m\u001b[0;34m:\u001b[0m\u001b[0;34m\u001b[0m\u001b[0;34m\u001b[0m\u001b[0m\n",
        "\u001b[0;32m~/anaconda3/lib/python3.7/site-packages/hyperopt/fmin.py\u001b[0m in \u001b[0;36mserial_evaluate\u001b[0;34m(self, N)\u001b[0m\n\u001b[1;32m    139\u001b[0m                 \u001b[0mctrl\u001b[0m \u001b[0;34m=\u001b[0m \u001b[0mbase\u001b[0m\u001b[0;34m.\u001b[0m\u001b[0mCtrl\u001b[0m\u001b[0;34m(\u001b[0m\u001b[0mself\u001b[0m\u001b[0;34m.\u001b[0m\u001b[0mtrials\u001b[0m\u001b[0;34m,\u001b[0m \u001b[0mcurrent_trial\u001b[0m\u001b[0;34m=\u001b[0m\u001b[0mtrial\u001b[0m\u001b[0;34m)\u001b[0m\u001b[0;34m\u001b[0m\u001b[0;34m\u001b[0m\u001b[0m\n\u001b[1;32m    140\u001b[0m                 \u001b[0;32mtry\u001b[0m\u001b[0;34m:\u001b[0m\u001b[0;34m\u001b[0m\u001b[0;34m\u001b[0m\u001b[0m\n\u001b[0;32m--> 141\u001b[0;31m                     \u001b[0mresult\u001b[0m \u001b[0;34m=\u001b[0m \u001b[0mself\u001b[0m\u001b[0;34m.\u001b[0m\u001b[0mdomain\u001b[0m\u001b[0;34m.\u001b[0m\u001b[0mevaluate\u001b[0m\u001b[0;34m(\u001b[0m\u001b[0mspec\u001b[0m\u001b[0;34m,\u001b[0m \u001b[0mctrl\u001b[0m\u001b[0;34m)\u001b[0m\u001b[0;34m\u001b[0m\u001b[0;34m\u001b[0m\u001b[0m\n\u001b[0m\u001b[1;32m    142\u001b[0m                 \u001b[0;32mexcept\u001b[0m \u001b[0mException\u001b[0m \u001b[0;32mas\u001b[0m \u001b[0me\u001b[0m\u001b[0;34m:\u001b[0m\u001b[0;34m\u001b[0m\u001b[0;34m\u001b[0m\u001b[0m\n\u001b[1;32m    143\u001b[0m                     \u001b[0mlogger\u001b[0m\u001b[0;34m.\u001b[0m\u001b[0minfo\u001b[0m\u001b[0;34m(\u001b[0m\u001b[0;34m'job exception: %s'\u001b[0m \u001b[0;34m%\u001b[0m \u001b[0mstr\u001b[0m\u001b[0;34m(\u001b[0m\u001b[0me\u001b[0m\u001b[0;34m)\u001b[0m\u001b[0;34m)\u001b[0m\u001b[0;34m\u001b[0m\u001b[0;34m\u001b[0m\u001b[0m\n",
        "\u001b[0;32m~/anaconda3/lib/python3.7/site-packages/hyperopt/base.py\u001b[0m in \u001b[0;36mevaluate\u001b[0;34m(self, config, ctrl, attach_attachments)\u001b[0m\n\u001b[1;32m    854\u001b[0m                 \u001b[0mmemo\u001b[0m\u001b[0;34m=\u001b[0m\u001b[0mmemo\u001b[0m\u001b[0;34m,\u001b[0m\u001b[0;34m\u001b[0m\u001b[0;34m\u001b[0m\u001b[0m\n\u001b[1;32m    855\u001b[0m                 print_node_on_error=self.rec_eval_print_node_on_error)\n\u001b[0;32m--> 856\u001b[0;31m             \u001b[0mrval\u001b[0m \u001b[0;34m=\u001b[0m \u001b[0mself\u001b[0m\u001b[0;34m.\u001b[0m\u001b[0mfn\u001b[0m\u001b[0;34m(\u001b[0m\u001b[0mpyll_rval\u001b[0m\u001b[0;34m)\u001b[0m\u001b[0;34m\u001b[0m\u001b[0;34m\u001b[0m\u001b[0m\n\u001b[0m\u001b[1;32m    857\u001b[0m \u001b[0;34m\u001b[0m\u001b[0m\n\u001b[1;32m    858\u001b[0m         \u001b[0;32mif\u001b[0m \u001b[0misinstance\u001b[0m\u001b[0;34m(\u001b[0m\u001b[0mrval\u001b[0m\u001b[0;34m,\u001b[0m \u001b[0;34m(\u001b[0m\u001b[0mfloat\u001b[0m\u001b[0;34m,\u001b[0m \u001b[0mint\u001b[0m\u001b[0;34m,\u001b[0m \u001b[0mnp\u001b[0m\u001b[0;34m.\u001b[0m\u001b[0mnumber\u001b[0m\u001b[0;34m)\u001b[0m\u001b[0;34m)\u001b[0m\u001b[0;34m:\u001b[0m\u001b[0;34m\u001b[0m\u001b[0;34m\u001b[0m\u001b[0m\n",
        "\u001b[0;32m<ipython-input-3-ce207ca29535>\u001b[0m in \u001b[0;36mobjective\u001b[0;34m(space)\u001b[0m\n\u001b[1;32m     18\u001b[0m     \u001b[0mscore\u001b[0m \u001b[0;34m=\u001b[0m \u001b[0;34m-\u001b[0m\u001b[0mcross_val_score\u001b[0m\u001b[0;34m(\u001b[0m\u001b[0mmodel\u001b[0m\u001b[0;34m,\u001b[0m \u001b[0mX\u001b[0m\u001b[0;34m,\u001b[0m \u001b[0mY\u001b[0m\u001b[0;34m,\u001b[0m \u001b[0mcv\u001b[0m\u001b[0;34m=\u001b[0m\u001b[0mkfold\u001b[0m\u001b[0;34m,\u001b[0m \u001b[0mscoring\u001b[0m\u001b[0;34m=\u001b[0m\u001b[0;34m'neg_log_loss'\u001b[0m\u001b[0;34m,\u001b[0m \u001b[0mverbose\u001b[0m\u001b[0;34m=\u001b[0m\u001b[0;32mFalse\u001b[0m\u001b[0;34m)\u001b[0m\u001b[0;34m.\u001b[0m\u001b[0mmean\u001b[0m\u001b[0;34m(\u001b[0m\u001b[0;34m)\u001b[0m\u001b[0;34m\u001b[0m\u001b[0;34m\u001b[0m\u001b[0m\n\u001b[1;32m     19\u001b[0m \u001b[0;34m\u001b[0m\u001b[0m\n\u001b[0;32m---> 20\u001b[0;31m     \u001b[0;32mif\u001b[0m \u001b[0;34m(\u001b[0m\u001b[0mscore\u001b[0m \u001b[0;34m<\u001b[0m \u001b[0mbest_score\u001b[0m\u001b[0;34m)\u001b[0m\u001b[0;34m:\u001b[0m\u001b[0;34m\u001b[0m\u001b[0;34m\u001b[0m\u001b[0m\n\u001b[0m\u001b[1;32m     21\u001b[0m         \u001b[0mbest_score\u001b[0m \u001b[0;34m=\u001b[0m \u001b[0mscore\u001b[0m\u001b[0;34m\u001b[0m\u001b[0;34m\u001b[0m\u001b[0m\n\u001b[1;32m     22\u001b[0m \u001b[0;34m\u001b[0m\u001b[0m\n",
        "\u001b[0;31mUnboundLocalError\u001b[0m: local variable 'best_score' referenced before assignment"
       ]
      }
     ],
     "persistentId": "e6746755-3f43-48da-b7d8-617bf323bee0",
     "text": "# Declare xgboost search space for Hyperopt\nxgboost_space={\n            'max_depth': hp.choice('x_max_depth',[2,3,4,5,6]),\n            'min_child_weight':hp.choice('x_min_child_weight',np.round(np.arange(0.0,0.2,0.01),5)),\n            'learning_rate':hp.choice('x_learning_rate',np.round(np.arange(0.005,0.3,0.01),5)),\n            'subsample':hp.choice('x_subsample',np.round(np.arange(0.1,1.0,0.05),5)),\n            'colsample_bylevel':hp.choice('x_colsample_bylevel',np.round(np.arange(0.1,1.0,0.05),5)),\n            'colsample_bytree':hp.choice('x_colsample_bytree',np.round(np.arange(0.1,1.0,0.05),5)),\n            'n_estimators':hp.choice('x_n_estimators',np.arange(25,100,5))\n            }\n\nbest_score = 1.0\n\ndef objective(space):\n    \n    model = XGBClassifier(**space, n_jobs=-1)   \n    kfold = KFold(n_splits=3, random_state=1985, shuffle=True)\n    score = -cross_val_score(model, X, Y, cv=kfold, scoring='neg_log_loss', verbose=False).mean()\n    \n    if (score < best_score):\n        best_score = score\n    \n    return score\n\nstart = time.time()\n\nbest = fmin(\n  objective, \n  space = xgboost_space, \n  algo = tpe.suggest, \n  max_evals = 200,\n  trials = Trials())\n\nprint(\"Hyperopt search took %.2f seconds for 200 candidates\" % ((time.time() - start)))\nprint(\"Best score: %.2f \" % (-best_score))\nPrint(\"Best space: \", best)            "
    },
    "executionTime": "2020-03-27T20:57:34.967Z"
   },
   {
    "cell": {
     "executionCount": 1,
     "executionEventId": "925a2088-5635-4350-b0d5-a35b74fe7d33",
     "hasError": false,
     "id": "ee0ed2f3-929b-4ab9-ac7c-f7a2e73edacc",
     "outputs": [],
     "persistentId": "d60ead82-894d-4856-85ef-81e1bab7f888",
     "text": "from sklearn.datasets import make_classification\nfrom sklearn.model_selection import KFold\nfrom sklearn.model_selection import cross_val_score\nimport time\nimport numpy as np\nimport pandas as pd\nfrom hyperopt import hp, fmin, tpe, STATUS_OK, Trials\nfrom xgboost import XGBClassifier"
    },
    "executionTime": "2020-03-27T21:00:26.219Z"
   },
   {
    "cell": {
     "executionCount": 2,
     "executionEventId": "e889f59d-58d9-4893-9ba4-7d95be9cd2b2",
     "hasError": false,
     "id": "9708f6ed-152b-4e08-a509-c33440c2155a",
     "outputs": [],
     "persistentId": "1056d6a9-43c4-49e6-a137-021b8d0a2922",
     "text": "# Make a toy dataset\nX, Y = make_classification(\n    n_samples=300,\n    n_features=25,\n    n_informative=2,\n    n_redundant=10,\n    n_classes=2,\n    random_state=8,\n)"
    },
    "executionTime": "2020-03-27T21:00:26.229Z"
   },
   {
    "cell": {
     "executionCount": 3,
     "executionEventId": "cb7ede0d-5d99-4f49-b471-ce12f74a5301",
     "hasError": true,
     "id": "eed29441-53e9-4fcc-997c-a35475485c53",
     "outputs": [
      {
       "name": "stdout",
       "output_type": "stream",
       "text": "100%|██████████| 200/200 [00:13<00:00, 14.56it/s, best loss: 0.21465742682882896]\nHyperopt search took 13.77 seconds for 200 candidates\nBest score: -0.21 \n"
      },
      {
       "ename": "NameError",
       "evalue": "name 'Print' is not defined",
       "output_type": "error",
       "traceback": [
        "\u001b[0;31m---------------------------------------------------------------------------\u001b[0m",
        "\u001b[0;31mNameError\u001b[0m                                 Traceback (most recent call last)",
        "\u001b[0;32m<ipython-input-3-11e7649580bc>\u001b[0m in \u001b[0;36m<module>\u001b[0;34m\u001b[0m\n\u001b[1;32m     37\u001b[0m \u001b[0mprint\u001b[0m\u001b[0;34m(\u001b[0m\u001b[0;34m\"Hyperopt search took %.2f seconds for 200 candidates\"\u001b[0m \u001b[0;34m%\u001b[0m \u001b[0;34m(\u001b[0m\u001b[0;34m(\u001b[0m\u001b[0mtime\u001b[0m\u001b[0;34m.\u001b[0m\u001b[0mtime\u001b[0m\u001b[0;34m(\u001b[0m\u001b[0;34m)\u001b[0m \u001b[0;34m-\u001b[0m \u001b[0mstart\u001b[0m\u001b[0;34m)\u001b[0m\u001b[0;34m)\u001b[0m\u001b[0;34m)\u001b[0m\u001b[0;34m\u001b[0m\u001b[0;34m\u001b[0m\u001b[0m\n\u001b[1;32m     38\u001b[0m \u001b[0mprint\u001b[0m\u001b[0;34m(\u001b[0m\u001b[0;34m\"Best score: %.2f \"\u001b[0m \u001b[0;34m%\u001b[0m \u001b[0;34m(\u001b[0m\u001b[0;34m-\u001b[0m\u001b[0mbest_score\u001b[0m\u001b[0;34m)\u001b[0m\u001b[0;34m)\u001b[0m\u001b[0;34m\u001b[0m\u001b[0;34m\u001b[0m\u001b[0m\n\u001b[0;32m---> 39\u001b[0;31m \u001b[0mPrint\u001b[0m\u001b[0;34m(\u001b[0m\u001b[0;34m\"Best space: \"\u001b[0m\u001b[0;34m,\u001b[0m \u001b[0mbest\u001b[0m\u001b[0;34m)\u001b[0m\u001b[0;34m\u001b[0m\u001b[0;34m\u001b[0m\u001b[0m\n\u001b[0m",
        "\u001b[0;31mNameError\u001b[0m: name 'Print' is not defined"
       ]
      }
     ],
     "persistentId": "e6746755-3f43-48da-b7d8-617bf323bee0",
     "text": "# Declare xgboost search space for Hyperopt\nxgboost_space={\n            'max_depth': hp.choice('x_max_depth',[2,3,4,5,6]),\n            'min_child_weight':hp.choice('x_min_child_weight',np.round(np.arange(0.0,0.2,0.01),5)),\n            'learning_rate':hp.choice('x_learning_rate',np.round(np.arange(0.005,0.3,0.01),5)),\n            'subsample':hp.choice('x_subsample',np.round(np.arange(0.1,1.0,0.05),5)),\n            'colsample_bylevel':hp.choice('x_colsample_bylevel',np.round(np.arange(0.1,1.0,0.05),5)),\n            'colsample_bytree':hp.choice('x_colsample_bytree',np.round(np.arange(0.1,1.0,0.05),5)),\n            'n_estimators':hp.choice('x_n_estimators',np.arange(25,100,5))\n            }\n\n\n# The objective function\nbest_score = 1.0\n\ndef objective(space):\n    \n    global best_score\n    model = XGBClassifier(**space, n_jobs=-1)   \n    kfold = KFold(n_splits=3, random_state=1985, shuffle=True)\n    score = -cross_val_score(model, X, Y, cv=kfold, scoring='neg_log_loss', verbose=False).mean()\n    \n    if (score < best_score):\n        best_score = score\n    \n    return score\n\nstart = time.time()\n\nbest = fmin(\n  objective, \n  space = xgboost_space, \n  algo = tpe.suggest, \n  max_evals = 200,\n  trials = Trials())\n\nprint(\"Hyperopt search took %.2f seconds for 200 candidates\" % ((time.time() - start)))\nprint(\"Best score: %.2f \" % (-best_score))\nPrint(\"Best space: \", best)            "
    },
    "executionTime": "2020-03-27T21:00:40.194Z"
   },
   {
    "cell": {
     "executionCount": 4,
     "executionEventId": "61b7f0a4-5c08-425c-a956-d9e2e9d6c5b1",
     "hasError": false,
     "id": "eed29441-53e9-4fcc-997c-a35475485c53",
     "outputs": [
      {
       "name": "stdout",
       "output_type": "stream",
       "text": "100%|██████████| 200/200 [00:14<00:00, 13.42it/s, best loss: 0.22053728017024699]\nHyperopt search took 14.93 seconds for 200 candidates\nBest score: -0.22 \nBest space:  {'x_colsample_bylevel': 6, 'x_colsample_bytree': 7, 'x_learning_rate': 8, 'x_max_depth': 3, 'x_min_child_weight': 4, 'x_n_estimators': 10, 'x_subsample': 7}\n"
      }
     ],
     "persistentId": "e6746755-3f43-48da-b7d8-617bf323bee0",
     "text": "# Declare xgboost search space for Hyperopt\nxgboost_space={\n            'max_depth': hp.choice('x_max_depth',[2,3,4,5,6]),\n            'min_child_weight':hp.choice('x_min_child_weight',np.round(np.arange(0.0,0.2,0.01),5)),\n            'learning_rate':hp.choice('x_learning_rate',np.round(np.arange(0.005,0.3,0.01),5)),\n            'subsample':hp.choice('x_subsample',np.round(np.arange(0.1,1.0,0.05),5)),\n            'colsample_bylevel':hp.choice('x_colsample_bylevel',np.round(np.arange(0.1,1.0,0.05),5)),\n            'colsample_bytree':hp.choice('x_colsample_bytree',np.round(np.arange(0.1,1.0,0.05),5)),\n            'n_estimators':hp.choice('x_n_estimators',np.arange(25,100,5))\n            }\n\n\n# The objective function\nbest_score = 1.0\n\ndef objective(space):\n    \n    global best_score\n    model = XGBClassifier(**space, n_jobs=-1)   \n    kfold = KFold(n_splits=3, random_state=1985, shuffle=True)\n    score = -cross_val_score(model, X, Y, cv=kfold, scoring='neg_log_loss', verbose=False).mean()\n    \n    if (score < best_score):\n        best_score = score\n    \n    return score\n\nstart = time.time()\n\nbest = fmin(\n  objective, \n  space = xgboost_space, \n  algo = tpe.suggest, \n  max_evals = 200,\n  trials = Trials())\n\nprint(\"Hyperopt search took %.2f seconds for 200 candidates\" % ((time.time() - start)))\nprint(\"Best score: %.2f \" % (-best_score))\nprint(\"Best space: \", best)            "
    },
    "executionTime": "2020-03-27T21:01:23.660Z"
   },
   {
    "cell": {
     "executionCount": 5,
     "executionEventId": "9a53d5e5-508a-4fa3-afe1-ec7413c4cd93",
     "hasError": false,
     "id": "8d103a7e-4c40-4846-bf39-bab8fe8a4e4f",
     "outputs": [
      {
       "data": {
        "text/plain": "{'x_colsample_bylevel': 6,\n 'x_colsample_bytree': 7,\n 'x_learning_rate': 8,\n 'x_max_depth': 3,\n 'x_min_child_weight': 4,\n 'x_n_estimators': 10,\n 'x_subsample': 7}"
       },
       "execution_count": 5,
       "metadata": {},
       "output_type": "execute_result"
      }
     ],
     "persistentId": "ac458ce9-d5bf-4aee-8984-e0334915043a",
     "text": "best"
    },
    "executionTime": "2020-03-27T21:02:17.847Z"
   },
   {
    "cell": {
     "executionCount": 6,
     "executionEventId": "fd909c1e-3b5d-4965-a955-d2d877a00e31",
     "hasError": false,
     "id": "8d103a7e-4c40-4846-bf39-bab8fe8a4e4f",
     "outputs": [
      {
       "data": {
        "text/plain": "{'x_colsample_bylevel': 6,\n 'x_colsample_bytree': 7,\n 'x_learning_rate': 8,\n 'x_max_depth': 3,\n 'x_min_child_weight': 4,\n 'x_n_estimators': 10,\n 'x_subsample': 7}"
       },
       "execution_count": 6,
       "metadata": {},
       "output_type": "execute_result"
      }
     ],
     "persistentId": "ac458ce9-d5bf-4aee-8984-e0334915043a",
     "text": "best"
    },
    "executionTime": "2020-03-27T21:02:25.471Z"
   },
   {
    "cell": {
     "executionCount": 1,
     "executionEventId": "0bb2d0b3-de93-4397-9829-f593851edffc",
     "hasError": false,
     "id": "7fe6033b-e461-4f99-8bd6-9ed220e366db",
     "outputs": [],
     "persistentId": "d60ead82-894d-4856-85ef-81e1bab7f888",
     "text": "from sklearn.datasets import make_classification\nfrom sklearn.model_selection import KFold\nfrom sklearn.model_selection import cross_val_score\nimport time\nimport numpy as np\nimport pandas as pd\nfrom hyperopt import hp, fmin, tpe, STATUS_OK, Trials\nfrom xgboost import XGBClassifier"
    },
    "executionTime": "2020-03-27T21:05:04.099Z"
   },
   {
    "cell": {
     "executionCount": 2,
     "executionEventId": "6f20cd0f-47c1-469b-96cd-58d0d449666f",
     "hasError": false,
     "id": "80b2de39-eb28-4aeb-8067-6b808ba05456",
     "outputs": [],
     "persistentId": "1056d6a9-43c4-49e6-a137-021b8d0a2922",
     "text": "# Make a toy dataset\nX, Y = make_classification(\n    n_samples=300,\n    n_features=25,\n    n_informative=2,\n    n_redundant=10,\n    n_classes=2,\n    random_state=8,\n)"
    },
    "executionTime": "2020-03-27T21:05:04.132Z"
   },
   {
    "cell": {
     "executionCount": 3,
     "executionEventId": "3cc9d447-0221-4ce3-a266-ee159671941b",
     "hasError": false,
     "id": "782498c7-f1f3-4776-8bdc-c9817f92c629",
     "outputs": [
      {
       "name": "stdout",
       "output_type": "stream",
       "text": "100%|██████████| 200/200 [00:19<00:00, 10.20it/s, best loss: 0.21714203127038978]\nHyperopt search took 19.63 seconds for 200 candidates\nBest score: -0.22 \nBest space:  {'colsample_bylevel': 0, 'colsample_bytree': 12, 'learning_rate': 14, 'max_depth': 1, 'min_child_weight': 16, 'n_estimators': 13, 'subsample': 8}\n"
      }
     ],
     "persistentId": "e6746755-3f43-48da-b7d8-617bf323bee0",
     "text": "# Declare xgboost search space for Hyperopt\nxgboost_space={\n            'max_depth': hp.choice('max_depth',[2,3,4,5,6]),\n            'min_child_weight':hp.choice('min_child_weight',np.round(np.arange(0.0,0.2,0.01),5)),\n            'learning_rate':hp.choice('learning_rate',np.round(np.arange(0.005,0.3,0.01),5)),\n            'subsample':hp.choice('subsample',np.round(np.arange(0.1,1.0,0.05),5)),\n            'colsample_bylevel':hp.choice('colsample_bylevel',np.round(np.arange(0.1,1.0,0.05),5)),\n            'colsample_bytree':hp.choice('colsample_bytree',np.round(np.arange(0.1,1.0,0.05),5)),\n            'n_estimators':hp.choice('n_estimators',np.arange(25,100,5))\n            }\n\n\n# The objective function\nbest_score = 1.0\n\ndef objective(space):\n    \n    global best_score\n    model = XGBClassifier(**space, n_jobs=-1)   \n    kfold = KFold(n_splits=3, random_state=1985, shuffle=True)\n    score = -cross_val_score(model, X, Y, cv=kfold, scoring='neg_log_loss', verbose=False).mean()\n    \n    if (score < best_score):\n        best_score = score\n    \n    return score\n\nstart = time.time()\n\nbest = fmin(\n  objective, \n  space = xgboost_space, \n  algo = tpe.suggest, \n  max_evals = 200,\n  trials = Trials())\n\nprint(\"Hyperopt search took %.2f seconds for 200 candidates\" % ((time.time() - start)))\nprint(\"Best score: %.2f \" % (-best_score))\nprint(\"Best space: \", best)            "
    },
    "executionTime": "2020-03-27T21:05:23.810Z"
   },
   {
    "cell": {
     "executionCount": 4,
     "executionEventId": "0a003253-024c-4f6d-bcea-b2ae32f107aa",
     "hasError": false,
     "id": "d38eba9f-d350-4f2f-9beb-7e1ddf3827b9",
     "outputs": [
      {
       "data": {
        "text/plain": "{'colsample_bylevel': 0,\n 'colsample_bytree': 12,\n 'learning_rate': 14,\n 'max_depth': 1,\n 'min_child_weight': 16,\n 'n_estimators': 13,\n 'subsample': 8}"
       },
       "execution_count": 4,
       "metadata": {},
       "output_type": "execute_result"
      }
     ],
     "persistentId": "ac458ce9-d5bf-4aee-8984-e0334915043a",
     "text": "best"
    },
    "executionTime": "2020-03-27T21:05:23.835Z"
   },
   {
    "cell": {
     "executionCount": 5,
     "executionEventId": "5e8064f4-3fbc-4ad4-9ee7-07372f3d9216",
     "hasError": true,
     "id": "712ed039-6e17-4f29-9ccf-270245e36e7c",
     "outputs": [
      {
       "ename": "NameError",
       "evalue": "name 'BayesSearchCV' is not defined",
       "output_type": "error",
       "traceback": [
        "\u001b[0;31m---------------------------------------------------------------------------\u001b[0m",
        "\u001b[0;31mNameError\u001b[0m                                 Traceback (most recent call last)",
        "\u001b[0;32m<ipython-input-5-123315c74a02>\u001b[0m in \u001b[0;36m<module>\u001b[0;34m\u001b[0m\n\u001b[0;32m----> 1\u001b[0;31m bayes_opt = BayesSearchCV(\n\u001b[0m\u001b[1;32m      2\u001b[0m     estimator=XGBClassifier(\n\u001b[1;32m      3\u001b[0m         \u001b[0mn_jobs\u001b[0m\u001b[0;34m=\u001b[0m\u001b[0;34m-\u001b[0m\u001b[0;36m1\u001b[0m\u001b[0;34m,\u001b[0m\u001b[0;34m\u001b[0m\u001b[0;34m\u001b[0m\u001b[0m\n\u001b[1;32m      4\u001b[0m         \u001b[0mobjective\u001b[0m\u001b[0;34m=\u001b[0m\u001b[0;34m\"binary:logistic\"\u001b[0m\u001b[0;34m,\u001b[0m\u001b[0;34m\u001b[0m\u001b[0;34m\u001b[0m\u001b[0m\n\u001b[1;32m      5\u001b[0m         \u001b[0meval_metric\u001b[0m\u001b[0;34m=\u001b[0m\u001b[0;34m\"auc\"\u001b[0m\u001b[0;34m,\u001b[0m\u001b[0;34m\u001b[0m\u001b[0;34m\u001b[0m\u001b[0m\n",
        "\u001b[0;31mNameError\u001b[0m: name 'BayesSearchCV' is not defined"
       ]
      }
     ],
     "persistentId": "0c3d249a-ec87-4208-8437-db8991377f52",
     "text": "bayes_opt = BayesSearchCV(\n    estimator=XGBClassifier(\n        n_jobs=-1,\n        objective=\"binary:logistic\",\n        eval_metric=\"auc\",\n        silent=1,\n        tree_method=\"approx\",\n    ),\n    search_spaces={\n        \"learning_rate\": (0.01, 1.0, \"log-uniform\"),\n        \"min_child_weight\": (0, 10),\n        \"max_depth\": (0, 50),\n        \"max_delta_step\": (0, 20),\n        \"subsample\": (0.01, 1.0, \"uniform\"),\n        \"colsample_bytree\": (0.01, 1.0, \"uniform\"),\n        \"colsample_bylevel\": (0.01, 1.0, \"uniform\"),\n        \"reg_lambda\": (1e-9, 1000, \"log-uniform\"),\n        \"reg_alpha\": (1e-9, 1.0, \"log-uniform\"),\n        \"gamma\": (1e-9, 0.5, \"log-uniform\"),\n        \"min_child_weight\": (0, 5),\n        \"n_estimators\": (50, 100),\n        \"scale_pos_weight\": (1e-6, 500, \"log-uniform\"),\n    },\n    scoring=\"roc_auc\",\n    cv=StratifiedKFold(n_splits=3, shuffle=True, random_state=42),\n    n_jobs=-1,\n    n_iter=10,\n    verbose=0,\n    refit=True,\n    random_state=42,\n)"
    },
    "executionTime": "2020-03-27T21:05:51.693Z"
   },
   {
    "cell": {
     "executionCount": 6,
     "executionEventId": "79e679a1-1e83-44e3-8330-85093fa86849",
     "hasError": false,
     "id": "3c56fae8-99cd-4c71-8f70-5dd1b48e9d64",
     "outputs": [],
     "persistentId": "5e0212db-6f50-4b7d-a900-b119865b4b5a",
     "text": "from skopt import BayesSearchCV"
    },
    "executionTime": "2020-03-27T21:06:12.564Z"
   },
   {
    "cell": {
     "executionCount": 7,
     "executionEventId": "a8b0ca16-a870-4e13-952a-77ae8326b4c5",
     "hasError": true,
     "id": "712ed039-6e17-4f29-9ccf-270245e36e7c",
     "outputs": [
      {
       "ename": "NameError",
       "evalue": "name 'StratifiedKFold' is not defined",
       "output_type": "error",
       "traceback": [
        "\u001b[0;31m---------------------------------------------------------------------------\u001b[0m",
        "\u001b[0;31mNameError\u001b[0m                                 Traceback (most recent call last)",
        "\u001b[0;32m<ipython-input-7-123315c74a02>\u001b[0m in \u001b[0;36m<module>\u001b[0;34m\u001b[0m\n\u001b[1;32m     23\u001b[0m     },\n\u001b[1;32m     24\u001b[0m     \u001b[0mscoring\u001b[0m\u001b[0;34m=\u001b[0m\u001b[0;34m\"roc_auc\"\u001b[0m\u001b[0;34m,\u001b[0m\u001b[0;34m\u001b[0m\u001b[0;34m\u001b[0m\u001b[0m\n\u001b[0;32m---> 25\u001b[0;31m     \u001b[0mcv\u001b[0m\u001b[0;34m=\u001b[0m\u001b[0mStratifiedKFold\u001b[0m\u001b[0;34m(\u001b[0m\u001b[0mn_splits\u001b[0m\u001b[0;34m=\u001b[0m\u001b[0;36m3\u001b[0m\u001b[0;34m,\u001b[0m \u001b[0mshuffle\u001b[0m\u001b[0;34m=\u001b[0m\u001b[0;32mTrue\u001b[0m\u001b[0;34m,\u001b[0m \u001b[0mrandom_state\u001b[0m\u001b[0;34m=\u001b[0m\u001b[0;36m42\u001b[0m\u001b[0;34m)\u001b[0m\u001b[0;34m,\u001b[0m\u001b[0;34m\u001b[0m\u001b[0;34m\u001b[0m\u001b[0m\n\u001b[0m\u001b[1;32m     26\u001b[0m     \u001b[0mn_jobs\u001b[0m\u001b[0;34m=\u001b[0m\u001b[0;34m-\u001b[0m\u001b[0;36m1\u001b[0m\u001b[0;34m,\u001b[0m\u001b[0;34m\u001b[0m\u001b[0;34m\u001b[0m\u001b[0m\n\u001b[1;32m     27\u001b[0m     \u001b[0mn_iter\u001b[0m\u001b[0;34m=\u001b[0m\u001b[0;36m10\u001b[0m\u001b[0;34m,\u001b[0m\u001b[0;34m\u001b[0m\u001b[0;34m\u001b[0m\u001b[0m\n",
        "\u001b[0;31mNameError\u001b[0m: name 'StratifiedKFold' is not defined"
       ]
      }
     ],
     "persistentId": "0c3d249a-ec87-4208-8437-db8991377f52",
     "text": "bayes_opt = BayesSearchCV(\n    estimator=XGBClassifier(\n        n_jobs=-1,\n        objective=\"binary:logistic\",\n        eval_metric=\"auc\",\n        silent=1,\n        tree_method=\"approx\",\n    ),\n    search_spaces={\n        \"learning_rate\": (0.01, 1.0, \"log-uniform\"),\n        \"min_child_weight\": (0, 10),\n        \"max_depth\": (0, 50),\n        \"max_delta_step\": (0, 20),\n        \"subsample\": (0.01, 1.0, \"uniform\"),\n        \"colsample_bytree\": (0.01, 1.0, \"uniform\"),\n        \"colsample_bylevel\": (0.01, 1.0, \"uniform\"),\n        \"reg_lambda\": (1e-9, 1000, \"log-uniform\"),\n        \"reg_alpha\": (1e-9, 1.0, \"log-uniform\"),\n        \"gamma\": (1e-9, 0.5, \"log-uniform\"),\n        \"min_child_weight\": (0, 5),\n        \"n_estimators\": (50, 100),\n        \"scale_pos_weight\": (1e-6, 500, \"log-uniform\"),\n    },\n    scoring=\"roc_auc\",\n    cv=StratifiedKFold(n_splits=3, shuffle=True, random_state=42),\n    n_jobs=-1,\n    n_iter=10,\n    verbose=0,\n    refit=True,\n    random_state=42,\n)"
    },
    "executionTime": "2020-03-27T21:06:13.887Z"
   },
   {
    "cell": {
     "executionCount": 8,
     "executionEventId": "085a8519-8c66-4536-b658-e15eb449ce43",
     "hasError": false,
     "id": "3c56fae8-99cd-4c71-8f70-5dd1b48e9d64",
     "outputs": [],
     "persistentId": "5e0212db-6f50-4b7d-a900-b119865b4b5a",
     "text": "from skopt import BayesSearchCV\nfrom sklearn.model_selection import StratifiedKFold"
    },
    "executionTime": "2020-03-27T21:06:40.465Z"
   },
   {
    "cell": {
     "executionCount": 9,
     "executionEventId": "58471698-79dd-467b-93e5-6c29032f0c97",
     "hasError": false,
     "id": "712ed039-6e17-4f29-9ccf-270245e36e7c",
     "outputs": [],
     "persistentId": "0c3d249a-ec87-4208-8437-db8991377f52",
     "text": "bayes_opt = BayesSearchCV(\n    estimator=XGBClassifier(\n        n_jobs=-1,\n        objective=\"binary:logistic\",\n        eval_metric=\"auc\",\n        silent=1,\n        tree_method=\"approx\",\n    ),\n    search_spaces={\n        \"learning_rate\": (0.01, 1.0, \"log-uniform\"),\n        \"min_child_weight\": (0, 10),\n        \"max_depth\": (0, 50),\n        \"max_delta_step\": (0, 20),\n        \"subsample\": (0.01, 1.0, \"uniform\"),\n        \"colsample_bytree\": (0.01, 1.0, \"uniform\"),\n        \"colsample_bylevel\": (0.01, 1.0, \"uniform\"),\n        \"reg_lambda\": (1e-9, 1000, \"log-uniform\"),\n        \"reg_alpha\": (1e-9, 1.0, \"log-uniform\"),\n        \"gamma\": (1e-9, 0.5, \"log-uniform\"),\n        \"min_child_weight\": (0, 5),\n        \"n_estimators\": (50, 100),\n        \"scale_pos_weight\": (1e-6, 500, \"log-uniform\"),\n    },\n    scoring=\"roc_auc\",\n    cv=StratifiedKFold(n_splits=3, shuffle=True, random_state=42),\n    n_jobs=-1,\n    n_iter=10,\n    verbose=0,\n    refit=True,\n    random_state=42,\n)"
    },
    "executionTime": "2020-03-27T21:06:41.975Z"
   },
   {
    "cell": {
     "executionCount": 10,
     "executionEventId": "37c29bd6-44c9-4ff0-a6f8-74654396bf6a",
     "hasError": false,
     "id": "4634c7a4-151d-4231-a773-c35a493753a7",
     "outputs": [],
     "persistentId": "17429c7f-818c-43af-a3ed-764746a8a71c",
     "text": "def status_print(optim_result):\n    \"\"\"Status callback durring bayesian hyperparameter search\"\"\"\n    \n    # Get all the models tested so far in DataFrame format\n    all_models = pd.DataFrame(bayes_cv_tuner.cv_results_)    \n    \n    # Get current parameters and the best parameters    \n    best_params = pd.Series(bayes_cv_tuner.best_params_)\n    print('Model #{}\\nBest ROC-AUC: {}\\nBest params: {}\\n'.format(\n        len(all_models),\n        np.round(bayes_cv_tuner.best_score_, 4),\n        bayes_cv_tuner.best_params_\n    ))\n    \n    # Save all model results\n    clf_name = bayes_cv_tuner.estimator.__class__.__name__\n    all_models.to_csv(clf_name+\"_cv_results.csv\")"
    },
    "executionTime": "2020-03-27T21:07:00.344Z"
   },
   {
    "cell": {
     "executionCount": 11,
     "executionEventId": "f602b1ca-241d-43bc-afda-50101c24c404",
     "hasError": true,
     "id": "44da9910-df89-4de3-9734-22dcf8fbf25c",
     "outputs": [
      {
       "ename": "NameError",
       "evalue": "name 'bayes_cv_tuner' is not defined",
       "output_type": "error",
       "traceback": [
        "\u001b[0;31m---------------------------------------------------------------------------\u001b[0m",
        "\u001b[0;31mNameError\u001b[0m                                 Traceback (most recent call last)",
        "\u001b[0;32m<ipython-input-11-ed1580518069>\u001b[0m in \u001b[0;36m<module>\u001b[0;34m\u001b[0m\n\u001b[0;32m----> 1\u001b[0;31m \u001b[0mbayes_opt\u001b[0m\u001b[0;34m.\u001b[0m\u001b[0mfit\u001b[0m\u001b[0;34m(\u001b[0m\u001b[0mX\u001b[0m\u001b[0;34m,\u001b[0m \u001b[0mY\u001b[0m\u001b[0;34m,\u001b[0m \u001b[0mcallback\u001b[0m\u001b[0;34m=\u001b[0m\u001b[0mstatus_print\u001b[0m\u001b[0;34m)\u001b[0m\u001b[0;34m\u001b[0m\u001b[0;34m\u001b[0m\u001b[0m\n\u001b[0m",
        "\u001b[0;32m~/anaconda3/lib/python3.7/site-packages/skopt/searchcv.py\u001b[0m in \u001b[0;36mfit\u001b[0;34m(self, X, y, groups, callback)\u001b[0m\n\u001b[1;32m    682\u001b[0m                 \u001b[0mn_iter\u001b[0m \u001b[0;34m-=\u001b[0m \u001b[0mn_points\u001b[0m\u001b[0;34m\u001b[0m\u001b[0;34m\u001b[0m\u001b[0m\n\u001b[1;32m    683\u001b[0m \u001b[0;34m\u001b[0m\u001b[0m\n\u001b[0;32m--> 684\u001b[0;31m                 \u001b[0;32mif\u001b[0m \u001b[0meval_callbacks\u001b[0m\u001b[0;34m(\u001b[0m\u001b[0mcallbacks\u001b[0m\u001b[0;34m,\u001b[0m \u001b[0moptim_result\u001b[0m\u001b[0;34m)\u001b[0m\u001b[0;34m:\u001b[0m\u001b[0;34m\u001b[0m\u001b[0;34m\u001b[0m\u001b[0m\n\u001b[0m\u001b[1;32m    685\u001b[0m                     \u001b[0;32mbreak\u001b[0m\u001b[0;34m\u001b[0m\u001b[0;34m\u001b[0m\u001b[0m\n\u001b[1;32m    686\u001b[0m \u001b[0;34m\u001b[0m\u001b[0m\n",
        "\u001b[0;32m~/anaconda3/lib/python3.7/site-packages/skopt/utils.py\u001b[0m in \u001b[0;36meval_callbacks\u001b[0;34m(callbacks, result)\u001b[0m\n\u001b[1;32m     96\u001b[0m     \u001b[0;32mif\u001b[0m \u001b[0mcallbacks\u001b[0m\u001b[0;34m:\u001b[0m\u001b[0;34m\u001b[0m\u001b[0;34m\u001b[0m\u001b[0m\n\u001b[1;32m     97\u001b[0m         \u001b[0;32mfor\u001b[0m \u001b[0mc\u001b[0m \u001b[0;32min\u001b[0m \u001b[0mcallbacks\u001b[0m\u001b[0;34m:\u001b[0m\u001b[0;34m\u001b[0m\u001b[0;34m\u001b[0m\u001b[0m\n\u001b[0;32m---> 98\u001b[0;31m             \u001b[0mdecision\u001b[0m \u001b[0;34m=\u001b[0m \u001b[0mc\u001b[0m\u001b[0;34m(\u001b[0m\u001b[0mresult\u001b[0m\u001b[0;34m)\u001b[0m\u001b[0;34m\u001b[0m\u001b[0;34m\u001b[0m\u001b[0m\n\u001b[0m\u001b[1;32m     99\u001b[0m             \u001b[0;32mif\u001b[0m \u001b[0mdecision\u001b[0m \u001b[0;32mis\u001b[0m \u001b[0;32mnot\u001b[0m \u001b[0;32mNone\u001b[0m\u001b[0;34m:\u001b[0m\u001b[0;34m\u001b[0m\u001b[0;34m\u001b[0m\u001b[0m\n\u001b[1;32m    100\u001b[0m                 \u001b[0mstop\u001b[0m \u001b[0;34m=\u001b[0m \u001b[0mstop\u001b[0m \u001b[0;32mor\u001b[0m \u001b[0mdecision\u001b[0m\u001b[0;34m\u001b[0m\u001b[0;34m\u001b[0m\u001b[0m\n",
        "\u001b[0;32m<ipython-input-10-91db16fc984f>\u001b[0m in \u001b[0;36mstatus_print\u001b[0;34m(optim_result)\u001b[0m\n\u001b[1;32m      3\u001b[0m \u001b[0;34m\u001b[0m\u001b[0m\n\u001b[1;32m      4\u001b[0m     \u001b[0;31m# Get all the models tested so far in DataFrame format\u001b[0m\u001b[0;34m\u001b[0m\u001b[0;34m\u001b[0m\u001b[0;34m\u001b[0m\u001b[0m\n\u001b[0;32m----> 5\u001b[0;31m     \u001b[0mall_models\u001b[0m \u001b[0;34m=\u001b[0m \u001b[0mpd\u001b[0m\u001b[0;34m.\u001b[0m\u001b[0mDataFrame\u001b[0m\u001b[0;34m(\u001b[0m\u001b[0mbayes_cv_tuner\u001b[0m\u001b[0;34m.\u001b[0m\u001b[0mcv_results_\u001b[0m\u001b[0;34m)\u001b[0m\u001b[0;34m\u001b[0m\u001b[0;34m\u001b[0m\u001b[0m\n\u001b[0m\u001b[1;32m      6\u001b[0m \u001b[0;34m\u001b[0m\u001b[0m\n\u001b[1;32m      7\u001b[0m     \u001b[0;31m# Get current parameters and the best parameters\u001b[0m\u001b[0;34m\u001b[0m\u001b[0;34m\u001b[0m\u001b[0;34m\u001b[0m\u001b[0m\n",
        "\u001b[0;31mNameError\u001b[0m: name 'bayes_cv_tuner' is not defined"
       ]
      }
     ],
     "persistentId": "5a3f9050-f8a5-49bc-8c08-d733f14bbf7c",
     "text": "bayes_opt.fit(X, Y, callback=status_print)"
    },
    "executionTime": "2020-03-27T21:07:13.408Z"
   },
   {
    "cell": {
     "executionCount": 12,
     "executionEventId": "38788c2b-0885-4a2d-adc6-6c7956a92c2f",
     "hasError": false,
     "id": "4634c7a4-151d-4231-a773-c35a493753a7",
     "outputs": [],
     "persistentId": "17429c7f-818c-43af-a3ed-764746a8a71c",
     "text": "def status_print(optim_result):\n    \"\"\"Status callback durring bayesian hyperparameter search\"\"\"\n    \n    # Get all the models tested so far in DataFrame format\n    all_models = pd.DataFrame(bayes_opt.cv_results_)    \n    \n    # Get current parameters and the best parameters    \n    best_params = pd.Series(bayes_opt.best_params_)\n    print('Model #{}\\nBest ROC-AUC: {}\\nBest params: {}\\n'.format(\n        len(all_models),\n        np.round(bayes_opt.best_score_, 4),\n        bayes_opt.best_params_\n    ))\n    \n    # Save all model results\n    clf_name = bayes_opt.estimator.__class__.__name__\n    all_models.to_csv(clf_name+\"_cv_results.csv\")"
    },
    "executionTime": "2020-03-27T21:07:41.869Z"
   },
   {
    "cell": {
     "executionCount": 13,
     "executionEventId": "effe875f-05e7-45f7-80ad-7553313275b4",
     "hasError": true,
     "id": "44da9910-df89-4de3-9734-22dcf8fbf25c",
     "outputs": [
      {
       "name": "stdout",
       "output_type": "stream",
       "text": "Model #1\nBest ROC-AUC: 0.9535\nBest params: OrderedDict([('colsample_bylevel', 0.4160029192647807), ('colsample_bytree', 0.7304484857455519), ('gamma', 0.13031389926541354), ('learning_rate', 0.042815319280763466), ('max_delta_step', 13), ('max_depth', 21), ('min_child_weight', 2), ('n_estimators', 87), ('reg_alpha', 5.497557739289786e-07), ('reg_lambda', 648), ('scale_pos_weight', 275), ('subsample', 0.13556548021189216)])\n\nModel #2\nBest ROC-AUC: 0.9535\nBest params: OrderedDict([('colsample_bylevel', 0.4160029192647807), ('colsample_bytree', 0.7304484857455519), ('gamma', 0.13031389926541354), ('learning_rate', 0.042815319280763466), ('max_delta_step', 13), ('max_depth', 21), ('min_child_weight', 2), ('n_estimators', 87), ('reg_alpha', 5.497557739289786e-07), ('reg_lambda', 648), ('scale_pos_weight', 275), ('subsample', 0.13556548021189216)])\n\nModel #3\nBest ROC-AUC: 0.9535\nBest params: OrderedDict([('colsample_bylevel', 0.4160029192647807), ('colsample_bytree', 0.7304484857455519), ('gamma', 0.13031389926541354), ('learning_rate', 0.042815319280763466), ('max_delta_step', 13), ('max_depth', 21), ('min_child_weight', 2), ('n_estimators', 87), ('reg_alpha', 5.497557739289786e-07), ('reg_lambda', 648), ('scale_pos_weight', 275), ('subsample', 0.13556548021189216)])\n\nModel #4\nBest ROC-AUC: 0.9535\nBest params: OrderedDict([('colsample_bylevel', 0.4160029192647807), ('colsample_bytree', 0.7304484857455519), ('gamma', 0.13031389926541354), ('learning_rate', 0.042815319280763466), ('max_delta_step', 13), ('max_depth', 21), ('min_child_weight', 2), ('n_estimators', 87), ('reg_alpha', 5.497557739289786e-07), ('reg_lambda', 648), ('scale_pos_weight', 275), ('subsample', 0.13556548021189216)])\n\nModel #5\nBest ROC-AUC: 0.9535\nBest params: OrderedDict([('colsample_bylevel', 0.4160029192647807), ('colsample_bytree', 0.7304484857455519), ('gamma', 0.13031389926541354), ('learning_rate', 0.042815319280763466), ('max_delta_step', 13), ('max_depth', 21), ('min_child_weight', 2), ('n_estimators', 87), ('reg_alpha', 5.497557739289786e-07), ('reg_lambda', 648), ('scale_pos_weight', 275), ('subsample', 0.13556548021189216)])\n\nModel #6\nBest ROC-AUC: 0.9535\nBest params: OrderedDict([('colsample_bylevel', 0.4160029192647807), ('colsample_bytree', 0.7304484857455519), ('gamma', 0.13031389926541354), ('learning_rate', 0.042815319280763466), ('max_delta_step', 13), ('max_depth', 21), ('min_child_weight', 2), ('n_estimators', 87), ('reg_alpha', 5.497557739289786e-07), ('reg_lambda', 648), ('scale_pos_weight', 275), ('subsample', 0.13556548021189216)])\n\nModel #7\nBest ROC-AUC: 0.9535\nBest params: OrderedDict([('colsample_bylevel', 0.4160029192647807), ('colsample_bytree', 0.7304484857455519), ('gamma', 0.13031389926541354), ('learning_rate', 0.042815319280763466), ('max_delta_step', 13), ('max_depth', 21), ('min_child_weight', 2), ('n_estimators', 87), ('reg_alpha', 5.497557739289786e-07), ('reg_lambda', 648), ('scale_pos_weight', 275), ('subsample', 0.13556548021189216)])\n\nModel #8\nBest ROC-AUC: 0.9535\nBest params: OrderedDict([('colsample_bylevel', 0.4160029192647807), ('colsample_bytree', 0.7304484857455519), ('gamma', 0.13031389926541354), ('learning_rate', 0.042815319280763466), ('max_delta_step', 13), ('max_depth', 21), ('min_child_weight', 2), ('n_estimators', 87), ('reg_alpha', 5.497557739289786e-07), ('reg_lambda', 648), ('scale_pos_weight', 275), ('subsample', 0.13556548021189216)])\n\nModel #9\nBest ROC-AUC: 0.9535\nBest params: OrderedDict([('colsample_bylevel', 0.4160029192647807), ('colsample_bytree', 0.7304484857455519), ('gamma', 0.13031389926541354), ('learning_rate', 0.042815319280763466), ('max_delta_step', 13), ('max_depth', 21), ('min_child_weight', 2), ('n_estimators', 87), ('reg_alpha', 5.497557739289786e-07), ('reg_lambda', 648), ('scale_pos_weight', 275), ('subsample', 0.13556548021189216)])\n\n"
      },
      {
       "ename": "ValueError",
       "evalue": "All integer values shouldbe greater than 0.000000",
       "output_type": "error",
       "traceback": [
        "\u001b[0;31m---------------------------------------------------------------------------\u001b[0m",
        "\u001b[0;31mValueError\u001b[0m                                Traceback (most recent call last)",
        "\u001b[0;32m<ipython-input-13-ed1580518069>\u001b[0m in \u001b[0;36m<module>\u001b[0;34m\u001b[0m\n\u001b[0;32m----> 1\u001b[0;31m \u001b[0mbayes_opt\u001b[0m\u001b[0;34m.\u001b[0m\u001b[0mfit\u001b[0m\u001b[0;34m(\u001b[0m\u001b[0mX\u001b[0m\u001b[0;34m,\u001b[0m \u001b[0mY\u001b[0m\u001b[0;34m,\u001b[0m \u001b[0mcallback\u001b[0m\u001b[0;34m=\u001b[0m\u001b[0mstatus_print\u001b[0m\u001b[0;34m)\u001b[0m\u001b[0;34m\u001b[0m\u001b[0;34m\u001b[0m\u001b[0m\n\u001b[0m",
        "\u001b[0;32m~/anaconda3/lib/python3.7/site-packages/skopt/searchcv.py\u001b[0m in \u001b[0;36mfit\u001b[0;34m(self, X, y, groups, callback)\u001b[0m\n\u001b[1;32m    678\u001b[0m                 optim_result = self._step(\n\u001b[1;32m    679\u001b[0m                     \u001b[0mX\u001b[0m\u001b[0;34m,\u001b[0m \u001b[0my\u001b[0m\u001b[0;34m,\u001b[0m \u001b[0msearch_space\u001b[0m\u001b[0;34m,\u001b[0m \u001b[0moptimizer\u001b[0m\u001b[0;34m,\u001b[0m\u001b[0;34m\u001b[0m\u001b[0;34m\u001b[0m\u001b[0m\n\u001b[0;32m--> 680\u001b[0;31m                     \u001b[0mgroups\u001b[0m\u001b[0;34m=\u001b[0m\u001b[0mgroups\u001b[0m\u001b[0;34m,\u001b[0m \u001b[0mn_points\u001b[0m\u001b[0;34m=\u001b[0m\u001b[0mn_points_adjusted\u001b[0m\u001b[0;34m\u001b[0m\u001b[0;34m\u001b[0m\u001b[0m\n\u001b[0m\u001b[1;32m    681\u001b[0m                 )\n\u001b[1;32m    682\u001b[0m                 \u001b[0mn_iter\u001b[0m \u001b[0;34m-=\u001b[0m \u001b[0mn_points\u001b[0m\u001b[0;34m\u001b[0m\u001b[0;34m\u001b[0m\u001b[0m\n",
        "\u001b[0;32m~/anaconda3/lib/python3.7/site-packages/skopt/searchcv.py\u001b[0m in \u001b[0;36m_step\u001b[0;34m(self, X, y, search_space, optimizer, groups, n_points)\u001b[0m\n\u001b[1;32m    550\u001b[0m \u001b[0;34m\u001b[0m\u001b[0m\n\u001b[1;32m    551\u001b[0m         \u001b[0;31m# get parameter values to evaluate\u001b[0m\u001b[0;34m\u001b[0m\u001b[0;34m\u001b[0m\u001b[0;34m\u001b[0m\u001b[0m\n\u001b[0;32m--> 552\u001b[0;31m         \u001b[0mparams\u001b[0m \u001b[0;34m=\u001b[0m \u001b[0moptimizer\u001b[0m\u001b[0;34m.\u001b[0m\u001b[0mask\u001b[0m\u001b[0;34m(\u001b[0m\u001b[0mn_points\u001b[0m\u001b[0;34m=\u001b[0m\u001b[0mn_points\u001b[0m\u001b[0;34m)\u001b[0m\u001b[0;34m\u001b[0m\u001b[0;34m\u001b[0m\u001b[0m\n\u001b[0m\u001b[1;32m    553\u001b[0m \u001b[0;34m\u001b[0m\u001b[0m\n\u001b[1;32m    554\u001b[0m         \u001b[0;31m# convert parameters to python native types\u001b[0m\u001b[0;34m\u001b[0m\u001b[0;34m\u001b[0m\u001b[0;34m\u001b[0m\u001b[0m\n",
        "\u001b[0;32m~/anaconda3/lib/python3.7/site-packages/skopt/optimizer/optimizer.py\u001b[0m in \u001b[0;36mask\u001b[0;34m(self, n_points, strategy)\u001b[0m\n\u001b[1;32m    380\u001b[0m                 \u001b[0mopt\u001b[0m\u001b[0;34m.\u001b[0m\u001b[0m_tell\u001b[0m\u001b[0;34m(\u001b[0m\u001b[0mx\u001b[0m\u001b[0;34m,\u001b[0m \u001b[0;34m(\u001b[0m\u001b[0my_lie\u001b[0m\u001b[0;34m,\u001b[0m \u001b[0mt_lie\u001b[0m\u001b[0;34m)\u001b[0m\u001b[0;34m)\u001b[0m\u001b[0;34m\u001b[0m\u001b[0;34m\u001b[0m\u001b[0m\n\u001b[1;32m    381\u001b[0m             \u001b[0;32melse\u001b[0m\u001b[0;34m:\u001b[0m\u001b[0;34m\u001b[0m\u001b[0;34m\u001b[0m\u001b[0m\n\u001b[0;32m--> 382\u001b[0;31m                 \u001b[0mopt\u001b[0m\u001b[0;34m.\u001b[0m\u001b[0m_tell\u001b[0m\u001b[0;34m(\u001b[0m\u001b[0mx\u001b[0m\u001b[0;34m,\u001b[0m \u001b[0my_lie\u001b[0m\u001b[0;34m)\u001b[0m\u001b[0;34m\u001b[0m\u001b[0;34m\u001b[0m\u001b[0m\n\u001b[0m\u001b[1;32m    383\u001b[0m \u001b[0;34m\u001b[0m\u001b[0m\n\u001b[1;32m    384\u001b[0m         \u001b[0mself\u001b[0m\u001b[0;34m.\u001b[0m\u001b[0mcache_\u001b[0m \u001b[0;34m=\u001b[0m \u001b[0;34m{\u001b[0m\u001b[0;34m(\u001b[0m\u001b[0mn_points\u001b[0m\u001b[0;34m,\u001b[0m \u001b[0mstrategy\u001b[0m\u001b[0;34m)\u001b[0m\u001b[0;34m:\u001b[0m \u001b[0mX\u001b[0m\u001b[0;34m}\u001b[0m  \u001b[0;31m# cache_ the result\u001b[0m\u001b[0;34m\u001b[0m\u001b[0;34m\u001b[0m\u001b[0m\n",
        "\u001b[0;32m~/anaconda3/lib/python3.7/site-packages/skopt/optimizer/optimizer.py\u001b[0m in \u001b[0;36m_tell\u001b[0;34m(self, x, y, fit)\u001b[0m\n\u001b[1;32m    511\u001b[0m             \u001b[0;31m# of points and then pick the best ones as starting points\u001b[0m\u001b[0;34m\u001b[0m\u001b[0;34m\u001b[0m\u001b[0;34m\u001b[0m\u001b[0m\n\u001b[1;32m    512\u001b[0m             X = self.space.transform(self.space.rvs(\n\u001b[0;32m--> 513\u001b[0;31m                 n_samples=self.n_points, random_state=self.rng))\n\u001b[0m\u001b[1;32m    514\u001b[0m \u001b[0;34m\u001b[0m\u001b[0m\n\u001b[1;32m    515\u001b[0m             \u001b[0mself\u001b[0m\u001b[0;34m.\u001b[0m\u001b[0mnext_xs_\u001b[0m \u001b[0;34m=\u001b[0m \u001b[0;34m[\u001b[0m\u001b[0;34m]\u001b[0m\u001b[0;34m\u001b[0m\u001b[0;34m\u001b[0m\u001b[0m\n",
        "\u001b[0;32m~/anaconda3/lib/python3.7/site-packages/skopt/space/space.py\u001b[0m in \u001b[0;36mtransform\u001b[0;34m(self, X)\u001b[0m\n\u001b[1;32m    806\u001b[0m         \u001b[0;31m# Transform\u001b[0m\u001b[0;34m\u001b[0m\u001b[0;34m\u001b[0m\u001b[0;34m\u001b[0m\u001b[0m\n\u001b[1;32m    807\u001b[0m         \u001b[0;32mfor\u001b[0m \u001b[0mj\u001b[0m \u001b[0;32min\u001b[0m \u001b[0mrange\u001b[0m\u001b[0;34m(\u001b[0m\u001b[0mself\u001b[0m\u001b[0;34m.\u001b[0m\u001b[0mn_dims\u001b[0m\u001b[0;34m)\u001b[0m\u001b[0;34m:\u001b[0m\u001b[0;34m\u001b[0m\u001b[0;34m\u001b[0m\u001b[0m\n\u001b[0;32m--> 808\u001b[0;31m             \u001b[0mcolumns\u001b[0m\u001b[0;34m[\u001b[0m\u001b[0mj\u001b[0m\u001b[0;34m]\u001b[0m \u001b[0;34m=\u001b[0m \u001b[0mself\u001b[0m\u001b[0;34m.\u001b[0m\u001b[0mdimensions\u001b[0m\u001b[0;34m[\u001b[0m\u001b[0mj\u001b[0m\u001b[0;34m]\u001b[0m\u001b[0;34m.\u001b[0m\u001b[0mtransform\u001b[0m\u001b[0;34m(\u001b[0m\u001b[0mcolumns\u001b[0m\u001b[0;34m[\u001b[0m\u001b[0mj\u001b[0m\u001b[0;34m]\u001b[0m\u001b[0;34m)\u001b[0m\u001b[0;34m\u001b[0m\u001b[0;34m\u001b[0m\u001b[0m\n\u001b[0m\u001b[1;32m    809\u001b[0m \u001b[0;34m\u001b[0m\u001b[0m\n\u001b[1;32m    810\u001b[0m         \u001b[0;31m# Repack as an array\u001b[0m\u001b[0;34m\u001b[0m\u001b[0;34m\u001b[0m\u001b[0;34m\u001b[0m\u001b[0m\n",
        "\u001b[0;32m~/anaconda3/lib/python3.7/site-packages/skopt/space/space.py\u001b[0m in \u001b[0;36mtransform\u001b[0;34m(self, X)\u001b[0m\n\u001b[1;32m    142\u001b[0m     \u001b[0;32mdef\u001b[0m \u001b[0mtransform\u001b[0m\u001b[0;34m(\u001b[0m\u001b[0mself\u001b[0m\u001b[0;34m,\u001b[0m \u001b[0mX\u001b[0m\u001b[0;34m)\u001b[0m\u001b[0;34m:\u001b[0m\u001b[0;34m\u001b[0m\u001b[0;34m\u001b[0m\u001b[0m\n\u001b[1;32m    143\u001b[0m         \u001b[0;34m\"\"\"Transform samples form the original space to a warped space.\"\"\"\u001b[0m\u001b[0;34m\u001b[0m\u001b[0;34m\u001b[0m\u001b[0m\n\u001b[0;32m--> 144\u001b[0;31m         \u001b[0;32mreturn\u001b[0m \u001b[0mself\u001b[0m\u001b[0;34m.\u001b[0m\u001b[0mtransformer\u001b[0m\u001b[0;34m.\u001b[0m\u001b[0mtransform\u001b[0m\u001b[0;34m(\u001b[0m\u001b[0mX\u001b[0m\u001b[0;34m)\u001b[0m\u001b[0;34m\u001b[0m\u001b[0;34m\u001b[0m\u001b[0m\n\u001b[0m\u001b[1;32m    145\u001b[0m \u001b[0;34m\u001b[0m\u001b[0m\n\u001b[1;32m    146\u001b[0m     \u001b[0;32mdef\u001b[0m \u001b[0minverse_transform\u001b[0m\u001b[0;34m(\u001b[0m\u001b[0mself\u001b[0m\u001b[0;34m,\u001b[0m \u001b[0mXt\u001b[0m\u001b[0;34m)\u001b[0m\u001b[0;34m:\u001b[0m\u001b[0;34m\u001b[0m\u001b[0;34m\u001b[0m\u001b[0m\n",
        "\u001b[0;32m~/anaconda3/lib/python3.7/site-packages/skopt/space/transformers.py\u001b[0m in \u001b[0;36mtransform\u001b[0;34m(self, X)\u001b[0m\n\u001b[1;32m    232\u001b[0m     \u001b[0;32mdef\u001b[0m \u001b[0mtransform\u001b[0m\u001b[0;34m(\u001b[0m\u001b[0mself\u001b[0m\u001b[0;34m,\u001b[0m \u001b[0mX\u001b[0m\u001b[0;34m)\u001b[0m\u001b[0;34m:\u001b[0m\u001b[0;34m\u001b[0m\u001b[0;34m\u001b[0m\u001b[0m\n\u001b[1;32m    233\u001b[0m         \u001b[0;32mfor\u001b[0m \u001b[0mtransformer\u001b[0m \u001b[0;32min\u001b[0m \u001b[0mself\u001b[0m\u001b[0;34m.\u001b[0m\u001b[0mtransformers\u001b[0m\u001b[0;34m:\u001b[0m\u001b[0;34m\u001b[0m\u001b[0;34m\u001b[0m\u001b[0m\n\u001b[0;32m--> 234\u001b[0;31m             \u001b[0mX\u001b[0m \u001b[0;34m=\u001b[0m \u001b[0mtransformer\u001b[0m\u001b[0;34m.\u001b[0m\u001b[0mtransform\u001b[0m\u001b[0;34m(\u001b[0m\u001b[0mX\u001b[0m\u001b[0;34m)\u001b[0m\u001b[0;34m\u001b[0m\u001b[0;34m\u001b[0m\u001b[0m\n\u001b[0m\u001b[1;32m    235\u001b[0m         \u001b[0;32mreturn\u001b[0m \u001b[0mX\u001b[0m\u001b[0;34m\u001b[0m\u001b[0;34m\u001b[0m\u001b[0m\n\u001b[1;32m    236\u001b[0m \u001b[0;34m\u001b[0m\u001b[0m\n",
        "\u001b[0;32m~/anaconda3/lib/python3.7/site-packages/skopt/space/transformers.py\u001b[0m in \u001b[0;36mtransform\u001b[0;34m(self, X)\u001b[0m\n\u001b[1;32m    181\u001b[0m             \u001b[0;32mif\u001b[0m \u001b[0mnp\u001b[0m\u001b[0;34m.\u001b[0m\u001b[0many\u001b[0m\u001b[0;34m(\u001b[0m\u001b[0mnp\u001b[0m\u001b[0;34m.\u001b[0m\u001b[0mround\u001b[0m\u001b[0;34m(\u001b[0m\u001b[0mX\u001b[0m\u001b[0;34m)\u001b[0m \u001b[0;34m<\u001b[0m \u001b[0mself\u001b[0m\u001b[0;34m.\u001b[0m\u001b[0mlow\u001b[0m\u001b[0;34m)\u001b[0m\u001b[0;34m:\u001b[0m\u001b[0;34m\u001b[0m\u001b[0;34m\u001b[0m\u001b[0m\n\u001b[1;32m    182\u001b[0m                 raise ValueError(\"All integer values should\"\n\u001b[0;32m--> 183\u001b[0;31m                                  \"be greater than %f\" % self.low)\n\u001b[0m\u001b[1;32m    184\u001b[0m         \u001b[0;32melse\u001b[0m\u001b[0;34m:\u001b[0m\u001b[0;34m\u001b[0m\u001b[0;34m\u001b[0m\u001b[0m\n\u001b[1;32m    185\u001b[0m             \u001b[0;32mif\u001b[0m \u001b[0mnp\u001b[0m\u001b[0;34m.\u001b[0m\u001b[0many\u001b[0m\u001b[0;34m(\u001b[0m\u001b[0mX\u001b[0m \u001b[0;34m>\u001b[0m \u001b[0mself\u001b[0m\u001b[0;34m.\u001b[0m\u001b[0mhigh\u001b[0m \u001b[0;34m+\u001b[0m \u001b[0;36m1e-8\u001b[0m\u001b[0;34m)\u001b[0m\u001b[0;34m:\u001b[0m\u001b[0;34m\u001b[0m\u001b[0;34m\u001b[0m\u001b[0m\n",
        "\u001b[0;31mValueError\u001b[0m: All integer values shouldbe greater than 0.000000"
       ]
      }
     ],
     "persistentId": "5a3f9050-f8a5-49bc-8c08-d733f14bbf7c",
     "text": "bayes_opt.fit(X, Y, callback=status_print)"
    },
    "executionTime": "2020-03-27T21:07:46.232Z"
   },
   {
    "cell": {
     "executionCount": 14,
     "executionEventId": "1b088545-7de0-4370-9d85-a32325c70420",
     "hasError": true,
     "id": "44da9910-df89-4de3-9734-22dcf8fbf25c",
     "outputs": [
      {
       "ename": "ValueError",
       "evalue": "All integer values shouldbe greater than 0.000000",
       "output_type": "error",
       "traceback": [
        "\u001b[0;31m---------------------------------------------------------------------------\u001b[0m",
        "\u001b[0;31mValueError\u001b[0m                                Traceback (most recent call last)",
        "\u001b[0;32m<ipython-input-14-17848625c2a4>\u001b[0m in \u001b[0;36m<module>\u001b[0;34m\u001b[0m\n\u001b[0;32m----> 1\u001b[0;31m \u001b[0mbayes_opt\u001b[0m\u001b[0;34m.\u001b[0m\u001b[0mfit\u001b[0m\u001b[0;34m(\u001b[0m\u001b[0mX\u001b[0m\u001b[0;34m,\u001b[0m \u001b[0mY\u001b[0m\u001b[0;34m)\u001b[0m\u001b[0;34m\u001b[0m\u001b[0;34m\u001b[0m\u001b[0m\n\u001b[0m",
        "\u001b[0;32m~/anaconda3/lib/python3.7/site-packages/skopt/searchcv.py\u001b[0m in \u001b[0;36mfit\u001b[0;34m(self, X, y, groups, callback)\u001b[0m\n\u001b[1;32m    678\u001b[0m                 optim_result = self._step(\n\u001b[1;32m    679\u001b[0m                     \u001b[0mX\u001b[0m\u001b[0;34m,\u001b[0m \u001b[0my\u001b[0m\u001b[0;34m,\u001b[0m \u001b[0msearch_space\u001b[0m\u001b[0;34m,\u001b[0m \u001b[0moptimizer\u001b[0m\u001b[0;34m,\u001b[0m\u001b[0;34m\u001b[0m\u001b[0;34m\u001b[0m\u001b[0m\n\u001b[0;32m--> 680\u001b[0;31m                     \u001b[0mgroups\u001b[0m\u001b[0;34m=\u001b[0m\u001b[0mgroups\u001b[0m\u001b[0;34m,\u001b[0m \u001b[0mn_points\u001b[0m\u001b[0;34m=\u001b[0m\u001b[0mn_points_adjusted\u001b[0m\u001b[0;34m\u001b[0m\u001b[0;34m\u001b[0m\u001b[0m\n\u001b[0m\u001b[1;32m    681\u001b[0m                 )\n\u001b[1;32m    682\u001b[0m                 \u001b[0mn_iter\u001b[0m \u001b[0;34m-=\u001b[0m \u001b[0mn_points\u001b[0m\u001b[0;34m\u001b[0m\u001b[0;34m\u001b[0m\u001b[0m\n",
        "\u001b[0;32m~/anaconda3/lib/python3.7/site-packages/skopt/searchcv.py\u001b[0m in \u001b[0;36m_step\u001b[0;34m(self, X, y, search_space, optimizer, groups, n_points)\u001b[0m\n\u001b[1;32m    550\u001b[0m \u001b[0;34m\u001b[0m\u001b[0m\n\u001b[1;32m    551\u001b[0m         \u001b[0;31m# get parameter values to evaluate\u001b[0m\u001b[0;34m\u001b[0m\u001b[0;34m\u001b[0m\u001b[0;34m\u001b[0m\u001b[0m\n\u001b[0;32m--> 552\u001b[0;31m         \u001b[0mparams\u001b[0m \u001b[0;34m=\u001b[0m \u001b[0moptimizer\u001b[0m\u001b[0;34m.\u001b[0m\u001b[0mask\u001b[0m\u001b[0;34m(\u001b[0m\u001b[0mn_points\u001b[0m\u001b[0;34m=\u001b[0m\u001b[0mn_points\u001b[0m\u001b[0;34m)\u001b[0m\u001b[0;34m\u001b[0m\u001b[0;34m\u001b[0m\u001b[0m\n\u001b[0m\u001b[1;32m    553\u001b[0m \u001b[0;34m\u001b[0m\u001b[0m\n\u001b[1;32m    554\u001b[0m         \u001b[0;31m# convert parameters to python native types\u001b[0m\u001b[0;34m\u001b[0m\u001b[0;34m\u001b[0m\u001b[0;34m\u001b[0m\u001b[0m\n",
        "\u001b[0;32m~/anaconda3/lib/python3.7/site-packages/skopt/optimizer/optimizer.py\u001b[0m in \u001b[0;36mask\u001b[0;34m(self, n_points, strategy)\u001b[0m\n\u001b[1;32m    380\u001b[0m                 \u001b[0mopt\u001b[0m\u001b[0;34m.\u001b[0m\u001b[0m_tell\u001b[0m\u001b[0;34m(\u001b[0m\u001b[0mx\u001b[0m\u001b[0;34m,\u001b[0m \u001b[0;34m(\u001b[0m\u001b[0my_lie\u001b[0m\u001b[0;34m,\u001b[0m \u001b[0mt_lie\u001b[0m\u001b[0;34m)\u001b[0m\u001b[0;34m)\u001b[0m\u001b[0;34m\u001b[0m\u001b[0;34m\u001b[0m\u001b[0m\n\u001b[1;32m    381\u001b[0m             \u001b[0;32melse\u001b[0m\u001b[0;34m:\u001b[0m\u001b[0;34m\u001b[0m\u001b[0;34m\u001b[0m\u001b[0m\n\u001b[0;32m--> 382\u001b[0;31m                 \u001b[0mopt\u001b[0m\u001b[0;34m.\u001b[0m\u001b[0m_tell\u001b[0m\u001b[0;34m(\u001b[0m\u001b[0mx\u001b[0m\u001b[0;34m,\u001b[0m \u001b[0my_lie\u001b[0m\u001b[0;34m)\u001b[0m\u001b[0;34m\u001b[0m\u001b[0;34m\u001b[0m\u001b[0m\n\u001b[0m\u001b[1;32m    383\u001b[0m \u001b[0;34m\u001b[0m\u001b[0m\n\u001b[1;32m    384\u001b[0m         \u001b[0mself\u001b[0m\u001b[0;34m.\u001b[0m\u001b[0mcache_\u001b[0m \u001b[0;34m=\u001b[0m \u001b[0;34m{\u001b[0m\u001b[0;34m(\u001b[0m\u001b[0mn_points\u001b[0m\u001b[0;34m,\u001b[0m \u001b[0mstrategy\u001b[0m\u001b[0;34m)\u001b[0m\u001b[0;34m:\u001b[0m \u001b[0mX\u001b[0m\u001b[0;34m}\u001b[0m  \u001b[0;31m# cache_ the result\u001b[0m\u001b[0;34m\u001b[0m\u001b[0;34m\u001b[0m\u001b[0m\n",
        "\u001b[0;32m~/anaconda3/lib/python3.7/site-packages/skopt/optimizer/optimizer.py\u001b[0m in \u001b[0;36m_tell\u001b[0;34m(self, x, y, fit)\u001b[0m\n\u001b[1;32m    511\u001b[0m             \u001b[0;31m# of points and then pick the best ones as starting points\u001b[0m\u001b[0;34m\u001b[0m\u001b[0;34m\u001b[0m\u001b[0;34m\u001b[0m\u001b[0m\n\u001b[1;32m    512\u001b[0m             X = self.space.transform(self.space.rvs(\n\u001b[0;32m--> 513\u001b[0;31m                 n_samples=self.n_points, random_state=self.rng))\n\u001b[0m\u001b[1;32m    514\u001b[0m \u001b[0;34m\u001b[0m\u001b[0m\n\u001b[1;32m    515\u001b[0m             \u001b[0mself\u001b[0m\u001b[0;34m.\u001b[0m\u001b[0mnext_xs_\u001b[0m \u001b[0;34m=\u001b[0m \u001b[0;34m[\u001b[0m\u001b[0;34m]\u001b[0m\u001b[0;34m\u001b[0m\u001b[0;34m\u001b[0m\u001b[0m\n",
        "\u001b[0;32m~/anaconda3/lib/python3.7/site-packages/skopt/space/space.py\u001b[0m in \u001b[0;36mtransform\u001b[0;34m(self, X)\u001b[0m\n\u001b[1;32m    806\u001b[0m         \u001b[0;31m# Transform\u001b[0m\u001b[0;34m\u001b[0m\u001b[0;34m\u001b[0m\u001b[0;34m\u001b[0m\u001b[0m\n\u001b[1;32m    807\u001b[0m         \u001b[0;32mfor\u001b[0m \u001b[0mj\u001b[0m \u001b[0;32min\u001b[0m \u001b[0mrange\u001b[0m\u001b[0;34m(\u001b[0m\u001b[0mself\u001b[0m\u001b[0;34m.\u001b[0m\u001b[0mn_dims\u001b[0m\u001b[0;34m)\u001b[0m\u001b[0;34m:\u001b[0m\u001b[0;34m\u001b[0m\u001b[0;34m\u001b[0m\u001b[0m\n\u001b[0;32m--> 808\u001b[0;31m             \u001b[0mcolumns\u001b[0m\u001b[0;34m[\u001b[0m\u001b[0mj\u001b[0m\u001b[0;34m]\u001b[0m \u001b[0;34m=\u001b[0m \u001b[0mself\u001b[0m\u001b[0;34m.\u001b[0m\u001b[0mdimensions\u001b[0m\u001b[0;34m[\u001b[0m\u001b[0mj\u001b[0m\u001b[0;34m]\u001b[0m\u001b[0;34m.\u001b[0m\u001b[0mtransform\u001b[0m\u001b[0;34m(\u001b[0m\u001b[0mcolumns\u001b[0m\u001b[0;34m[\u001b[0m\u001b[0mj\u001b[0m\u001b[0;34m]\u001b[0m\u001b[0;34m)\u001b[0m\u001b[0;34m\u001b[0m\u001b[0;34m\u001b[0m\u001b[0m\n\u001b[0m\u001b[1;32m    809\u001b[0m \u001b[0;34m\u001b[0m\u001b[0m\n\u001b[1;32m    810\u001b[0m         \u001b[0;31m# Repack as an array\u001b[0m\u001b[0;34m\u001b[0m\u001b[0;34m\u001b[0m\u001b[0;34m\u001b[0m\u001b[0m\n",
        "\u001b[0;32m~/anaconda3/lib/python3.7/site-packages/skopt/space/space.py\u001b[0m in \u001b[0;36mtransform\u001b[0;34m(self, X)\u001b[0m\n\u001b[1;32m    142\u001b[0m     \u001b[0;32mdef\u001b[0m \u001b[0mtransform\u001b[0m\u001b[0;34m(\u001b[0m\u001b[0mself\u001b[0m\u001b[0;34m,\u001b[0m \u001b[0mX\u001b[0m\u001b[0;34m)\u001b[0m\u001b[0;34m:\u001b[0m\u001b[0;34m\u001b[0m\u001b[0;34m\u001b[0m\u001b[0m\n\u001b[1;32m    143\u001b[0m         \u001b[0;34m\"\"\"Transform samples form the original space to a warped space.\"\"\"\u001b[0m\u001b[0;34m\u001b[0m\u001b[0;34m\u001b[0m\u001b[0m\n\u001b[0;32m--> 144\u001b[0;31m         \u001b[0;32mreturn\u001b[0m \u001b[0mself\u001b[0m\u001b[0;34m.\u001b[0m\u001b[0mtransformer\u001b[0m\u001b[0;34m.\u001b[0m\u001b[0mtransform\u001b[0m\u001b[0;34m(\u001b[0m\u001b[0mX\u001b[0m\u001b[0;34m)\u001b[0m\u001b[0;34m\u001b[0m\u001b[0;34m\u001b[0m\u001b[0m\n\u001b[0m\u001b[1;32m    145\u001b[0m \u001b[0;34m\u001b[0m\u001b[0m\n\u001b[1;32m    146\u001b[0m     \u001b[0;32mdef\u001b[0m \u001b[0minverse_transform\u001b[0m\u001b[0;34m(\u001b[0m\u001b[0mself\u001b[0m\u001b[0;34m,\u001b[0m \u001b[0mXt\u001b[0m\u001b[0;34m)\u001b[0m\u001b[0;34m:\u001b[0m\u001b[0;34m\u001b[0m\u001b[0;34m\u001b[0m\u001b[0m\n",
        "\u001b[0;32m~/anaconda3/lib/python3.7/site-packages/skopt/space/transformers.py\u001b[0m in \u001b[0;36mtransform\u001b[0;34m(self, X)\u001b[0m\n\u001b[1;32m    232\u001b[0m     \u001b[0;32mdef\u001b[0m \u001b[0mtransform\u001b[0m\u001b[0;34m(\u001b[0m\u001b[0mself\u001b[0m\u001b[0;34m,\u001b[0m \u001b[0mX\u001b[0m\u001b[0;34m)\u001b[0m\u001b[0;34m:\u001b[0m\u001b[0;34m\u001b[0m\u001b[0;34m\u001b[0m\u001b[0m\n\u001b[1;32m    233\u001b[0m         \u001b[0;32mfor\u001b[0m \u001b[0mtransformer\u001b[0m \u001b[0;32min\u001b[0m \u001b[0mself\u001b[0m\u001b[0;34m.\u001b[0m\u001b[0mtransformers\u001b[0m\u001b[0;34m:\u001b[0m\u001b[0;34m\u001b[0m\u001b[0;34m\u001b[0m\u001b[0m\n\u001b[0;32m--> 234\u001b[0;31m             \u001b[0mX\u001b[0m \u001b[0;34m=\u001b[0m \u001b[0mtransformer\u001b[0m\u001b[0;34m.\u001b[0m\u001b[0mtransform\u001b[0m\u001b[0;34m(\u001b[0m\u001b[0mX\u001b[0m\u001b[0;34m)\u001b[0m\u001b[0;34m\u001b[0m\u001b[0;34m\u001b[0m\u001b[0m\n\u001b[0m\u001b[1;32m    235\u001b[0m         \u001b[0;32mreturn\u001b[0m \u001b[0mX\u001b[0m\u001b[0;34m\u001b[0m\u001b[0;34m\u001b[0m\u001b[0m\n\u001b[1;32m    236\u001b[0m \u001b[0;34m\u001b[0m\u001b[0m\n",
        "\u001b[0;32m~/anaconda3/lib/python3.7/site-packages/skopt/space/transformers.py\u001b[0m in \u001b[0;36mtransform\u001b[0;34m(self, X)\u001b[0m\n\u001b[1;32m    181\u001b[0m             \u001b[0;32mif\u001b[0m \u001b[0mnp\u001b[0m\u001b[0;34m.\u001b[0m\u001b[0many\u001b[0m\u001b[0;34m(\u001b[0m\u001b[0mnp\u001b[0m\u001b[0;34m.\u001b[0m\u001b[0mround\u001b[0m\u001b[0;34m(\u001b[0m\u001b[0mX\u001b[0m\u001b[0;34m)\u001b[0m \u001b[0;34m<\u001b[0m \u001b[0mself\u001b[0m\u001b[0;34m.\u001b[0m\u001b[0mlow\u001b[0m\u001b[0;34m)\u001b[0m\u001b[0;34m:\u001b[0m\u001b[0;34m\u001b[0m\u001b[0;34m\u001b[0m\u001b[0m\n\u001b[1;32m    182\u001b[0m                 raise ValueError(\"All integer values should\"\n\u001b[0;32m--> 183\u001b[0;31m                                  \"be greater than %f\" % self.low)\n\u001b[0m\u001b[1;32m    184\u001b[0m         \u001b[0;32melse\u001b[0m\u001b[0;34m:\u001b[0m\u001b[0;34m\u001b[0m\u001b[0;34m\u001b[0m\u001b[0m\n\u001b[1;32m    185\u001b[0m             \u001b[0;32mif\u001b[0m \u001b[0mnp\u001b[0m\u001b[0;34m.\u001b[0m\u001b[0many\u001b[0m\u001b[0;34m(\u001b[0m\u001b[0mX\u001b[0m \u001b[0;34m>\u001b[0m \u001b[0mself\u001b[0m\u001b[0;34m.\u001b[0m\u001b[0mhigh\u001b[0m \u001b[0;34m+\u001b[0m \u001b[0;36m1e-8\u001b[0m\u001b[0;34m)\u001b[0m\u001b[0;34m:\u001b[0m\u001b[0;34m\u001b[0m\u001b[0;34m\u001b[0m\u001b[0m\n",
        "\u001b[0;31mValueError\u001b[0m: All integer values shouldbe greater than 0.000000"
       ]
      }
     ],
     "persistentId": "5a3f9050-f8a5-49bc-8c08-d733f14bbf7c",
     "text": "bayes_opt.fit(X, Y)"
    },
    "executionTime": "2020-03-27T21:10:20.445Z"
   },
   {
    "cell": {
     "executionCount": 15,
     "executionEventId": "ec93a4fc-a977-4be0-8fa1-fe0e67ac2d3c",
     "hasError": false,
     "id": "7fe6033b-e461-4f99-8bd6-9ed220e366db",
     "outputs": [],
     "persistentId": "d60ead82-894d-4856-85ef-81e1bab7f888",
     "text": "\nfrom sklearn.model_selection import KFold\n\n\nimport numpy as np\nimport pandas as pd\nfrom xgboost import XGBClassifier\nfrom skopt import BayesSearchCV\nfrom sklearn.model_selection import StratifiedKFold\nfrom sklearn.model_selection import cross_val_score\nfrom sklearn.datasets import make_classification\n\n\nfrom hyperopt import hp, fmin, tpe, STATUS_OK, Trials\n\n\nimport time"
    },
    "executionTime": "2020-03-27T21:14:53.672Z"
   },
   {
    "cell": {
     "executionCount": 16,
     "executionEventId": "e1fdf6fb-cb40-44e1-93bb-20a138d146cf",
     "hasError": false,
     "id": "80b2de39-eb28-4aeb-8067-6b808ba05456",
     "outputs": [],
     "persistentId": "1056d6a9-43c4-49e6-a137-021b8d0a2922",
     "text": "# Make a toy dataset\nfrom sklearn.datasets import make_classification\n\n\nX, y = make_classification(\n    n_samples=300,\n    n_features=25,\n    n_informative=2,\n    n_redundant=10,\n    n_classes=2,\n    random_state=8,\n)"
    },
    "executionTime": "2020-03-27T21:14:58.872Z"
   },
   {
    "cell": {
     "executionCount": 17,
     "executionEventId": "2b09d15e-c3ff-4a31-b4f7-5d727744d760",
     "hasError": false,
     "id": "782498c7-f1f3-4776-8bdc-c9817f92c629",
     "outputs": [
      {
       "name": "stdout",
       "output_type": "stream",
       "text": "100%|██████████| 200/200 [00:15<00:00, 13.31it/s, best loss: 0.2149745999792746] \nHyperopt search took 15.06 seconds for 200 candidates\nBest score: -0.21 \nBest space:  {'colsample_bylevel': 2, 'colsample_bytree': 11, 'learning_rate': 25, 'max_depth': 0, 'min_child_weight': 13, 'n_estimators': 4, 'subsample': 11}\n"
      }
     ],
     "persistentId": "e6746755-3f43-48da-b7d8-617bf323bee0",
     "text": "# Declare xgboost search space for Hyperopt\nxgboost_space={\n            'max_depth': hp.choice('max_depth',[2,3,4,5,6]),\n            'min_child_weight':hp.choice('min_child_weight',np.round(np.arange(0.0,0.2,0.01),5)),\n            'learning_rate':hp.choice('learning_rate',np.round(np.arange(0.005,0.3,0.01),5)),\n            'subsample':hp.choice('subsample',np.round(np.arange(0.1,1.0,0.05),5)),\n            'colsample_bylevel':hp.choice('colsample_bylevel',np.round(np.arange(0.1,1.0,0.05),5)),\n            'colsample_bytree':hp.choice('colsample_bytree',np.round(np.arange(0.1,1.0,0.05),5)),\n            'n_estimators':hp.choice('n_estimators',np.arange(25,100,5))\n            }\n\n# The objective function\nbest_score = 1.0\n\ndef objective(space):\n    \n    global best_score\n    model = XGBClassifier(**space, n_jobs=-1)   \n    kfold = KFold(n_splits=3, random_state=1985, shuffle=True)\n    score = -cross_val_score(model, X, y, cv=kfold, scoring='neg_log_loss', verbose=False).mean()\n    \n    if (score < best_score):\n        best_score = score\n    \n    return score\n\nstart = time.time()\n\nbest = fmin(\n  objective, \n  space = xgboost_space, \n  algo = tpe.suggest, \n  max_evals = 200,\n  trials = Trials())\n\nprint(\"Hyperopt search took %.2f seconds for 200 candidates\" % ((time.time() - start)))\nprint(\"Best score: %.2f \" % (-best_score))\nprint(\"Best space: \", best)            "
    },
    "executionTime": "2020-03-27T21:15:18.873Z"
   },
   {
    "cell": {
     "executionCount": 18,
     "executionEventId": "7d71420a-649f-40e4-8e74-1ecaf4a0605d",
     "hasError": false,
     "id": "54785960-e33d-4408-bc39-373be9c5e677",
     "outputs": [
      {
       "data": {
        "text/plain": "array([0.  , 0.01, 0.02, 0.03, 0.04, 0.05, 0.06, 0.07, 0.08, 0.09, 0.1 ,\n       0.11, 0.12, 0.13, 0.14, 0.15, 0.16, 0.17, 0.18, 0.19])"
       },
       "execution_count": 18,
       "metadata": {},
       "output_type": "execute_result"
      }
     ],
     "persistentId": "0831f09b-0a3e-445d-8cc4-191806b82ab8",
     "text": "np.round(np.arange(0.0, 0.2, 0.01), 5)"
    },
    "executionTime": "2020-03-27T21:15:37.881Z"
   },
   {
    "cell": {
     "executionCount": 1,
     "executionEventId": "2bed2dbb-3eeb-4f83-970b-7d12317f7e12",
     "hasError": false,
     "id": "7fe6033b-e461-4f99-8bd6-9ed220e366db",
     "outputs": [],
     "persistentId": "d60ead82-894d-4856-85ef-81e1bab7f888",
     "text": "from sklearn.model_selection import KFold\n\n\nimport numpy as np\nimport pandas as pd\nfrom xgboost import XGBClassifier\nfrom skopt import BayesSearchCV\nfrom sklearn.model_selection import StratifiedKFold\nfrom sklearn.model_selection import cross_val_score\nfrom sklearn.datasets import make_classification\n\n\nfrom hyperopt import hp, fmin, tpe, STATUS_OK, Trials\n\n\nimport time"
    },
    "executionTime": "2020-03-27T21:22:26.013Z"
   },
   {
    "cell": {
     "executionCount": 2,
     "executionEventId": "61c2c6eb-33fe-497d-8e4f-0c5f6fcffb28",
     "hasError": false,
     "id": "80b2de39-eb28-4aeb-8067-6b808ba05456",
     "outputs": [],
     "persistentId": "1056d6a9-43c4-49e6-a137-021b8d0a2922",
     "text": "# Make a toy dataset\nfrom sklearn.datasets import make_classification\n\n\nX, y = make_classification(\n    n_samples=300,\n    n_features=25,\n    n_informative=2,\n    n_redundant=10,\n    n_classes=2,\n    random_state=8,\n)"
    },
    "executionTime": "2020-03-27T21:22:26.023Z"
   },
   {
    "cell": {
     "executionCount": 3,
     "executionEventId": "fd662fd6-ab04-449c-ab4f-948aab68139b",
     "hasError": false,
     "id": "54785960-e33d-4408-bc39-373be9c5e677",
     "outputs": [
      {
       "data": {
        "text/plain": "array([0.  , 0.01, 0.02, 0.03, 0.04, 0.05, 0.06, 0.07, 0.08, 0.09, 0.1 ,\n       0.11, 0.12, 0.13, 0.14, 0.15, 0.16, 0.17, 0.18, 0.19])"
       },
       "execution_count": 3,
       "metadata": {},
       "output_type": "execute_result"
      }
     ],
     "persistentId": "0831f09b-0a3e-445d-8cc4-191806b82ab8",
     "text": "np.round(np.arange(0.0, 0.2, 0.01), 5)"
    },
    "executionTime": "2020-03-27T21:22:26.037Z"
   },
   {
    "cell": {
     "executionCount": 4,
     "executionEventId": "4383ce5e-9a57-4377-aaad-051f0d57fb83",
     "hasError": true,
     "id": "782498c7-f1f3-4776-8bdc-c9817f92c629",
     "outputs": [
      {
       "name": "stdout",
       "output_type": "stream",
       "text": " 14%|█▎        | 27/200 [00:00<00:01, 128.78it/s, best loss: nan]"
      },
      {
       "name": "stderr",
       "output_type": "stream",
       "text": "/Users/apple/anaconda3/lib/python3.7/site-packages/sklearn/model_selection/_validation.py:536: FitFailedWarning: Estimator fit failed. The score on this train-test partition for these parameters will be set to nan. Details: \nxgboost.core.XGBoostError: Invalid Parameter format for max_depth expect int but value='13.0'\n\n  FitFailedWarning)\n\n/Users/apple/anaconda3/lib/python3.7/site-packages/sklearn/model_selection/_validation.py:536: FitFailedWarning: Estimator fit failed. The score on this train-test partition for these parameters will be set to nan. Details: \nxgboost.core.XGBoostError: Invalid Parameter format for max_depth expect int but value='7.0'\n\n  FitFailedWarning)\n\n/Users/apple/anaconda3/lib/python3.7/site-packages/sklearn/model_selection/_validation.py:536: FitFailedWarning: Estimator fit failed. The score on this train-test partition for these parameters will be set to nan. Details: \nxgboost.core.XGBoostError: Invalid Parameter format for max_depth expect int but value='6.0'\n\n  FitFailedWarning)\n\n/Users/apple/anaconda3/lib/python3.7/site-packages/sklearn/model_selection/_validation.py:536: FitFailedWarning: Estimator fit failed. The score on this train-test partition for these parameters will be set to nan. Details: \nxgboost.core.XGBoostError: Invalid Parameter format for max_depth expect int but value='12.0'\n\n  FitFailedWarning)\n\n/Users/apple/anaconda3/lib/python3.7/site-packages/sklearn/model_selection/_validation.py:536: FitFailedWarning: Estimator fit failed. The score on this train-test partition for these parameters will be set to nan. Details: \nxgboost.core.XGBoostError: Invalid Parameter format for max_depth expect int but value='14.0'\n\n  FitFailedWarning)\n\n/Users/apple/anaconda3/lib/python3.7/site-packages/sklearn/model_selection/_validation.py:536: FitFailedWarning: Estimator fit failed. The score on this train-test partition for these parameters will be set to nan. Details: \nxgboost.core.XGBoostError: Invalid Parameter format for max_depth expect int but value='8.0'\n\n  FitFailedWarning)\n\n/Users/apple/anaconda3/lib/python3.7/site-packages/sklearn/model_selection/_validation.py:536: FitFailedWarning: Estimator fit failed. The score on this train-test partition for these parameters will be set to nan. Details: \nxgboost.core.XGBoostError: Invalid Parameter format for max_depth expect int but value='16.0'\n\n  FitFailedWarning)\n\n/Users/apple/anaconda3/lib/python3.7/site-packages/sklearn/model_selection/_validation.py:536: FitFailedWarning: Estimator fit failed. The score on this train-test partition for these parameters will be set to nan. Details: \nxgboost.core.XGBoostError: Invalid Parameter format for max_depth expect int but value='5.0'\n\n  FitFailedWarning)\n\n/Users/apple/anaconda3/lib/python3.7/site-packages/sklearn/model_selection/_validation.py:536: FitFailedWarning: Estimator fit failed. The score on this train-test partition for these parameters will be set to nan. Details: \nxgboost.core.XGBoostError: Invalid Parameter format for max_depth expect int but value='10.0'\n\n  FitFailedWarning)\n\n/Users/apple/anaconda3/lib/python3.7/site-packages/sklearn/model_selection/_validation.py:536: FitFailedWarning: Estimator fit failed. The score on this train-test partition for these parameters will be set to nan. Details: \nxgboost.core.XGBoostError: Invalid Parameter format for max_depth expect int but value='4.0'\n\n  FitFailedWarning)\n\n/Users/apple/anaconda3/lib/python3.7/site-packages/sklearn/model_selection/_validation.py:536: FitFailedWarning: Estimator fit failed. The score on this train-test partition for these parameters will be set to nan. Details: \nxgboost.core.XGBoostError: Invalid Parameter format for max_depth expect int but value='11.0'\n\n  FitFailedWarning)\n\n/Users/apple/anaconda3/lib/python3.7/site-packages/sklearn/model_selection/_validation.py:536: FitFailedWarning: Estimator fit failed. The score on this train-test partition for these parameters will be set to nan. Details: \nxgboost.core.XGBoostError: Invalid Parameter format for max_depth expect int but value='9.0'\n\n  FitFailedWarning)\n\n"
      },
      {
       "name": "stdout",
       "output_type": "stream",
       "text": " 29%|██▉       | 58/200 [00:00<00:01, 139.04it/s, best loss: nan]"
      },
      {
       "name": "stderr",
       "output_type": "stream",
       "text": "/Users/apple/anaconda3/lib/python3.7/site-packages/sklearn/model_selection/_validation.py:536: FitFailedWarning: Estimator fit failed. The score on this train-test partition for these parameters will be set to nan. Details: \nxgboost.core.XGBoostError: Invalid Parameter format for max_depth expect int but value='15.0'\n\n  FitFailedWarning)\n\n"
      },
      {
       "name": "stdout",
       "output_type": "stream",
       "text": "100%|██████████| 200/200 [00:01<00:00, 133.74it/s, best loss: nan]\n"
      },
      {
       "ename": "AllTrialsFailed",
       "evalue": "",
       "output_type": "error",
       "traceback": [
        "\u001b[0;31m---------------------------------------------------------------------------\u001b[0m",
        "\u001b[0;31mAllTrialsFailed\u001b[0m                           Traceback (most recent call last)",
        "\u001b[0;32m<ipython-input-4-62d536f56241>\u001b[0m in \u001b[0;36m<module>\u001b[0;34m\u001b[0m\n\u001b[1;32m     30\u001b[0m \u001b[0;34m\u001b[0m\u001b[0m\n\u001b[1;32m     31\u001b[0m best = fmin(\n\u001b[0;32m---> 32\u001b[0;31m     \u001b[0mobjective\u001b[0m\u001b[0;34m,\u001b[0m \u001b[0mspace\u001b[0m\u001b[0;34m=\u001b[0m\u001b[0mxgboost_space\u001b[0m\u001b[0;34m,\u001b[0m \u001b[0malgo\u001b[0m\u001b[0;34m=\u001b[0m\u001b[0mtpe\u001b[0m\u001b[0;34m.\u001b[0m\u001b[0msuggest\u001b[0m\u001b[0;34m,\u001b[0m \u001b[0mmax_evals\u001b[0m\u001b[0;34m=\u001b[0m\u001b[0;36m200\u001b[0m\u001b[0;34m,\u001b[0m \u001b[0mtrials\u001b[0m\u001b[0;34m=\u001b[0m\u001b[0mTrials\u001b[0m\u001b[0;34m(\u001b[0m\u001b[0;34m)\u001b[0m\u001b[0;34m\u001b[0m\u001b[0;34m\u001b[0m\u001b[0m\n\u001b[0m\u001b[1;32m     33\u001b[0m )\n\u001b[1;32m     34\u001b[0m \u001b[0;34m\u001b[0m\u001b[0m\n",
        "\u001b[0;32m~/anaconda3/lib/python3.7/site-packages/hyperopt/fmin.py\u001b[0m in \u001b[0;36mfmin\u001b[0;34m(fn, space, algo, max_evals, trials, rstate, allow_trials_fmin, pass_expr_memo_ctrl, catch_eval_exceptions, verbose, return_argmin, points_to_evaluate, max_queue_len, show_progressbar)\u001b[0m\n\u001b[1;32m    401\u001b[0m             \u001b[0mcatch_eval_exceptions\u001b[0m\u001b[0;34m=\u001b[0m\u001b[0mcatch_eval_exceptions\u001b[0m\u001b[0;34m,\u001b[0m\u001b[0;34m\u001b[0m\u001b[0;34m\u001b[0m\u001b[0m\n\u001b[1;32m    402\u001b[0m             \u001b[0mreturn_argmin\u001b[0m\u001b[0;34m=\u001b[0m\u001b[0mreturn_argmin\u001b[0m\u001b[0;34m,\u001b[0m\u001b[0;34m\u001b[0m\u001b[0;34m\u001b[0m\u001b[0m\n\u001b[0;32m--> 403\u001b[0;31m             \u001b[0mshow_progressbar\u001b[0m\u001b[0;34m=\u001b[0m\u001b[0mshow_progressbar\u001b[0m\u001b[0;34m,\u001b[0m\u001b[0;34m\u001b[0m\u001b[0;34m\u001b[0m\u001b[0m\n\u001b[0m\u001b[1;32m    404\u001b[0m         )\n\u001b[1;32m    405\u001b[0m \u001b[0;34m\u001b[0m\u001b[0m\n",
        "\u001b[0;32m~/anaconda3/lib/python3.7/site-packages/hyperopt/base.py\u001b[0m in \u001b[0;36mfmin\u001b[0;34m(self, fn, space, algo, max_evals, max_queue_len, rstate, verbose, pass_expr_memo_ctrl, catch_eval_exceptions, return_argmin, show_progressbar)\u001b[0m\n\u001b[1;32m    649\u001b[0m             \u001b[0mcatch_eval_exceptions\u001b[0m\u001b[0;34m=\u001b[0m\u001b[0mcatch_eval_exceptions\u001b[0m\u001b[0;34m,\u001b[0m\u001b[0;34m\u001b[0m\u001b[0;34m\u001b[0m\u001b[0m\n\u001b[1;32m    650\u001b[0m             \u001b[0mreturn_argmin\u001b[0m\u001b[0;34m=\u001b[0m\u001b[0mreturn_argmin\u001b[0m\u001b[0;34m,\u001b[0m\u001b[0;34m\u001b[0m\u001b[0;34m\u001b[0m\u001b[0m\n\u001b[0;32m--> 651\u001b[0;31m             show_progressbar=show_progressbar)\n\u001b[0m\u001b[1;32m    652\u001b[0m \u001b[0;34m\u001b[0m\u001b[0m\n\u001b[1;32m    653\u001b[0m \u001b[0;34m\u001b[0m\u001b[0m\n",
        "\u001b[0;32m~/anaconda3/lib/python3.7/site-packages/hyperopt/fmin.py\u001b[0m in \u001b[0;36mfmin\u001b[0;34m(fn, space, algo, max_evals, trials, rstate, allow_trials_fmin, pass_expr_memo_ctrl, catch_eval_exceptions, verbose, return_argmin, points_to_evaluate, max_queue_len, show_progressbar)\u001b[0m\n\u001b[1;32m    424\u001b[0m         \u001b[0;32mif\u001b[0m \u001b[0mlen\u001b[0m\u001b[0;34m(\u001b[0m\u001b[0mtrials\u001b[0m\u001b[0;34m.\u001b[0m\u001b[0mtrials\u001b[0m\u001b[0;34m)\u001b[0m \u001b[0;34m==\u001b[0m \u001b[0;36m0\u001b[0m\u001b[0;34m:\u001b[0m\u001b[0;34m\u001b[0m\u001b[0;34m\u001b[0m\u001b[0m\n\u001b[1;32m    425\u001b[0m             \u001b[0;32mraise\u001b[0m \u001b[0mException\u001b[0m\u001b[0;34m(\u001b[0m\u001b[0;34m\"There are no evaluation tasks, cannot return argmin of task losses.\"\u001b[0m\u001b[0;34m)\u001b[0m\u001b[0;34m\u001b[0m\u001b[0;34m\u001b[0m\u001b[0m\n\u001b[0;32m--> 426\u001b[0;31m         \u001b[0;32mreturn\u001b[0m \u001b[0mtrials\u001b[0m\u001b[0;34m.\u001b[0m\u001b[0margmin\u001b[0m\u001b[0;34m\u001b[0m\u001b[0;34m\u001b[0m\u001b[0m\n\u001b[0m\u001b[1;32m    427\u001b[0m     \u001b[0;32melif\u001b[0m \u001b[0mlen\u001b[0m\u001b[0;34m(\u001b[0m\u001b[0mtrials\u001b[0m\u001b[0;34m)\u001b[0m \u001b[0;34m>\u001b[0m \u001b[0;36m0\u001b[0m\u001b[0;34m:\u001b[0m\u001b[0;34m\u001b[0m\u001b[0;34m\u001b[0m\u001b[0m\n\u001b[1;32m    428\u001b[0m         \u001b[0;31m# Only if there are some succesfull trail runs, return the best point in the evaluation space\u001b[0m\u001b[0;34m\u001b[0m\u001b[0;34m\u001b[0m\u001b[0;34m\u001b[0m\u001b[0m\n",
        "\u001b[0;32m~/anaconda3/lib/python3.7/site-packages/hyperopt/base.py\u001b[0m in \u001b[0;36margmin\u001b[0;34m(self)\u001b[0m\n\u001b[1;32m    598\u001b[0m     \u001b[0;34m@\u001b[0m\u001b[0mproperty\u001b[0m\u001b[0;34m\u001b[0m\u001b[0;34m\u001b[0m\u001b[0m\n\u001b[1;32m    599\u001b[0m     \u001b[0;32mdef\u001b[0m \u001b[0margmin\u001b[0m\u001b[0;34m(\u001b[0m\u001b[0mself\u001b[0m\u001b[0;34m)\u001b[0m\u001b[0;34m:\u001b[0m\u001b[0;34m\u001b[0m\u001b[0;34m\u001b[0m\u001b[0m\n\u001b[0;32m--> 600\u001b[0;31m         \u001b[0mbest_trial\u001b[0m \u001b[0;34m=\u001b[0m \u001b[0mself\u001b[0m\u001b[0;34m.\u001b[0m\u001b[0mbest_trial\u001b[0m\u001b[0;34m\u001b[0m\u001b[0;34m\u001b[0m\u001b[0m\n\u001b[0m\u001b[1;32m    601\u001b[0m         \u001b[0mvals\u001b[0m \u001b[0;34m=\u001b[0m \u001b[0mbest_trial\u001b[0m\u001b[0;34m[\u001b[0m\u001b[0;34m'misc'\u001b[0m\u001b[0;34m]\u001b[0m\u001b[0;34m[\u001b[0m\u001b[0;34m'vals'\u001b[0m\u001b[0;34m]\u001b[0m\u001b[0;34m\u001b[0m\u001b[0;34m\u001b[0m\u001b[0m\n\u001b[1;32m    602\u001b[0m         \u001b[0;31m# unpack the one-element lists to values\u001b[0m\u001b[0;34m\u001b[0m\u001b[0;34m\u001b[0m\u001b[0;34m\u001b[0m\u001b[0m\n",
        "\u001b[0;32m~/anaconda3/lib/python3.7/site-packages/hyperopt/base.py\u001b[0m in \u001b[0;36mbest_trial\u001b[0;34m(self)\u001b[0m\n\u001b[1;32m    589\u001b[0m                       if t['result']['status'] == STATUS_OK and not np.isnan(t['result']['loss'])]\n\u001b[1;32m    590\u001b[0m         \u001b[0;32mif\u001b[0m \u001b[0;32mnot\u001b[0m \u001b[0mcandidates\u001b[0m\u001b[0;34m:\u001b[0m\u001b[0;34m\u001b[0m\u001b[0;34m\u001b[0m\u001b[0m\n\u001b[0;32m--> 591\u001b[0;31m             \u001b[0;32mraise\u001b[0m \u001b[0mAllTrialsFailed\u001b[0m\u001b[0;34m\u001b[0m\u001b[0;34m\u001b[0m\u001b[0m\n\u001b[0m\u001b[1;32m    592\u001b[0m         \u001b[0mlosses\u001b[0m \u001b[0;34m=\u001b[0m \u001b[0;34m[\u001b[0m\u001b[0mfloat\u001b[0m\u001b[0;34m(\u001b[0m\u001b[0mt\u001b[0m\u001b[0;34m[\u001b[0m\u001b[0;34m'result'\u001b[0m\u001b[0;34m]\u001b[0m\u001b[0;34m[\u001b[0m\u001b[0;34m'loss'\u001b[0m\u001b[0;34m]\u001b[0m\u001b[0;34m)\u001b[0m \u001b[0;32mfor\u001b[0m \u001b[0mt\u001b[0m \u001b[0;32min\u001b[0m \u001b[0mcandidates\u001b[0m\u001b[0;34m]\u001b[0m\u001b[0;34m\u001b[0m\u001b[0;34m\u001b[0m\u001b[0m\n\u001b[1;32m    593\u001b[0m         \u001b[0;32mif\u001b[0m \u001b[0mlen\u001b[0m\u001b[0;34m(\u001b[0m\u001b[0mlosses\u001b[0m\u001b[0;34m)\u001b[0m \u001b[0;34m==\u001b[0m \u001b[0;36m0\u001b[0m\u001b[0;34m:\u001b[0m\u001b[0;34m\u001b[0m\u001b[0;34m\u001b[0m\u001b[0m\n",
        "\u001b[0;31mAllTrialsFailed\u001b[0m: "
       ]
      }
     ],
     "persistentId": "e6746755-3f43-48da-b7d8-617bf323bee0",
     "text": "# Declare xgboost search space for Hyperopt\nxgboost_space = {\n    \"max_depth\": hp.quniform(\"max_depth\", 4, 16, 1),\n    \"min_child_weight\": hp.quniform(\"min_child\", 1, 10, 1),\n    \"subsample\": hp.uniform(\"subsample\", 0.7, 1),\n    \"gamma\": hp.uniform(\"gamma\", 0.1, 0.5),\n    \"colsample_bytree\": hp.uniform(\"colsample_bytree\", 0.7, 1),\n    \"reg_lambda\": hp.uniform(\"reg_lambda\", 0, 1),\n}\n\n# The objective function\nbest_score = 1.0\n\ndef objective(space):\n\n    global best_score\n    model = XGBClassifier(**space, n_jobs=-1)\n    kfold = KFold(n_splits=3, random_state=1985, shuffle=True)\n    score = -cross_val_score(\n        model, X, y, cv=kfold, scoring=\"neg_log_loss\", verbose=False\n    ).mean()\n\n    if score < best_score:\n        best_score = score\n\n    return score\n\n\nstart = time.time()\n\nbest = fmin(\n    objective, space=xgboost_space, algo=tpe.suggest, max_evals=200, trials=Trials()\n)\n\nprint(\"Hyperopt search took %.2f seconds for 200 candidates\" % ((time.time() - start)))\nprint(\"Best score: %.2f \" % (-best_score))\nprint(\"Best space: \", best)"
    },
    "executionTime": "2020-03-27T21:22:27.772Z"
   },
   {
    "cell": {
     "executionCount": 5,
     "executionEventId": "efc7be37-77a6-4338-819c-f32f8fd37b5c",
     "hasError": false,
     "id": "80b2de39-eb28-4aeb-8067-6b808ba05456",
     "outputs": [],
     "persistentId": "1056d6a9-43c4-49e6-a137-021b8d0a2922",
     "text": "# Make a toy dataset\nfrom sklearn.datasets import make_classification\n\n\nX, y = make_classification(\n    n_samples=300,\n    n_features=25,\n    n_informative=2,\n    n_redundant=10,\n    n_classes=2,\n    random_state=8,\n)"
    },
    "executionTime": "2020-03-27T21:24:13.093Z"
   },
   {
    "cell": {
     "executionCount": 6,
     "executionEventId": "dae207f2-6b4f-448a-b437-b9a91904db2d",
     "hasError": true,
     "id": "782498c7-f1f3-4776-8bdc-c9817f92c629",
     "outputs": [
      {
       "name": "stdout",
       "output_type": "stream",
       "text": "100%|██████████| 200/200 [00:01<00:00, 122.97it/s, best loss: nan]\n"
      },
      {
       "ename": "AllTrialsFailed",
       "evalue": "",
       "output_type": "error",
       "traceback": [
        "\u001b[0;31m---------------------------------------------------------------------------\u001b[0m",
        "\u001b[0;31mAllTrialsFailed\u001b[0m                           Traceback (most recent call last)",
        "\u001b[0;32m<ipython-input-6-cb2f400d8d83>\u001b[0m in \u001b[0;36m<module>\u001b[0;34m\u001b[0m\n\u001b[1;32m     30\u001b[0m \u001b[0;34m\u001b[0m\u001b[0m\n\u001b[1;32m     31\u001b[0m best = fmin(\n\u001b[0;32m---> 32\u001b[0;31m     \u001b[0mobjective\u001b[0m\u001b[0;34m,\u001b[0m \u001b[0mspace\u001b[0m\u001b[0;34m=\u001b[0m\u001b[0mxgboost_space\u001b[0m\u001b[0;34m,\u001b[0m \u001b[0malgo\u001b[0m\u001b[0;34m=\u001b[0m\u001b[0mtpe\u001b[0m\u001b[0;34m.\u001b[0m\u001b[0msuggest\u001b[0m\u001b[0;34m,\u001b[0m \u001b[0mmax_evals\u001b[0m\u001b[0;34m=\u001b[0m\u001b[0;36m200\u001b[0m\u001b[0;34m,\u001b[0m \u001b[0mtrials\u001b[0m\u001b[0;34m=\u001b[0m\u001b[0mTrials\u001b[0m\u001b[0;34m(\u001b[0m\u001b[0;34m)\u001b[0m\u001b[0;34m\u001b[0m\u001b[0;34m\u001b[0m\u001b[0m\n\u001b[0m\u001b[1;32m     33\u001b[0m )\n\u001b[1;32m     34\u001b[0m \u001b[0;34m\u001b[0m\u001b[0m\n",
        "\u001b[0;32m~/anaconda3/lib/python3.7/site-packages/hyperopt/fmin.py\u001b[0m in \u001b[0;36mfmin\u001b[0;34m(fn, space, algo, max_evals, trials, rstate, allow_trials_fmin, pass_expr_memo_ctrl, catch_eval_exceptions, verbose, return_argmin, points_to_evaluate, max_queue_len, show_progressbar)\u001b[0m\n\u001b[1;32m    401\u001b[0m             \u001b[0mcatch_eval_exceptions\u001b[0m\u001b[0;34m=\u001b[0m\u001b[0mcatch_eval_exceptions\u001b[0m\u001b[0;34m,\u001b[0m\u001b[0;34m\u001b[0m\u001b[0;34m\u001b[0m\u001b[0m\n\u001b[1;32m    402\u001b[0m             \u001b[0mreturn_argmin\u001b[0m\u001b[0;34m=\u001b[0m\u001b[0mreturn_argmin\u001b[0m\u001b[0;34m,\u001b[0m\u001b[0;34m\u001b[0m\u001b[0;34m\u001b[0m\u001b[0m\n\u001b[0;32m--> 403\u001b[0;31m             \u001b[0mshow_progressbar\u001b[0m\u001b[0;34m=\u001b[0m\u001b[0mshow_progressbar\u001b[0m\u001b[0;34m,\u001b[0m\u001b[0;34m\u001b[0m\u001b[0;34m\u001b[0m\u001b[0m\n\u001b[0m\u001b[1;32m    404\u001b[0m         )\n\u001b[1;32m    405\u001b[0m \u001b[0;34m\u001b[0m\u001b[0m\n",
        "\u001b[0;32m~/anaconda3/lib/python3.7/site-packages/hyperopt/base.py\u001b[0m in \u001b[0;36mfmin\u001b[0;34m(self, fn, space, algo, max_evals, max_queue_len, rstate, verbose, pass_expr_memo_ctrl, catch_eval_exceptions, return_argmin, show_progressbar)\u001b[0m\n\u001b[1;32m    649\u001b[0m             \u001b[0mcatch_eval_exceptions\u001b[0m\u001b[0;34m=\u001b[0m\u001b[0mcatch_eval_exceptions\u001b[0m\u001b[0;34m,\u001b[0m\u001b[0;34m\u001b[0m\u001b[0;34m\u001b[0m\u001b[0m\n\u001b[1;32m    650\u001b[0m             \u001b[0mreturn_argmin\u001b[0m\u001b[0;34m=\u001b[0m\u001b[0mreturn_argmin\u001b[0m\u001b[0;34m,\u001b[0m\u001b[0;34m\u001b[0m\u001b[0;34m\u001b[0m\u001b[0m\n\u001b[0;32m--> 651\u001b[0;31m             show_progressbar=show_progressbar)\n\u001b[0m\u001b[1;32m    652\u001b[0m \u001b[0;34m\u001b[0m\u001b[0m\n\u001b[1;32m    653\u001b[0m \u001b[0;34m\u001b[0m\u001b[0m\n",
        "\u001b[0;32m~/anaconda3/lib/python3.7/site-packages/hyperopt/fmin.py\u001b[0m in \u001b[0;36mfmin\u001b[0;34m(fn, space, algo, max_evals, trials, rstate, allow_trials_fmin, pass_expr_memo_ctrl, catch_eval_exceptions, verbose, return_argmin, points_to_evaluate, max_queue_len, show_progressbar)\u001b[0m\n\u001b[1;32m    424\u001b[0m         \u001b[0;32mif\u001b[0m \u001b[0mlen\u001b[0m\u001b[0;34m(\u001b[0m\u001b[0mtrials\u001b[0m\u001b[0;34m.\u001b[0m\u001b[0mtrials\u001b[0m\u001b[0;34m)\u001b[0m \u001b[0;34m==\u001b[0m \u001b[0;36m0\u001b[0m\u001b[0;34m:\u001b[0m\u001b[0;34m\u001b[0m\u001b[0;34m\u001b[0m\u001b[0m\n\u001b[1;32m    425\u001b[0m             \u001b[0;32mraise\u001b[0m \u001b[0mException\u001b[0m\u001b[0;34m(\u001b[0m\u001b[0;34m\"There are no evaluation tasks, cannot return argmin of task losses.\"\u001b[0m\u001b[0;34m)\u001b[0m\u001b[0;34m\u001b[0m\u001b[0;34m\u001b[0m\u001b[0m\n\u001b[0;32m--> 426\u001b[0;31m         \u001b[0;32mreturn\u001b[0m \u001b[0mtrials\u001b[0m\u001b[0;34m.\u001b[0m\u001b[0margmin\u001b[0m\u001b[0;34m\u001b[0m\u001b[0;34m\u001b[0m\u001b[0m\n\u001b[0m\u001b[1;32m    427\u001b[0m     \u001b[0;32melif\u001b[0m \u001b[0mlen\u001b[0m\u001b[0;34m(\u001b[0m\u001b[0mtrials\u001b[0m\u001b[0;34m)\u001b[0m \u001b[0;34m>\u001b[0m \u001b[0;36m0\u001b[0m\u001b[0;34m:\u001b[0m\u001b[0;34m\u001b[0m\u001b[0;34m\u001b[0m\u001b[0m\n\u001b[1;32m    428\u001b[0m         \u001b[0;31m# Only if there are some succesfull trail runs, return the best point in the evaluation space\u001b[0m\u001b[0;34m\u001b[0m\u001b[0;34m\u001b[0m\u001b[0;34m\u001b[0m\u001b[0m\n",
        "\u001b[0;32m~/anaconda3/lib/python3.7/site-packages/hyperopt/base.py\u001b[0m in \u001b[0;36margmin\u001b[0;34m(self)\u001b[0m\n\u001b[1;32m    598\u001b[0m     \u001b[0;34m@\u001b[0m\u001b[0mproperty\u001b[0m\u001b[0;34m\u001b[0m\u001b[0;34m\u001b[0m\u001b[0m\n\u001b[1;32m    599\u001b[0m     \u001b[0;32mdef\u001b[0m \u001b[0margmin\u001b[0m\u001b[0;34m(\u001b[0m\u001b[0mself\u001b[0m\u001b[0;34m)\u001b[0m\u001b[0;34m:\u001b[0m\u001b[0;34m\u001b[0m\u001b[0;34m\u001b[0m\u001b[0m\n\u001b[0;32m--> 600\u001b[0;31m         \u001b[0mbest_trial\u001b[0m \u001b[0;34m=\u001b[0m \u001b[0mself\u001b[0m\u001b[0;34m.\u001b[0m\u001b[0mbest_trial\u001b[0m\u001b[0;34m\u001b[0m\u001b[0;34m\u001b[0m\u001b[0m\n\u001b[0m\u001b[1;32m    601\u001b[0m         \u001b[0mvals\u001b[0m \u001b[0;34m=\u001b[0m \u001b[0mbest_trial\u001b[0m\u001b[0;34m[\u001b[0m\u001b[0;34m'misc'\u001b[0m\u001b[0;34m]\u001b[0m\u001b[0;34m[\u001b[0m\u001b[0;34m'vals'\u001b[0m\u001b[0;34m]\u001b[0m\u001b[0;34m\u001b[0m\u001b[0;34m\u001b[0m\u001b[0m\n\u001b[1;32m    602\u001b[0m         \u001b[0;31m# unpack the one-element lists to values\u001b[0m\u001b[0;34m\u001b[0m\u001b[0;34m\u001b[0m\u001b[0;34m\u001b[0m\u001b[0m\n",
        "\u001b[0;32m~/anaconda3/lib/python3.7/site-packages/hyperopt/base.py\u001b[0m in \u001b[0;36mbest_trial\u001b[0;34m(self)\u001b[0m\n\u001b[1;32m    589\u001b[0m                       if t['result']['status'] == STATUS_OK and not np.isnan(t['result']['loss'])]\n\u001b[1;32m    590\u001b[0m         \u001b[0;32mif\u001b[0m \u001b[0;32mnot\u001b[0m \u001b[0mcandidates\u001b[0m\u001b[0;34m:\u001b[0m\u001b[0;34m\u001b[0m\u001b[0;34m\u001b[0m\u001b[0m\n\u001b[0;32m--> 591\u001b[0;31m             \u001b[0;32mraise\u001b[0m \u001b[0mAllTrialsFailed\u001b[0m\u001b[0;34m\u001b[0m\u001b[0;34m\u001b[0m\u001b[0m\n\u001b[0m\u001b[1;32m    592\u001b[0m         \u001b[0mlosses\u001b[0m \u001b[0;34m=\u001b[0m \u001b[0;34m[\u001b[0m\u001b[0mfloat\u001b[0m\u001b[0;34m(\u001b[0m\u001b[0mt\u001b[0m\u001b[0;34m[\u001b[0m\u001b[0;34m'result'\u001b[0m\u001b[0;34m]\u001b[0m\u001b[0;34m[\u001b[0m\u001b[0;34m'loss'\u001b[0m\u001b[0;34m]\u001b[0m\u001b[0;34m)\u001b[0m \u001b[0;32mfor\u001b[0m \u001b[0mt\u001b[0m \u001b[0;32min\u001b[0m \u001b[0mcandidates\u001b[0m\u001b[0;34m]\u001b[0m\u001b[0;34m\u001b[0m\u001b[0;34m\u001b[0m\u001b[0m\n\u001b[1;32m    593\u001b[0m         \u001b[0;32mif\u001b[0m \u001b[0mlen\u001b[0m\u001b[0;34m(\u001b[0m\u001b[0mlosses\u001b[0m\u001b[0;34m)\u001b[0m \u001b[0;34m==\u001b[0m \u001b[0;36m0\u001b[0m\u001b[0;34m:\u001b[0m\u001b[0;34m\u001b[0m\u001b[0;34m\u001b[0m\u001b[0m\n",
        "\u001b[0;31mAllTrialsFailed\u001b[0m: "
       ]
      }
     ],
     "persistentId": "e6746755-3f43-48da-b7d8-617bf323bee0",
     "text": "# Declare xgboost search space for Hyperopt\nxgboost_space = {\n    \"max_depth\": hp.quniform(\"max_depth\", 4, 16, 1),\n    \"min_child_weight\": hp.quniform(\"min_child\", 1, 10, 1),\n    \"subsample\": hp.uniform(\"subsample\", 0.7, 1),\n    \"gamma\": hp.uniform(\"gamma\", 0.1, 0.5),\n    \"colsample_bytree\": hp.uniform(\"colsample_bytree\", 0.7, 1),\n    \"reg_lambda\": hp.uniform(\"reg_lambda\", 0, 1),\n}\n\n# The objective function\nbest_score = 1.0\n\ndef objective(space):\n\n    global best_score\n    model = XGBClassifier(**space, n_jobs=-1)\n    kfold = KFold(n_splits=3, random_state=1985, shuffle=True)\n    score = -cross_val_score(\n        model, X, y, cv=kfold, scoring=\"roc_auc\", verbose=False\n    ).mean()\n\n    if score < best_score:\n        best_score = score\n\n    return score\n\n\nstart = time.time()\n\nbest = fmin(\n    objective, space=xgboost_space, algo=tpe.suggest, max_evals=200, trials=Trials()\n)\n\nprint(\"Hyperopt search took %.2f seconds for 200 candidates\" % ((time.time() - start)))\nprint(\"Best score: %.2f \" % (-best_score))\nprint(\"Best space: \", best)"
    },
    "executionTime": "2020-03-27T21:24:17.965Z"
   },
   {
    "cell": {
     "executionCount": 7,
     "executionEventId": "d1b7faab-f08b-48d5-8756-3123fcb7921b",
     "hasError": false,
     "id": "80b2de39-eb28-4aeb-8067-6b808ba05456",
     "outputs": [],
     "persistentId": "1056d6a9-43c4-49e6-a137-021b8d0a2922",
     "text": "# Make a toy dataset\nfrom sklearn.datasets import make_classification\n\n\nX, Y = make_classification(\n    n_samples=300,\n    n_features=25,\n    n_informative=2,\n    n_redundant=10,\n    n_classes=2,\n    random_state=8,\n)"
    },
    "executionTime": "2020-03-27T21:24:55.931Z"
   },
   {
    "cell": {
     "executionCount": 8,
     "executionEventId": "9d850d04-54fd-478e-98d9-1ad04f55121c",
     "hasError": true,
     "id": "782498c7-f1f3-4776-8bdc-c9817f92c629",
     "outputs": [
      {
       "name": "stdout",
       "output_type": "stream",
       "text": "  0%|          | 0/200 [00:00<?, ?it/s, best loss: ?]\n"
      },
      {
       "ename": "UnboundLocalError",
       "evalue": "local variable 'best_score' referenced before assignment",
       "output_type": "error",
       "traceback": [
        "\u001b[0;31m---------------------------------------------------------------------------\u001b[0m",
        "\u001b[0;31mUnboundLocalError\u001b[0m                         Traceback (most recent call last)",
        "\u001b[0;32m<ipython-input-8-760689d5a576>\u001b[0m in \u001b[0;36m<module>\u001b[0;34m\u001b[0m\n\u001b[1;32m     32\u001b[0m   \u001b[0malgo\u001b[0m \u001b[0;34m=\u001b[0m \u001b[0mtpe\u001b[0m\u001b[0;34m.\u001b[0m\u001b[0msuggest\u001b[0m\u001b[0;34m,\u001b[0m\u001b[0;34m\u001b[0m\u001b[0;34m\u001b[0m\u001b[0m\n\u001b[1;32m     33\u001b[0m   \u001b[0mmax_evals\u001b[0m \u001b[0;34m=\u001b[0m \u001b[0;36m200\u001b[0m\u001b[0;34m,\u001b[0m\u001b[0;34m\u001b[0m\u001b[0;34m\u001b[0m\u001b[0m\n\u001b[0;32m---> 34\u001b[0;31m   trials = Trials())\n\u001b[0m\u001b[1;32m     35\u001b[0m \u001b[0;34m\u001b[0m\u001b[0m\n\u001b[1;32m     36\u001b[0m \u001b[0mprint\u001b[0m\u001b[0;34m(\u001b[0m\u001b[0;34m\"Hyperopt search took %.2f seconds for 200 candidates\"\u001b[0m \u001b[0;34m%\u001b[0m \u001b[0;34m(\u001b[0m\u001b[0;34m(\u001b[0m\u001b[0mtime\u001b[0m\u001b[0;34m.\u001b[0m\u001b[0mtime\u001b[0m\u001b[0;34m(\u001b[0m\u001b[0;34m)\u001b[0m \u001b[0;34m-\u001b[0m \u001b[0mstart\u001b[0m\u001b[0;34m)\u001b[0m\u001b[0;34m)\u001b[0m\u001b[0;34m)\u001b[0m\u001b[0;34m\u001b[0m\u001b[0;34m\u001b[0m\u001b[0m\n",
        "\u001b[0;32m~/anaconda3/lib/python3.7/site-packages/hyperopt/fmin.py\u001b[0m in \u001b[0;36mfmin\u001b[0;34m(fn, space, algo, max_evals, trials, rstate, allow_trials_fmin, pass_expr_memo_ctrl, catch_eval_exceptions, verbose, return_argmin, points_to_evaluate, max_queue_len, show_progressbar)\u001b[0m\n\u001b[1;32m    401\u001b[0m             \u001b[0mcatch_eval_exceptions\u001b[0m\u001b[0;34m=\u001b[0m\u001b[0mcatch_eval_exceptions\u001b[0m\u001b[0;34m,\u001b[0m\u001b[0;34m\u001b[0m\u001b[0;34m\u001b[0m\u001b[0m\n\u001b[1;32m    402\u001b[0m             \u001b[0mreturn_argmin\u001b[0m\u001b[0;34m=\u001b[0m\u001b[0mreturn_argmin\u001b[0m\u001b[0;34m,\u001b[0m\u001b[0;34m\u001b[0m\u001b[0;34m\u001b[0m\u001b[0m\n\u001b[0;32m--> 403\u001b[0;31m             \u001b[0mshow_progressbar\u001b[0m\u001b[0;34m=\u001b[0m\u001b[0mshow_progressbar\u001b[0m\u001b[0;34m,\u001b[0m\u001b[0;34m\u001b[0m\u001b[0;34m\u001b[0m\u001b[0m\n\u001b[0m\u001b[1;32m    404\u001b[0m         )\n\u001b[1;32m    405\u001b[0m \u001b[0;34m\u001b[0m\u001b[0m\n",
        "\u001b[0;32m~/anaconda3/lib/python3.7/site-packages/hyperopt/base.py\u001b[0m in \u001b[0;36mfmin\u001b[0;34m(self, fn, space, algo, max_evals, max_queue_len, rstate, verbose, pass_expr_memo_ctrl, catch_eval_exceptions, return_argmin, show_progressbar)\u001b[0m\n\u001b[1;32m    649\u001b[0m             \u001b[0mcatch_eval_exceptions\u001b[0m\u001b[0;34m=\u001b[0m\u001b[0mcatch_eval_exceptions\u001b[0m\u001b[0;34m,\u001b[0m\u001b[0;34m\u001b[0m\u001b[0;34m\u001b[0m\u001b[0m\n\u001b[1;32m    650\u001b[0m             \u001b[0mreturn_argmin\u001b[0m\u001b[0;34m=\u001b[0m\u001b[0mreturn_argmin\u001b[0m\u001b[0;34m,\u001b[0m\u001b[0;34m\u001b[0m\u001b[0;34m\u001b[0m\u001b[0m\n\u001b[0;32m--> 651\u001b[0;31m             show_progressbar=show_progressbar)\n\u001b[0m\u001b[1;32m    652\u001b[0m \u001b[0;34m\u001b[0m\u001b[0m\n\u001b[1;32m    653\u001b[0m \u001b[0;34m\u001b[0m\u001b[0m\n",
        "\u001b[0;32m~/anaconda3/lib/python3.7/site-packages/hyperopt/fmin.py\u001b[0m in \u001b[0;36mfmin\u001b[0;34m(fn, space, algo, max_evals, trials, rstate, allow_trials_fmin, pass_expr_memo_ctrl, catch_eval_exceptions, verbose, return_argmin, points_to_evaluate, max_queue_len, show_progressbar)\u001b[0m\n\u001b[1;32m    420\u001b[0m                     show_progressbar=show_progressbar)\n\u001b[1;32m    421\u001b[0m     \u001b[0mrval\u001b[0m\u001b[0;34m.\u001b[0m\u001b[0mcatch_eval_exceptions\u001b[0m \u001b[0;34m=\u001b[0m \u001b[0mcatch_eval_exceptions\u001b[0m\u001b[0;34m\u001b[0m\u001b[0;34m\u001b[0m\u001b[0m\n\u001b[0;32m--> 422\u001b[0;31m     \u001b[0mrval\u001b[0m\u001b[0;34m.\u001b[0m\u001b[0mexhaust\u001b[0m\u001b[0;34m(\u001b[0m\u001b[0;34m)\u001b[0m\u001b[0;34m\u001b[0m\u001b[0;34m\u001b[0m\u001b[0m\n\u001b[0m\u001b[1;32m    423\u001b[0m     \u001b[0;32mif\u001b[0m \u001b[0mreturn_argmin\u001b[0m\u001b[0;34m:\u001b[0m\u001b[0;34m\u001b[0m\u001b[0;34m\u001b[0m\u001b[0m\n\u001b[1;32m    424\u001b[0m         \u001b[0;32mif\u001b[0m \u001b[0mlen\u001b[0m\u001b[0;34m(\u001b[0m\u001b[0mtrials\u001b[0m\u001b[0;34m.\u001b[0m\u001b[0mtrials\u001b[0m\u001b[0;34m)\u001b[0m \u001b[0;34m==\u001b[0m \u001b[0;36m0\u001b[0m\u001b[0;34m:\u001b[0m\u001b[0;34m\u001b[0m\u001b[0;34m\u001b[0m\u001b[0m\n",
        "\u001b[0;32m~/anaconda3/lib/python3.7/site-packages/hyperopt/fmin.py\u001b[0m in \u001b[0;36mexhaust\u001b[0;34m(self)\u001b[0m\n\u001b[1;32m    274\u001b[0m     \u001b[0;32mdef\u001b[0m \u001b[0mexhaust\u001b[0m\u001b[0;34m(\u001b[0m\u001b[0mself\u001b[0m\u001b[0;34m)\u001b[0m\u001b[0;34m:\u001b[0m\u001b[0;34m\u001b[0m\u001b[0;34m\u001b[0m\u001b[0m\n\u001b[1;32m    275\u001b[0m         \u001b[0mn_done\u001b[0m \u001b[0;34m=\u001b[0m \u001b[0mlen\u001b[0m\u001b[0;34m(\u001b[0m\u001b[0mself\u001b[0m\u001b[0;34m.\u001b[0m\u001b[0mtrials\u001b[0m\u001b[0;34m)\u001b[0m\u001b[0;34m\u001b[0m\u001b[0;34m\u001b[0m\u001b[0m\n\u001b[0;32m--> 276\u001b[0;31m         \u001b[0mself\u001b[0m\u001b[0;34m.\u001b[0m\u001b[0mrun\u001b[0m\u001b[0;34m(\u001b[0m\u001b[0mself\u001b[0m\u001b[0;34m.\u001b[0m\u001b[0mmax_evals\u001b[0m \u001b[0;34m-\u001b[0m \u001b[0mn_done\u001b[0m\u001b[0;34m,\u001b[0m \u001b[0mblock_until_done\u001b[0m\u001b[0;34m=\u001b[0m\u001b[0mself\u001b[0m\u001b[0;34m.\u001b[0m\u001b[0masynchronous\u001b[0m\u001b[0;34m)\u001b[0m\u001b[0;34m\u001b[0m\u001b[0;34m\u001b[0m\u001b[0m\n\u001b[0m\u001b[1;32m    277\u001b[0m         \u001b[0mself\u001b[0m\u001b[0;34m.\u001b[0m\u001b[0mtrials\u001b[0m\u001b[0;34m.\u001b[0m\u001b[0mrefresh\u001b[0m\u001b[0;34m(\u001b[0m\u001b[0;34m)\u001b[0m\u001b[0;34m\u001b[0m\u001b[0;34m\u001b[0m\u001b[0m\n\u001b[1;32m    278\u001b[0m         \u001b[0;32mreturn\u001b[0m \u001b[0mself\u001b[0m\u001b[0;34m\u001b[0m\u001b[0;34m\u001b[0m\u001b[0m\n",
        "\u001b[0;32m~/anaconda3/lib/python3.7/site-packages/hyperopt/fmin.py\u001b[0m in \u001b[0;36mrun\u001b[0;34m(self, N, block_until_done)\u001b[0m\n\u001b[1;32m    239\u001b[0m                     \u001b[0;32melse\u001b[0m\u001b[0;34m:\u001b[0m\u001b[0;34m\u001b[0m\u001b[0;34m\u001b[0m\u001b[0m\n\u001b[1;32m    240\u001b[0m                         \u001b[0;31m# -- loop over trials and do the jobs directly\u001b[0m\u001b[0;34m\u001b[0m\u001b[0;34m\u001b[0m\u001b[0;34m\u001b[0m\u001b[0m\n\u001b[0;32m--> 241\u001b[0;31m                         \u001b[0mself\u001b[0m\u001b[0;34m.\u001b[0m\u001b[0mserial_evaluate\u001b[0m\u001b[0;34m(\u001b[0m\u001b[0;34m)\u001b[0m\u001b[0;34m\u001b[0m\u001b[0;34m\u001b[0m\u001b[0m\n\u001b[0m\u001b[1;32m    242\u001b[0m \u001b[0;34m\u001b[0m\u001b[0m\n\u001b[1;32m    243\u001b[0m                     \u001b[0;32mtry\u001b[0m\u001b[0;34m:\u001b[0m\u001b[0;34m\u001b[0m\u001b[0;34m\u001b[0m\u001b[0m\n",
        "\u001b[0;32m~/anaconda3/lib/python3.7/site-packages/hyperopt/fmin.py\u001b[0m in \u001b[0;36mserial_evaluate\u001b[0;34m(self, N)\u001b[0m\n\u001b[1;32m    139\u001b[0m                 \u001b[0mctrl\u001b[0m \u001b[0;34m=\u001b[0m \u001b[0mbase\u001b[0m\u001b[0;34m.\u001b[0m\u001b[0mCtrl\u001b[0m\u001b[0;34m(\u001b[0m\u001b[0mself\u001b[0m\u001b[0;34m.\u001b[0m\u001b[0mtrials\u001b[0m\u001b[0;34m,\u001b[0m \u001b[0mcurrent_trial\u001b[0m\u001b[0;34m=\u001b[0m\u001b[0mtrial\u001b[0m\u001b[0;34m)\u001b[0m\u001b[0;34m\u001b[0m\u001b[0;34m\u001b[0m\u001b[0m\n\u001b[1;32m    140\u001b[0m                 \u001b[0;32mtry\u001b[0m\u001b[0;34m:\u001b[0m\u001b[0;34m\u001b[0m\u001b[0;34m\u001b[0m\u001b[0m\n\u001b[0;32m--> 141\u001b[0;31m                     \u001b[0mresult\u001b[0m \u001b[0;34m=\u001b[0m \u001b[0mself\u001b[0m\u001b[0;34m.\u001b[0m\u001b[0mdomain\u001b[0m\u001b[0;34m.\u001b[0m\u001b[0mevaluate\u001b[0m\u001b[0;34m(\u001b[0m\u001b[0mspec\u001b[0m\u001b[0;34m,\u001b[0m \u001b[0mctrl\u001b[0m\u001b[0;34m)\u001b[0m\u001b[0;34m\u001b[0m\u001b[0;34m\u001b[0m\u001b[0m\n\u001b[0m\u001b[1;32m    142\u001b[0m                 \u001b[0;32mexcept\u001b[0m \u001b[0mException\u001b[0m \u001b[0;32mas\u001b[0m \u001b[0me\u001b[0m\u001b[0;34m:\u001b[0m\u001b[0;34m\u001b[0m\u001b[0;34m\u001b[0m\u001b[0m\n\u001b[1;32m    143\u001b[0m                     \u001b[0mlogger\u001b[0m\u001b[0;34m.\u001b[0m\u001b[0minfo\u001b[0m\u001b[0;34m(\u001b[0m\u001b[0;34m'job exception: %s'\u001b[0m \u001b[0;34m%\u001b[0m \u001b[0mstr\u001b[0m\u001b[0;34m(\u001b[0m\u001b[0me\u001b[0m\u001b[0;34m)\u001b[0m\u001b[0;34m)\u001b[0m\u001b[0;34m\u001b[0m\u001b[0;34m\u001b[0m\u001b[0m\n",
        "\u001b[0;32m~/anaconda3/lib/python3.7/site-packages/hyperopt/base.py\u001b[0m in \u001b[0;36mevaluate\u001b[0;34m(self, config, ctrl, attach_attachments)\u001b[0m\n\u001b[1;32m    854\u001b[0m                 \u001b[0mmemo\u001b[0m\u001b[0;34m=\u001b[0m\u001b[0mmemo\u001b[0m\u001b[0;34m,\u001b[0m\u001b[0;34m\u001b[0m\u001b[0;34m\u001b[0m\u001b[0m\n\u001b[1;32m    855\u001b[0m                 print_node_on_error=self.rec_eval_print_node_on_error)\n\u001b[0;32m--> 856\u001b[0;31m             \u001b[0mrval\u001b[0m \u001b[0;34m=\u001b[0m \u001b[0mself\u001b[0m\u001b[0;34m.\u001b[0m\u001b[0mfn\u001b[0m\u001b[0;34m(\u001b[0m\u001b[0mpyll_rval\u001b[0m\u001b[0;34m)\u001b[0m\u001b[0;34m\u001b[0m\u001b[0;34m\u001b[0m\u001b[0m\n\u001b[0m\u001b[1;32m    857\u001b[0m \u001b[0;34m\u001b[0m\u001b[0m\n\u001b[1;32m    858\u001b[0m         \u001b[0;32mif\u001b[0m \u001b[0misinstance\u001b[0m\u001b[0;34m(\u001b[0m\u001b[0mrval\u001b[0m\u001b[0;34m,\u001b[0m \u001b[0;34m(\u001b[0m\u001b[0mfloat\u001b[0m\u001b[0;34m,\u001b[0m \u001b[0mint\u001b[0m\u001b[0;34m,\u001b[0m \u001b[0mnp\u001b[0m\u001b[0;34m.\u001b[0m\u001b[0mnumber\u001b[0m\u001b[0;34m)\u001b[0m\u001b[0;34m)\u001b[0m\u001b[0;34m:\u001b[0m\u001b[0;34m\u001b[0m\u001b[0;34m\u001b[0m\u001b[0m\n",
        "\u001b[0;32m<ipython-input-8-760689d5a576>\u001b[0m in \u001b[0;36mobjective\u001b[0;34m(space)\u001b[0m\n\u001b[1;32m     20\u001b[0m     \u001b[0mscore\u001b[0m \u001b[0;34m=\u001b[0m \u001b[0;34m-\u001b[0m\u001b[0mcross_val_score\u001b[0m\u001b[0;34m(\u001b[0m\u001b[0mmodel\u001b[0m\u001b[0;34m,\u001b[0m \u001b[0mX\u001b[0m\u001b[0;34m,\u001b[0m \u001b[0mY\u001b[0m\u001b[0;34m,\u001b[0m \u001b[0mcv\u001b[0m\u001b[0;34m=\u001b[0m\u001b[0mkfold\u001b[0m\u001b[0;34m,\u001b[0m \u001b[0mscoring\u001b[0m\u001b[0;34m=\u001b[0m\u001b[0;34m'neg_log_loss'\u001b[0m\u001b[0;34m,\u001b[0m \u001b[0mverbose\u001b[0m\u001b[0;34m=\u001b[0m\u001b[0;32mFalse\u001b[0m\u001b[0;34m)\u001b[0m\u001b[0;34m.\u001b[0m\u001b[0mmean\u001b[0m\u001b[0;34m(\u001b[0m\u001b[0;34m)\u001b[0m\u001b[0;34m\u001b[0m\u001b[0;34m\u001b[0m\u001b[0m\n\u001b[1;32m     21\u001b[0m \u001b[0;34m\u001b[0m\u001b[0m\n\u001b[0;32m---> 22\u001b[0;31m     \u001b[0;32mif\u001b[0m \u001b[0;34m(\u001b[0m\u001b[0mscore\u001b[0m \u001b[0;34m<\u001b[0m \u001b[0mbest_score\u001b[0m\u001b[0;34m)\u001b[0m\u001b[0;34m:\u001b[0m\u001b[0;34m\u001b[0m\u001b[0;34m\u001b[0m\u001b[0m\n\u001b[0m\u001b[1;32m     23\u001b[0m         \u001b[0mbest_score\u001b[0m \u001b[0;34m=\u001b[0m \u001b[0mscore\u001b[0m\u001b[0;34m\u001b[0m\u001b[0;34m\u001b[0m\u001b[0m\n\u001b[1;32m     24\u001b[0m \u001b[0;34m\u001b[0m\u001b[0m\n",
        "\u001b[0;31mUnboundLocalError\u001b[0m: local variable 'best_score' referenced before assignment"
       ]
      }
     ],
     "persistentId": "e6746755-3f43-48da-b7d8-617bf323bee0",
     "text": "from xgboost import XGBClassifier\n\n# Declare xgboost search space for Hyperopt\nxgboost_space={\n            'max_depth': hp.choice('x_max_depth',[2,3,4,5,6]),\n            'min_child_weight':hp.choice('x_min_child_weight',np.round(np.arange(0.0,0.2,0.01),5)),\n            'learning_rate':hp.choice('x_learning_rate',np.round(np.arange(0.005,0.3,0.01),5)),\n            'subsample':hp.choice('x_subsample',np.round(np.arange(0.1,1.0,0.05),5)),\n            'colsample_bylevel':hp.choice('x_colsample_bylevel',np.round(np.arange(0.1,1.0,0.05),5)),\n            'colsample_bytree':hp.choice('x_colsample_bytree',np.round(np.arange(0.1,1.0,0.05),5)),\n            'n_estimators':hp.choice('x_n_estimators',np.arange(25,100,5))\n            }\n\nbest_score = 1.0\n\ndef objective(space):\n    \n    model = XGBClassifier(**space, n_jobs=-1)   \n    kfold = KFold(n_splits=3, random_state=1985, shuffle=True)\n    score = -cross_val_score(model, X, Y, cv=kfold, scoring='neg_log_loss', verbose=False).mean()\n    \n    if (score < best_score):\n        best_score = score\n    \n    return score\n\nstart = time.time()\n\nbest = fmin(\n  objective, \n  space = xgboost_space, \n  algo = tpe.suggest, \n  max_evals = 200,\n  trials = Trials())\n\nprint(\"Hyperopt search took %.2f seconds for 200 candidates\" % ((time.time() - start)))\nprint(\"Best score: %.2f \" % (-best_score))\nPrint(\"Best space: \", best)  "
    },
    "executionTime": "2020-03-27T21:24:56.860Z"
   },
   {
    "cell": {
     "executionCount": 9,
     "executionEventId": "2076c05f-c0ba-4024-af97-90b51ac83a33",
     "hasError": false,
     "id": "d6e8b909-b89a-4eb6-87fa-a70f3ea24b54",
     "outputs": [],
     "persistentId": "1f67dd55-9f40-483c-8675-112e4c17d967",
     "text": "from sklearn.metrics import mean_squared_error\nimport xgboost as xgb\nfrom hyperopt import hp, fmin, tpe, STATUS_OK, Trials\nimport numpy as np"
    },
    "executionTime": "2020-03-27T21:25:38.899Z"
   },
   {
    "cell": {
     "executionCount": 10,
     "executionEventId": "802ab371-b789-4477-bab6-3cf9b7293c47",
     "hasError": false,
     "id": "80b2de39-eb28-4aeb-8067-6b808ba05456",
     "outputs": [],
     "persistentId": "1056d6a9-43c4-49e6-a137-021b8d0a2922",
     "text": "# Make a toy dataset\nfrom sklearn.datasets import make_classification\n\n\nX, y = make_classification(\n    n_samples=300,\n    n_features=25,\n    n_informative=2,\n    n_redundant=10,\n    n_classes=2,\n    random_state=8,\n)"
    },
    "executionTime": "2020-03-27T21:27:54.463Z"
   },
   {
    "cell": {
     "executionCount": 11,
     "executionEventId": "2e5e681c-c022-4467-8f59-441817cb830f",
     "hasError": true,
     "id": "49e969c3-f3b7-4c51-bac7-f52ff4172fb7",
     "outputs": [
      {
       "ename": "NameError",
       "evalue": "name 'train_test_split' is not defined",
       "output_type": "error",
       "traceback": [
        "\u001b[0;31m---------------------------------------------------------------------------\u001b[0m",
        "\u001b[0;31mNameError\u001b[0m                                 Traceback (most recent call last)",
        "\u001b[0;32m<ipython-input-11-65c8e44094c7>\u001b[0m in \u001b[0;36m<module>\u001b[0;34m\u001b[0m\n\u001b[1;32m      1\u001b[0m \u001b[0;31m# Create training and testing datasets\u001b[0m\u001b[0;34m\u001b[0m\u001b[0;34m\u001b[0m\u001b[0;34m\u001b[0m\u001b[0m\n\u001b[0;32m----> 2\u001b[0;31m X_train, X_test, y_train, y_test = train_test_split(\n\u001b[0m\u001b[1;32m      3\u001b[0m     \u001b[0mX\u001b[0m\u001b[0;34m,\u001b[0m \u001b[0my\u001b[0m\u001b[0;34m,\u001b[0m \u001b[0mtest_size\u001b[0m\u001b[0;34m=\u001b[0m\u001b[0;36m0.2\u001b[0m\u001b[0;34m,\u001b[0m \u001b[0mrandom_state\u001b[0m\u001b[0;34m=\u001b[0m\u001b[0;36m465\u001b[0m\u001b[0;34m\u001b[0m\u001b[0;34m\u001b[0m\u001b[0m\n\u001b[1;32m      4\u001b[0m )\n",
        "\u001b[0;31mNameError\u001b[0m: name 'train_test_split' is not defined"
       ]
      }
     ],
     "persistentId": "fdd0059c-7a8b-4da1-8442-fff820f5a515",
     "text": "# Create training and testing datasets\nX_train, X_test, y_train, y_test = train_test_split(\n    X, y, test_size=0.2, random_state=465\n)"
    },
    "executionTime": "2020-03-27T21:27:56.007Z"
   },
   {
    "cell": {
     "executionCount": 12,
     "executionEventId": "17ee8237-1bc6-41fd-9757-a18893e4554d",
     "hasError": false,
     "id": "d1daa723-a362-4fb4-8860-547d10e77dc6",
     "outputs": [],
     "persistentId": "d60ead82-894d-4856-85ef-81e1bab7f888",
     "text": "from sklearn.model_selection import KFold\n\nimport numpy as np\nimport pandas as pd\nfrom xgboost import XGBClassifier\nfrom sklearn.model_selection import StratifiedKFold, train_test_split, cross_val_score\nfrom sklearn.datasets import make_classification\nfrom hyperopt import hp, fmin, tpe, STATUS_OK, Trials\n\nimport time"
    },
    "executionTime": "2020-03-27T21:30:22.792Z"
   },
   {
    "cell": {
     "executionCount": 1,
     "executionEventId": "abafd966-dd16-4e90-b608-af6bf03f749f",
     "hasError": false,
     "id": "d1daa723-a362-4fb4-8860-547d10e77dc6",
     "outputs": [],
     "persistentId": "d60ead82-894d-4856-85ef-81e1bab7f888",
     "text": "import numpy as np\nimport pandas as pd\n\nfrom xgboost import XGBClassifier\nfrom sklearn.model_selection import KFold, train_test_split, cross_val_score\nfrom sklearn.datasets import make_classification\nfrom hyperopt import hp, fmin, tpe, STATUS_OK, Trials\n\nimport time"
    },
    "executionTime": "2020-03-27T21:30:50.488Z"
   },
   {
    "cell": {
     "executionCount": 2,
     "executionEventId": "4fa47325-74fd-4c17-afcf-02b13b23a3af",
     "hasError": false,
     "id": "bacdd49e-7ac0-4f67-9c7c-3f4b5c49712d",
     "outputs": [],
     "persistentId": "1056d6a9-43c4-49e6-a137-021b8d0a2922",
     "text": "# Make a toy dataset\nfrom sklearn.datasets import make_classification\n\nX, y = make_classification(\n    n_samples=300,\n    n_features=25,\n    n_informative=2,\n    n_redundant=10,\n    n_classes=2,\n    random_state=8,\n)"
    },
    "executionTime": "2020-03-27T21:30:53.532Z"
   },
   {
    "cell": {
     "executionCount": 3,
     "executionEventId": "1e65f3f6-88fc-44b5-ac84-a3304c01256d",
     "hasError": false,
     "id": "8790b190-3ca3-4a69-b548-546fc0eb1757",
     "outputs": [],
     "persistentId": "fdd0059c-7a8b-4da1-8442-fff820f5a515",
     "text": "# Create training and testing datasets\nX_train, X_test, y_train, y_test = train_test_split(\n    X, y, test_size=0.2, random_state=465\n)"
    },
    "executionTime": "2020-03-27T21:30:55.134Z"
   },
   {
    "cell": {
     "executionCount": 4,
     "executionEventId": "8d1f6a72-262d-4526-83c4-c29b09f7f05f",
     "hasError": true,
     "id": "7ca21603-d764-42d2-a01d-91dee15c7e7d",
     "outputs": [
      {
       "ename": "SyntaxError",
       "evalue": "Missing parentheses in call to 'print'. Did you mean print(best)? (<ipython-input-4-a6012fbceeba>, line 44)",
       "output_type": "error",
       "traceback": [
        "\u001b[0;36m  File \u001b[0;32m\"<ipython-input-4-a6012fbceeba>\"\u001b[0;36m, line \u001b[0;32m44\u001b[0m\n\u001b[0;31m    print best\u001b[0m\n\u001b[0m             ^\u001b[0m\n\u001b[0;31mSyntaxError\u001b[0m\u001b[0;31m:\u001b[0m Missing parentheses in call to 'print'. Did you mean print(best)?\n"
       ]
      }
     ],
     "persistentId": "e6746755-3f43-48da-b7d8-617bf323bee0",
     "text": "def objective(space):\n    print (space)\n    clf = XGBClassifier(\n        n_estimators=1000,\n        colsample_bytree=space[\"colsample_bytree\"],\n        learning_rate=0.3,\n        max_depth=int(space[\"max_depth\"]),\n        min_child_weight=space[\"min_child_weight\"],\n        subsample=space[\"subsample\"],\n        gamma=space[\"gamma\"],\n        reg_lambda=space[\"reg_lambda\"],\n    )\n\n    eval_set = [(X_train, y_train), (X_test, y_test)]\n\n    clf.fit(\n        X_train,\n        y_train,\n        eval_set=eval_set,\n        eval_metric=\"roc_auc\",\n        early_stopping_rounds=10,\n        verbose=False,\n    )\n\n    pred = clf.predict(X_test)\n    auc = roc_auc_score(y_test, pred)\n    # change the metric if you like\n    return {\"loss\": auc, \"status\": STATUS_OK}\n\n\nspace = {\n    \"max_depth\": hp.quniform(\"x_max_depth\", 4, 16, 1),\n    \"min_child_weight\": hp.quniform(\"x_min_child\", 1, 10, 1),\n    \"subsample\": hp.uniform(\"x_subsample\", 0.7, 1),\n    \"gamma\": hp.uniform(\"x_gamma\", 0.1, 0.5),\n    \"colsample_bytree\": hp.uniform(\"x_colsample_bytree\", 0.7, 1),\n    \"reg_lambda\": hp.uniform(\"x_reg_lambda\", 0, 1),\n}\n\n\ntrials = Trials()\nbest = fmin(fn=objective, space=space, algo=tpe.suggest, max_evals=100, trials=trials)\n\nprint best"
    },
    "executionTime": "2020-03-27T21:33:53.684Z"
   },
   {
    "cell": {
     "executionCount": 5,
     "executionEventId": "e26626a3-f793-4fb6-b7e7-9310ab300e30",
     "hasError": true,
     "id": "7ca21603-d764-42d2-a01d-91dee15c7e7d",
     "outputs": [
      {
       "name": "stdout",
       "output_type": "stream",
       "text": "{'colsample_bytree': 0.943411855940511, 'gamma': 0.14705777883557963, 'max_depth': 16.0, 'min_child_weight': 7.0, 'reg_lambda': 0.7908773872170551, 'subsample': 0.9863503659135167}\n  0%|          | 0/100 [00:00<?, ?it/s, best loss: ?]\n"
      },
      {
       "ename": "XGBoostError",
       "evalue": "[14:33:58] src/metric/metric.cc:23: Unknown metric function roc_auc\nStack trace:\n  [bt] (0) 1   libxgboost.dylib                    0x0000001a22533469 dmlc::LogMessageFatal::~LogMessageFatal() + 57\n  [bt] (1) 2   libxgboost.dylib                    0x0000001a225b5e8d xgboost::Metric::Create(std::__1::basic_string<char, std::__1::char_traits<char>, std::__1::allocator<char> > const&) + 1149\n  [bt] (2) 3   libxgboost.dylib                    0x0000001a2252d53e xgboost::LearnerImpl::Configure(std::__1::vector<std::__1::pair<std::__1::basic_string<char, std::__1::char_traits<char>, std::__1::allocator<char> >, std::__1::basic_string<char, std::__1::char_traits<char>, std::__1::allocator<char> > >, std::__1::allocator<std::__1::pair<std::__1::basic_string<char, std::__1::char_traits<char>, std::__1::allocator<char> >, std::__1::basic_string<char, std::__1::char_traits<char>, std::__1::allocator<char> > > > > const&) + 606\n  [bt] (3) 4   libxgboost.dylib                    0x0000001a2254ff73 XGBoosterUpdateOneIter + 131\n  [bt] (4) 5   libffi.6.dylib                      0x000000010f1e3884 ffi_call_unix64 + 76\n  [bt] (5) 6   ???                                 0x00007ffee2197d10 0x0 + 140732691741968\n\n",
       "output_type": "error",
       "traceback": [
        "\u001b[0;31m---------------------------------------------------------------------------\u001b[0m",
        "\u001b[0;31mXGBoostError\u001b[0m                              Traceback (most recent call last)",
        "\u001b[0;32m<ipython-input-5-f07fd101cba3>\u001b[0m in \u001b[0;36m<module>\u001b[0;34m\u001b[0m\n\u001b[1;32m     40\u001b[0m \u001b[0;34m\u001b[0m\u001b[0m\n\u001b[1;32m     41\u001b[0m \u001b[0mtrials\u001b[0m \u001b[0;34m=\u001b[0m \u001b[0mTrials\u001b[0m\u001b[0;34m(\u001b[0m\u001b[0;34m)\u001b[0m\u001b[0;34m\u001b[0m\u001b[0;34m\u001b[0m\u001b[0m\n\u001b[0;32m---> 42\u001b[0;31m \u001b[0mbest\u001b[0m \u001b[0;34m=\u001b[0m \u001b[0mfmin\u001b[0m\u001b[0;34m(\u001b[0m\u001b[0mfn\u001b[0m\u001b[0;34m=\u001b[0m\u001b[0mobjective\u001b[0m\u001b[0;34m,\u001b[0m \u001b[0mspace\u001b[0m\u001b[0;34m=\u001b[0m\u001b[0mspace\u001b[0m\u001b[0;34m,\u001b[0m \u001b[0malgo\u001b[0m\u001b[0;34m=\u001b[0m\u001b[0mtpe\u001b[0m\u001b[0;34m.\u001b[0m\u001b[0msuggest\u001b[0m\u001b[0;34m,\u001b[0m \u001b[0mmax_evals\u001b[0m\u001b[0;34m=\u001b[0m\u001b[0;36m100\u001b[0m\u001b[0;34m,\u001b[0m \u001b[0mtrials\u001b[0m\u001b[0;34m=\u001b[0m\u001b[0mtrials\u001b[0m\u001b[0;34m)\u001b[0m\u001b[0;34m\u001b[0m\u001b[0;34m\u001b[0m\u001b[0m\n\u001b[0m\u001b[1;32m     43\u001b[0m \u001b[0;34m\u001b[0m\u001b[0m\n\u001b[1;32m     44\u001b[0m \u001b[0mprint\u001b[0m\u001b[0;34m(\u001b[0m\u001b[0mbest\u001b[0m\u001b[0;34m)\u001b[0m\u001b[0;34m\u001b[0m\u001b[0;34m\u001b[0m\u001b[0m\n",
        "\u001b[0;32m~/anaconda3/lib/python3.7/site-packages/hyperopt/fmin.py\u001b[0m in \u001b[0;36mfmin\u001b[0;34m(fn, space, algo, max_evals, trials, rstate, allow_trials_fmin, pass_expr_memo_ctrl, catch_eval_exceptions, verbose, return_argmin, points_to_evaluate, max_queue_len, show_progressbar)\u001b[0m\n\u001b[1;32m    401\u001b[0m             \u001b[0mcatch_eval_exceptions\u001b[0m\u001b[0;34m=\u001b[0m\u001b[0mcatch_eval_exceptions\u001b[0m\u001b[0;34m,\u001b[0m\u001b[0;34m\u001b[0m\u001b[0;34m\u001b[0m\u001b[0m\n\u001b[1;32m    402\u001b[0m             \u001b[0mreturn_argmin\u001b[0m\u001b[0;34m=\u001b[0m\u001b[0mreturn_argmin\u001b[0m\u001b[0;34m,\u001b[0m\u001b[0;34m\u001b[0m\u001b[0;34m\u001b[0m\u001b[0m\n\u001b[0;32m--> 403\u001b[0;31m             \u001b[0mshow_progressbar\u001b[0m\u001b[0;34m=\u001b[0m\u001b[0mshow_progressbar\u001b[0m\u001b[0;34m,\u001b[0m\u001b[0;34m\u001b[0m\u001b[0;34m\u001b[0m\u001b[0m\n\u001b[0m\u001b[1;32m    404\u001b[0m         )\n\u001b[1;32m    405\u001b[0m \u001b[0;34m\u001b[0m\u001b[0m\n",
        "\u001b[0;32m~/anaconda3/lib/python3.7/site-packages/hyperopt/base.py\u001b[0m in \u001b[0;36mfmin\u001b[0;34m(self, fn, space, algo, max_evals, max_queue_len, rstate, verbose, pass_expr_memo_ctrl, catch_eval_exceptions, return_argmin, show_progressbar)\u001b[0m\n\u001b[1;32m    649\u001b[0m             \u001b[0mcatch_eval_exceptions\u001b[0m\u001b[0;34m=\u001b[0m\u001b[0mcatch_eval_exceptions\u001b[0m\u001b[0;34m,\u001b[0m\u001b[0;34m\u001b[0m\u001b[0;34m\u001b[0m\u001b[0m\n\u001b[1;32m    650\u001b[0m             \u001b[0mreturn_argmin\u001b[0m\u001b[0;34m=\u001b[0m\u001b[0mreturn_argmin\u001b[0m\u001b[0;34m,\u001b[0m\u001b[0;34m\u001b[0m\u001b[0;34m\u001b[0m\u001b[0m\n\u001b[0;32m--> 651\u001b[0;31m             show_progressbar=show_progressbar)\n\u001b[0m\u001b[1;32m    652\u001b[0m \u001b[0;34m\u001b[0m\u001b[0m\n\u001b[1;32m    653\u001b[0m \u001b[0;34m\u001b[0m\u001b[0m\n",
        "\u001b[0;32m~/anaconda3/lib/python3.7/site-packages/hyperopt/fmin.py\u001b[0m in \u001b[0;36mfmin\u001b[0;34m(fn, space, algo, max_evals, trials, rstate, allow_trials_fmin, pass_expr_memo_ctrl, catch_eval_exceptions, verbose, return_argmin, points_to_evaluate, max_queue_len, show_progressbar)\u001b[0m\n\u001b[1;32m    420\u001b[0m                     show_progressbar=show_progressbar)\n\u001b[1;32m    421\u001b[0m     \u001b[0mrval\u001b[0m\u001b[0;34m.\u001b[0m\u001b[0mcatch_eval_exceptions\u001b[0m \u001b[0;34m=\u001b[0m \u001b[0mcatch_eval_exceptions\u001b[0m\u001b[0;34m\u001b[0m\u001b[0;34m\u001b[0m\u001b[0m\n\u001b[0;32m--> 422\u001b[0;31m     \u001b[0mrval\u001b[0m\u001b[0;34m.\u001b[0m\u001b[0mexhaust\u001b[0m\u001b[0;34m(\u001b[0m\u001b[0;34m)\u001b[0m\u001b[0;34m\u001b[0m\u001b[0;34m\u001b[0m\u001b[0m\n\u001b[0m\u001b[1;32m    423\u001b[0m     \u001b[0;32mif\u001b[0m \u001b[0mreturn_argmin\u001b[0m\u001b[0;34m:\u001b[0m\u001b[0;34m\u001b[0m\u001b[0;34m\u001b[0m\u001b[0m\n\u001b[1;32m    424\u001b[0m         \u001b[0;32mif\u001b[0m \u001b[0mlen\u001b[0m\u001b[0;34m(\u001b[0m\u001b[0mtrials\u001b[0m\u001b[0;34m.\u001b[0m\u001b[0mtrials\u001b[0m\u001b[0;34m)\u001b[0m \u001b[0;34m==\u001b[0m \u001b[0;36m0\u001b[0m\u001b[0;34m:\u001b[0m\u001b[0;34m\u001b[0m\u001b[0;34m\u001b[0m\u001b[0m\n",
        "\u001b[0;32m~/anaconda3/lib/python3.7/site-packages/hyperopt/fmin.py\u001b[0m in \u001b[0;36mexhaust\u001b[0;34m(self)\u001b[0m\n\u001b[1;32m    274\u001b[0m     \u001b[0;32mdef\u001b[0m \u001b[0mexhaust\u001b[0m\u001b[0;34m(\u001b[0m\u001b[0mself\u001b[0m\u001b[0;34m)\u001b[0m\u001b[0;34m:\u001b[0m\u001b[0;34m\u001b[0m\u001b[0;34m\u001b[0m\u001b[0m\n\u001b[1;32m    275\u001b[0m         \u001b[0mn_done\u001b[0m \u001b[0;34m=\u001b[0m \u001b[0mlen\u001b[0m\u001b[0;34m(\u001b[0m\u001b[0mself\u001b[0m\u001b[0;34m.\u001b[0m\u001b[0mtrials\u001b[0m\u001b[0;34m)\u001b[0m\u001b[0;34m\u001b[0m\u001b[0;34m\u001b[0m\u001b[0m\n\u001b[0;32m--> 276\u001b[0;31m         \u001b[0mself\u001b[0m\u001b[0;34m.\u001b[0m\u001b[0mrun\u001b[0m\u001b[0;34m(\u001b[0m\u001b[0mself\u001b[0m\u001b[0;34m.\u001b[0m\u001b[0mmax_evals\u001b[0m \u001b[0;34m-\u001b[0m \u001b[0mn_done\u001b[0m\u001b[0;34m,\u001b[0m \u001b[0mblock_until_done\u001b[0m\u001b[0;34m=\u001b[0m\u001b[0mself\u001b[0m\u001b[0;34m.\u001b[0m\u001b[0masynchronous\u001b[0m\u001b[0;34m)\u001b[0m\u001b[0;34m\u001b[0m\u001b[0;34m\u001b[0m\u001b[0m\n\u001b[0m\u001b[1;32m    277\u001b[0m         \u001b[0mself\u001b[0m\u001b[0;34m.\u001b[0m\u001b[0mtrials\u001b[0m\u001b[0;34m.\u001b[0m\u001b[0mrefresh\u001b[0m\u001b[0;34m(\u001b[0m\u001b[0;34m)\u001b[0m\u001b[0;34m\u001b[0m\u001b[0;34m\u001b[0m\u001b[0m\n\u001b[1;32m    278\u001b[0m         \u001b[0;32mreturn\u001b[0m \u001b[0mself\u001b[0m\u001b[0;34m\u001b[0m\u001b[0;34m\u001b[0m\u001b[0m\n",
        "\u001b[0;32m~/anaconda3/lib/python3.7/site-packages/hyperopt/fmin.py\u001b[0m in \u001b[0;36mrun\u001b[0;34m(self, N, block_until_done)\u001b[0m\n\u001b[1;32m    239\u001b[0m                     \u001b[0;32melse\u001b[0m\u001b[0;34m:\u001b[0m\u001b[0;34m\u001b[0m\u001b[0;34m\u001b[0m\u001b[0m\n\u001b[1;32m    240\u001b[0m                         \u001b[0;31m# -- loop over trials and do the jobs directly\u001b[0m\u001b[0;34m\u001b[0m\u001b[0;34m\u001b[0m\u001b[0;34m\u001b[0m\u001b[0m\n\u001b[0;32m--> 241\u001b[0;31m                         \u001b[0mself\u001b[0m\u001b[0;34m.\u001b[0m\u001b[0mserial_evaluate\u001b[0m\u001b[0;34m(\u001b[0m\u001b[0;34m)\u001b[0m\u001b[0;34m\u001b[0m\u001b[0;34m\u001b[0m\u001b[0m\n\u001b[0m\u001b[1;32m    242\u001b[0m \u001b[0;34m\u001b[0m\u001b[0m\n\u001b[1;32m    243\u001b[0m                     \u001b[0;32mtry\u001b[0m\u001b[0;34m:\u001b[0m\u001b[0;34m\u001b[0m\u001b[0;34m\u001b[0m\u001b[0m\n",
        "\u001b[0;32m~/anaconda3/lib/python3.7/site-packages/hyperopt/fmin.py\u001b[0m in \u001b[0;36mserial_evaluate\u001b[0;34m(self, N)\u001b[0m\n\u001b[1;32m    139\u001b[0m                 \u001b[0mctrl\u001b[0m \u001b[0;34m=\u001b[0m \u001b[0mbase\u001b[0m\u001b[0;34m.\u001b[0m\u001b[0mCtrl\u001b[0m\u001b[0;34m(\u001b[0m\u001b[0mself\u001b[0m\u001b[0;34m.\u001b[0m\u001b[0mtrials\u001b[0m\u001b[0;34m,\u001b[0m \u001b[0mcurrent_trial\u001b[0m\u001b[0;34m=\u001b[0m\u001b[0mtrial\u001b[0m\u001b[0;34m)\u001b[0m\u001b[0;34m\u001b[0m\u001b[0;34m\u001b[0m\u001b[0m\n\u001b[1;32m    140\u001b[0m                 \u001b[0;32mtry\u001b[0m\u001b[0;34m:\u001b[0m\u001b[0;34m\u001b[0m\u001b[0;34m\u001b[0m\u001b[0m\n\u001b[0;32m--> 141\u001b[0;31m                     \u001b[0mresult\u001b[0m \u001b[0;34m=\u001b[0m \u001b[0mself\u001b[0m\u001b[0;34m.\u001b[0m\u001b[0mdomain\u001b[0m\u001b[0;34m.\u001b[0m\u001b[0mevaluate\u001b[0m\u001b[0;34m(\u001b[0m\u001b[0mspec\u001b[0m\u001b[0;34m,\u001b[0m \u001b[0mctrl\u001b[0m\u001b[0;34m)\u001b[0m\u001b[0;34m\u001b[0m\u001b[0;34m\u001b[0m\u001b[0m\n\u001b[0m\u001b[1;32m    142\u001b[0m                 \u001b[0;32mexcept\u001b[0m \u001b[0mException\u001b[0m \u001b[0;32mas\u001b[0m \u001b[0me\u001b[0m\u001b[0;34m:\u001b[0m\u001b[0;34m\u001b[0m\u001b[0;34m\u001b[0m\u001b[0m\n\u001b[1;32m    143\u001b[0m                     \u001b[0mlogger\u001b[0m\u001b[0;34m.\u001b[0m\u001b[0minfo\u001b[0m\u001b[0;34m(\u001b[0m\u001b[0;34m'job exception: %s'\u001b[0m \u001b[0;34m%\u001b[0m \u001b[0mstr\u001b[0m\u001b[0;34m(\u001b[0m\u001b[0me\u001b[0m\u001b[0;34m)\u001b[0m\u001b[0;34m)\u001b[0m\u001b[0;34m\u001b[0m\u001b[0;34m\u001b[0m\u001b[0m\n",
        "\u001b[0;32m~/anaconda3/lib/python3.7/site-packages/hyperopt/base.py\u001b[0m in \u001b[0;36mevaluate\u001b[0;34m(self, config, ctrl, attach_attachments)\u001b[0m\n\u001b[1;32m    854\u001b[0m                 \u001b[0mmemo\u001b[0m\u001b[0;34m=\u001b[0m\u001b[0mmemo\u001b[0m\u001b[0;34m,\u001b[0m\u001b[0;34m\u001b[0m\u001b[0;34m\u001b[0m\u001b[0m\n\u001b[1;32m    855\u001b[0m                 print_node_on_error=self.rec_eval_print_node_on_error)\n\u001b[0;32m--> 856\u001b[0;31m             \u001b[0mrval\u001b[0m \u001b[0;34m=\u001b[0m \u001b[0mself\u001b[0m\u001b[0;34m.\u001b[0m\u001b[0mfn\u001b[0m\u001b[0;34m(\u001b[0m\u001b[0mpyll_rval\u001b[0m\u001b[0;34m)\u001b[0m\u001b[0;34m\u001b[0m\u001b[0;34m\u001b[0m\u001b[0m\n\u001b[0m\u001b[1;32m    857\u001b[0m \u001b[0;34m\u001b[0m\u001b[0m\n\u001b[1;32m    858\u001b[0m         \u001b[0;32mif\u001b[0m \u001b[0misinstance\u001b[0m\u001b[0;34m(\u001b[0m\u001b[0mrval\u001b[0m\u001b[0;34m,\u001b[0m \u001b[0;34m(\u001b[0m\u001b[0mfloat\u001b[0m\u001b[0;34m,\u001b[0m \u001b[0mint\u001b[0m\u001b[0;34m,\u001b[0m \u001b[0mnp\u001b[0m\u001b[0;34m.\u001b[0m\u001b[0mnumber\u001b[0m\u001b[0;34m)\u001b[0m\u001b[0;34m)\u001b[0m\u001b[0;34m:\u001b[0m\u001b[0;34m\u001b[0m\u001b[0;34m\u001b[0m\u001b[0m\n",
        "\u001b[0;32m<ipython-input-5-f07fd101cba3>\u001b[0m in \u001b[0;36mobjective\u001b[0;34m(space)\u001b[0m\n\u001b[1;32m     20\u001b[0m         \u001b[0meval_metric\u001b[0m\u001b[0;34m=\u001b[0m\u001b[0;34m\"roc_auc\"\u001b[0m\u001b[0;34m,\u001b[0m\u001b[0;34m\u001b[0m\u001b[0;34m\u001b[0m\u001b[0m\n\u001b[1;32m     21\u001b[0m         \u001b[0mearly_stopping_rounds\u001b[0m\u001b[0;34m=\u001b[0m\u001b[0;36m10\u001b[0m\u001b[0;34m,\u001b[0m\u001b[0;34m\u001b[0m\u001b[0;34m\u001b[0m\u001b[0m\n\u001b[0;32m---> 22\u001b[0;31m         \u001b[0mverbose\u001b[0m\u001b[0;34m=\u001b[0m\u001b[0;32mFalse\u001b[0m\u001b[0;34m,\u001b[0m\u001b[0;34m\u001b[0m\u001b[0;34m\u001b[0m\u001b[0m\n\u001b[0m\u001b[1;32m     23\u001b[0m     )\n\u001b[1;32m     24\u001b[0m \u001b[0;34m\u001b[0m\u001b[0m\n",
        "\u001b[0;32m~/anaconda3/lib/python3.7/site-packages/xgboost/sklearn.py\u001b[0m in \u001b[0;36mfit\u001b[0;34m(self, X, y, sample_weight, eval_set, eval_metric, early_stopping_rounds, verbose, xgb_model, sample_weight_eval_set, callbacks)\u001b[0m\n\u001b[1;32m    730\u001b[0m                               \u001b[0mevals_result\u001b[0m\u001b[0;34m=\u001b[0m\u001b[0mevals_result\u001b[0m\u001b[0;34m,\u001b[0m \u001b[0mobj\u001b[0m\u001b[0;34m=\u001b[0m\u001b[0mobj\u001b[0m\u001b[0;34m,\u001b[0m \u001b[0mfeval\u001b[0m\u001b[0;34m=\u001b[0m\u001b[0mfeval\u001b[0m\u001b[0;34m,\u001b[0m\u001b[0;34m\u001b[0m\u001b[0;34m\u001b[0m\u001b[0m\n\u001b[1;32m    731\u001b[0m                               \u001b[0mverbose_eval\u001b[0m\u001b[0;34m=\u001b[0m\u001b[0mverbose\u001b[0m\u001b[0;34m,\u001b[0m \u001b[0mxgb_model\u001b[0m\u001b[0;34m=\u001b[0m\u001b[0mxgb_model\u001b[0m\u001b[0;34m,\u001b[0m\u001b[0;34m\u001b[0m\u001b[0;34m\u001b[0m\u001b[0m\n\u001b[0;32m--> 732\u001b[0;31m                               callbacks=callbacks)\n\u001b[0m\u001b[1;32m    733\u001b[0m \u001b[0;34m\u001b[0m\u001b[0m\n\u001b[1;32m    734\u001b[0m         \u001b[0mself\u001b[0m\u001b[0;34m.\u001b[0m\u001b[0mobjective\u001b[0m \u001b[0;34m=\u001b[0m \u001b[0mxgb_options\u001b[0m\u001b[0;34m[\u001b[0m\u001b[0;34m\"objective\"\u001b[0m\u001b[0;34m]\u001b[0m\u001b[0;34m\u001b[0m\u001b[0;34m\u001b[0m\u001b[0m\n",
        "\u001b[0;32m~/anaconda3/lib/python3.7/site-packages/xgboost/training.py\u001b[0m in \u001b[0;36mtrain\u001b[0;34m(params, dtrain, num_boost_round, evals, obj, feval, maximize, early_stopping_rounds, evals_result, verbose_eval, xgb_model, callbacks, learning_rates)\u001b[0m\n\u001b[1;32m    214\u001b[0m                            \u001b[0mevals\u001b[0m\u001b[0;34m=\u001b[0m\u001b[0mevals\u001b[0m\u001b[0;34m,\u001b[0m\u001b[0;34m\u001b[0m\u001b[0;34m\u001b[0m\u001b[0m\n\u001b[1;32m    215\u001b[0m                            \u001b[0mobj\u001b[0m\u001b[0;34m=\u001b[0m\u001b[0mobj\u001b[0m\u001b[0;34m,\u001b[0m \u001b[0mfeval\u001b[0m\u001b[0;34m=\u001b[0m\u001b[0mfeval\u001b[0m\u001b[0;34m,\u001b[0m\u001b[0;34m\u001b[0m\u001b[0;34m\u001b[0m\u001b[0m\n\u001b[0;32m--> 216\u001b[0;31m                            xgb_model=xgb_model, callbacks=callbacks)\n\u001b[0m\u001b[1;32m    217\u001b[0m \u001b[0;34m\u001b[0m\u001b[0m\n\u001b[1;32m    218\u001b[0m \u001b[0;34m\u001b[0m\u001b[0m\n",
        "\u001b[0;32m~/anaconda3/lib/python3.7/site-packages/xgboost/training.py\u001b[0m in \u001b[0;36m_train_internal\u001b[0;34m(params, dtrain, num_boost_round, evals, obj, feval, xgb_model, callbacks)\u001b[0m\n\u001b[1;32m     72\u001b[0m         \u001b[0;31m# Skip the first update if it is a recovery step.\u001b[0m\u001b[0;34m\u001b[0m\u001b[0;34m\u001b[0m\u001b[0;34m\u001b[0m\u001b[0m\n\u001b[1;32m     73\u001b[0m         \u001b[0;32mif\u001b[0m \u001b[0mversion\u001b[0m \u001b[0;34m%\u001b[0m \u001b[0;36m2\u001b[0m \u001b[0;34m==\u001b[0m \u001b[0;36m0\u001b[0m\u001b[0;34m:\u001b[0m\u001b[0;34m\u001b[0m\u001b[0;34m\u001b[0m\u001b[0m\n\u001b[0;32m---> 74\u001b[0;31m             \u001b[0mbst\u001b[0m\u001b[0;34m.\u001b[0m\u001b[0mupdate\u001b[0m\u001b[0;34m(\u001b[0m\u001b[0mdtrain\u001b[0m\u001b[0;34m,\u001b[0m \u001b[0mi\u001b[0m\u001b[0;34m,\u001b[0m \u001b[0mobj\u001b[0m\u001b[0;34m)\u001b[0m\u001b[0;34m\u001b[0m\u001b[0;34m\u001b[0m\u001b[0m\n\u001b[0m\u001b[1;32m     75\u001b[0m             \u001b[0mbst\u001b[0m\u001b[0;34m.\u001b[0m\u001b[0msave_rabit_checkpoint\u001b[0m\u001b[0;34m(\u001b[0m\u001b[0;34m)\u001b[0m\u001b[0;34m\u001b[0m\u001b[0;34m\u001b[0m\u001b[0m\n\u001b[1;32m     76\u001b[0m             \u001b[0mversion\u001b[0m \u001b[0;34m+=\u001b[0m \u001b[0;36m1\u001b[0m\u001b[0;34m\u001b[0m\u001b[0;34m\u001b[0m\u001b[0m\n",
        "\u001b[0;32m~/anaconda3/lib/python3.7/site-packages/xgboost/core.py\u001b[0m in \u001b[0;36mupdate\u001b[0;34m(self, dtrain, iteration, fobj)\u001b[0m\n\u001b[1;32m   1107\u001b[0m         \u001b[0;32mif\u001b[0m \u001b[0mfobj\u001b[0m \u001b[0;32mis\u001b[0m \u001b[0;32mNone\u001b[0m\u001b[0;34m:\u001b[0m\u001b[0;34m\u001b[0m\u001b[0;34m\u001b[0m\u001b[0m\n\u001b[1;32m   1108\u001b[0m             _check_call(_LIB.XGBoosterUpdateOneIter(self.handle, ctypes.c_int(iteration),\n\u001b[0;32m-> 1109\u001b[0;31m                                                     dtrain.handle))\n\u001b[0m\u001b[1;32m   1110\u001b[0m         \u001b[0;32melse\u001b[0m\u001b[0;34m:\u001b[0m\u001b[0;34m\u001b[0m\u001b[0;34m\u001b[0m\u001b[0m\n\u001b[1;32m   1111\u001b[0m             \u001b[0mpred\u001b[0m \u001b[0;34m=\u001b[0m \u001b[0mself\u001b[0m\u001b[0;34m.\u001b[0m\u001b[0mpredict\u001b[0m\u001b[0;34m(\u001b[0m\u001b[0mdtrain\u001b[0m\u001b[0;34m)\u001b[0m\u001b[0;34m\u001b[0m\u001b[0;34m\u001b[0m\u001b[0m\n",
        "\u001b[0;32m~/anaconda3/lib/python3.7/site-packages/xgboost/core.py\u001b[0m in \u001b[0;36m_check_call\u001b[0;34m(ret)\u001b[0m\n\u001b[1;32m    174\u001b[0m     \"\"\"\n\u001b[1;32m    175\u001b[0m     \u001b[0;32mif\u001b[0m \u001b[0mret\u001b[0m \u001b[0;34m!=\u001b[0m \u001b[0;36m0\u001b[0m\u001b[0;34m:\u001b[0m\u001b[0;34m\u001b[0m\u001b[0;34m\u001b[0m\u001b[0m\n\u001b[0;32m--> 176\u001b[0;31m         \u001b[0;32mraise\u001b[0m \u001b[0mXGBoostError\u001b[0m\u001b[0;34m(\u001b[0m\u001b[0mpy_str\u001b[0m\u001b[0;34m(\u001b[0m\u001b[0m_LIB\u001b[0m\u001b[0;34m.\u001b[0m\u001b[0mXGBGetLastError\u001b[0m\u001b[0;34m(\u001b[0m\u001b[0;34m)\u001b[0m\u001b[0;34m)\u001b[0m\u001b[0;34m)\u001b[0m\u001b[0;34m\u001b[0m\u001b[0;34m\u001b[0m\u001b[0m\n\u001b[0m\u001b[1;32m    177\u001b[0m \u001b[0;34m\u001b[0m\u001b[0m\n\u001b[1;32m    178\u001b[0m \u001b[0;34m\u001b[0m\u001b[0m\n",
        "\u001b[0;31mXGBoostError\u001b[0m: [14:33:58] src/metric/metric.cc:23: Unknown metric function roc_auc\nStack trace:\n  [bt] (0) 1   libxgboost.dylib                    0x0000001a22533469 dmlc::LogMessageFatal::~LogMessageFatal() + 57\n  [bt] (1) 2   libxgboost.dylib                    0x0000001a225b5e8d xgboost::Metric::Create(std::__1::basic_string<char, std::__1::char_traits<char>, std::__1::allocator<char> > const&) + 1149\n  [bt] (2) 3   libxgboost.dylib                    0x0000001a2252d53e xgboost::LearnerImpl::Configure(std::__1::vector<std::__1::pair<std::__1::basic_string<char, std::__1::char_traits<char>, std::__1::allocator<char> >, std::__1::basic_string<char, std::__1::char_traits<char>, std::__1::allocator<char> > >, std::__1::allocator<std::__1::pair<std::__1::basic_string<char, std::__1::char_traits<char>, std::__1::allocator<char> >, std::__1::basic_string<char, std::__1::char_traits<char>, std::__1::allocator<char> > > > > const&) + 606\n  [bt] (3) 4   libxgboost.dylib                    0x0000001a2254ff73 XGBoosterUpdateOneIter + 131\n  [bt] (4) 5   libffi.6.dylib                      0x000000010f1e3884 ffi_call_unix64 + 76\n  [bt] (5) 6   ???                                 0x00007ffee2197d10 0x0 + 140732691741968\n\n"
       ]
      }
     ],
     "persistentId": "e6746755-3f43-48da-b7d8-617bf323bee0",
     "text": "def objective(space):\n    print (space)\n    clf = XGBClassifier(\n        n_estimators=1000,\n        colsample_bytree=space[\"colsample_bytree\"],\n        learning_rate=0.3,\n        max_depth=int(space[\"max_depth\"]),\n        min_child_weight=space[\"min_child_weight\"],\n        subsample=space[\"subsample\"],\n        gamma=space[\"gamma\"],\n        reg_lambda=space[\"reg_lambda\"],\n    )\n\n    eval_set = [(X_train, y_train), (X_test, y_test)]\n\n    clf.fit(\n        X_train,\n        y_train,\n        eval_set=eval_set,\n        eval_metric=\"roc_auc\",\n        early_stopping_rounds=10,\n        verbose=False,\n    )\n\n    pred = clf.predict(X_test)\n    auc = roc_auc_score(y_test, pred)\n    # change the metric if you like\n    return {\"loss\": auc, \"status\": STATUS_OK}\n\n\nspace = {\n    \"max_depth\": hp.quniform(\"x_max_depth\", 4, 16, 1),\n    \"min_child_weight\": hp.quniform(\"x_min_child\", 1, 10, 1),\n    \"subsample\": hp.uniform(\"x_subsample\", 0.7, 1),\n    \"gamma\": hp.uniform(\"x_gamma\", 0.1, 0.5),\n    \"colsample_bytree\": hp.uniform(\"x_colsample_bytree\", 0.7, 1),\n    \"reg_lambda\": hp.uniform(\"x_reg_lambda\", 0, 1),\n}\n\n\ntrials = Trials()\nbest = fmin(fn=objective, space=space, algo=tpe.suggest, max_evals=100, trials=trials)\n\nprint(best)"
    },
    "executionTime": "2020-03-27T21:33:58.129Z"
   },
   {
    "cell": {
     "executionCount": 6,
     "executionEventId": "bf40d9a1-696a-40d3-a9bb-76ce9ea73c16",
     "hasError": true,
     "id": "7ca21603-d764-42d2-a01d-91dee15c7e7d",
     "outputs": [
      {
       "name": "stdout",
       "output_type": "stream",
       "text": "{'colsample_bytree': 0.8968360700204197, 'gamma': 0.11227785644728999, 'max_depth': 13.0, 'min_child_weight': 2.0, 'reg_lambda': 0.6525235648434565, 'subsample': 0.965145827782927}\n  0%|          | 0/100 [00:00<?, ?it/s, best loss: ?]\n"
      },
      {
       "ename": "NameError",
       "evalue": "name 'roc_auc_score' is not defined",
       "output_type": "error",
       "traceback": [
        "\u001b[0;31m---------------------------------------------------------------------------\u001b[0m",
        "\u001b[0;31mNameError\u001b[0m                                 Traceback (most recent call last)",
        "\u001b[0;32m<ipython-input-6-606dd53b507d>\u001b[0m in \u001b[0;36m<module>\u001b[0;34m\u001b[0m\n\u001b[1;32m     40\u001b[0m \u001b[0;34m\u001b[0m\u001b[0m\n\u001b[1;32m     41\u001b[0m \u001b[0mtrials\u001b[0m \u001b[0;34m=\u001b[0m \u001b[0mTrials\u001b[0m\u001b[0;34m(\u001b[0m\u001b[0;34m)\u001b[0m\u001b[0;34m\u001b[0m\u001b[0;34m\u001b[0m\u001b[0m\n\u001b[0;32m---> 42\u001b[0;31m \u001b[0mbest\u001b[0m \u001b[0;34m=\u001b[0m \u001b[0mfmin\u001b[0m\u001b[0;34m(\u001b[0m\u001b[0mfn\u001b[0m\u001b[0;34m=\u001b[0m\u001b[0mobjective\u001b[0m\u001b[0;34m,\u001b[0m \u001b[0mspace\u001b[0m\u001b[0;34m=\u001b[0m\u001b[0mspace\u001b[0m\u001b[0;34m,\u001b[0m \u001b[0malgo\u001b[0m\u001b[0;34m=\u001b[0m\u001b[0mtpe\u001b[0m\u001b[0;34m.\u001b[0m\u001b[0msuggest\u001b[0m\u001b[0;34m,\u001b[0m \u001b[0mmax_evals\u001b[0m\u001b[0;34m=\u001b[0m\u001b[0;36m100\u001b[0m\u001b[0;34m,\u001b[0m \u001b[0mtrials\u001b[0m\u001b[0;34m=\u001b[0m\u001b[0mtrials\u001b[0m\u001b[0;34m)\u001b[0m\u001b[0;34m\u001b[0m\u001b[0;34m\u001b[0m\u001b[0m\n\u001b[0m\u001b[1;32m     43\u001b[0m \u001b[0;34m\u001b[0m\u001b[0m\n\u001b[1;32m     44\u001b[0m \u001b[0mprint\u001b[0m\u001b[0;34m(\u001b[0m\u001b[0mbest\u001b[0m\u001b[0;34m)\u001b[0m\u001b[0;34m\u001b[0m\u001b[0;34m\u001b[0m\u001b[0m\n",
        "\u001b[0;32m~/anaconda3/lib/python3.7/site-packages/hyperopt/fmin.py\u001b[0m in \u001b[0;36mfmin\u001b[0;34m(fn, space, algo, max_evals, trials, rstate, allow_trials_fmin, pass_expr_memo_ctrl, catch_eval_exceptions, verbose, return_argmin, points_to_evaluate, max_queue_len, show_progressbar)\u001b[0m\n\u001b[1;32m    401\u001b[0m             \u001b[0mcatch_eval_exceptions\u001b[0m\u001b[0;34m=\u001b[0m\u001b[0mcatch_eval_exceptions\u001b[0m\u001b[0;34m,\u001b[0m\u001b[0;34m\u001b[0m\u001b[0;34m\u001b[0m\u001b[0m\n\u001b[1;32m    402\u001b[0m             \u001b[0mreturn_argmin\u001b[0m\u001b[0;34m=\u001b[0m\u001b[0mreturn_argmin\u001b[0m\u001b[0;34m,\u001b[0m\u001b[0;34m\u001b[0m\u001b[0;34m\u001b[0m\u001b[0m\n\u001b[0;32m--> 403\u001b[0;31m             \u001b[0mshow_progressbar\u001b[0m\u001b[0;34m=\u001b[0m\u001b[0mshow_progressbar\u001b[0m\u001b[0;34m,\u001b[0m\u001b[0;34m\u001b[0m\u001b[0;34m\u001b[0m\u001b[0m\n\u001b[0m\u001b[1;32m    404\u001b[0m         )\n\u001b[1;32m    405\u001b[0m \u001b[0;34m\u001b[0m\u001b[0m\n",
        "\u001b[0;32m~/anaconda3/lib/python3.7/site-packages/hyperopt/base.py\u001b[0m in \u001b[0;36mfmin\u001b[0;34m(self, fn, space, algo, max_evals, max_queue_len, rstate, verbose, pass_expr_memo_ctrl, catch_eval_exceptions, return_argmin, show_progressbar)\u001b[0m\n\u001b[1;32m    649\u001b[0m             \u001b[0mcatch_eval_exceptions\u001b[0m\u001b[0;34m=\u001b[0m\u001b[0mcatch_eval_exceptions\u001b[0m\u001b[0;34m,\u001b[0m\u001b[0;34m\u001b[0m\u001b[0;34m\u001b[0m\u001b[0m\n\u001b[1;32m    650\u001b[0m             \u001b[0mreturn_argmin\u001b[0m\u001b[0;34m=\u001b[0m\u001b[0mreturn_argmin\u001b[0m\u001b[0;34m,\u001b[0m\u001b[0;34m\u001b[0m\u001b[0;34m\u001b[0m\u001b[0m\n\u001b[0;32m--> 651\u001b[0;31m             show_progressbar=show_progressbar)\n\u001b[0m\u001b[1;32m    652\u001b[0m \u001b[0;34m\u001b[0m\u001b[0m\n\u001b[1;32m    653\u001b[0m \u001b[0;34m\u001b[0m\u001b[0m\n",
        "\u001b[0;32m~/anaconda3/lib/python3.7/site-packages/hyperopt/fmin.py\u001b[0m in \u001b[0;36mfmin\u001b[0;34m(fn, space, algo, max_evals, trials, rstate, allow_trials_fmin, pass_expr_memo_ctrl, catch_eval_exceptions, verbose, return_argmin, points_to_evaluate, max_queue_len, show_progressbar)\u001b[0m\n\u001b[1;32m    420\u001b[0m                     show_progressbar=show_progressbar)\n\u001b[1;32m    421\u001b[0m     \u001b[0mrval\u001b[0m\u001b[0;34m.\u001b[0m\u001b[0mcatch_eval_exceptions\u001b[0m \u001b[0;34m=\u001b[0m \u001b[0mcatch_eval_exceptions\u001b[0m\u001b[0;34m\u001b[0m\u001b[0;34m\u001b[0m\u001b[0m\n\u001b[0;32m--> 422\u001b[0;31m     \u001b[0mrval\u001b[0m\u001b[0;34m.\u001b[0m\u001b[0mexhaust\u001b[0m\u001b[0;34m(\u001b[0m\u001b[0;34m)\u001b[0m\u001b[0;34m\u001b[0m\u001b[0;34m\u001b[0m\u001b[0m\n\u001b[0m\u001b[1;32m    423\u001b[0m     \u001b[0;32mif\u001b[0m \u001b[0mreturn_argmin\u001b[0m\u001b[0;34m:\u001b[0m\u001b[0;34m\u001b[0m\u001b[0;34m\u001b[0m\u001b[0m\n\u001b[1;32m    424\u001b[0m         \u001b[0;32mif\u001b[0m \u001b[0mlen\u001b[0m\u001b[0;34m(\u001b[0m\u001b[0mtrials\u001b[0m\u001b[0;34m.\u001b[0m\u001b[0mtrials\u001b[0m\u001b[0;34m)\u001b[0m \u001b[0;34m==\u001b[0m \u001b[0;36m0\u001b[0m\u001b[0;34m:\u001b[0m\u001b[0;34m\u001b[0m\u001b[0;34m\u001b[0m\u001b[0m\n",
        "\u001b[0;32m~/anaconda3/lib/python3.7/site-packages/hyperopt/fmin.py\u001b[0m in \u001b[0;36mexhaust\u001b[0;34m(self)\u001b[0m\n\u001b[1;32m    274\u001b[0m     \u001b[0;32mdef\u001b[0m \u001b[0mexhaust\u001b[0m\u001b[0;34m(\u001b[0m\u001b[0mself\u001b[0m\u001b[0;34m)\u001b[0m\u001b[0;34m:\u001b[0m\u001b[0;34m\u001b[0m\u001b[0;34m\u001b[0m\u001b[0m\n\u001b[1;32m    275\u001b[0m         \u001b[0mn_done\u001b[0m \u001b[0;34m=\u001b[0m \u001b[0mlen\u001b[0m\u001b[0;34m(\u001b[0m\u001b[0mself\u001b[0m\u001b[0;34m.\u001b[0m\u001b[0mtrials\u001b[0m\u001b[0;34m)\u001b[0m\u001b[0;34m\u001b[0m\u001b[0;34m\u001b[0m\u001b[0m\n\u001b[0;32m--> 276\u001b[0;31m         \u001b[0mself\u001b[0m\u001b[0;34m.\u001b[0m\u001b[0mrun\u001b[0m\u001b[0;34m(\u001b[0m\u001b[0mself\u001b[0m\u001b[0;34m.\u001b[0m\u001b[0mmax_evals\u001b[0m \u001b[0;34m-\u001b[0m \u001b[0mn_done\u001b[0m\u001b[0;34m,\u001b[0m \u001b[0mblock_until_done\u001b[0m\u001b[0;34m=\u001b[0m\u001b[0mself\u001b[0m\u001b[0;34m.\u001b[0m\u001b[0masynchronous\u001b[0m\u001b[0;34m)\u001b[0m\u001b[0;34m\u001b[0m\u001b[0;34m\u001b[0m\u001b[0m\n\u001b[0m\u001b[1;32m    277\u001b[0m         \u001b[0mself\u001b[0m\u001b[0;34m.\u001b[0m\u001b[0mtrials\u001b[0m\u001b[0;34m.\u001b[0m\u001b[0mrefresh\u001b[0m\u001b[0;34m(\u001b[0m\u001b[0;34m)\u001b[0m\u001b[0;34m\u001b[0m\u001b[0;34m\u001b[0m\u001b[0m\n\u001b[1;32m    278\u001b[0m         \u001b[0;32mreturn\u001b[0m \u001b[0mself\u001b[0m\u001b[0;34m\u001b[0m\u001b[0;34m\u001b[0m\u001b[0m\n",
        "\u001b[0;32m~/anaconda3/lib/python3.7/site-packages/hyperopt/fmin.py\u001b[0m in \u001b[0;36mrun\u001b[0;34m(self, N, block_until_done)\u001b[0m\n\u001b[1;32m    239\u001b[0m                     \u001b[0;32melse\u001b[0m\u001b[0;34m:\u001b[0m\u001b[0;34m\u001b[0m\u001b[0;34m\u001b[0m\u001b[0m\n\u001b[1;32m    240\u001b[0m                         \u001b[0;31m# -- loop over trials and do the jobs directly\u001b[0m\u001b[0;34m\u001b[0m\u001b[0;34m\u001b[0m\u001b[0;34m\u001b[0m\u001b[0m\n\u001b[0;32m--> 241\u001b[0;31m                         \u001b[0mself\u001b[0m\u001b[0;34m.\u001b[0m\u001b[0mserial_evaluate\u001b[0m\u001b[0;34m(\u001b[0m\u001b[0;34m)\u001b[0m\u001b[0;34m\u001b[0m\u001b[0;34m\u001b[0m\u001b[0m\n\u001b[0m\u001b[1;32m    242\u001b[0m \u001b[0;34m\u001b[0m\u001b[0m\n\u001b[1;32m    243\u001b[0m                     \u001b[0;32mtry\u001b[0m\u001b[0;34m:\u001b[0m\u001b[0;34m\u001b[0m\u001b[0;34m\u001b[0m\u001b[0m\n",
        "\u001b[0;32m~/anaconda3/lib/python3.7/site-packages/hyperopt/fmin.py\u001b[0m in \u001b[0;36mserial_evaluate\u001b[0;34m(self, N)\u001b[0m\n\u001b[1;32m    139\u001b[0m                 \u001b[0mctrl\u001b[0m \u001b[0;34m=\u001b[0m \u001b[0mbase\u001b[0m\u001b[0;34m.\u001b[0m\u001b[0mCtrl\u001b[0m\u001b[0;34m(\u001b[0m\u001b[0mself\u001b[0m\u001b[0;34m.\u001b[0m\u001b[0mtrials\u001b[0m\u001b[0;34m,\u001b[0m \u001b[0mcurrent_trial\u001b[0m\u001b[0;34m=\u001b[0m\u001b[0mtrial\u001b[0m\u001b[0;34m)\u001b[0m\u001b[0;34m\u001b[0m\u001b[0;34m\u001b[0m\u001b[0m\n\u001b[1;32m    140\u001b[0m                 \u001b[0;32mtry\u001b[0m\u001b[0;34m:\u001b[0m\u001b[0;34m\u001b[0m\u001b[0;34m\u001b[0m\u001b[0m\n\u001b[0;32m--> 141\u001b[0;31m                     \u001b[0mresult\u001b[0m \u001b[0;34m=\u001b[0m \u001b[0mself\u001b[0m\u001b[0;34m.\u001b[0m\u001b[0mdomain\u001b[0m\u001b[0;34m.\u001b[0m\u001b[0mevaluate\u001b[0m\u001b[0;34m(\u001b[0m\u001b[0mspec\u001b[0m\u001b[0;34m,\u001b[0m \u001b[0mctrl\u001b[0m\u001b[0;34m)\u001b[0m\u001b[0;34m\u001b[0m\u001b[0;34m\u001b[0m\u001b[0m\n\u001b[0m\u001b[1;32m    142\u001b[0m                 \u001b[0;32mexcept\u001b[0m \u001b[0mException\u001b[0m \u001b[0;32mas\u001b[0m \u001b[0me\u001b[0m\u001b[0;34m:\u001b[0m\u001b[0;34m\u001b[0m\u001b[0;34m\u001b[0m\u001b[0m\n\u001b[1;32m    143\u001b[0m                     \u001b[0mlogger\u001b[0m\u001b[0;34m.\u001b[0m\u001b[0minfo\u001b[0m\u001b[0;34m(\u001b[0m\u001b[0;34m'job exception: %s'\u001b[0m \u001b[0;34m%\u001b[0m \u001b[0mstr\u001b[0m\u001b[0;34m(\u001b[0m\u001b[0me\u001b[0m\u001b[0;34m)\u001b[0m\u001b[0;34m)\u001b[0m\u001b[0;34m\u001b[0m\u001b[0;34m\u001b[0m\u001b[0m\n",
        "\u001b[0;32m~/anaconda3/lib/python3.7/site-packages/hyperopt/base.py\u001b[0m in \u001b[0;36mevaluate\u001b[0;34m(self, config, ctrl, attach_attachments)\u001b[0m\n\u001b[1;32m    854\u001b[0m                 \u001b[0mmemo\u001b[0m\u001b[0;34m=\u001b[0m\u001b[0mmemo\u001b[0m\u001b[0;34m,\u001b[0m\u001b[0;34m\u001b[0m\u001b[0;34m\u001b[0m\u001b[0m\n\u001b[1;32m    855\u001b[0m                 print_node_on_error=self.rec_eval_print_node_on_error)\n\u001b[0;32m--> 856\u001b[0;31m             \u001b[0mrval\u001b[0m \u001b[0;34m=\u001b[0m \u001b[0mself\u001b[0m\u001b[0;34m.\u001b[0m\u001b[0mfn\u001b[0m\u001b[0;34m(\u001b[0m\u001b[0mpyll_rval\u001b[0m\u001b[0;34m)\u001b[0m\u001b[0;34m\u001b[0m\u001b[0;34m\u001b[0m\u001b[0m\n\u001b[0m\u001b[1;32m    857\u001b[0m \u001b[0;34m\u001b[0m\u001b[0m\n\u001b[1;32m    858\u001b[0m         \u001b[0;32mif\u001b[0m \u001b[0misinstance\u001b[0m\u001b[0;34m(\u001b[0m\u001b[0mrval\u001b[0m\u001b[0;34m,\u001b[0m \u001b[0;34m(\u001b[0m\u001b[0mfloat\u001b[0m\u001b[0;34m,\u001b[0m \u001b[0mint\u001b[0m\u001b[0;34m,\u001b[0m \u001b[0mnp\u001b[0m\u001b[0;34m.\u001b[0m\u001b[0mnumber\u001b[0m\u001b[0;34m)\u001b[0m\u001b[0;34m)\u001b[0m\u001b[0;34m:\u001b[0m\u001b[0;34m\u001b[0m\u001b[0;34m\u001b[0m\u001b[0m\n",
        "\u001b[0;32m<ipython-input-6-606dd53b507d>\u001b[0m in \u001b[0;36mobjective\u001b[0;34m(space)\u001b[0m\n\u001b[1;32m     24\u001b[0m \u001b[0;34m\u001b[0m\u001b[0m\n\u001b[1;32m     25\u001b[0m     \u001b[0mpred\u001b[0m \u001b[0;34m=\u001b[0m \u001b[0mclf\u001b[0m\u001b[0;34m.\u001b[0m\u001b[0mpredict\u001b[0m\u001b[0;34m(\u001b[0m\u001b[0mX_test\u001b[0m\u001b[0;34m)\u001b[0m\u001b[0;34m\u001b[0m\u001b[0;34m\u001b[0m\u001b[0m\n\u001b[0;32m---> 26\u001b[0;31m     \u001b[0mauc\u001b[0m \u001b[0;34m=\u001b[0m \u001b[0mroc_auc_score\u001b[0m\u001b[0;34m(\u001b[0m\u001b[0my_test\u001b[0m\u001b[0;34m,\u001b[0m \u001b[0mpred\u001b[0m\u001b[0;34m)\u001b[0m\u001b[0;34m\u001b[0m\u001b[0;34m\u001b[0m\u001b[0m\n\u001b[0m\u001b[1;32m     27\u001b[0m     \u001b[0;31m# change the metric if you like\u001b[0m\u001b[0;34m\u001b[0m\u001b[0;34m\u001b[0m\u001b[0;34m\u001b[0m\u001b[0m\n\u001b[1;32m     28\u001b[0m     \u001b[0;32mreturn\u001b[0m \u001b[0;34m{\u001b[0m\u001b[0;34m\"loss\"\u001b[0m\u001b[0;34m:\u001b[0m \u001b[0mauc\u001b[0m\u001b[0;34m,\u001b[0m \u001b[0;34m\"status\"\u001b[0m\u001b[0;34m:\u001b[0m \u001b[0mSTATUS_OK\u001b[0m\u001b[0;34m}\u001b[0m\u001b[0;34m\u001b[0m\u001b[0;34m\u001b[0m\u001b[0m\n",
        "\u001b[0;31mNameError\u001b[0m: name 'roc_auc_score' is not defined"
       ]
      }
     ],
     "persistentId": "e6746755-3f43-48da-b7d8-617bf323bee0",
     "text": "def objective(space):\n    print(space)\n    clf = XGBClassifier(\n        n_estimators=1000,\n        colsample_bytree=space[\"colsample_bytree\"],\n        learning_rate=0.3,\n        max_depth=int(space[\"max_depth\"]),\n        min_child_weight=space[\"min_child_weight\"],\n        subsample=space[\"subsample\"],\n        gamma=space[\"gamma\"],\n        reg_lambda=space[\"reg_lambda\"],\n    )\n\n    eval_set = [(X_train, y_train), (X_test, y_test)]\n\n    clf.fit(\n        X_train,\n        y_train,\n        eval_set=eval_set,\n        eval_metric=\"auc\",\n        early_stopping_rounds=10,\n        verbose=False,\n    )\n\n    pred = clf.predict(X_test)\n    auc = roc_auc_score(y_test, pred)\n    # change the metric if you like\n    return {\"loss\": auc, \"status\": STATUS_OK}\n\n\nspace = {\n    \"max_depth\": hp.quniform(\"x_max_depth\", 4, 16, 1),\n    \"min_child_weight\": hp.quniform(\"x_min_child\", 1, 10, 1),\n    \"subsample\": hp.uniform(\"x_subsample\", 0.7, 1),\n    \"gamma\": hp.uniform(\"x_gamma\", 0.1, 0.5),\n    \"colsample_bytree\": hp.uniform(\"x_colsample_bytree\", 0.7, 1),\n    \"reg_lambda\": hp.uniform(\"x_reg_lambda\", 0, 1),\n}\n\n\ntrials = Trials()\nbest = fmin(fn=objective, space=space, algo=tpe.suggest, max_evals=100, trials=trials)\n\nprint(best)"
    },
    "executionTime": "2020-03-27T21:34:53.977Z"
   },
   {
    "cell": {
     "executionCount": 7,
     "executionEventId": "bb967f98-5866-46ec-8e5b-3dd218498f27",
     "hasError": false,
     "id": "339ba991-ff3f-47ff-afd8-b44fbb155509",
     "outputs": [],
     "persistentId": "697769e3-f191-4d4d-b312-1af366bccc3f",
     "text": "from sklearn.metrics import roc_auc_score "
    },
    "executionTime": "2020-03-27T21:35:30.927Z"
   },
   {
    "cell": {
     "executionCount": 8,
     "executionEventId": "74e24b5e-3793-47c0-b483-2864a4cc3012",
     "hasError": false,
     "id": "7ca21603-d764-42d2-a01d-91dee15c7e7d",
     "outputs": [
      {
       "name": "stdout",
       "output_type": "stream",
       "text": "{'colsample_bytree': 0.7511771928661157, 'gamma': 0.18246428264170678, 'max_depth': 6.0, 'min_child_weight': 9.0, 'reg_lambda': 0.21749902866913784, 'subsample': 0.7438236505348625}\n{'colsample_bytree': 0.8239294734997253, 'gamma': 0.22170708401986752, 'max_depth': 14.0, 'min_child_weight': 3.0, 'reg_lambda': 0.5040056359946042, 'subsample': 0.8270210061349962}\n{'colsample_bytree': 0.8096582545839401, 'gamma': 0.34134760060727604, 'max_depth': 10.0, 'min_child_weight': 5.0, 'reg_lambda': 0.27615742245091124, 'subsample': 0.9204103650405631}\n{'colsample_bytree': 0.9411081712623911, 'gamma': 0.39854577547061965, 'max_depth': 8.0, 'min_child_weight': 4.0, 'reg_lambda': 0.3525320462248235, 'subsample': 0.8594936284233128}\n{'colsample_bytree': 0.8434150697837562, 'gamma': 0.2544906781755325, 'max_depth': 10.0, 'min_child_weight': 5.0, 'reg_lambda': 0.395523404313577, 'subsample': 0.9426530122965565}\n{'colsample_bytree': 0.7038179487777073, 'gamma': 0.43565140983295214, 'max_depth': 12.0, 'min_child_weight': 10.0, 'reg_lambda': 0.6150614583017611, 'subsample': 0.7586029343946098}\n{'colsample_bytree': 0.9833079433818581, 'gamma': 0.4611158399135824, 'max_depth': 6.0, 'min_child_weight': 8.0, 'reg_lambda': 0.7791053899662005, 'subsample': 0.782708592784466}\n{'colsample_bytree': 0.7633597025527086, 'gamma': 0.3012286166078493, 'max_depth': 8.0, 'min_child_weight': 4.0, 'reg_lambda': 0.22797118388116144, 'subsample': 0.8023790659282322}\n{'colsample_bytree': 0.7614202951286332, 'gamma': 0.3174320815138919, 'max_depth': 7.0, 'min_child_weight': 6.0, 'reg_lambda': 0.8688649122362452, 'subsample': 0.7543817076860959}\n{'colsample_bytree': 0.7656927683556896, 'gamma': 0.4234279282543202, 'max_depth': 11.0, 'min_child_weight': 10.0, 'reg_lambda': 0.5512468904050326, 'subsample': 0.978244982206098}\n{'colsample_bytree': 0.8094483114902297, 'gamma': 0.25645743327577086, 'max_depth': 8.0, 'min_child_weight': 7.0, 'reg_lambda': 0.9818269848501718, 'subsample': 0.9288967025051627}\n{'colsample_bytree': 0.8050169739248721, 'gamma': 0.3667004547725615, 'max_depth': 7.0, 'min_child_weight': 9.0, 'reg_lambda': 0.3431573900039706, 'subsample': 0.7843469265553961}\n{'colsample_bytree': 0.7024024652626174, 'gamma': 0.25723099773244895, 'max_depth': 7.0, 'min_child_weight': 3.0, 'reg_lambda': 0.7667973654804281, 'subsample': 0.762610773744584}\n{'colsample_bytree': 0.9447042354051916, 'gamma': 0.39042158077167677, 'max_depth': 12.0, 'min_child_weight': 7.0, 'reg_lambda': 0.8779595681640134, 'subsample': 0.8829455771519836}\n{'colsample_bytree': 0.9086646573558044, 'gamma': 0.4854544021546595, 'max_depth': 6.0, 'min_child_weight': 8.0, 'reg_lambda': 0.7000500438942779, 'subsample': 0.7724921421930798}\n{'colsample_bytree': 0.7234800361014995, 'gamma': 0.2043162612025684, 'max_depth': 11.0, 'min_child_weight': 9.0, 'reg_lambda': 0.3050142698641335, 'subsample': 0.7927262123772438}\n{'colsample_bytree': 0.8268142869881189, 'gamma': 0.3463820543847596, 'max_depth': 13.0, 'min_child_weight': 2.0, 'reg_lambda': 0.6403800346110411, 'subsample': 0.8107973792585691}\n{'colsample_bytree': 0.7358187740370561, 'gamma': 0.38809623810105975, 'max_depth': 14.0, 'min_child_weight': 4.0, 'reg_lambda': 0.7405435168269229, 'subsample': 0.8317947731236475}\n{'colsample_bytree': 0.9456228018003296, 'gamma': 0.4006008632790127, 'max_depth': 15.0, 'min_child_weight': 5.0, 'reg_lambda': 0.08182544037588557, 'subsample': 0.7722221230530113}\n{'colsample_bytree': 0.9753352531284705, 'gamma': 0.18577568665814384, 'max_depth': 4.0, 'min_child_weight': 3.0, 'reg_lambda': 0.22530382794726134, 'subsample': 0.8497864334082602}\n{'colsample_bytree': 0.7132061972373562, 'gamma': 0.16166437020274316, 'max_depth': 4.0, 'min_child_weight': 10.0, 'reg_lambda': 0.005961498362289985, 'subsample': 0.7121747977404194}\n{'colsample_bytree': 0.8687058614779366, 'gamma': 0.11180767343338927, 'max_depth': 12.0, 'min_child_weight': 9.0, 'reg_lambda': 0.5984744221890214, 'subsample': 0.70955088533872}\n{'colsample_bytree': 0.7514498752377886, 'gamma': 0.10746788806117474, 'max_depth': 5.0, 'min_child_weight': 10.0, 'reg_lambda': 0.44217057870302756, 'subsample': 0.7295205500438692}\n{'colsample_bytree': 0.7767611636376734, 'gamma': 0.11192147519121705, 'max_depth': 5.0, 'min_child_weight': 8.0, 'reg_lambda': 0.11716767321467761, 'subsample': 0.7323815908723517}\n{'colsample_bytree': 0.8760468520998546, 'gamma': 0.1518519953940772, 'max_depth': 5.0, 'min_child_weight': 7.0, 'reg_lambda': 0.4395081015232208, 'subsample': 0.7299130827298949}\n{'colsample_bytree': 0.7461795616631302, 'gamma': 0.1446445605114624, 'max_depth': 5.0, 'min_child_weight': 9.0, 'reg_lambda': 0.14834087476100982, 'subsample': 0.7025869373899329}\n{'colsample_bytree': 0.7903648664466814, 'gamma': 0.10217656741296338, 'max_depth': 9.0, 'min_child_weight': 10.0, 'reg_lambda': 0.023238907200904796, 'subsample': 0.7009658616272371}\n{'colsample_bytree': 0.7392724537396154, 'gamma': 0.13119336802287074, 'max_depth': 6.0, 'min_child_weight': 6.0, 'reg_lambda': 0.4620986092581065, 'subsample': 0.7361326492560916}\n{'colsample_bytree': 0.7849840550593005, 'gamma': 0.22871388376995566, 'max_depth': 4.0, 'min_child_weight': 9.0, 'reg_lambda': 0.16631081314479265, 'subsample': 0.7029815199910502}\n{'colsample_bytree': 0.8432188352881456, 'gamma': 0.18631205957117863, 'max_depth': 9.0, 'min_child_weight': 8.0, 'reg_lambda': 0.009680722773428907, 'subsample': 0.8187767098660104}\n{'colsample_bytree': 0.7934443536739344, 'gamma': 0.22690811672240613, 'max_depth': 9.0, 'min_child_weight': 1.0, 'reg_lambda': 0.07619899781898473, 'subsample': 0.8887559330209588}\n{'colsample_bytree': 0.8250349174117836, 'gamma': 0.2852810341755675, 'max_depth': 4.0, 'min_child_weight': 7.0, 'reg_lambda': 0.18145336462916847, 'subsample': 0.7492156440140713}\n{'colsample_bytree': 0.8757057140248592, 'gamma': 0.22907084792785376, 'max_depth': 16.0, 'min_child_weight': 6.0, 'reg_lambda': 0.2549286620122001, 'subsample': 0.9985066288121354}\n{'colsample_bytree': 0.7258065536798277, 'gamma': 0.1798648965518715, 'max_depth': 5.0, 'min_child_weight': 10.0, 'reg_lambda': 0.5143152060571301, 'subsample': 0.8456916194376409}\n{'colsample_bytree': 0.8982242428257785, 'gamma': 0.1273768820601336, 'max_depth': 6.0, 'min_child_weight': 8.0, 'reg_lambda': 0.4079448977870487, 'subsample': 0.8784630948243906}\n{'colsample_bytree': 0.7020049984918014, 'gamma': 0.1470759897362623, 'max_depth': 8.0, 'min_child_weight': 9.0, 'reg_lambda': 0.3111516926403017, 'subsample': 0.7164141946619268}\n{'colsample_bytree': 0.7522328043020433, 'gamma': 0.27512956971552205, 'max_depth': 7.0, 'min_child_weight': 10.0, 'reg_lambda': 0.3696993106540536, 'subsample': 0.7453600775603365}\n{'colsample_bytree': 0.8396168923231351, 'gamma': 0.32033881764821714, 'max_depth': 10.0, 'min_child_weight': 5.0, 'reg_lambda': 0.3643139005612056, 'subsample': 0.8346884443714557}\n{'colsample_bytree': 0.7722204277773697, 'gamma': 0.28262769739130544, 'max_depth': 7.0, 'min_child_weight': 8.0, 'reg_lambda': 0.2732235064179147, 'subsample': 0.9053547472251868}\n{'colsample_bytree': 0.8607293060418113, 'gamma': 0.26325907993956105, 'max_depth': 9.0, 'min_child_weight': 10.0, 'reg_lambda': 0.49937099948133284, 'subsample': 0.7968859190905717}\n{'colsample_bytree': 0.754460762347473, 'gamma': 0.20626235928978348, 'max_depth': 8.0, 'min_child_weight': 6.0, 'reg_lambda': 0.21663817678942382, 'subsample': 0.9649412306355628}\n{'colsample_bytree': 0.8035745048233303, 'gamma': 0.3293740184635106, 'max_depth': 11.0, 'min_child_weight': 4.0, 'reg_lambda': 0.5743899844816165, 'subsample': 0.7504064952947734}\n{'colsample_bytree': 0.7286242872637468, 'gamma': 0.3017369235115187, 'max_depth': 7.0, 'min_child_weight': 7.0, 'reg_lambda': 0.3841819703046842, 'subsample': 0.8591469867082534}\n{'colsample_bytree': 0.8990525051571884, 'gamma': 0.24226637347635435, 'max_depth': 6.0, 'min_child_weight': 9.0, 'reg_lambda': 0.3229965902703107, 'subsample': 0.7729347145120052}\n{'colsample_bytree': 0.713569051558739, 'gamma': 0.3515401789713943, 'max_depth': 7.0, 'min_child_weight': 1.0, 'reg_lambda': 0.6494617092447734, 'subsample': 0.8078935329354465}\n{'colsample_bytree': 0.8176824861381234, 'gamma': 0.279834929919789, 'max_depth': 10.0, 'min_child_weight': 2.0, 'reg_lambda': 0.829259097707877, 'subsample': 0.7617748332786111}\n{'colsample_bytree': 0.7613263457970861, 'gamma': 0.4596426590243244, 'max_depth': 8.0, 'min_child_weight': 8.0, 'reg_lambda': 0.07531112215368452, 'subsample': 0.7855775511964078}\n{'colsample_bytree': 0.9252550640216187, 'gamma': 0.20540774578921436, 'max_depth': 6.0, 'min_child_weight': 10.0, 'reg_lambda': 0.5127216886700805, 'subsample': 0.9385007986244682}\n{'colsample_bytree': 0.7114477165270582, 'gamma': 0.37404097868047015, 'max_depth': 7.0, 'min_child_weight': 7.0, 'reg_lambda': 0.19753617680650512, 'subsample': 0.7383959590075728}\n{'colsample_bytree': 0.9682421581295765, 'gamma': 0.25538468892087046, 'max_depth': 10.0, 'min_child_weight': 9.0, 'reg_lambda': 0.6911476781845889, 'subsample': 0.7212309689106268}\n{'colsample_bytree': 0.800576577570998, 'gamma': 0.16951009436586362, 'max_depth': 11.0, 'min_child_weight': 5.0, 'reg_lambda': 0.9670418672614673, 'subsample': 0.8229544147604102}\n{'colsample_bytree': 0.708713937020822, 'gamma': 0.41973040280399465, 'max_depth': 13.0, 'min_child_weight': 7.0, 'reg_lambda': 0.043711275787507525, 'subsample': 0.8662181215451298}\n{'colsample_bytree': 0.7774861449328229, 'gamma': 0.367859243443169, 'max_depth': 9.0, 'min_child_weight': 6.0, 'reg_lambda': 0.12609670711776616, 'subsample': 0.7733131358508012}\n{'colsample_bytree': 0.7185828907044556, 'gamma': 0.4536828341653112, 'max_depth': 8.0, 'min_child_weight': 7.0, 'reg_lambda': 0.1902253414753702, 'subsample': 0.9020543227556134}\n{'colsample_bytree': 0.7370505064020686, 'gamma': 0.48656574544226977, 'max_depth': 6.0, 'min_child_weight': 6.0, 'reg_lambda': 0.25898319456480196, 'subsample': 0.7883709305870114}\n{'colsample_bytree': 0.9938760707639749, 'gamma': 0.4100763168019299, 'max_depth': 4.0, 'min_child_weight': 4.0, 'reg_lambda': 0.1128640344032475, 'subsample': 0.7421385668920115}\n{'colsample_bytree': 0.8156797007723574, 'gamma': 0.3713931482414261, 'max_depth': 5.0, 'min_child_weight': 5.0, 'reg_lambda': 0.2931525226466162, 'subsample': 0.8390061030753309}\n{'colsample_bytree': 0.7006918515983341, 'gamma': 0.3043415826441308, 'max_depth': 5.0, 'min_child_weight': 7.0, 'reg_lambda': 0.21186379084432605, 'subsample': 0.7211716842777993}\n{'colsample_bytree': 0.8346468036213954, 'gamma': 0.4365839628020325, 'max_depth': 12.0, 'min_child_weight': 8.0, 'reg_lambda': 0.4042275018543223, 'subsample': 0.7616256110610556}\n{'colsample_bytree': 0.762420950846911, 'gamma': 0.30890025154850353, 'max_depth': 4.0, 'min_child_weight': 8.0, 'reg_lambda': 0.23139601509935204, 'subsample': 0.7251685488852427}\n{'colsample_bytree': 0.8567910936095701, 'gamma': 0.384960277482651, 'max_depth': 7.0, 'min_child_weight': 9.0, 'reg_lambda': 0.04484647943461617, 'subsample': 0.8026074971312117}\n{'colsample_bytree': 0.7441329856233456, 'gamma': 0.3293716592815116, 'max_depth': 5.0, 'min_child_weight': 3.0, 'reg_lambda': 0.33904027615844123, 'subsample': 0.7102948447185875}\n{'colsample_bytree': 0.7313267487275157, 'gamma': 0.4434036794199495, 'max_depth': 8.0, 'min_child_weight': 5.0, 'reg_lambda': 0.5504777824191524, 'subsample': 0.8137165649570799}\n{'colsample_bytree': 0.7834695494286534, 'gamma': 0.2951252267758171, 'max_depth': 5.0, 'min_child_weight': 6.0, 'reg_lambda': 0.4617641491991705, 'subsample': 0.9694117689165183}\n{'colsample_bytree': 0.7024929949399169, 'gamma': 0.24311006607291602, 'max_depth': 14.0, 'min_child_weight': 7.0, 'reg_lambda': 0.1489453500196421, 'subsample': 0.7536391053202042}\n{'colsample_bytree': 0.7499321936405021, 'gamma': 0.349403721960768, 'max_depth': 7.0, 'min_child_weight': 10.0, 'reg_lambda': 0.424360203864354, 'subsample': 0.7412405899361293}\n{'colsample_bytree': 0.7192194222260853, 'gamma': 0.3348175193364112, 'max_depth': 6.0, 'min_child_weight': 7.0, 'reg_lambda': 0.2206033180428623, 'subsample': 0.7769271348774157}\n{'colsample_bytree': 0.7094840534030983, 'gamma': 0.37946618773079926, 'max_depth': 4.0, 'min_child_weight': 8.0, 'reg_lambda': 0.10289210887275961, 'subsample': 0.7352082235457563}\n{'colsample_bytree': 0.767398327265467, 'gamma': 0.355020940096619, 'max_depth': 5.0, 'min_child_weight': 9.0, 'reg_lambda': 0.4276163889170205, 'subsample': 0.7197493763605303}\n{'colsample_bytree': 0.7937862868875599, 'gamma': 0.3975690984732103, 'max_depth': 6.0, 'min_child_weight': 10.0, 'reg_lambda': 0.485712136919466, 'subsample': 0.7717124675233122}\n{'colsample_bytree': 0.7470915781514904, 'gamma': 0.3286530113414337, 'max_depth': 9.0, 'min_child_weight': 10.0, 'reg_lambda': 0.34877576347278305, 'subsample': 0.7793656228187674}\n{'colsample_bytree': 0.7203161572848535, 'gamma': 0.3407393106767969, 'max_depth': 6.0, 'min_child_weight': 9.0, 'reg_lambda': 0.5500826171791091, 'subsample': 0.796952150170966}\n{'colsample_bytree': 0.8114091133308505, 'gamma': 0.3975448343305297, 'max_depth': 7.0, 'min_child_weight': 8.0, 'reg_lambda': 0.7962444514121887, 'subsample': 0.7056085074490039}\n{'colsample_bytree': 0.7974388403961404, 'gamma': 0.49724826438440894, 'max_depth': 6.0, 'min_child_weight': 10.0, 'reg_lambda': 0.6245818955116952, 'subsample': 0.8268747433142821}\n{'colsample_bytree': 0.7739597334036961, 'gamma': 0.411984347685233, 'max_depth': 8.0, 'min_child_weight': 9.0, 'reg_lambda': 0.48586854687363207, 'subsample': 0.7685503336023267}\n{'colsample_bytree': 0.8326556227045078, 'gamma': 0.47898294991651, 'max_depth': 7.0, 'min_child_weight': 8.0, 'reg_lambda': 0.9311642429471887, 'subsample': 0.755563768427939}\n{'colsample_bytree': 0.7893955571008855, 'gamma': 0.26943813234682795, 'max_depth': 4.0, 'min_child_weight': 10.0, 'reg_lambda': 0.37709952434653027, 'subsample': 0.7454355663329867}\n{'colsample_bytree': 0.7803263305266582, 'gamma': 0.291823455834792, 'max_depth': 6.0, 'min_child_weight': 9.0, 'reg_lambda': 0.7060808870470245, 'subsample': 0.8156487669074576}\n{'colsample_bytree': 0.7564583731205292, 'gamma': 0.19507976519008202, 'max_depth': 9.0, 'min_child_weight': 2.0, 'reg_lambda': 0.2956594732267678, 'subsample': 0.7270991575892333}\n{'colsample_bytree': 0.8529399359179706, 'gamma': 0.21340195482178653, 'max_depth': 4.0, 'min_child_weight': 10.0, 'reg_lambda': 0.5911460865856801, 'subsample': 0.8051928651388423}\n{'colsample_bytree': 0.788635373217966, 'gamma': 0.12418580577369083, 'max_depth': 4.0, 'min_child_weight': 9.0, 'reg_lambda': 0.32547828405849955, 'subsample': 0.7943615253662903}\n{'colsample_bytree': 0.8067997326992041, 'gamma': 0.26358913254385624, 'max_depth': 16.0, 'min_child_weight': 10.0, 'reg_lambda': 0.36355545153632374, 'subsample': 0.7433639017886521}\n{'colsample_bytree': 0.7343471456380753, 'gamma': 0.17216765063491596, 'max_depth': 8.0, 'min_child_weight': 7.0, 'reg_lambda': 0.24312193075826127, 'subsample': 0.8669591666231958}\n{'colsample_bytree': 0.751656337478274, 'gamma': 0.23999022545337587, 'max_depth': 11.0, 'min_child_weight': 10.0, 'reg_lambda': 0.4220468283634653, 'subsample': 0.7005552379764325}\n{'colsample_bytree': 0.8687536237663794, 'gamma': 0.31493940759600464, 'max_depth': 7.0, 'min_child_weight': 6.0, 'reg_lambda': 0.19391627604704897, 'subsample': 0.9990433369094291}\n{'colsample_bytree': 0.7272624990675436, 'gamma': 0.3583222259243482, 'max_depth': 10.0, 'min_child_weight': 8.0, 'reg_lambda': 0.26556906093396326, 'subsample': 0.7384126119564578}\n{'colsample_bytree': 0.7073013186377857, 'gamma': 0.21679894948871503, 'max_depth': 5.0, 'min_child_weight': 5.0, 'reg_lambda': 0.14392172759966493, 'subsample': 0.7119321306248088}\n{'colsample_bytree': 0.8895147104050156, 'gamma': 0.42732580271834936, 'max_depth': 5.0, 'min_child_weight': 4.0, 'reg_lambda': 0.02722193533866471, 'subsample': 0.7641967534209629}\n{'colsample_bytree': 0.7420537183066628, 'gamma': 0.3007523257730762, 'max_depth': 13.0, 'min_child_weight': 6.0, 'reg_lambda': 0.0853194926441771, 'subsample': 0.9225860617371454}\n{'colsample_bytree': 0.7669148274118233, 'gamma': 0.3631690148535607, 'max_depth': 9.0, 'min_child_weight': 8.0, 'reg_lambda': 0.1675503917938512, 'subsample': 0.7868411074385248}\n{'colsample_bytree': 0.8471046994147929, 'gamma': 0.39820715800820305, 'max_depth': 6.0, 'min_child_weight': 9.0, 'reg_lambda': 0.6740798780155484, 'subsample': 0.7172835817756149}\n{'colsample_bytree': 0.8209058337175746, 'gamma': 0.26645474416380116, 'max_depth': 4.0, 'min_child_weight': 9.0, 'reg_lambda': 0.4564533631446349, 'subsample': 0.8465905217714244}\n{'colsample_bytree': 0.9557235608508716, 'gamma': 0.37670966074860474, 'max_depth': 7.0, 'min_child_weight': 7.0, 'reg_lambda': 0.2948465911126785, 'subsample': 0.7294092177762684}\n{'colsample_bytree': 0.7589295009903377, 'gamma': 0.3434214621698578, 'max_depth': 5.0, 'min_child_weight': 8.0, 'reg_lambda': 0.4028983167448335, 'subsample': 0.9485485233587669}\n{'colsample_bytree': 0.7701320365407348, 'gamma': 0.15547667555215292, 'max_depth': 8.0, 'min_child_weight': 10.0, 'reg_lambda': 0.3859505162055008, 'subsample': 0.747044841384724}\n{'colsample_bytree': 0.7920600167391588, 'gamma': 0.13470759788359443, 'max_depth': 15.0, 'min_child_weight': 10.0, 'reg_lambda': 0.5328554375416454, 'subsample': 0.7667666513383833}\n{'colsample_bytree': 0.8292222082757221, 'gamma': 0.10048123507922446, 'max_depth': 4.0, 'min_child_weight': 10.0, 'reg_lambda': 0.4820342371354534, 'subsample': 0.8558793058571251}\n{'colsample_bytree': 0.8387921665759179, 'gamma': 0.15224885943307293, 'max_depth': 8.0, 'min_child_weight': 10.0, 'reg_lambda': 0.3817574362897961, 'subsample': 0.7545298474520942}\n{'colsample_bytree': 0.8128282624508799, 'gamma': 0.13751718938085297, 'max_depth': 15.0, 'min_child_weight': 9.0, 'reg_lambda': 0.5307292767503293, 'subsample': 0.7796376943485949}\n{'colsample_bytree': 0.712285818905847, 'gamma': 0.1917594378821466, 'max_depth': 9.0, 'min_child_weight': 7.0, 'reg_lambda': 0.2809548059429055, 'subsample': 0.8235254201209341}\n100%|██████████| 100/100 [00:03<00:00, 31.15it/s, best loss: 0.8054298642533937]\n{'x_colsample_bytree': 0.7511771928661157, 'x_gamma': 0.18246428264170678, 'x_max_depth': 6.0, 'x_min_child': 9.0, 'x_reg_lambda': 0.21749902866913784, 'x_subsample': 0.7438236505348625}\n"
      }
     ],
     "persistentId": "e6746755-3f43-48da-b7d8-617bf323bee0",
     "text": "def objective(space):\n    print(space)\n    clf = XGBClassifier(\n        n_estimators=1000,\n        colsample_bytree=space[\"colsample_bytree\"],\n        learning_rate=0.3,\n        max_depth=int(space[\"max_depth\"]),\n        min_child_weight=space[\"min_child_weight\"],\n        subsample=space[\"subsample\"],\n        gamma=space[\"gamma\"],\n        reg_lambda=space[\"reg_lambda\"],\n    )\n\n    eval_set = [(X_train, y_train), (X_test, y_test)]\n\n    clf.fit(\n        X_train,\n        y_train,\n        eval_set=eval_set,\n        eval_metric=\"auc\",\n        early_stopping_rounds=10,\n        verbose=False,\n    )\n\n    pred = clf.predict(X_test)\n    auc = roc_auc_score(y_test, pred)\n    # change the metric if you like\n    return {\"loss\": auc, \"status\": STATUS_OK}\n\n\nspace = {\n    \"max_depth\": hp.quniform(\"x_max_depth\", 4, 16, 1),\n    \"min_child_weight\": hp.quniform(\"x_min_child\", 1, 10, 1),\n    \"subsample\": hp.uniform(\"x_subsample\", 0.7, 1),\n    \"gamma\": hp.uniform(\"x_gamma\", 0.1, 0.5),\n    \"colsample_bytree\": hp.uniform(\"x_colsample_bytree\", 0.7, 1),\n    \"reg_lambda\": hp.uniform(\"x_reg_lambda\", 0, 1),\n}\n\n\ntrials = Trials()\nbest = fmin(fn=objective, space=space, algo=tpe.suggest, max_evals=100, trials=trials)\n\nprint(best)"
    },
    "executionTime": "2020-03-27T21:35:34.977Z"
   },
   {
    "cell": {
     "executionCount": 9,
     "executionEventId": "954807cb-deb5-4c23-b24a-9e3fd1f93423",
     "hasError": false,
     "id": "7ca21603-d764-42d2-a01d-91dee15c7e7d",
     "outputs": [
      {
       "name": "stdout",
       "output_type": "stream",
       "text": "{'colsample_bytree': 0.9043393828619586, 'gamma': 0.3696797892728869, 'max_depth': 12.0, 'min_child_weight': 8.0, 'reg_lambda': 0.8142386150966646, 'subsample': 0.8353826910402901}\n{'colsample_bytree': 0.9710650385908284, 'gamma': 0.4477479631828237, 'max_depth': 11.0, 'min_child_weight': 4.0, 'reg_lambda': 0.30968836836706304, 'subsample': 0.9459644567455435}\n{'colsample_bytree': 0.7246610245551822, 'gamma': 0.24285755921593535, 'max_depth': 10.0, 'min_child_weight': 8.0, 'reg_lambda': 0.3917091399716365, 'subsample': 0.8494856366302259}\n{'colsample_bytree': 0.8269274214996624, 'gamma': 0.27438443872207974, 'max_depth': 16.0, 'min_child_weight': 2.0, 'reg_lambda': 0.5538153717821679, 'subsample': 0.975786949836041}\n{'colsample_bytree': 0.7247800104069839, 'gamma': 0.13151077550375767, 'max_depth': 7.0, 'min_child_weight': 4.0, 'reg_lambda': 0.4585239112069729, 'subsample': 0.9752768048651301}\n{'colsample_bytree': 0.9878555038348578, 'gamma': 0.4806008100727833, 'max_depth': 4.0, 'min_child_weight': 10.0, 'reg_lambda': 0.14680826844506967, 'subsample': 0.805477180637616}\n{'colsample_bytree': 0.9779180447716229, 'gamma': 0.4983272783599272, 'max_depth': 7.0, 'min_child_weight': 9.0, 'reg_lambda': 0.4083894463447948, 'subsample': 0.8023480770324058}\n{'colsample_bytree': 0.952286829048299, 'gamma': 0.2400261840338697, 'max_depth': 7.0, 'min_child_weight': 6.0, 'reg_lambda': 0.047457542144381915, 'subsample': 0.8932744992980273}\n{'colsample_bytree': 0.8448558659749091, 'gamma': 0.10839947388399294, 'max_depth': 8.0, 'min_child_weight': 1.0, 'reg_lambda': 0.14238049412732467, 'subsample': 0.7804309448724248}\n{'colsample_bytree': 0.7751115993084602, 'gamma': 0.37789684161075654, 'max_depth': 11.0, 'min_child_weight': 9.0, 'reg_lambda': 0.41096082384122934, 'subsample': 0.9619824588472475}\n{'colsample_bytree': 0.7400851194902933, 'gamma': 0.10430376964189124, 'max_depth': 16.0, 'min_child_weight': 3.0, 'reg_lambda': 0.5965533028047515, 'subsample': 0.8825036838364014}\n{'colsample_bytree': 0.9585890464000639, 'gamma': 0.24867792793817647, 'max_depth': 4.0, 'min_child_weight': 5.0, 'reg_lambda': 0.3446988640417613, 'subsample': 0.7586544628492846}\n{'colsample_bytree': 0.7650067575160022, 'gamma': 0.4507647007175336, 'max_depth': 13.0, 'min_child_weight': 5.0, 'reg_lambda': 0.7540803315212559, 'subsample': 0.743162499934488}\n{'colsample_bytree': 0.9827997466775389, 'gamma': 0.27892745818496445, 'max_depth': 15.0, 'min_child_weight': 4.0, 'reg_lambda': 0.9888364266780234, 'subsample': 0.9140098557283587}\n{'colsample_bytree': 0.7672304631187987, 'gamma': 0.2876729682642161, 'max_depth': 5.0, 'min_child_weight': 9.0, 'reg_lambda': 0.05835219747472209, 'subsample': 0.9351913345929654}\n{'colsample_bytree': 0.7352565608283932, 'gamma': 0.4408190691067396, 'max_depth': 9.0, 'min_child_weight': 8.0, 'reg_lambda': 0.898029010304881, 'subsample': 0.8390472054666027}\n{'colsample_bytree': 0.7149458852414248, 'gamma': 0.4919276976788025, 'max_depth': 4.0, 'min_child_weight': 4.0, 'reg_lambda': 0.5069634496760874, 'subsample': 0.7680178740764566}\n{'colsample_bytree': 0.8642323919214703, 'gamma': 0.11769368304125659, 'max_depth': 6.0, 'min_child_weight': 4.0, 'reg_lambda': 0.787052615447642, 'subsample': 0.8318253806239244}\n{'colsample_bytree': 0.9168962162399428, 'gamma': 0.1691339060778252, 'max_depth': 5.0, 'min_child_weight': 9.0, 'reg_lambda': 0.5675327383240467, 'subsample': 0.85513482620473}\n{'colsample_bytree': 0.7316071180163345, 'gamma': 0.2875976504052501, 'max_depth': 9.0, 'min_child_weight': 8.0, 'reg_lambda': 0.728791017999252, 'subsample': 0.9965329485346256}\n{'colsample_bytree': 0.919171103842657, 'gamma': 0.3764391795068027, 'max_depth': 13.0, 'min_child_weight': 6.0, 'reg_lambda': 0.2711912951383637, 'subsample': 0.7119504606104795}\n{'colsample_bytree': 0.9993596541802833, 'gamma': 0.42888666157056043, 'max_depth': 11.0, 'min_child_weight': 7.0, 'reg_lambda': 0.2631613092217399, 'subsample': 0.7988119192167789}\n{'colsample_bytree': 0.9505238656996354, 'gamma': 0.33473346238173485, 'max_depth': 14.0, 'min_child_weight': 2.0, 'reg_lambda': 0.256366669980528, 'subsample': 0.7222207763175432}\n{'colsample_bytree': 0.8864871700623431, 'gamma': 0.40958679603374987, 'max_depth': 9.0, 'min_child_weight': 3.0, 'reg_lambda': 0.16741154348074222, 'subsample': 0.9308964351767104}\n{'colsample_bytree': 0.9706918822796624, 'gamma': 0.47148413500283604, 'max_depth': 11.0, 'min_child_weight': 7.0, 'reg_lambda': 0.6387016372358945, 'subsample': 0.8876518926511486}\n{'colsample_bytree': 0.9347170662262213, 'gamma': 0.3300290890283053, 'max_depth': 7.0, 'min_child_weight': 3.0, 'reg_lambda': 0.35361795094242415, 'subsample': 0.811053054189919}\n{'colsample_bytree': 0.8156894419627655, 'gamma': 0.4853517681359103, 'max_depth': 10.0, 'min_child_weight': 1.0, 'reg_lambda': 0.6787759764351569, 'subsample': 0.9980265986436813}\n{'colsample_bytree': 0.8808578882866026, 'gamma': 0.4061091517239364, 'max_depth': 8.0, 'min_child_weight': 6.0, 'reg_lambda': 0.47617089738408624, 'subsample': 0.8663162936713278}\n{'colsample_bytree': 0.9982856275459497, 'gamma': 0.33780771723187825, 'max_depth': 12.0, 'min_child_weight': 7.0, 'reg_lambda': 0.22508128724706478, 'subsample': 0.8229675676955981}\n{'colsample_bytree': 0.908644321667774, 'gamma': 0.199083576174634, 'max_depth': 12.0, 'min_child_weight': 10.0, 'reg_lambda': 0.3488360811308562, 'subsample': 0.9111467645964929}\n{'colsample_bytree': 0.9337416948441019, 'gamma': 0.40292131715295615, 'max_depth': 8.0, 'min_child_weight': 5.0, 'reg_lambda': 0.4275049801354701, 'subsample': 0.7837181240136692}\n{'colsample_bytree': 0.8933373732649758, 'gamma': 0.45985507729755004, 'max_depth': 10.0, 'min_child_weight': 2.0, 'reg_lambda': 0.518394268865523, 'subsample': 0.9522100951011581}\n{'colsample_bytree': 0.973447997244132, 'gamma': 0.49887186340545064, 'max_depth': 6.0, 'min_child_weight': 5.0, 'reg_lambda': 0.30930622723234397, 'subsample': 0.7422101048508561}\n{'colsample_bytree': 0.8109775750555788, 'gamma': 0.42599988213693973, 'max_depth': 13.0, 'min_child_weight': 3.0, 'reg_lambda': 0.10102344150946152, 'subsample': 0.8603950651845224}\n{'colsample_bytree': 0.9341500038193988, 'gamma': 0.313646682467995, 'max_depth': 6.0, 'min_child_weight': 2.0, 'reg_lambda': 0.2077000500046574, 'subsample': 0.9797153452430871}\n{'colsample_bytree': 0.8656428797441605, 'gamma': 0.34831380719534355, 'max_depth': 15.0, 'min_child_weight': 6.0, 'reg_lambda': 0.4322110757598624, 'subsample': 0.7911114273489046}\n{'colsample_bytree': 0.8428662841920126, 'gamma': 0.3602761091529093, 'max_depth': 5.0, 'min_child_weight': 7.0, 'reg_lambda': 0.0003860822584886847, 'subsample': 0.818138168772649}\n{'colsample_bytree': 0.9988694048496615, 'gamma': 0.4995199721781662, 'max_depth': 7.0, 'min_child_weight': 10.0, 'reg_lambda': 0.3861619478043993, 'subsample': 0.8701655907399489}\n{'colsample_bytree': 0.9606954355167406, 'gamma': 0.39011537799162815, 'max_depth': 9.0, 'min_child_weight': 4.0, 'reg_lambda': 0.18413595590047308, 'subsample': 0.9142129907433676}\n{'colsample_bytree': 0.9815074857203485, 'gamma': 0.254139494244086, 'max_depth': 12.0, 'min_child_weight': 8.0, 'reg_lambda': 0.6135099505849222, 'subsample': 0.8443235615026291}\n{'colsample_bytree': 0.9468698289427431, 'gamma': 0.46508933978128403, 'max_depth': 11.0, 'min_child_weight': 9.0, 'reg_lambda': 0.5347437793169459, 'subsample': 0.7693126780422347}\n{'colsample_bytree': 0.871032284870851, 'gamma': 0.19720480646066868, 'max_depth': 10.0, 'min_child_weight': 6.0, 'reg_lambda': 0.8697983147877026, 'subsample': 0.9025568508288319}\n{'colsample_bytree': 0.8007691835825441, 'gamma': 0.44765675696866725, 'max_depth': 7.0, 'min_child_weight': 1.0, 'reg_lambda': 0.12717688340394173, 'subsample': 0.9453829855260135}\n{'colsample_bytree': 0.9017801024392683, 'gamma': 0.4262316442659265, 'max_depth': 8.0, 'min_child_weight': 5.0, 'reg_lambda': 0.01898421954456242, 'subsample': 0.9718084477628025}\n{'colsample_bytree': 0.7903913601812887, 'gamma': 0.4761144401990481, 'max_depth': 14.0, 'min_child_weight': 8.0, 'reg_lambda': 0.30729419151962034, 'subsample': 0.7422477522121835}\n{'colsample_bytree': 0.8382754374165174, 'gamma': 0.36198063713536777, 'max_depth': 9.0, 'min_child_weight': 4.0, 'reg_lambda': 0.47404124420875315, 'subsample': 0.7013569447998588}\n{'colsample_bytree': 0.9881098681238626, 'gamma': 0.3173750545707861, 'max_depth': 5.0, 'min_child_weight': 3.0, 'reg_lambda': 0.07924408336454405, 'subsample': 0.8311639034970301}\n{'colsample_bytree': 0.9638873746500819, 'gamma': 0.1484738663666058, 'max_depth': 8.0, 'min_child_weight': 9.0, 'reg_lambda': 0.6859879316369131, 'subsample': 0.8716585174209732}\n{'colsample_bytree': 0.7537248276641743, 'gamma': 0.2298288727148873, 'max_depth': 6.0, 'min_child_weight': 10.0, 'reg_lambda': 0.38589953502211605, 'subsample': 0.9265757421958396}\n{'colsample_bytree': 0.7049930649477081, 'gamma': 0.44038256551172744, 'max_depth': 4.0, 'min_child_weight': 4.0, 'reg_lambda': 0.589543301698172, 'subsample': 0.7578925472802209}\n{'colsample_bytree': 0.8559592602756132, 'gamma': 0.38863051673415755, 'max_depth': 11.0, 'min_child_weight': 5.0, 'reg_lambda': 0.3075700705242958, 'subsample': 0.8800920811077402}\n{'colsample_bytree': 0.9174658839768497, 'gamma': 0.49923973163348895, 'max_depth': 14.0, 'min_child_weight': 2.0, 'reg_lambda': 0.9319151886167082, 'subsample': 0.8960472674975121}\n{'colsample_bytree': 0.9446077467350972, 'gamma': 0.26834472548675004, 'max_depth': 12.0, 'min_child_weight': 3.0, 'reg_lambda': 0.8156174576986789, 'subsample': 0.9854494340325088}\n{'colsample_bytree': 0.9864990975818546, 'gamma': 0.2981386732780995, 'max_depth': 16.0, 'min_child_weight': 7.0, 'reg_lambda': 0.4577338244435683, 'subsample': 0.8019221484027679}\n{'colsample_bytree': 0.9261538109450409, 'gamma': 0.4847875316903702, 'max_depth': 15.0, 'min_child_weight': 9.0, 'reg_lambda': 0.6518889730483606, 'subsample': 0.7328733682137173}\n{'colsample_bytree': 0.8272081490738059, 'gamma': 0.41623470167142507, 'max_depth': 10.0, 'min_child_weight': 5.0, 'reg_lambda': 0.5420631549167291, 'subsample': 0.852590986515179}\n{'colsample_bytree': 0.9029426869059758, 'gamma': 0.39102896336606635, 'max_depth': 13.0, 'min_child_weight': 6.0, 'reg_lambda': 0.22719753374176183, 'subsample': 0.9626416523781398}\n{'colsample_bytree': 0.882651501238367, 'gamma': 0.4524391293560279, 'max_depth': 7.0, 'min_child_weight': 8.0, 'reg_lambda': 0.7144924215724289, 'subsample': 0.7587270961935784}\n{'colsample_bytree': 0.9758750626076257, 'gamma': 0.22318817104943184, 'max_depth': 9.0, 'min_child_weight': 4.0, 'reg_lambda': 0.03636628754826715, 'subsample': 0.820293513053026}\n{'colsample_bytree': 0.9944894458824035, 'gamma': 0.46514370753634504, 'max_depth': 11.0, 'min_child_weight': 1.0, 'reg_lambda': 0.27415667557359796, 'subsample': 0.9218279960718672}\n{'colsample_bytree': 0.964917203204503, 'gamma': 0.4358784542098093, 'max_depth': 5.0, 'min_child_weight': 7.0, 'reg_lambda': 0.12706421759599212, 'subsample': 0.787947158977058}\n{'colsample_bytree': 0.9436682218131581, 'gamma': 0.3524956170945901, 'max_depth': 8.0, 'min_child_weight': 6.0, 'reg_lambda': 0.407007348675965, 'subsample': 0.9440032444884735}\n{'colsample_bytree': 0.9536313988319506, 'gamma': 0.3702045243990385, 'max_depth': 6.0, 'min_child_weight': 4.0, 'reg_lambda': 0.49914109480861785, 'subsample': 0.8097186191609567}\n{'colsample_bytree': 0.8544502559323345, 'gamma': 0.4824297617966579, 'max_depth': 12.0, 'min_child_weight': 3.0, 'reg_lambda': 0.1627041974139163, 'subsample': 0.7116849838355827}\n{'colsample_bytree': 0.9247492335095652, 'gamma': 0.3125581193553517, 'max_depth': 9.0, 'min_child_weight': 2.0, 'reg_lambda': 0.3506459403499852, 'subsample': 0.7755032696840604}\n{'colsample_bytree': 0.968748585253527, 'gamma': 0.43691557337218645, 'max_depth': 4.0, 'min_child_weight': 7.0, 'reg_lambda': 0.12628210252173802, 'subsample': 0.79439321532656}\n{'colsample_bytree': 0.9828317830750813, 'gamma': 0.2886617870851034, 'max_depth': 14.0, 'min_child_weight': 7.0, 'reg_lambda': 0.4387585149173572, 'subsample': 0.8039421376810579}\n{'colsample_bytree': 0.992063914287237, 'gamma': 0.2737955669574226, 'max_depth': 14.0, 'min_child_weight': 10.0, 'reg_lambda': 0.5682058873367343, 'subsample': 0.7576342389319173}\n{'colsample_bytree': 0.9807227683338409, 'gamma': 0.20598535166839416, 'max_depth': 16.0, 'min_child_weight': 8.0, 'reg_lambda': 0.4506448500171593, 'subsample': 0.8358020858177361}\n{'colsample_bytree': 0.9382959345503068, 'gamma': 0.46424641470668204, 'max_depth': 11.0, 'min_child_weight': 1.0, 'reg_lambda': 0.28367600859640657, 'subsample': 0.9200251356997985}\n{'colsample_bytree': 0.8929578697207491, 'gamma': 0.2991998599074505, 'max_depth': 15.0, 'min_child_weight': 9.0, 'reg_lambda': 0.38935804075050645, 'subsample': 0.8455149048383479}\n{'colsample_bytree': 0.910533579400022, 'gamma': 0.4178796683771756, 'max_depth': 5.0, 'min_child_weight': 9.0, 'reg_lambda': 0.23079037161093882, 'subsample': 0.7827274688421091}\n{'colsample_bytree': 0.9556067675830562, 'gamma': 0.1757330609575784, 'max_depth': 13.0, 'min_child_weight': 8.0, 'reg_lambda': 0.3285872748642819, 'subsample': 0.8247200989499398}\n{'colsample_bytree': 0.9966452681650786, 'gamma': 0.4917537089751108, 'max_depth': 11.0, 'min_child_weight': 1.0, 'reg_lambda': 0.2652613985540296, 'subsample': 0.9590704104174511}\n{'colsample_bytree': 0.9629750452766758, 'gamma': 0.3818325229901003, 'max_depth': 5.0, 'min_child_weight': 7.0, 'reg_lambda': 0.2000142421523362, 'subsample': 0.7248339035256832}\n{'colsample_bytree': 0.929738772043822, 'gamma': 0.26081685099485524, 'max_depth': 7.0, 'min_child_weight': 6.0, 'reg_lambda': 0.4909856389211916, 'subsample': 0.7980438808451692}\n{'colsample_bytree': 0.7808943588572449, 'gamma': 0.23840745571019717, 'max_depth': 13.0, 'min_child_weight': 5.0, 'reg_lambda': 0.6231161722232522, 'subsample': 0.7730420628656903}\n{'colsample_bytree': 0.9742622546327481, 'gamma': 0.3984967684842647, 'max_depth': 4.0, 'min_child_weight': 8.0, 'reg_lambda': 0.06228331571694373, 'subsample': 0.7890440250779546}\n{'colsample_bytree': 0.9666923086206851, 'gamma': 0.4500709528721677, 'max_depth': 6.0, 'min_child_weight': 10.0, 'reg_lambda': 0.09111727063138186, 'subsample': 0.7630726005667463}\n{'colsample_bytree': 0.9946133676599648, 'gamma': 0.47255428199155, 'max_depth': 10.0, 'min_child_weight': 2.0, 'reg_lambda': 0.24500150419127842, 'subsample': 0.9047535055323345}\n{'colsample_bytree': 0.8764972280124351, 'gamma': 0.3423132917876358, 'max_depth': 16.0, 'min_child_weight': 5.0, 'reg_lambda': 0.3719748216009633, 'subsample': 0.8625363011012466}\n{'colsample_bytree': 0.8913018283270627, 'gamma': 0.4179136789724741, 'max_depth': 8.0, 'min_child_weight': 6.0, 'reg_lambda': 0.14407680190696603, 'subsample': 0.7507501558218418}\n{'colsample_bytree': 0.9865094496641282, 'gamma': 0.29422601191586195, 'max_depth': 15.0, 'min_child_weight': 10.0, 'reg_lambda': 0.575218119285023, 'subsample': 0.8799384647043828}\n{'colsample_bytree': 0.9132551657903619, 'gamma': 0.3268154264114925, 'max_depth': 16.0, 'min_child_weight': 7.0, 'reg_lambda': 0.5192771836359816, 'subsample': 0.8298952851195719}\n{'colsample_bytree': 0.9530440691220781, 'gamma': 0.1409100692847914, 'max_depth': 7.0, 'min_child_weight': 9.0, 'reg_lambda': 0.41779379612544276, 'subsample': 0.814282618953328}\n{'colsample_bytree': 0.9388418159848794, 'gamma': 0.4649394194281833, 'max_depth': 12.0, 'min_child_weight': 3.0, 'reg_lambda': 0.2928306496288422, 'subsample': 0.9890539177799672}\n{'colsample_bytree': 0.9788148804200764, 'gamma': 0.2787026680718196, 'max_depth': 14.0, 'min_child_weight': 8.0, 'reg_lambda': 0.4432152071886613, 'subsample': 0.8053217761420305}\n{'colsample_bytree': 0.8362725990845732, 'gamma': 0.4289088141330373, 'max_depth': 5.0, 'min_child_weight': 4.0, 'reg_lambda': 0.32837199518146676, 'subsample': 0.7344388369397455}\n{'colsample_bytree': 0.8997516613110469, 'gamma': 0.4386427293740762, 'max_depth': 6.0, 'min_child_weight': 6.0, 'reg_lambda': 0.012424909344611337, 'subsample': 0.8896052917888008}\n{'colsample_bytree': 0.9226999722531204, 'gamma': 0.30811231443715825, 'max_depth': 10.0, 'min_child_weight': 5.0, 'reg_lambda': 0.6600617146483858, 'subsample': 0.8413540717389694}\n{'colsample_bytree': 0.9466204769139135, 'gamma': 0.49334585954579296, 'max_depth': 11.0, 'min_child_weight': 1.0, 'reg_lambda': 0.19272709961428686, 'subsample': 0.9378013047428311}\n{'colsample_bytree': 0.8643211432913049, 'gamma': 0.4879367253272614, 'max_depth': 9.0, 'min_child_weight': 2.0, 'reg_lambda': 0.19965823055179455, 'subsample': 0.9333583961854877}\n{'colsample_bytree': 0.7495303225391299, 'gamma': 0.3250749430305703, 'max_depth': 8.0, 'min_child_weight': 7.0, 'reg_lambda': 0.4666706866017053, 'subsample': 0.8581249910488887}\n{'colsample_bytree': 0.9474428531783837, 'gamma': 0.4542255100576471, 'max_depth': 9.0, 'min_child_weight': 1.0, 'reg_lambda': 0.17373924588980336, 'subsample': 0.9694450697887956}\n{'colsample_bytree': 0.9419925761677254, 'gamma': 0.49646918481285096, 'max_depth': 12.0, 'min_child_weight': 3.0, 'reg_lambda': 0.10955900386441722, 'subsample': 0.9408787228678156}\n{'colsample_bytree': 0.9586556934610089, 'gamma': 0.36002028746646547, 'max_depth': 7.0, 'min_child_weight': 9.0, 'reg_lambda': 0.7642834588039205, 'subsample': 0.87099348695398}\n{'colsample_bytree': 0.9997457719055669, 'gamma': 0.4787692668787457, 'max_depth': 11.0, 'min_child_weight': 2.0, 'reg_lambda': 0.3662312384636841, 'subsample': 0.9512049241237028}\n{'colsample_bytree': 0.8139959025884069, 'gamma': 0.28587496634888304, 'max_depth': 13.0, 'min_child_weight': 4.0, 'reg_lambda': 0.5929200985568372, 'subsample': 0.8468371819478295}\n{'colsample_bytree': 0.7221174112078957, 'gamma': 0.3977463521459935, 'max_depth': 10.0, 'min_child_weight': 3.0, 'reg_lambda': 0.24692616037215406, 'subsample': 0.8980214888089213}\n{'colsample_bytree': 0.9295025254776916, 'gamma': 0.2119561432746675, 'max_depth': 14.0, 'min_child_weight': 8.0, 'reg_lambda': 0.5387156051511779, 'subsample': 0.7067234286439341}\n100%|██████████| 100/100 [00:03<00:00, 24.97it/s, best loss: 0.8348416289592759]\n"
      }
     ],
     "persistentId": "e6746755-3f43-48da-b7d8-617bf323bee0",
     "text": "def objective(space):\n    print(space)\n    clf = XGBClassifier(\n        n_estimators=1000,\n        colsample_bytree=space[\"colsample_bytree\"],\n        learning_rate=0.3,\n        max_depth=int(space[\"max_depth\"]),\n        min_child_weight=space[\"min_child_weight\"],\n        subsample=space[\"subsample\"],\n        gamma=space[\"gamma\"],\n        reg_lambda=space[\"reg_lambda\"],\n    )\n\n    eval_set = [(X_train, y_train), (X_test, y_test)]\n\n    clf.fit(\n        X_train,\n        y_train,\n        eval_set=eval_set,\n        eval_metric=\"auc\",\n        early_stopping_rounds=10,\n        verbose=False,\n    )\n\n    pred = clf.predict(X_test)\n    auc = roc_auc_score(y_test, pred)\n    # change the metric if you like\n    return {\"loss\": auc, \"status\": STATUS_OK}\n\n\nspace = {\n    \"max_depth\": hp.quniform(\"x_max_depth\", 4, 16, 1),\n    \"min_child_weight\": hp.quniform(\"x_min_child\", 1, 10, 1),\n    \"subsample\": hp.uniform(\"x_subsample\", 0.7, 1),\n    \"gamma\": hp.uniform(\"x_gamma\", 0.1, 0.5),\n    \"colsample_bytree\": hp.uniform(\"x_colsample_bytree\", 0.7, 1),\n    \"reg_lambda\": hp.uniform(\"x_reg_lambda\", 0, 1),\n}\n\n\ntrials = Trials()\nbest = fmin(fn=objective, space=space, algo=tpe.suggest, max_evals=100, trials=trials)"
    },
    "executionTime": "2020-03-27T21:35:49.769Z"
   },
   {
    "cell": {
     "executionCount": 10,
     "executionEventId": "448f1fe1-29e6-427c-8875-0131d0d77400",
     "hasError": false,
     "id": "202c5bc9-b9fe-4c5a-8d02-0dfb4736f510",
     "outputs": [
      {
       "data": {
        "text/plain": "{'x_colsample_bytree': 0.9710650385908284,\n 'x_gamma': 0.4477479631828237,\n 'x_max_depth': 11.0,\n 'x_min_child': 4.0,\n 'x_reg_lambda': 0.30968836836706304,\n 'x_subsample': 0.9459644567455435}"
       },
       "execution_count": 10,
       "metadata": {},
       "output_type": "execute_result"
      }
     ],
     "persistentId": "e02c6429-7f5d-4f3a-aa03-bcef89bed8dc",
     "text": "best"
    },
    "executionTime": "2020-03-27T21:35:52.153Z"
   },
   {
    "cell": {
     "executionCount": 1,
     "executionEventId": "809847d5-c9e3-482e-8761-84f9cac592a7",
     "hasError": false,
     "id": "d1daa723-a362-4fb4-8860-547d10e77dc6",
     "outputs": [],
     "persistentId": "d60ead82-894d-4856-85ef-81e1bab7f888",
     "text": "import numpy as np\nimport pandas as pd\n\nfrom xgboost import XGBClassifier\nfrom sklearn.model_selection import KFold, train_test_split, cross_val_score\nfrom sklearn.datasets import make_classification\nfrom sklearn.metrics import roc_auc_score \nfrom hyperopt import hp, fmin, tpe, STATUS_OK, Trials\n\nimport time"
    },
    "executionTime": "2020-03-27T21:36:32.294Z"
   },
   {
    "cell": {
     "executionCount": 2,
     "executionEventId": "484e76b5-0f6e-45b2-b67d-06726d032111",
     "hasError": false,
     "id": "bacdd49e-7ac0-4f67-9c7c-3f4b5c49712d",
     "outputs": [],
     "persistentId": "1056d6a9-43c4-49e6-a137-021b8d0a2922",
     "text": "# Make a toy dataset\nfrom sklearn.datasets import make_classification\n\nX, y = make_classification(\n    n_samples=300,\n    n_features=25,\n    n_informative=2,\n    n_redundant=10,\n    n_classes=2,\n    random_state=8,\n)"
    },
    "executionTime": "2020-03-27T21:36:32.306Z"
   },
   {
    "cell": {
     "executionCount": 3,
     "executionEventId": "e626d50d-5bd2-43dc-b99a-e7ee330e6eaa",
     "hasError": false,
     "id": "8790b190-3ca3-4a69-b548-546fc0eb1757",
     "outputs": [],
     "persistentId": "fdd0059c-7a8b-4da1-8442-fff820f5a515",
     "text": "# Create training and testing datasets\nX_train, X_test, y_train, y_test = train_test_split(\n    X, y, test_size=0.2, random_state=465\n)"
    },
    "executionTime": "2020-03-27T21:36:32.327Z"
   },
   {
    "cell": {
     "executionCount": 4,
     "executionEventId": "d3e30094-1ad1-448c-a2ac-4e854686db6f",
     "hasError": false,
     "id": "7ca21603-d764-42d2-a01d-91dee15c7e7d",
     "outputs": [
      {
       "name": "stdout",
       "output_type": "stream",
       "text": "{'colsample_bytree': 0.8657410057884971, 'gamma': 0.3741832424322641, 'max_depth': 5.0, 'min_child_weight': 7.0, 'reg_lambda': 0.5937948318896427, 'subsample': 0.7264276774326336}\n{'colsample_bytree': 0.7269531632859576, 'gamma': 0.4305735967121562, 'max_depth': 8.0, 'min_child_weight': 2.0, 'reg_lambda': 0.1945354503438178, 'subsample': 0.9972764244085992}\n{'colsample_bytree': 0.9888678560167955, 'gamma': 0.3991119242009886, 'max_depth': 7.0, 'min_child_weight': 3.0, 'reg_lambda': 0.9033138090113665, 'subsample': 0.8116236565809837}\n{'colsample_bytree': 0.7193299445393401, 'gamma': 0.37190062784685496, 'max_depth': 10.0, 'min_child_weight': 7.0, 'reg_lambda': 0.21924552461366142, 'subsample': 0.7022250902675502}\n{'colsample_bytree': 0.7985338201915275, 'gamma': 0.17184553333751498, 'max_depth': 10.0, 'min_child_weight': 8.0, 'reg_lambda': 0.18096917850850036, 'subsample': 0.8615329170278901}\n{'colsample_bytree': 0.8082874357380888, 'gamma': 0.49138590537238835, 'max_depth': 15.0, 'min_child_weight': 5.0, 'reg_lambda': 0.6614736604387251, 'subsample': 0.9321544846867871}\n{'colsample_bytree': 0.9876868179820857, 'gamma': 0.48283529313977913, 'max_depth': 9.0, 'min_child_weight': 4.0, 'reg_lambda': 0.4476058260344573, 'subsample': 0.8970725178519419}\n{'colsample_bytree': 0.8045074508996246, 'gamma': 0.10557564987470705, 'max_depth': 4.0, 'min_child_weight': 1.0, 'reg_lambda': 0.663905873041716, 'subsample': 0.7046657976744206}\n{'colsample_bytree': 0.700216294086543, 'gamma': 0.31662519082147556, 'max_depth': 9.0, 'min_child_weight': 7.0, 'reg_lambda': 0.7864154767557592, 'subsample': 0.96373756540744}\n{'colsample_bytree': 0.85471887543846, 'gamma': 0.19974728571171207, 'max_depth': 14.0, 'min_child_weight': 7.0, 'reg_lambda': 0.905144543801832, 'subsample': 0.7392413506480077}\n{'colsample_bytree': 0.8473195453694545, 'gamma': 0.44341238064819455, 'max_depth': 14.0, 'min_child_weight': 5.0, 'reg_lambda': 0.5708223329925886, 'subsample': 0.7055148299802441}\n{'colsample_bytree': 0.9241492295413569, 'gamma': 0.37068759475639257, 'max_depth': 12.0, 'min_child_weight': 5.0, 'reg_lambda': 0.4698441759709088, 'subsample': 0.8075662885636516}\n{'colsample_bytree': 0.8579178687462424, 'gamma': 0.32074043184103895, 'max_depth': 5.0, 'min_child_weight': 8.0, 'reg_lambda': 0.23632910436527144, 'subsample': 0.9864981039670588}\n{'colsample_bytree': 0.8300564733213194, 'gamma': 0.3432518898749857, 'max_depth': 7.0, 'min_child_weight': 8.0, 'reg_lambda': 0.757328876239881, 'subsample': 0.9896726871983252}\n{'colsample_bytree': 0.8405834690033827, 'gamma': 0.3923521002775704, 'max_depth': 7.0, 'min_child_weight': 3.0, 'reg_lambda': 0.8003258890890941, 'subsample': 0.8348483666719816}\n{'colsample_bytree': 0.8366668902966867, 'gamma': 0.33795418584476644, 'max_depth': 12.0, 'min_child_weight': 8.0, 'reg_lambda': 0.1330733932237662, 'subsample': 0.8759056108408018}\n{'colsample_bytree': 0.9744114453764615, 'gamma': 0.2114663316769578, 'max_depth': 11.0, 'min_child_weight': 1.0, 'reg_lambda': 0.8396389730555512, 'subsample': 0.711161913094081}\n{'colsample_bytree': 0.8077986522500702, 'gamma': 0.19562699879159462, 'max_depth': 13.0, 'min_child_weight': 5.0, 'reg_lambda': 0.43110721771727745, 'subsample': 0.8393825099228132}\n{'colsample_bytree': 0.7681992020773323, 'gamma': 0.49293475876853043, 'max_depth': 9.0, 'min_child_weight': 7.0, 'reg_lambda': 0.862900059353751, 'subsample': 0.8610951794195318}\n{'colsample_bytree': 0.7170188006494118, 'gamma': 0.30727171902044315, 'max_depth': 11.0, 'min_child_weight': 3.0, 'reg_lambda': 0.9315924524168165, 'subsample': 0.9680341543598673}\n{'colsample_bytree': 0.9093084193498182, 'gamma': 0.24459970584552054, 'max_depth': 15.0, 'min_child_weight': 10.0, 'reg_lambda': 0.31953518253872926, 'subsample': 0.9062880105460519}\n{'colsample_bytree': 0.8997178881978848, 'gamma': 0.2578712647693581, 'max_depth': 16.0, 'min_child_weight': 10.0, 'reg_lambda': 0.3212620151655541, 'subsample': 0.7674925359031136}\n{'colsample_bytree': 0.9469527277561951, 'gamma': 0.11654128135063149, 'max_depth': 16.0, 'min_child_weight': 10.0, 'reg_lambda': 0.04764294387641127, 'subsample': 0.9007521855853972}\n{'colsample_bytree': 0.8875792773375712, 'gamma': 0.2504627051078434, 'max_depth': 14.0, 'min_child_weight': 9.0, 'reg_lambda': 0.9943771101207562, 'subsample': 0.7416024686785292}\n{'colsample_bytree': 0.8833561726231968, 'gamma': 0.25950554485576993, 'max_depth': 14.0, 'min_child_weight': 9.0, 'reg_lambda': 0.9932531448331552, 'subsample': 0.7419290810601172}\n{'colsample_bytree': 0.8774197095424399, 'gamma': 0.26572380067142776, 'max_depth': 13.0, 'min_child_weight': 9.0, 'reg_lambda': 0.9565865793453746, 'subsample': 0.7643116146235832}\n{'colsample_bytree': 0.9483169795777147, 'gamma': 0.16254183420792173, 'max_depth': 15.0, 'min_child_weight': 9.0, 'reg_lambda': 0.680956420497056, 'subsample': 0.7668581243568845}\n{'colsample_bytree': 0.8928313462961408, 'gamma': 0.13860340428328877, 'max_depth': 14.0, 'min_child_weight': 9.0, 'reg_lambda': 0.9908374108377311, 'subsample': 0.795409610991401}\n{'colsample_bytree': 0.8792919015543177, 'gamma': 0.28314391053301347, 'max_depth': 13.0, 'min_child_weight': 6.0, 'reg_lambda': 0.9986177788698267, 'subsample': 0.7389405395488207}\n{'colsample_bytree': 0.9303896538669221, 'gamma': 0.24164187062473208, 'max_depth': 12.0, 'min_child_weight': 9.0, 'reg_lambda': 0.538170883365102, 'subsample': 0.7289771469405875}\n{'colsample_bytree': 0.9335426454812191, 'gamma': 0.22543691309587485, 'max_depth': 12.0, 'min_child_weight': 6.0, 'reg_lambda': 0.006133276782792241, 'subsample': 0.7872891150523876}\n{'colsample_bytree': 0.9589784844806062, 'gamma': 0.2851442071691871, 'max_depth': 11.0, 'min_child_weight': 10.0, 'reg_lambda': 0.5425714881687804, 'subsample': 0.7287837079647046}\n{'colsample_bytree': 0.9172573974732027, 'gamma': 0.2263538892113232, 'max_depth': 12.0, 'min_child_weight': 9.0, 'reg_lambda': 0.3737257266986329, 'subsample': 0.8254660657463724}\n{'colsample_bytree': 0.7660738519646905, 'gamma': 0.16699151458488737, 'max_depth': 16.0, 'min_child_weight': 6.0, 'reg_lambda': 0.7443173237586369, 'subsample': 0.7792822263933045}\n{'colsample_bytree': 0.9946384100904125, 'gamma': 0.28619057811663434, 'max_depth': 10.0, 'min_child_weight': 8.0, 'reg_lambda': 0.5261242304175593, 'subsample': 0.7263110663744387}\n{'colsample_bytree': 0.9684582943744596, 'gamma': 0.13688569406121154, 'max_depth': 8.0, 'min_child_weight': 4.0, 'reg_lambda': 0.07442022864173242, 'subsample': 0.8109067963515937}\n{'colsample_bytree': 0.7779799864065869, 'gamma': 0.4340367659365395, 'max_depth': 13.0, 'min_child_weight': 10.0, 'reg_lambda': 0.5993454055607522, 'subsample': 0.7580824794301313}\n{'colsample_bytree': 0.9370001522825278, 'gamma': 0.18438772563259448, 'max_depth': 15.0, 'min_child_weight': 7.0, 'reg_lambda': 0.7022820977253516, 'subsample': 0.7262162653721239}\n{'colsample_bytree': 0.907029328720515, 'gamma': 0.35645543762407605, 'max_depth': 10.0, 'min_child_weight': 2.0, 'reg_lambda': 0.5906498193048223, 'subsample': 0.7141426620671755}\n{'colsample_bytree': 0.8689255180471321, 'gamma': 0.41047469602199244, 'max_depth': 5.0, 'min_child_weight': 8.0, 'reg_lambda': 0.29200639537606654, 'subsample': 0.7467183294688353}\n{'colsample_bytree': 0.8183134785903822, 'gamma': 0.22715605904090955, 'max_depth': 11.0, 'min_child_weight': 9.0, 'reg_lambda': 0.39979025684576275, 'subsample': 0.793120582521601}\n{'colsample_bytree': 0.984441440955477, 'gamma': 0.14471912661423236, 'max_depth': 9.0, 'min_child_weight': 7.0, 'reg_lambda': 0.632453858779777, 'subsample': 0.9363499344584167}\n{'colsample_bytree': 0.7913750749505694, 'gamma': 0.4532503900000302, 'max_depth': 8.0, 'min_child_weight': 4.0, 'reg_lambda': 0.4952830546988371, 'subsample': 0.8812306387198234}\n{'colsample_bytree': 0.8644312181241759, 'gamma': 0.10429880506521066, 'max_depth': 6.0, 'min_child_weight': 6.0, 'reg_lambda': 0.16696398255723477, 'subsample': 0.8245469962341578}\n{'colsample_bytree': 0.821564449212341, 'gamma': 0.24044118301811238, 'max_depth': 14.0, 'min_child_weight': 9.0, 'reg_lambda': 0.8673965548430917, 'subsample': 0.7545386397231425}\n{'colsample_bytree': 0.9182381291919351, 'gamma': 0.2067749409635836, 'max_depth': 12.0, 'min_child_weight': 8.0, 'reg_lambda': 0.23622966652411892, 'subsample': 0.7770259940234315}\n{'colsample_bytree': 0.8480775369429675, 'gamma': 0.3294408382025714, 'max_depth': 15.0, 'min_child_weight': 7.0, 'reg_lambda': 0.8094442519022103, 'subsample': 0.8490341033137317}\n{'colsample_bytree': 0.8894761001413768, 'gamma': 0.38838084771930415, 'max_depth': 13.0, 'min_child_weight': 10.0, 'reg_lambda': 0.7264242882996969, 'subsample': 0.7053252659246302}\n{'colsample_bytree': 0.7401376881140849, 'gamma': 0.35553710328795385, 'max_depth': 14.0, 'min_child_weight': 8.0, 'reg_lambda': 0.1266169464744667, 'subsample': 0.8049267216128635}\n{'colsample_bytree': 0.9315691312627192, 'gamma': 0.27275986230138505, 'max_depth': 11.0, 'min_child_weight': 4.0, 'reg_lambda': 0.6320465175907584, 'subsample': 0.7160464577418452}\n{'colsample_bytree': 0.9986138269427318, 'gamma': 0.31392382632508903, 'max_depth': 4.0, 'min_child_weight': 5.0, 'reg_lambda': 0.8908029572142878, 'subsample': 0.9180745243142193}\n{'colsample_bytree': 0.962276157113489, 'gamma': 0.4693783666011171, 'max_depth': 8.0, 'min_child_weight': 10.0, 'reg_lambda': 0.7050578835481555, 'subsample': 0.9531171899147863}\n{'colsample_bytree': 0.9510076424975478, 'gamma': 0.3821761611252106, 'max_depth': 10.0, 'min_child_weight': 2.0, 'reg_lambda': 0.46126232379092935, 'subsample': 0.7004896530197325}\n{'colsample_bytree': 0.9814479204406362, 'gamma': 0.40451115491928546, 'max_depth': 9.0, 'min_child_weight': 10.0, 'reg_lambda': 0.7495659272116292, 'subsample': 0.881056909401291}\n{'colsample_bytree': 0.9078375573660356, 'gamma': 0.46885906122846205, 'max_depth': 13.0, 'min_child_weight': 10.0, 'reg_lambda': 0.4031214169800882, 'subsample': 0.8661595071905445}\n{'colsample_bytree': 0.8600747873802876, 'gamma': 0.35966441723088904, 'max_depth': 12.0, 'min_child_weight': 8.0, 'reg_lambda': 0.5280339293849944, 'subsample': 0.7011783877921016}\n{'colsample_bytree': 0.8368618801260405, 'gamma': 0.2988645684871602, 'max_depth': 16.0, 'min_child_weight': 7.0, 'reg_lambda': 0.2729283933855828, 'subsample': 0.8197132558716119}\n{'colsample_bytree': 0.7455488135455408, 'gamma': 0.1541350250750138, 'max_depth': 6.0, 'min_child_weight': 9.0, 'reg_lambda': 0.9405675480426595, 'subsample': 0.8453065747267049}\n{'colsample_bytree': 0.8982442974750319, 'gamma': 0.18212619178002054, 'max_depth': 14.0, 'min_child_weight': 5.0, 'reg_lambda': 0.35167325202006516, 'subsample': 0.777173483039859}\n{'colsample_bytree': 0.9407865202929041, 'gamma': 0.12178165250505027, 'max_depth': 15.0, 'min_child_weight': 6.0, 'reg_lambda': 0.8347731636388669, 'subsample': 0.749643890889452}\n{'colsample_bytree': 0.9207773592115753, 'gamma': 0.24851920865614843, 'max_depth': 11.0, 'min_child_weight': 1.0, 'reg_lambda': 0.7763595367048899, 'subsample': 0.8005021469713327}\n{'colsample_bytree': 0.8710550776493122, 'gamma': 0.2964711413957506, 'max_depth': 16.0, 'min_child_weight': 3.0, 'reg_lambda': 0.6611980084303383, 'subsample': 0.7359834030416522}\n{'colsample_bytree': 0.8244303127734857, 'gamma': 0.1937418685130691, 'max_depth': 12.0, 'min_child_weight': 9.0, 'reg_lambda': 0.2106278779991113, 'subsample': 0.7173993709117601}\n{'colsample_bytree': 0.7031320323132604, 'gamma': 0.33227260994421615, 'max_depth': 13.0, 'min_child_weight': 8.0, 'reg_lambda': 0.008043432603491774, 'subsample': 0.7698480528701197}\n{'colsample_bytree': 0.7920462914031076, 'gamma': 0.21242900593794728, 'max_depth': 9.0, 'min_child_weight': 7.0, 'reg_lambda': 0.9643728252267593, 'subsample': 0.8374138683804793}\n{'colsample_bytree': 0.8795841449650973, 'gamma': 0.42375155139525456, 'max_depth': 13.0, 'min_child_weight': 10.0, 'reg_lambda': 0.7252503787688116, 'subsample': 0.7311281766289685}\n{'colsample_bytree': 0.889914022282805, 'gamma': 0.4193811780877924, 'max_depth': 13.0, 'min_child_weight': 10.0, 'reg_lambda': 0.5670478240663515, 'subsample': 0.7062058106552026}\n{'colsample_bytree': 0.8931685359203907, 'gamma': 0.39036357707438507, 'max_depth': 11.0, 'min_child_weight': 10.0, 'reg_lambda': 0.5578983424009475, 'subsample': 0.7086318590787783}\n{'colsample_bytree': 0.9278211459275767, 'gamma': 0.3936966338407445, 'max_depth': 10.0, 'min_child_weight': 9.0, 'reg_lambda': 0.48916406554607755, 'subsample': 0.7197750081472851}\n{'colsample_bytree': 0.9260075684961648, 'gamma': 0.3716464034811543, 'max_depth': 10.0, 'min_child_weight': 9.0, 'reg_lambda': 0.48166846973903965, 'subsample': 0.722889951956469}\n{'colsample_bytree': 0.9731924252386448, 'gamma': 0.26058106179999446, 'max_depth': 12.0, 'min_child_weight': 9.0, 'reg_lambda': 0.43369857112808946, 'subsample': 0.7588789078966801}\n{'colsample_bytree': 0.9598748322637538, 'gamma': 0.3913058669558473, 'max_depth': 11.0, 'min_child_weight': 8.0, 'reg_lambda': 0.6359863109595476, 'subsample': 0.7344890678461182}\n{'colsample_bytree': 0.9511786036306182, 'gamma': 0.37041556418595, 'max_depth': 10.0, 'min_child_weight': 8.0, 'reg_lambda': 0.5062294341213378, 'subsample': 0.787202138130783}\n{'colsample_bytree': 0.8542365882463056, 'gamma': 0.44470276966058897, 'max_depth': 7.0, 'min_child_weight': 10.0, 'reg_lambda': 0.6129337421033665, 'subsample': 0.7216120001061177}\n{'colsample_bytree': 0.8442650266324934, 'gamma': 0.49704131454489364, 'max_depth': 6.0, 'min_child_weight': 9.0, 'reg_lambda': 0.5896804845637665, 'subsample': 0.7205207978973559}\n{'colsample_bytree': 0.9127264252535602, 'gamma': 0.23361333854128993, 'max_depth': 7.0, 'min_child_weight': 7.0, 'reg_lambda': 0.3466033336983426, 'subsample': 0.7459388677235597}\n{'colsample_bytree': 0.8567009957859991, 'gamma': 0.43937952720071516, 'max_depth': 9.0, 'min_child_weight': 10.0, 'reg_lambda': 0.6097679576327121, 'subsample': 0.9982266502593733}\n{'colsample_bytree': 0.9020391615784783, 'gamma': 0.3430107140028924, 'max_depth': 8.0, 'min_child_weight': 9.0, 'reg_lambda': 0.16919351797398519, 'subsample': 0.8176099769865477}\n{'colsample_bytree': 0.9395534017489252, 'gamma': 0.2721043971149019, 'max_depth': 14.0, 'min_child_weight': 8.0, 'reg_lambda': 0.2757913667096197, 'subsample': 0.7637084977603508}\n{'colsample_bytree': 0.9704615386644502, 'gamma': 0.4184072476576703, 'max_depth': 11.0, 'min_child_weight': 6.0, 'reg_lambda': 0.3789428557095977, 'subsample': 0.7886052860240895}\n{'colsample_bytree': 0.9270658376576083, 'gamma': 0.317296127355832, 'max_depth': 14.0, 'min_child_weight': 9.0, 'reg_lambda': 0.4145814070234645, 'subsample': 0.7530106132487188}\n{'colsample_bytree': 0.9886835058750609, 'gamma': 0.21559618174802805, 'max_depth': 15.0, 'min_child_weight': 7.0, 'reg_lambda': 0.3119395340617044, 'subsample': 0.7405811948997914}\n{'colsample_bytree': 0.8120933953845876, 'gamma': 0.4517938478007496, 'max_depth': 5.0, 'min_child_weight': 10.0, 'reg_lambda': 0.4570610949698162, 'subsample': 0.8297727525038231}\n{'colsample_bytree': 0.8747983399832198, 'gamma': 0.4765175947219848, 'max_depth': 12.0, 'min_child_weight': 9.0, 'reg_lambda': 0.6793655730397156, 'subsample': 0.7311788744954881}\n{'colsample_bytree': 0.8299260035457807, 'gamma': 0.4297070226988255, 'max_depth': 12.0, 'min_child_weight': 8.0, 'reg_lambda': 0.6931135603205445, 'subsample': 0.8592111291900619}\n{'colsample_bytree': 0.8930850949712217, 'gamma': 0.39727372332412414, 'max_depth': 10.0, 'min_child_weight': 10.0, 'reg_lambda': 0.5484918977786702, 'subsample': 0.7095928368998725}\n{'colsample_bytree': 0.9819645558381632, 'gamma': 0.4004131759322449, 'max_depth': 7.0, 'min_child_weight': 10.0, 'reg_lambda': 0.50090157023867, 'subsample': 0.976312258748917}\n{'colsample_bytree': 0.9137129230113706, 'gamma': 0.48441179751494795, 'max_depth': 8.0, 'min_child_weight': 9.0, 'reg_lambda': 0.5637178545008921, 'subsample': 0.7710328986387766}\n{'colsample_bytree': 0.902943587028625, 'gamma': 0.4108765420930293, 'max_depth': 13.0, 'min_child_weight': 5.0, 'reg_lambda': 0.5222391783674813, 'subsample': 0.7831277701653223}\n{'colsample_bytree': 0.995114295050293, 'gamma': 0.3774613696770945, 'max_depth': 10.0, 'min_child_weight': 8.0, 'reg_lambda': 0.43613163965214424, 'subsample': 0.8947094697495559}\n{'colsample_bytree': 0.8859418574290027, 'gamma': 0.3062100523360033, 'max_depth': 9.0, 'min_child_weight': 4.0, 'reg_lambda': 0.7926543797020844, 'subsample': 0.8004606969612953}\n{'colsample_bytree': 0.8640690944626007, 'gamma': 0.3305575482002323, 'max_depth': 11.0, 'min_child_weight': 6.0, 'reg_lambda': 0.6588672881867035, 'subsample': 0.7118228778495701}\n{'colsample_bytree': 0.9315489033282963, 'gamma': 0.35424722833258604, 'max_depth': 11.0, 'min_child_weight': 7.0, 'reg_lambda': 0.4779225979981561, 'subsample': 0.7593381673497706}\n{'colsample_bytree': 0.9669973946790189, 'gamma': 0.347379636081209, 'max_depth': 12.0, 'min_child_weight': 3.0, 'reg_lambda': 0.7235981896067918, 'subsample': 0.7015466607975062}\n{'colsample_bytree': 0.9395728556549316, 'gamma': 0.2899196802323937, 'max_depth': 14.0, 'min_child_weight': 2.0, 'reg_lambda': 0.05468120049386205, 'subsample': 0.8070782409699315}\n{'colsample_bytree': 0.956946985794226, 'gamma': 0.2791573575772415, 'max_depth': 9.0, 'min_child_weight': 10.0, 'reg_lambda': 0.369862788054711, 'subsample': 0.7726198936274695}\n{'colsample_bytree': 0.9778868592342952, 'gamma': 0.3646899490644831, 'max_depth': 10.0, 'min_child_weight': 8.0, 'reg_lambda': 0.24857744657342765, 'subsample': 0.9285133936059551}\n{'colsample_bytree': 0.8807971034325884, 'gamma': 0.45939976484233813, 'max_depth': 13.0, 'min_child_weight': 9.0, 'reg_lambda': 0.8305433397272509, 'subsample': 0.7316553544448324}\n{'colsample_bytree': 0.9461623417639868, 'gamma': 0.1772313695847326, 'max_depth': 15.0, 'min_child_weight': 9.0, 'reg_lambda': 0.5726852303024168, 'subsample': 0.7495138925528465}\n{'colsample_bytree': 0.8502289063299422, 'gamma': 0.312134471147074, 'max_depth': 12.0, 'min_child_weight': 7.0, 'reg_lambda': 0.9037392079076045, 'subsample': 0.744113243233669}\n100%|██████████| 100/100 [00:03<00:00, 32.02it/s, best loss: 0.8201357466063348]\n"
      }
     ],
     "persistentId": "e6746755-3f43-48da-b7d8-617bf323bee0",
     "text": "def objective(space):\n    print(space)\n    clf = XGBClassifier(\n        n_estimators=1000,\n        colsample_bytree=space[\"colsample_bytree\"],\n        learning_rate=0.3,\n        max_depth=int(space[\"max_depth\"]),\n        min_child_weight=space[\"min_child_weight\"],\n        subsample=space[\"subsample\"],\n        gamma=space[\"gamma\"],\n        reg_lambda=space[\"reg_lambda\"],\n    )\n\n    eval_set = [(X_train, y_train), (X_test, y_test)]\n\n    clf.fit(\n        X_train,\n        y_train,\n        eval_set=eval_set,\n        eval_metric=\"auc\",\n        early_stopping_rounds=10,\n        verbose=False,\n    )\n\n    pred = clf.predict(X_test)\n    auc = roc_auc_score(y_test, pred)\n    # change the metric if you like\n    return {\"loss\": auc, \"status\": STATUS_OK}\n\n\nspace = {\n    \"max_depth\": hp.quniform(\"x_max_depth\", 4, 16, 1),\n    \"min_child_weight\": hp.quniform(\"x_min_child\", 1, 10, 1),\n    \"subsample\": hp.uniform(\"x_subsample\", 0.7, 1),\n    \"gamma\": hp.uniform(\"x_gamma\", 0.1, 0.5),\n    \"colsample_bytree\": hp.uniform(\"x_colsample_bytree\", 0.7, 1),\n    \"reg_lambda\": hp.uniform(\"x_reg_lambda\", 0, 1),\n}\n\n\ntrials = Trials()\nbest = fmin(fn=objective, space=space, algo=tpe.suggest, max_evals=100, trials=trials)"
    },
    "executionTime": "2020-03-27T21:36:35.483Z"
   },
   {
    "cell": {
     "executionCount": 5,
     "executionEventId": "92fb911d-8e94-4545-b3b0-bf1e16a379eb",
     "hasError": false,
     "id": "202c5bc9-b9fe-4c5a-8d02-0dfb4736f510",
     "outputs": [
      {
       "data": {
        "text/plain": "{'x_colsample_bytree': 0.9303896538669221,\n 'x_gamma': 0.24164187062473208,\n 'x_max_depth': 12.0,\n 'x_min_child': 9.0,\n 'x_reg_lambda': 0.538170883365102,\n 'x_subsample': 0.7289771469405875}"
       },
       "execution_count": 5,
       "metadata": {},
       "output_type": "execute_result"
      }
     ],
     "persistentId": "e02c6429-7f5d-4f3a-aa03-bcef89bed8dc",
     "text": "best"
    },
    "executionTime": "2020-03-27T21:36:35.514Z"
   },
   {
    "cell": {
     "executionCount": 1,
     "executionEventId": "33595f8f-5a52-4296-94d3-ed9cb771ffb9",
     "hasError": false,
     "id": "d1daa723-a362-4fb4-8860-547d10e77dc6",
     "outputs": [],
     "persistentId": "d60ead82-894d-4856-85ef-81e1bab7f888",
     "text": "import numpy as np\nimport pandas as pd\n\nfrom xgboost import XGBClassifier\nfrom sklearn.model_selection import KFold, train_test_split, cross_val_score\nfrom sklearn.datasets import make_classification\nfrom sklearn.metrics import roc_auc_score \nfrom hyperopt import hp, fmin, tpe, STATUS_OK, Trials\n\nimport time"
    },
    "executionTime": "2020-03-27T21:36:58.151Z"
   },
   {
    "cell": {
     "executionCount": 2,
     "executionEventId": "42d7506f-b56d-4ee1-afa2-3c9a8f34ee5e",
     "hasError": false,
     "id": "bacdd49e-7ac0-4f67-9c7c-3f4b5c49712d",
     "outputs": [],
     "persistentId": "1056d6a9-43c4-49e6-a137-021b8d0a2922",
     "text": "# Make a toy dataset\nfrom sklearn.datasets import make_classification\n\nX, y = make_classification(\n    n_samples=300,\n    n_features=25,\n    n_informative=2,\n    n_redundant=10,\n    n_classes=2,\n    random_state=8,\n)"
    },
    "executionTime": "2020-03-27T21:36:58.165Z"
   },
   {
    "cell": {
     "executionCount": 3,
     "executionEventId": "9e2c97cb-61b7-4843-9ed7-d34afd441a44",
     "hasError": false,
     "id": "8790b190-3ca3-4a69-b548-546fc0eb1757",
     "outputs": [],
     "persistentId": "fdd0059c-7a8b-4da1-8442-fff820f5a515",
     "text": "# Create training and testing datasets\nX_train, X_test, y_train, y_test = train_test_split(\n    X, y, test_size=0.2, random_state=465\n)"
    },
    "executionTime": "2020-03-27T21:36:58.184Z"
   },
   {
    "cell": {
     "executionCount": 4,
     "executionEventId": "48358bdc-392f-473e-b4c6-c9c5e02c5203",
     "hasError": false,
     "id": "7ca21603-d764-42d2-a01d-91dee15c7e7d",
     "outputs": [
      {
       "name": "stdout",
       "output_type": "stream",
       "text": "{'colsample_bytree': 0.9650071951138266, 'gamma': 0.35700110299495036, 'max_depth': 6.0, 'min_child_weight': 2.0, 'reg_lambda': 0.5070903445115138, 'subsample': 0.7338351764042644}\n{'colsample_bytree': 0.7844454677977069, 'gamma': 0.30517364066471986, 'max_depth': 15.0, 'min_child_weight': 10.0, 'reg_lambda': 0.5681076448688442, 'subsample': 0.9340599548798902}\n{'colsample_bytree': 0.9760273561582765, 'gamma': 0.3051981293917009, 'max_depth': 10.0, 'min_child_weight': 2.0, 'reg_lambda': 0.2856901706887809, 'subsample': 0.9915040194481359}\n{'colsample_bytree': 0.9687124818994759, 'gamma': 0.30252115250920225, 'max_depth': 7.0, 'min_child_weight': 6.0, 'reg_lambda': 0.5680780164016701, 'subsample': 0.9158198922043594}\n{'colsample_bytree': 0.9589987461885754, 'gamma': 0.3047032998688213, 'max_depth': 11.0, 'min_child_weight': 2.0, 'reg_lambda': 0.6210773035786654, 'subsample': 0.8499448904903455}\n{'colsample_bytree': 0.8176796245262337, 'gamma': 0.4444212284110589, 'max_depth': 14.0, 'min_child_weight': 3.0, 'reg_lambda': 0.3709688866231874, 'subsample': 0.9821532650291831}\n{'colsample_bytree': 0.801836627683523, 'gamma': 0.40799299340237205, 'max_depth': 13.0, 'min_child_weight': 8.0, 'reg_lambda': 0.9564958978388126, 'subsample': 0.7220793170430159}\n{'colsample_bytree': 0.7668896854426562, 'gamma': 0.33448317709376674, 'max_depth': 16.0, 'min_child_weight': 4.0, 'reg_lambda': 0.1709810009755417, 'subsample': 0.8595117284575946}\n{'colsample_bytree': 0.7862760578820138, 'gamma': 0.3181177908090874, 'max_depth': 11.0, 'min_child_weight': 6.0, 'reg_lambda': 0.003557559292170609, 'subsample': 0.7456200551703794}\n{'colsample_bytree': 0.9049357810666598, 'gamma': 0.42017309413825876, 'max_depth': 8.0, 'min_child_weight': 3.0, 'reg_lambda': 0.21041043291567485, 'subsample': 0.9246562202341454}\n{'colsample_bytree': 0.7469338781816889, 'gamma': 0.3505584437316348, 'max_depth': 6.0, 'min_child_weight': 10.0, 'reg_lambda': 0.11941002176872884, 'subsample': 0.952486936595464}\n{'colsample_bytree': 0.7651590494719794, 'gamma': 0.37806211340651075, 'max_depth': 11.0, 'min_child_weight': 6.0, 'reg_lambda': 0.175418345648513, 'subsample': 0.9043571092105023}\n{'colsample_bytree': 0.718696465170267, 'gamma': 0.29845401790937065, 'max_depth': 12.0, 'min_child_weight': 5.0, 'reg_lambda': 0.3897275350759922, 'subsample': 0.7124205713904883}\n{'colsample_bytree': 0.7549012459216511, 'gamma': 0.4207505513377833, 'max_depth': 7.0, 'min_child_weight': 1.0, 'reg_lambda': 0.6423086491209623, 'subsample': 0.8822386846082659}\n{'colsample_bytree': 0.8606627617894027, 'gamma': 0.14324627621168423, 'max_depth': 10.0, 'min_child_weight': 6.0, 'reg_lambda': 0.6179272623824359, 'subsample': 0.8765755872397804}\n{'colsample_bytree': 0.851062146409166, 'gamma': 0.3240740242806164, 'max_depth': 11.0, 'min_child_weight': 7.0, 'reg_lambda': 0.7868730539521771, 'subsample': 0.8986417053732016}\n{'colsample_bytree': 0.8577773248110592, 'gamma': 0.4243668165352795, 'max_depth': 4.0, 'min_child_weight': 3.0, 'reg_lambda': 0.8718276819445143, 'subsample': 0.8280251580102156}\n{'colsample_bytree': 0.999573748691831, 'gamma': 0.31435607412620725, 'max_depth': 10.0, 'min_child_weight': 8.0, 'reg_lambda': 0.08318543508503229, 'subsample': 0.9611406808115058}\n{'colsample_bytree': 0.9834994306282134, 'gamma': 0.48627997444755067, 'max_depth': 15.0, 'min_child_weight': 2.0, 'reg_lambda': 0.39028867437990056, 'subsample': 0.7300732787138207}\n{'colsample_bytree': 0.993264733546908, 'gamma': 0.46340593367949434, 'max_depth': 14.0, 'min_child_weight': 9.0, 'reg_lambda': 0.43362533376801915, 'subsample': 0.7488548999132896}\n{'colsample_bytree': 0.8844303065572711, 'gamma': 0.23691266760892826, 'max_depth': 9.0, 'min_child_weight': 8.0, 'reg_lambda': 0.9703901580739315, 'subsample': 0.7878269953595393}\n{'colsample_bytree': 0.9306953066206675, 'gamma': 0.2396054513681597, 'max_depth': 13.0, 'min_child_weight': 8.0, 'reg_lambda': 0.038663875623752064, 'subsample': 0.7923593751931007}\n{'colsample_bytree': 0.8108487808210069, 'gamma': 0.24392789410241503, 'max_depth': 13.0, 'min_child_weight': 7.0, 'reg_lambda': 0.9957152253357516, 'subsample': 0.7702116444732439}\n{'colsample_bytree': 0.8107324913390722, 'gamma': 0.13711885170132504, 'max_depth': 13.0, 'min_child_weight': 9.0, 'reg_lambda': 0.9795329429228938, 'subsample': 0.7823146698462425}\n{'colsample_bytree': 0.7001854805500725, 'gamma': 0.21500234774117055, 'max_depth': 16.0, 'min_child_weight': 7.0, 'reg_lambda': 0.7631341012085125, 'subsample': 0.7027697154950319}\n{'colsample_bytree': 0.8203267046510303, 'gamma': 0.17991350840571385, 'max_depth': 13.0, 'min_child_weight': 7.0, 'reg_lambda': 0.8843016784295125, 'subsample': 0.7675737887040694}\n{'colsample_bytree': 0.7266013650177491, 'gamma': 0.2729860987040028, 'max_depth': 12.0, 'min_child_weight': 9.0, 'reg_lambda': 0.7330900162151133, 'subsample': 0.8219542914424579}\n{'colsample_bytree': 0.8256563876230701, 'gamma': 0.3937191362497501, 'max_depth': 15.0, 'min_child_weight': 5.0, 'reg_lambda': 0.8950045124874713, 'subsample': 0.8157476691552388}\n{'colsample_bytree': 0.7978620006837847, 'gamma': 0.17446306972694095, 'max_depth': 14.0, 'min_child_weight': 8.0, 'reg_lambda': 0.9896522861080113, 'subsample': 0.7096766911812774}\n{'colsample_bytree': 0.8314660846099743, 'gamma': 0.2590398137223562, 'max_depth': 12.0, 'min_child_weight': 7.0, 'reg_lambda': 0.8309026474528057, 'subsample': 0.7286910652123743}\n{'colsample_bytree': 0.8836010466917403, 'gamma': 0.26585092102870833, 'max_depth': 9.0, 'min_child_weight': 7.0, 'reg_lambda': 0.8051955852026605, 'subsample': 0.7641320561605143}\n{'colsample_bytree': 0.8322333490313377, 'gamma': 0.1987466835238958, 'max_depth': 12.0, 'min_child_weight': 5.0, 'reg_lambda': 0.6955323346335059, 'subsample': 0.8079906729234946}\n{'colsample_bytree': 0.925780086566911, 'gamma': 0.10689330770865016, 'max_depth': 9.0, 'min_child_weight': 9.0, 'reg_lambda': 0.5122418336990495, 'subsample': 0.7510440330537013}\n{'colsample_bytree': 0.8391751280495394, 'gamma': 0.260567183307089, 'max_depth': 12.0, 'min_child_weight': 10.0, 'reg_lambda': 0.836603924869965, 'subsample': 0.7696028653539241}\n{'colsample_bytree': 0.8397327523264968, 'gamma': 0.27595988742640976, 'max_depth': 8.0, 'min_child_weight': 4.0, 'reg_lambda': 0.831273066630333, 'subsample': 0.8387823081347515}\n{'colsample_bytree': 0.8781916132300195, 'gamma': 0.2133814453829832, 'max_depth': 5.0, 'min_child_weight': 10.0, 'reg_lambda': 0.6972115091812113, 'subsample': 0.8027804897526315}\n{'colsample_bytree': 0.9438864477451165, 'gamma': 0.10739393454804977, 'max_depth': 4.0, 'min_child_weight': 10.0, 'reg_lambda': 0.5422573540688602, 'subsample': 0.8102639097349092}\n{'colsample_bytree': 0.9587578141356176, 'gamma': 0.11303944066649224, 'max_depth': 4.0, 'min_child_weight': 10.0, 'reg_lambda': 0.2856791972535876, 'subsample': 0.8495810311028837}\n{'colsample_bytree': 0.8991040016494941, 'gamma': 0.15481284322216673, 'max_depth': 5.0, 'min_child_weight': 10.0, 'reg_lambda': 0.6971585517683008, 'subsample': 0.7986900906619665}\n{'colsample_bytree': 0.9494250444760772, 'gamma': 0.140501398967032, 'max_depth': 5.0, 'min_child_weight': 9.0, 'reg_lambda': 0.5023968368711927, 'subsample': 0.8632873693202667}\n{'colsample_bytree': 0.9101733966721972, 'gamma': 0.163868080975861, 'max_depth': 5.0, 'min_child_weight': 1.0, 'reg_lambda': 0.5752165854747091, 'subsample': 0.8326402428284129}\n{'colsample_bytree': 0.9034044442711195, 'gamma': 0.19518431047836066, 'max_depth': 7.0, 'min_child_weight': 9.0, 'reg_lambda': 0.4450971798482333, 'subsample': 0.7409963265179026}\n{'colsample_bytree': 0.9408897540058285, 'gamma': 0.13036707525713978, 'max_depth': 6.0, 'min_child_weight': 10.0, 'reg_lambda': 0.3056165170758983, 'subsample': 0.873111781713537}\n{'colsample_bytree': 0.8755689090250124, 'gamma': 0.21102734024192915, 'max_depth': 5.0, 'min_child_weight': 4.0, 'reg_lambda': 0.6853228616412903, 'subsample': 0.8002001126225458}\n{'colsample_bytree': 0.8688231024408501, 'gamma': 0.1570006692563765, 'max_depth': 7.0, 'min_child_weight': 10.0, 'reg_lambda': 0.6567691994910047, 'subsample': 0.89225905433802}\n{'colsample_bytree': 0.7747561388334484, 'gamma': 0.3568468639061179, 'max_depth': 8.0, 'min_child_weight': 9.0, 'reg_lambda': 0.9290041992789194, 'subsample': 0.8446223626282401}\n{'colsample_bytree': 0.9771625925481074, 'gamma': 0.1025195636694147, 'max_depth': 4.0, 'min_child_weight': 8.0, 'reg_lambda': 0.5944572477802004, 'subsample': 0.9160225657342536}\n{'colsample_bytree': 0.9193017996393706, 'gamma': 0.3733349497906928, 'max_depth': 11.0, 'min_child_weight': 6.0, 'reg_lambda': 0.531749515514161, 'subsample': 0.7587243088760477}\n{'colsample_bytree': 0.7945333621640119, 'gamma': 0.29169220742707536, 'max_depth': 10.0, 'min_child_weight': 10.0, 'reg_lambda': 0.7649434862513304, 'subsample': 0.9383647558620989}\n{'colsample_bytree': 0.9415727387773062, 'gamma': 0.11791090093287541, 'max_depth': 6.0, 'min_child_weight': 2.0, 'reg_lambda': 0.45590121639527004, 'subsample': 0.7798756265077502}\n{'colsample_bytree': 0.9001993400441055, 'gamma': 0.15467309896836634, 'max_depth': 4.0, 'min_child_weight': 3.0, 'reg_lambda': 0.3306156810466923, 'subsample': 0.9970044275341798}\n{'colsample_bytree': 0.7357390477161653, 'gamma': 0.28766443149591253, 'max_depth': 14.0, 'min_child_weight': 8.0, 'reg_lambda': 0.927020338172685, 'subsample': 0.8252636204810787}\n{'colsample_bytree': 0.890805533478195, 'gamma': 0.12365484180004088, 'max_depth': 6.0, 'min_child_weight': 4.0, 'reg_lambda': 0.5426692964583928, 'subsample': 0.8607187519039242}\n{'colsample_bytree': 0.9629219745528769, 'gamma': 0.18619110054805546, 'max_depth': 8.0, 'min_child_weight': 10.0, 'reg_lambda': 0.24648974805432355, 'subsample': 0.9753299426605084}\n{'colsample_bytree': 0.849495309645073, 'gamma': 0.22990931764928624, 'max_depth': 11.0, 'min_child_weight': 9.0, 'reg_lambda': 0.8400458768654356, 'subsample': 0.7202298005599297}\n{'colsample_bytree': 0.8494113975864745, 'gamma': 0.232589016572495, 'max_depth': 11.0, 'min_child_weight': 6.0, 'reg_lambda': 0.8595588160456468, 'subsample': 0.719409689979424}\n{'colsample_bytree': 0.8667963249862242, 'gamma': 0.22089767515122335, 'max_depth': 9.0, 'min_child_weight': 5.0, 'reg_lambda': 0.6452225903641546, 'subsample': 0.7020655208583914}\n{'colsample_bytree': 0.78367218555267, 'gamma': 0.3356139814048086, 'max_depth': 15.0, 'min_child_weight': 9.0, 'reg_lambda': 0.7371171595379786, 'subsample': 0.7381784433829331}\n{'colsample_bytree': 0.7519641657042391, 'gamma': 0.3396254774900514, 'max_depth': 12.0, 'min_child_weight': 8.0, 'reg_lambda': 0.9430459203407524, 'subsample': 0.7750314630403327}\n{'colsample_bytree': 0.8499732826152893, 'gamma': 0.25391541632240455, 'max_depth': 16.0, 'min_child_weight': 7.0, 'reg_lambda': 0.8123163426975458, 'subsample': 0.7511512392491085}\n{'colsample_bytree': 0.8921366877427326, 'gamma': 0.20355475963058584, 'max_depth': 5.0, 'min_child_weight': 1.0, 'reg_lambda': 0.46955459202205874, 'subsample': 0.7989026031055261}\n{'colsample_bytree': 0.8089334915094896, 'gamma': 0.3085061298250559, 'max_depth': 10.0, 'min_child_weight': 6.0, 'reg_lambda': 0.6130622939755404, 'subsample': 0.7901686168508655}\n{'colsample_bytree': 0.9129936134518126, 'gamma': 0.22408806237347959, 'max_depth': 9.0, 'min_child_weight': 8.0, 'reg_lambda': 0.7402587441731432, 'subsample': 0.7199725001048171}\n{'colsample_bytree': 0.7049521529525224, 'gamma': 0.4666098752375509, 'max_depth': 15.0, 'min_child_weight': 10.0, 'reg_lambda': 0.777828684330266, 'subsample': 0.886877424014746}\n{'colsample_bytree': 0.7017866318540185, 'gamma': 0.4924735562739062, 'max_depth': 15.0, 'min_child_weight': 9.0, 'reg_lambda': 0.9033409939766098, 'subsample': 0.9457348048342382}\n{'colsample_bytree': 0.968500247214055, 'gamma': 0.4506883342190433, 'max_depth': 7.0, 'min_child_weight': 10.0, 'reg_lambda': 0.4127746160918225, 'subsample': 0.8918684570914951}\n{'colsample_bytree': 0.9315524018921216, 'gamma': 0.4109277373727466, 'max_depth': 4.0, 'min_child_weight': 10.0, 'reg_lambda': 0.3518881704840233, 'subsample': 0.8163772419997882}\n{'colsample_bytree': 0.7633071842746797, 'gamma': 0.2529340824350413, 'max_depth': 14.0, 'min_child_weight': 9.0, 'reg_lambda': 0.6729875743074734, 'subsample': 0.9082822348251214}\n{'colsample_bytree': 0.7075163042115687, 'gamma': 0.4698778045584239, 'max_depth': 16.0, 'min_child_weight': 10.0, 'reg_lambda': 0.78669766129641, 'subsample': 0.8705996157731337}\n{'colsample_bytree': 0.9854754123236181, 'gamma': 0.37544412194035937, 'max_depth': 5.0, 'min_child_weight': 9.0, 'reg_lambda': 0.5970518627484005, 'subsample': 0.8704417016874078}\n{'colsample_bytree': 0.9206771797086365, 'gamma': 0.17218155194982995, 'max_depth': 6.0, 'min_child_weight': 10.0, 'reg_lambda': 0.719362896545656, 'subsample': 0.8054286070682478}\n{'colsample_bytree': 0.710066177504094, 'gamma': 0.46353761127014187, 'max_depth': 16.0, 'min_child_weight': 8.0, 'reg_lambda': 0.7643735563363101, 'subsample': 0.9274748527667075}\n{'colsample_bytree': 0.8377758346570079, 'gamma': 0.1735341408832606, 'max_depth': 7.0, 'min_child_weight': 10.0, 'reg_lambda': 0.7154254553750186, 'subsample': 0.7597673851416721}\n{'colsample_bytree': 0.9943854563862617, 'gamma': 0.38846290764354074, 'max_depth': 6.0, 'min_child_weight': 7.0, 'reg_lambda': 0.5710870298954462, 'subsample': 0.8354596726041541}\n{'colsample_bytree': 0.9472281929646917, 'gamma': 0.3235946088199667, 'max_depth': 4.0, 'min_child_weight': 8.0, 'reg_lambda': 0.6346384717823013, 'subsample': 0.8500460546969779}\n{'colsample_bytree': 0.8611386616645321, 'gamma': 0.24657577682724016, 'max_depth': 13.0, 'min_child_weight': 9.0, 'reg_lambda': 0.8600445046735244, 'subsample': 0.7828163644492417}\n{'colsample_bytree': 0.8213899462000503, 'gamma': 0.16871050993065703, 'max_depth': 8.0, 'min_child_weight': 10.0, 'reg_lambda': 0.8968574039771778, 'subsample': 0.7600774648895502}\n{'colsample_bytree': 0.8954156246957791, 'gamma': 0.18226325469953758, 'max_depth': 6.0, 'min_child_weight': 9.0, 'reg_lambda': 0.7156583890884113, 'subsample': 0.7940006280011858}\n{'colsample_bytree': 0.9259696137205654, 'gamma': 0.1502986133331996, 'max_depth': 7.0, 'min_child_weight': 10.0, 'reg_lambda': 0.4721070411465426, 'subsample': 0.8085522524160059}\n{'colsample_bytree': 0.9542350911192327, 'gamma': 0.15289974265821815, 'max_depth': 5.0, 'min_child_weight': 7.0, 'reg_lambda': 0.16484782573106704, 'subsample': 0.8147854831244318}\n{'colsample_bytree': 0.8813497727402485, 'gamma': 0.2725352085946493, 'max_depth': 14.0, 'min_child_weight': 9.0, 'reg_lambda': 0.9723030595189401, 'subsample': 0.8837813380993247}\n{'colsample_bytree': 0.872413500583075, 'gamma': 0.23057093545493348, 'max_depth': 11.0, 'min_child_weight': 2.0, 'reg_lambda': 0.5493797707388417, 'subsample': 0.7099290913800587}\n{'colsample_bytree': 0.738963635448539, 'gamma': 0.47886646837376057, 'max_depth': 15.0, 'min_child_weight': 8.0, 'reg_lambda': 0.797331000741882, 'subsample': 0.851715150219134}\n{'colsample_bytree': 0.8257660979967024, 'gamma': 0.20899185870984724, 'max_depth': 8.0, 'min_child_weight': 9.0, 'reg_lambda': 0.4855598564668337, 'subsample': 0.7294188716720773}\n{'colsample_bytree': 0.8054100204504119, 'gamma': 0.19133552005554796, 'max_depth': 8.0, 'min_child_weight': 8.0, 'reg_lambda': 0.415845397082398, 'subsample': 0.7752711465657245}\n{'colsample_bytree': 0.7145822369160999, 'gamma': 0.4417748005708977, 'max_depth': 15.0, 'min_child_weight': 5.0, 'reg_lambda': 0.7707553539925441, 'subsample': 0.9580730119662015}\n{'colsample_bytree': 0.7904073667764484, 'gamma': 0.10885003612636203, 'max_depth': 4.0, 'min_child_weight': 10.0, 'reg_lambda': 0.6644145649760596, 'subsample': 0.7442377496684965}\n{'colsample_bytree': 0.7896154138296311, 'gamma': 0.3641906309255528, 'max_depth': 12.0, 'min_child_weight': 7.0, 'reg_lambda': 0.832924868959224, 'subsample': 0.9806761485308277}\n{'colsample_bytree': 0.8404867945402794, 'gamma': 0.2827340104501783, 'max_depth': 13.0, 'min_child_weight': 6.0, 'reg_lambda': 0.6689474404448217, 'subsample': 0.7451314029899787}\n{'colsample_bytree': 0.7349292982894691, 'gamma': 0.13570258297405266, 'max_depth': 6.0, 'min_child_weight': 3.0, 'reg_lambda': 0.7204205230996368, 'subsample': 0.9162512518602185}\n{'colsample_bytree': 0.7765914918282038, 'gamma': 0.10034676022335337, 'max_depth': 10.0, 'min_child_weight': 9.0, 'reg_lambda': 0.5066877296307521, 'subsample': 0.7361575161923254}\n{'colsample_bytree': 0.8013970202825463, 'gamma': 0.16552761922678827, 'max_depth': 5.0, 'min_child_weight': 4.0, 'reg_lambda': 0.9998428159046527, 'subsample': 0.7535590554144838}\n{'colsample_bytree': 0.7582125808793081, 'gamma': 0.1304359013079316, 'max_depth': 7.0, 'min_child_weight': 10.0, 'reg_lambda': 0.8712152272982736, 'subsample': 0.7019673842916315}\n{'colsample_bytree': 0.7681863769477266, 'gamma': 0.11700127849783401, 'max_depth': 4.0, 'min_child_weight': 8.0, 'reg_lambda': 0.6234724235583683, 'subsample': 0.7057696585619206}\n{'colsample_bytree': 0.7411921146397342, 'gamma': 0.43158869252533283, 'max_depth': 9.0, 'min_child_weight': 10.0, 'reg_lambda': 0.9528143017991758, 'subsample': 0.8306245023017503}\n{'colsample_bytree': 0.7205526204643209, 'gamma': 0.1102453342706193, 'max_depth': 9.0, 'min_child_weight': 9.0, 'reg_lambda': 0.9060719764583522, 'subsample': 0.7133494975014691}\n{'colsample_bytree': 0.7252824467424933, 'gamma': 0.10948390553206862, 'max_depth': 4.0, 'min_child_weight': 8.0, 'reg_lambda': 0.25950065780877063, 'subsample': 0.730468326314575}\n{'colsample_bytree': 0.7497510072898392, 'gamma': 0.29888530966729765, 'max_depth': 10.0, 'min_child_weight': 6.0, 'reg_lambda': 0.9271791363249107, 'subsample': 0.7156745120863967}\n{'colsample_bytree': 0.8613335396223408, 'gamma': 0.12106590267310478, 'max_depth': 4.0, 'min_child_weight': 10.0, 'reg_lambda': 0.367630079357467, 'subsample': 0.8413999824738805}\n{'colsample_bytree': 0.8138402589552204, 'gamma': 0.1481958181071183, 'max_depth': 13.0, 'min_child_weight': 3.0, 'reg_lambda': 0.5948879883630629, 'subsample': 0.7657652785150486}\n100%|██████████| 100/100 [00:03<00:00, 28.64it/s, best loss: 0.8201357466063348]\n"
      }
     ],
     "persistentId": "e6746755-3f43-48da-b7d8-617bf323bee0",
     "text": "def objective(space):\n    print(space)\n    clf = XGBClassifier(\n        n_estimators=1000,\n        colsample_bytree=space[\"colsample_bytree\"],\n        learning_rate=0.3,\n        max_depth=int(space[\"max_depth\"]),\n        min_child_weight=space[\"min_child_weight\"],\n        subsample=space[\"subsample\"],\n        gamma=space[\"gamma\"],\n        reg_lambda=space[\"reg_lambda\"],\n    )\n\n    eval_set = [(X_train, y_train), (X_test, y_test)]\n\n    clf.fit(\n        X_train,\n        y_train,\n        eval_set=eval_set,\n        eval_metric=\"auc\",\n        early_stopping_rounds=10,\n        verbose=False,\n    )\n\n    pred = clf.predict(X_test)\n    auc = roc_auc_score(y_test, pred)\n    # change the metric if you like\n    return {\"loss\": auc, \"status\": STATUS_OK}\n\n\nspace = {\n    \"max_depth\": hp.quniform(\"max_depth\", 4, 16, 1),\n    \"min_child_weight\": hp.quniform(\"min_child\", 1, 10, 1),\n    \"subsample\": hp.uniform(\"subsample\", 0.7, 1),\n    \"gamma\": hp.uniform(\"gamma\", 0.1, 0.5),\n    \"colsample_bytree\": hp.uniform(\"colsample_bytree\", 0.7, 1),\n    \"reg_lambda\": hp.uniform(\"reg_lambda\", 0, 1),\n}\n\n\ntrials = Trials()\nbest = fmin(fn=objective, space=space, algo=tpe.suggest, max_evals=100, trials=trials)"
    },
    "executionTime": "2020-03-27T21:37:01.331Z"
   },
   {
    "cell": {
     "executionCount": 5,
     "executionEventId": "da84b3c6-0d51-496c-aa53-47686a3d5529",
     "hasError": false,
     "id": "202c5bc9-b9fe-4c5a-8d02-0dfb4736f510",
     "outputs": [
      {
       "data": {
        "text/plain": "{'colsample_bytree': 0.7904073667764484,\n 'gamma': 0.10885003612636203,\n 'max_depth': 4.0,\n 'min_child': 10.0,\n 'reg_lambda': 0.6644145649760596,\n 'subsample': 0.7442377496684965}"
       },
       "execution_count": 5,
       "metadata": {},
       "output_type": "execute_result"
      }
     ],
     "persistentId": "e02c6429-7f5d-4f3a-aa03-bcef89bed8dc",
     "text": "best"
    },
    "executionTime": "2020-03-27T21:37:01.360Z"
   },
   {
    "cell": {
     "executionCount": 6,
     "executionEventId": "1e4e4e88-4efc-4869-ae29-11ba01055451",
     "hasError": false,
     "id": "202c5bc9-b9fe-4c5a-8d02-0dfb4736f510",
     "outputs": [
      {
       "data": {
        "text/plain": "{'colsample_bytree': 0.7904073667764484,\n 'gamma': 0.10885003612636203,\n 'max_depth': 4.0,\n 'min_child': 10.0,\n 'reg_lambda': 0.6644145649760596,\n 'subsample': 0.7442377496684965}"
       },
       "execution_count": 6,
       "metadata": {},
       "output_type": "execute_result"
      }
     ],
     "persistentId": "e02c6429-7f5d-4f3a-aa03-bcef89bed8dc",
     "text": "best"
    },
    "executionTime": "2020-03-27T21:39:55.624Z"
   },
   {
    "cell": {
     "executionCount": 7,
     "executionEventId": "c4c9267e-670d-4af1-b4d4-c63987da217d",
     "hasError": false,
     "id": "7ca21603-d764-42d2-a01d-91dee15c7e7d",
     "outputs": [
      {
       "name": "stdout",
       "output_type": "stream",
       "text": "{'colsample_bytree': 0.8772890295173994, 'gamma': 0.36455399113729536, 'learning_rate': 0.10890762328307076, 'max_depth': 6.0, 'min_child_weight': 9.0, 'reg_lambda': 0.8676589084988392, 'subsample': 0.9411745386011886}\n{'colsample_bytree': 0.8058941661780578, 'gamma': 0.38219199413803573, 'learning_rate': 0.10555663815331348, 'max_depth': 7.0, 'min_child_weight': 6.0, 'reg_lambda': 0.4307733123112034, 'subsample': 0.8608179944915223}\n{'colsample_bytree': 0.7894410579466669, 'gamma': 0.10149102452879136, 'learning_rate': 0.04865044955768253, 'max_depth': 4.0, 'min_child_weight': 2.0, 'reg_lambda': 0.924084758283155, 'subsample': 0.8841456459388891}\n{'colsample_bytree': 0.919603911972503, 'gamma': 0.1741317714564891, 'learning_rate': 0.28228265199736585, 'max_depth': 6.0, 'min_child_weight': 4.0, 'reg_lambda': 0.7756492078808049, 'subsample': 0.9873349413399752}\n{'colsample_bytree': 0.7656008001213244, 'gamma': 0.42100781524023445, 'learning_rate': 0.45335886355889776, 'max_depth': 6.0, 'min_child_weight': 8.0, 'reg_lambda': 0.9984341783497731, 'subsample': 0.8149034768852615}\n{'colsample_bytree': 0.9318825952045255, 'gamma': 0.1922809903686673, 'learning_rate': 0.17723465001613561, 'max_depth': 14.0, 'min_child_weight': 8.0, 'reg_lambda': 0.8943905330495189, 'subsample': 0.837166126993554}\n{'colsample_bytree': 0.7967436070346824, 'gamma': 0.3266446670997344, 'learning_rate': 0.025198128012977956, 'max_depth': 11.0, 'min_child_weight': 9.0, 'reg_lambda': 0.8032245595484423, 'subsample': 0.7464771918353285}\n{'colsample_bytree': 0.9713578678290367, 'gamma': 0.3634211463556851, 'learning_rate': 0.08007104442488014, 'max_depth': 8.0, 'min_child_weight': 5.0, 'reg_lambda': 0.8546082557284331, 'subsample': 0.9464509048187856}\n{'colsample_bytree': 0.7775257557446044, 'gamma': 0.18273008559506554, 'learning_rate': 0.3639416812605327, 'max_depth': 6.0, 'min_child_weight': 2.0, 'reg_lambda': 0.3391079891014487, 'subsample': 0.7775852183909631}\n{'colsample_bytree': 0.9100979011318487, 'gamma': 0.39924860976390075, 'learning_rate': 0.28292383997268894, 'max_depth': 6.0, 'min_child_weight': 5.0, 'reg_lambda': 0.4927666634152703, 'subsample': 0.909966494798531}\n{'colsample_bytree': 0.8067276075118469, 'gamma': 0.19323568495174556, 'learning_rate': 0.11997124120549055, 'max_depth': 14.0, 'min_child_weight': 4.0, 'reg_lambda': 0.6614914496513973, 'subsample': 0.8058880452270917}\n{'colsample_bytree': 0.9027474282601755, 'gamma': 0.3345963153955261, 'learning_rate': 0.19733633588651767, 'max_depth': 8.0, 'min_child_weight': 5.0, 'reg_lambda': 0.41445768017451023, 'subsample': 0.7250805224990395}\n{'colsample_bytree': 0.9933970340457319, 'gamma': 0.4946054883668908, 'learning_rate': 0.015011684467192608, 'max_depth': 13.0, 'min_child_weight': 8.0, 'reg_lambda': 0.9019720258612768, 'subsample': 0.9903231786010084}\n{'colsample_bytree': 0.9979768218807012, 'gamma': 0.388785964900911, 'learning_rate': 0.3738927308160373, 'max_depth': 14.0, 'min_child_weight': 1.0, 'reg_lambda': 0.1486673378811142, 'subsample': 0.7906833479794619}\n{'colsample_bytree': 0.7556069259346301, 'gamma': 0.3570386117249785, 'learning_rate': 0.4785787677141049, 'max_depth': 4.0, 'min_child_weight': 5.0, 'reg_lambda': 0.4065219260407119, 'subsample': 0.8559196961372217}\n{'colsample_bytree': 0.8592766774601146, 'gamma': 0.33289180722359324, 'learning_rate': 0.2798606969490296, 'max_depth': 8.0, 'min_child_weight': 10.0, 'reg_lambda': 0.46711566142138117, 'subsample': 0.7918536227578109}\n{'colsample_bytree': 0.9143524975599768, 'gamma': 0.1408367048314615, 'learning_rate': 0.4444015352972125, 'max_depth': 8.0, 'min_child_weight': 8.0, 'reg_lambda': 0.8626445745068925, 'subsample': 0.7811268452388886}\n{'colsample_bytree': 0.8376025559830718, 'gamma': 0.29573587394103407, 'learning_rate': 0.04270935916500759, 'max_depth': 6.0, 'min_child_weight': 9.0, 'reg_lambda': 0.8984348556332588, 'subsample': 0.7355680606113967}\n{'colsample_bytree': 0.7092557413469623, 'gamma': 0.41327374326064736, 'learning_rate': 0.018018117037428984, 'max_depth': 5.0, 'min_child_weight': 1.0, 'reg_lambda': 0.113505346664176, 'subsample': 0.8550726510204378}\n{'colsample_bytree': 0.7060103364748749, 'gamma': 0.38340691473337263, 'learning_rate': 0.24229662693105425, 'max_depth': 10.0, 'min_child_weight': 6.0, 'reg_lambda': 0.11487355474212746, 'subsample': 0.8123949174912001}\n{'colsample_bytree': 0.9576050776889421, 'gamma': 0.26248237434137267, 'learning_rate': 0.19854844185468135, 'max_depth': 10.0, 'min_child_weight': 3.0, 'reg_lambda': 0.6037624014344577, 'subsample': 0.7104541229365038}\n{'colsample_bytree': 0.8913785275091453, 'gamma': 0.24417130809752857, 'learning_rate': 0.35460602280093656, 'max_depth': 12.0, 'min_child_weight': 4.0, 'reg_lambda': 0.28352313651023586, 'subsample': 0.9798239709679455}\n{'colsample_bytree': 0.9405904623380901, 'gamma': 0.24086532812750044, 'learning_rate': 0.1715583643302433, 'max_depth': 9.0, 'min_child_weight': 4.0, 'reg_lambda': 0.6656617086665642, 'subsample': 0.9505580084907217}\n{'colsample_bytree': 0.8514867780941686, 'gamma': 0.4771878061120747, 'learning_rate': 0.31354625797220836, 'max_depth': 16.0, 'min_child_weight': 7.0, 'reg_lambda': 0.22801192652964344, 'subsample': 0.7093654026081947}\n{'colsample_bytree': 0.8815428622810721, 'gamma': 0.4575705486021878, 'learning_rate': 0.22189591972669698, 'max_depth': 9.0, 'min_child_weight': 3.0, 'reg_lambda': 0.588412776962301, 'subsample': 0.8936682378127351}\n{'colsample_bytree': 0.8318542724541486, 'gamma': 0.10239478517191354, 'learning_rate': 0.1513259377295694, 'max_depth': 5.0, 'min_child_weight': 3.0, 'reg_lambda': 0.7611647947794309, 'subsample': 0.922624297823931}\n{'colsample_bytree': 0.9712984699219138, 'gamma': 0.28575277611887356, 'learning_rate': 0.31217492855035894, 'max_depth': 7.0, 'min_child_weight': 6.0, 'reg_lambda': 0.027844055861580563, 'subsample': 0.7438243471442164}\n{'colsample_bytree': 0.9087517572798413, 'gamma': 0.14838739342336466, 'learning_rate': 0.40872714009220545, 'max_depth': 9.0, 'min_child_weight': 7.0, 'reg_lambda': 0.5802126373794194, 'subsample': 0.9785434994274841}\n{'colsample_bytree': 0.8670221321480247, 'gamma': 0.2236641915975886, 'learning_rate': 0.2621795707082902, 'max_depth': 7.0, 'min_child_weight': 2.0, 'reg_lambda': 0.7054908327706002, 'subsample': 0.9686087126689816}\n{'colsample_bytree': 0.9394108438685242, 'gamma': 0.3336942719593379, 'learning_rate': 0.2191790660319856, 'max_depth': 5.0, 'min_child_weight': 4.0, 'reg_lambda': 0.993736236713358, 'subsample': 0.7660016224169748}\n{'colsample_bytree': 0.8959061162843476, 'gamma': 0.13713856561217247, 'learning_rate': 0.13252919868447566, 'max_depth': 11.0, 'min_child_weight': 7.0, 'reg_lambda': 0.35805968813727673, 'subsample': 0.8310397207165012}\n{'colsample_bytree': 0.8273659095276097, 'gamma': 0.4425914925330145, 'learning_rate': 0.07979645816392039, 'max_depth': 4.0, 'min_child_weight': 5.0, 'reg_lambda': 0.5413294845975581, 'subsample': 0.8741122758415274}\n{'colsample_bytree': 0.9229726478315439, 'gamma': 0.27744692793699477, 'learning_rate': 0.3206523975698145, 'max_depth': 7.0, 'min_child_weight': 3.0, 'reg_lambda': 0.7487148027847902, 'subsample': 0.9983539587420689}\n{'colsample_bytree': 0.9546876328877906, 'gamma': 0.11364855681559316, 'learning_rate': 0.1975727788993052, 'max_depth': 5.0, 'min_child_weight': 6.0, 'reg_lambda': 0.20602082303571123, 'subsample': 0.9189118627730458}\n{'colsample_bytree': 0.8752203448665341, 'gamma': 0.21474711052251239, 'learning_rate': 0.4092860220804936, 'max_depth': 8.0, 'min_child_weight': 4.0, 'reg_lambda': 0.4326414409628446, 'subsample': 0.7004100459240739}\n{'colsample_bytree': 0.9824582896190093, 'gamma': 0.319651205979356, 'learning_rate': 0.0907764911144194, 'max_depth': 11.0, 'min_child_weight': 5.0, 'reg_lambda': 0.9940634507647144, 'subsample': 0.7301958157526582}\n{'colsample_bytree': 0.8155014776431652, 'gamma': 0.16713239299331956, 'learning_rate': 0.34124921542924214, 'max_depth': 7.0, 'min_child_weight': 2.0, 'reg_lambda': 0.525877711635193, 'subsample': 0.8302812543251006}\n{'colsample_bytree': 0.8978396017675098, 'gamma': 0.3544879808387195, 'learning_rate': 0.2453341365427241, 'max_depth': 9.0, 'min_child_weight': 7.0, 'reg_lambda': 0.8022240135145176, 'subsample': 0.7612008888428659}\n{'colsample_bytree': 0.9311633260668291, 'gamma': 0.2136716875757668, 'learning_rate': 0.15269365834771415, 'max_depth': 4.0, 'min_child_weight': 3.0, 'reg_lambda': 0.3389842451635068, 'subsample': 0.8755415779786544}\n{'colsample_bytree': 0.9504291351975998, 'gamma': 0.3120084050787198, 'learning_rate': 0.2926673134020852, 'max_depth': 6.0, 'min_child_weight': 6.0, 'reg_lambda': 0.9599523061292257, 'subsample': 0.8982662897524492}\n{'colsample_bytree': 0.7569493279737654, 'gamma': 0.24949479653686096, 'learning_rate': 0.38605828912686563, 'max_depth': 16.0, 'min_child_weight': 5.0, 'reg_lambda': 0.6743021280987278, 'subsample': 0.9354036842326734}\n{'colsample_bytree': 0.7876202349204763, 'gamma': 0.43215155822839535, 'learning_rate': 0.18482189176333844, 'max_depth': 12.0, 'min_child_weight': 1.0, 'reg_lambda': 0.286565751921967, 'subsample': 0.9588383287764423}\n{'colsample_bytree': 0.7379392277966189, 'gamma': 0.17012049264423423, 'learning_rate': 0.22126661059557967, 'max_depth': 8.0, 'min_child_weight': 4.0, 'reg_lambda': 0.8200945502164293, 'subsample': 0.839982983002589}\n{'colsample_bytree': 0.9753323020073476, 'gamma': 0.3406440397961056, 'learning_rate': 0.4932628990926288, 'max_depth': 7.0, 'min_child_weight': 2.0, 'reg_lambda': 0.4078987232171967, 'subsample': 0.8044157633969741}\n{'colsample_bytree': 0.9988337626080027, 'gamma': 0.2716113338547517, 'learning_rate': 0.26767446158601543, 'max_depth': 6.0, 'min_child_weight': 5.0, 'reg_lambda': 0.7356405109527726, 'subsample': 0.7216732173033016}\n{'colsample_bytree': 0.9128586276720855, 'gamma': 0.30581982769958294, 'learning_rate': 0.06457837614416498, 'max_depth': 10.0, 'min_child_weight': 10.0, 'reg_lambda': 0.030758015978594566, 'subsample': 0.9350328015468385}\n{'colsample_bytree': 0.8474152002410714, 'gamma': 0.37348576139312206, 'learning_rate': 0.10878090669745231, 'max_depth': 11.0, 'min_child_weight': 9.0, 'reg_lambda': 0.6167513080082081, 'subsample': 0.8694285222081655}\n{'colsample_bytree': 0.880862850626544, 'gamma': 0.3992261437371607, 'learning_rate': 0.43848663587826275, 'max_depth': 8.0, 'min_child_weight': 6.0, 'reg_lambda': 0.45719768256560167, 'subsample': 0.7527585014275812}\n{'colsample_bytree': 0.8170716606034406, 'gamma': 0.12737081877138343, 'learning_rate': 0.13123344094385211, 'max_depth': 12.0, 'min_child_weight': 8.0, 'reg_lambda': 0.49481554365124375, 'subsample': 0.8192996026222885}\n{'colsample_bytree': 0.865705941685274, 'gamma': 0.19041500045823662, 'learning_rate': 0.2964535186470884, 'max_depth': 15.0, 'min_child_weight': 4.0, 'reg_lambda': 0.36822111000875407, 'subsample': 0.8451726458416349}\n{'colsample_bytree': 0.9246731013360565, 'gamma': 0.22990859515864492, 'learning_rate': 0.33666417942824717, 'max_depth': 13.0, 'min_child_weight': 5.0, 'reg_lambda': 0.5466442430871259, 'subsample': 0.7936494476900665}\n{'colsample_bytree': 0.9595112829676221, 'gamma': 0.29460325373956975, 'learning_rate': 0.04430450649132042, 'max_depth': 6.0, 'min_child_weight': 2.0, 'reg_lambda': 0.28724897846913894, 'subsample': 0.9996294487878151}\n{'colsample_bytree': 0.9884812791997971, 'gamma': 0.20499390940049053, 'learning_rate': 0.16718159780598857, 'max_depth': 5.0, 'min_child_weight': 1.0, 'reg_lambda': 0.9389794376861547, 'subsample': 0.895477410916209}\n{'colsample_bytree': 0.843882453857455, 'gamma': 0.34538219681449506, 'learning_rate': 0.23436062450949832, 'max_depth': 9.0, 'min_child_weight': 3.0, 'reg_lambda': 0.635040008716385, 'subsample': 0.7744710259169525}\n{'colsample_bytree': 0.7998652499949512, 'gamma': 0.4914958736256023, 'learning_rate': 0.3862604774956459, 'max_depth': 4.0, 'min_child_weight': 7.0, 'reg_lambda': 0.8494594778088177, 'subsample': 0.9166968426428407}\n{'colsample_bytree': 0.9022622191657979, 'gamma': 0.25897277744812336, 'learning_rate': 0.2595633740437397, 'max_depth': 10.0, 'min_child_weight': 6.0, 'reg_lambda': 0.07739140349282186, 'subsample': 0.860644472584354}\n{'colsample_bytree': 0.9426292564582905, 'gamma': 0.4077535796686569, 'learning_rate': 0.20331124775236964, 'max_depth': 8.0, 'min_child_weight': 4.0, 'reg_lambda': 0.7863712283081932, 'subsample': 0.9543804492913471}\n{'colsample_bytree': 0.8874852191155752, 'gamma': 0.16034771845320253, 'learning_rate': 0.28153386136948033, 'max_depth': 7.0, 'min_child_weight': 3.0, 'reg_lambda': 0.20093079128936545, 'subsample': 0.904133160771131}\n{'colsample_bytree': 0.9644967934187119, 'gamma': 0.37154873719345466, 'learning_rate': 0.4558612492498435, 'max_depth': 6.0, 'min_child_weight': 5.0, 'reg_lambda': 0.6922993338791539, 'subsample': 0.8827010650501075}\n{'colsample_bytree': 0.8577362019155294, 'gamma': 0.18096922541577748, 'learning_rate': 0.32779420821979044, 'max_depth': 5.0, 'min_child_weight': 8.0, 'reg_lambda': 0.25189615991213293, 'subsample': 0.9872665836248264}\n{'colsample_bytree': 0.7237893050615438, 'gamma': 0.32318797781561215, 'learning_rate': 0.15243973092503868, 'max_depth': 9.0, 'min_child_weight': 2.0, 'reg_lambda': 0.1652556080155998, 'subsample': 0.8222632807853423}\n{'colsample_bytree': 0.9252044072237003, 'gamma': 0.4587415427864082, 'learning_rate': 0.30471289830609294, 'max_depth': 13.0, 'min_child_weight': 10.0, 'reg_lambda': 0.5621344060346585, 'subsample': 0.7032848839777619}\n{'colsample_bytree': 0.7779215966459627, 'gamma': 0.11562504920749736, 'learning_rate': 0.36759322275139983, 'max_depth': 10.0, 'min_child_weight': 4.0, 'reg_lambda': 0.6436308166260056, 'subsample': 0.7172185270352047}\n{'colsample_bytree': 0.8703123834666167, 'gamma': 0.42526024402326595, 'learning_rate': 0.349275611516121, 'max_depth': 6.0, 'min_child_weight': 9.0, 'reg_lambda': 0.7106914312470675, 'subsample': 0.9671073465119449}\n{'colsample_bytree': 0.9038178805162737, 'gamma': 0.39147375681782254, 'learning_rate': 0.03285163597767593, 'max_depth': 5.0, 'min_child_weight': 7.0, 'reg_lambda': 0.47123967404642286, 'subsample': 0.7858987099673062}\n{'colsample_bytree': 0.9198298315298121, 'gamma': 0.30224151987712405, 'learning_rate': 0.08515202363242648, 'max_depth': 11.0, 'min_child_weight': 6.0, 'reg_lambda': 0.0528775879276753, 'subsample': 0.9366058904076331}\n{'colsample_bytree': 0.9131726662071613, 'gamma': 0.310629941907082, 'learning_rate': 0.18475243302267266, 'max_depth': 10.0, 'min_child_weight': 5.0, 'reg_lambda': 0.8897525363639229, 'subsample': 0.9760558158708402}\n{'colsample_bytree': 0.8343467897244045, 'gamma': 0.3639935148612093, 'learning_rate': 0.0020723304526676645, 'max_depth': 8.0, 'min_child_weight': 9.0, 'reg_lambda': 0.3872270303857891, 'subsample': 0.7993752174688326}\n{'colsample_bytree': 0.8829315281559197, 'gamma': 0.2364223179470574, 'learning_rate': 0.0687230380647216, 'max_depth': 9.0, 'min_child_weight': 4.0, 'reg_lambda': 0.1539272097235267, 'subsample': 0.9938098770037344}\n{'colsample_bytree': 0.864369331423265, 'gamma': 0.2819077397206289, 'learning_rate': 0.2685784715438797, 'max_depth': 7.0, 'min_child_weight': 10.0, 'reg_lambda': 0.32058394212055286, 'subsample': 0.7374873811633351}\n{'colsample_bytree': 0.933208648756528, 'gamma': 0.2798893781767617, 'learning_rate': 0.23280655811620807, 'max_depth': 7.0, 'min_child_weight': 3.0, 'reg_lambda': 0.3400643778917776, 'subsample': 0.7493688562245733}\n{'colsample_bytree': 0.8588899965455503, 'gamma': 0.2561030780816993, 'learning_rate': 0.20755012986071358, 'max_depth': 7.0, 'min_child_weight': 6.0, 'reg_lambda': 0.32675456216930066, 'subsample': 0.7301698795536542}\n{'colsample_bytree': 0.8163332708428785, 'gamma': 0.29233527563067513, 'learning_rate': 0.2655179083783634, 'max_depth': 4.0, 'min_child_weight': 5.0, 'reg_lambda': 0.4350398864662255, 'subsample': 0.7658026298651646}\n{'colsample_bytree': 0.8883256873432619, 'gamma': 0.2694695699784874, 'learning_rate': 0.25082575226524917, 'max_depth': 7.0, 'min_child_weight': 4.0, 'reg_lambda': 0.30480960939178375, 'subsample': 0.7188410146643439}\n{'colsample_bytree': 0.9480231107850691, 'gamma': 0.35053102732762925, 'learning_rate': 0.06833323290091697, 'max_depth': 12.0, 'min_child_weight': 8.0, 'reg_lambda': 0.010956943248105713, 'subsample': 0.9459494588711105}\n{'colsample_bytree': 0.8263818957745727, 'gamma': 0.20618404663425205, 'learning_rate': 0.1257642235612898, 'max_depth': 8.0, 'min_child_weight': 3.0, 'reg_lambda': 0.227095559207848, 'subsample': 0.7359708313964172}\n{'colsample_bytree': 0.8939074626317788, 'gamma': 0.32629151836429926, 'learning_rate': 0.4158991095790292, 'max_depth': 6.0, 'min_child_weight': 5.0, 'reg_lambda': 0.11258225460183341, 'subsample': 0.775062874639045}\n{'colsample_bytree': 0.8509743794083309, 'gamma': 0.14758481779686036, 'learning_rate': 0.16712834687586256, 'max_depth': 8.0, 'min_child_weight': 7.0, 'reg_lambda': 0.511048683536619, 'subsample': 0.7412692210453911}\n{'colsample_bytree': 0.9705728391888695, 'gamma': 0.3364285117696889, 'learning_rate': 0.009300154353499956, 'max_depth': 10.0, 'min_child_weight': 6.0, 'reg_lambda': 0.7664014353709467, 'subsample': 0.9261609763726095}\n{'colsample_bytree': 0.8756854314474468, 'gamma': 0.38424742138924367, 'learning_rate': 0.28354573187159426, 'max_depth': 9.0, 'min_child_weight': 2.0, 'reg_lambda': 0.4706118731316058, 'subsample': 0.8523084094722518}\n{'colsample_bytree': 0.9333478033968752, 'gamma': 0.31185425775287373, 'learning_rate': 0.09734126301754825, 'max_depth': 11.0, 'min_child_weight': 4.0, 'reg_lambda': 0.9750517196410211, 'subsample': 0.92961901449664}\n{'colsample_bytree': 0.9816810657213426, 'gamma': 0.24646424866533986, 'learning_rate': 0.05707177969218813, 'max_depth': 15.0, 'min_child_weight': 7.0, 'reg_lambda': 0.9216596627764885, 'subsample': 0.9642245850006558}\n{'colsample_bytree': 0.8419497683089877, 'gamma': 0.18039228698057927, 'learning_rate': 0.1417913606643087, 'max_depth': 6.0, 'min_child_weight': 1.0, 'reg_lambda': 0.25982304179747284, 'subsample': 0.7111001746282058}\n{'colsample_bytree': 0.9094832878376242, 'gamma': 0.3040315776153889, 'learning_rate': 0.026749682160143007, 'max_depth': 10.0, 'min_child_weight': 10.0, 'reg_lambda': 0.859660619363233, 'subsample': 0.985123832202445}\n{'colsample_bytree': 0.9013535593221877, 'gamma': 0.45271396905501055, 'learning_rate': 0.37923530071200984, 'max_depth': 5.0, 'min_child_weight': 8.0, 'reg_lambda': 0.5883575417618429, 'subsample': 0.8087742350156819}\n{'colsample_bytree': 0.9453153199396997, 'gamma': 0.22873113446543525, 'learning_rate': 0.19168640454755873, 'max_depth': 14.0, 'min_child_weight': 5.0, 'reg_lambda': 0.08587584257900538, 'subsample': 0.9119641157802902}\n{'colsample_bytree': 0.8048772360613806, 'gamma': 0.19422470034798833, 'learning_rate': 0.30309125770946993, 'max_depth': 4.0, 'min_child_weight': 3.0, 'reg_lambda': 0.37726079654662725, 'subsample': 0.7315994885402601}\n{'colsample_bytree': 0.9182987098058464, 'gamma': 0.2649731261571915, 'learning_rate': 0.10932619672913049, 'max_depth': 13.0, 'min_child_weight': 6.0, 'reg_lambda': 0.005378804733796871, 'subsample': 0.9742592864829303}\n{'colsample_bytree': 0.8673012106480069, 'gamma': 0.10284706187677903, 'learning_rate': 0.21430741588110883, 'max_depth': 7.0, 'min_child_weight': 4.0, 'reg_lambda': 0.18379021614895075, 'subsample': 0.7577256426142962}\n{'colsample_bytree': 0.7879665077468925, 'gamma': 0.13598356085791596, 'learning_rate': 0.23379816162463452, 'max_depth': 9.0, 'min_child_weight': 5.0, 'reg_lambda': 0.40505712475226135, 'subsample': 0.7831186480125856}\n{'colsample_bytree': 0.9630584026294747, 'gamma': 0.37418239978728113, 'learning_rate': 0.16163988574262453, 'max_depth': 12.0, 'min_child_weight': 7.0, 'reg_lambda': 0.8373145167587659, 'subsample': 0.8844285958515271}\n{'colsample_bytree': 0.9946295144493019, 'gamma': 0.40911087325334217, 'learning_rate': 0.39817240330912285, 'max_depth': 11.0, 'min_child_weight': 3.0, 'reg_lambda': 0.6205068934130928, 'subsample': 0.9413712168471332}\n{'colsample_bytree': 0.9520644493855057, 'gamma': 0.21949023982405025, 'learning_rate': 0.13999088250323827, 'max_depth': 8.0, 'min_child_weight': 6.0, 'reg_lambda': 0.7285693792814453, 'subsample': 0.8659240205521888}\n{'colsample_bytree': 0.8229957188106574, 'gamma': 0.4741879098072994, 'learning_rate': 0.3266196172128485, 'max_depth': 8.0, 'min_child_weight': 4.0, 'reg_lambda': 0.5684880990124492, 'subsample': 0.8252319500521947}\n{'colsample_bytree': 0.9361390086540811, 'gamma': 0.3611951305132334, 'learning_rate': 0.11856338481641923, 'max_depth': 9.0, 'min_child_weight': 8.0, 'reg_lambda': 0.8861423030005039, 'subsample': 0.885030458765005}\n{'colsample_bytree': 0.9276079317695133, 'gamma': 0.34753475323452315, 'learning_rate': 0.3548850235118309, 'max_depth': 10.0, 'min_child_weight': 5.0, 'reg_lambda': 0.68283463884252, 'subsample': 0.957936754791976}\n{'colsample_bytree': 0.9053029356693919, 'gamma': 0.28970989601899283, 'learning_rate': 0.1819055656835625, 'max_depth': 11.0, 'min_child_weight': 2.0, 'reg_lambda': 0.7908833689858213, 'subsample': 0.9042536149617454}\n{'colsample_bytree': 0.9158310727849086, 'gamma': 0.3955712272044959, 'learning_rate': 0.249521428107613, 'max_depth': 9.0, 'min_child_weight': 2.0, 'reg_lambda': 0.6566209590052968, 'subsample': 0.9935317178717024}\n{'colsample_bytree': 0.9835512936414555, 'gamma': 0.3194693287554488, 'learning_rate': 0.42387783991896477, 'max_depth': 5.0, 'min_child_weight': 3.0, 'reg_lambda': 0.5365695499652154, 'subsample': 0.9848356780093491}\n{'colsample_bytree': 0.8859291422541781, 'gamma': 0.25305523531758284, 'learning_rate': 0.054581120244663994, 'max_depth': 6.0, 'min_child_weight': 4.0, 'reg_lambda': 0.1260406068457447, 'subsample': 0.8354659686968094}\n100%|██████████| 100/100 [00:03<00:00, 27.59it/s, best loss: 0.8246606334841627]\n"
      }
     ],
     "persistentId": "e6746755-3f43-48da-b7d8-617bf323bee0",
     "text": "def objective(space):\n    print(space)\n    clf = XGBClassifier(\n        n_estimators=1000,\n        colsample_bytree=space[\"colsample_bytree\"],\n        learning_rate=space[\"learning_rate\"],\n        max_depth=int(space[\"max_depth\"]),\n        min_child_weight=space[\"min_child_weight\"],\n        subsample=space[\"subsample\"],\n        gamma=space[\"gamma\"],\n        reg_lambda=space[\"reg_lambda\"],\n    )\n\n    eval_set = [(X_train, y_train), (X_test, y_test)]\n\n    clf.fit(\n        X_train,\n        y_train,\n        eval_set=eval_set,\n        eval_metric=\"auc\",\n        early_stopping_rounds=10,\n        verbose=False,\n    )\n\n    pred = clf.predict(X_test)\n    auc = roc_auc_score(y_test, pred)\n    # change the metric if you like\n    return {\"loss\": auc, \"status\": STATUS_OK}\n\n\nspace = {\n    \"max_depth\": hp.quniform(\"max_depth\", 4, 16, 1),\n    \"min_child_weight\": hp.quniform(\"min_child\", 1, 10, 1),\n    \"subsample\": hp.uniform(\"subsample\", 0.7, 1),\n    \"gamma\": hp.uniform(\"gamma\", 0.1, 0.5),\n    \"learning_rate\": hp.uniform(\"learning_rate\", 0.001, 0.5),\n    \"colsample_bytree\": hp.uniform(\"colsample_bytree\", 0.7, 1),\n    \"reg_lambda\": hp.uniform(\"reg_lambda\", 0, 1),\n}\n\n\ntrials = Trials()\nbest = fmin(fn=objective, space=space, algo=tpe.suggest, max_evals=100, trials=trials)"
    },
    "executionTime": "2020-03-27T21:41:14.830Z"
   },
   {
    "cell": {
     "executionCount": 8,
     "executionEventId": "4ea4eb5f-a4dc-4759-9e64-aa88158a67c6",
     "hasError": false,
     "id": "202c5bc9-b9fe-4c5a-8d02-0dfb4736f510",
     "outputs": [
      {
       "data": {
        "text/plain": "{'colsample_bytree': 0.919603911972503,\n 'gamma': 0.1741317714564891,\n 'learning_rate': 0.28228265199736585,\n 'max_depth': 6.0,\n 'min_child': 4.0,\n 'reg_lambda': 0.7756492078808049,\n 'subsample': 0.9873349413399752}"
       },
       "execution_count": 8,
       "metadata": {},
       "output_type": "execute_result"
      }
     ],
     "persistentId": "e02c6429-7f5d-4f3a-aa03-bcef89bed8dc",
     "text": "best"
    },
    "executionTime": "2020-03-27T21:41:17.393Z"
   }
  ],
  "kernelspec": {
   "display_name": "Python 3",
   "language": "python",
   "name": "python3"
  },
  "language_info": {
   "codemirror_mode": {
    "name": "ipython",
    "version": 3
   },
   "file_extension": ".py",
   "mimetype": "text/x-python",
   "name": "python",
   "nbconvert_exporter": "python",
   "pygments_lexer": "ipython3",
   "version": "3.7.6"
  },
  "uuid": "c5dc1975-45db-4448-8232-2cc75f2c733e"
 },
 "nbformat": 4,
 "nbformat_minor": 4
}
