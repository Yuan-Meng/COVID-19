{
 "cells": [
  {
   "cell_type": "markdown",
   "metadata": {
    "Collapsed": "false",
    "persistent_id": "378a2d22-2e85-49ec-8c62-2842ccea4175",
    "toc-hr-collapsed": true
   },
   "source": [
    "Answer a few questions and calculate your fatality risk once contracted COVID-19."
   ]
  },
  {
   "cell_type": "markdown",
   "metadata": {
    "Collapsed": "true",
    "persistent_id": "9ac0d25d-1378-4bac-b6e9-77b23346575f"
   },
   "source": [
    "## Load model and data"
   ]
  },
  {
   "cell_type": "code",
   "execution_count": 1,
   "metadata": {
    "Collapsed": "false",
    "execution_event_id": "bb52914a-23a0-4772-a458-e691fd0719a0",
    "last_executed_text": "# Import libraries\nimport numpy as np\nimport pandas as pd\nfrom sklearn.preprocessing import RobustScaler\nimport xgboost as xgb\nfrom xgboost.sklearn import XGBClassifier\nimport pickle\nimport joblib\n\nimport warnings\n\nwarnings.simplefilter(\"ignore\")",
    "persistent_id": "e402b9b8-a4dd-4aeb-bd89-43f8c3937805"
   },
   "outputs": [],
   "source": [
    "# Import libraries\n",
    "import numpy as np\n",
    "import pandas as pd\n",
    "from sklearn.preprocessing import RobustScaler\n",
    "import xgboost as xgb\n",
    "from xgboost.sklearn import XGBClassifier\n",
    "import pickle\n",
    "import joblib\n",
    "\n",
    "import warnings\n",
    "\n",
    "warnings.simplefilter(\"ignore\")"
   ]
  },
  {
   "cell_type": "code",
   "execution_count": 2,
   "metadata": {
    "Collapsed": "false",
    "execution_event_id": "38abdf1d-e409-4759-a947-9c5f67d72e60",
    "last_executed_text": "# Read data and models from pickles\nwith open(\"covid19_risk_xgboost.pkl\", \"rb\") as file:\n    xgb_best = pickle.load(file)\n\nwith open(\"age_scaler.pkl\", \"rb\") as file:\n    age_scaler = pickle.load(file)\n\nwith open(\"docs_scaler.pkl\", \"rb\") as file:\n    docs_scaler = pickle.load(file)\n\nwith open(\"beds_scaler.pkl\", \"rb\") as file:\n    beds_scaler = pickle.load(file)\n\nwith open(\"medical.pkl\", \"rb\") as file:\n    medical = pickle.load(file)",
    "persistent_id": "e858e76e-09e5-4b24-8721-703f39e9fb7e"
   },
   "outputs": [],
   "source": [
    "# Read data and models from pickles\n",
    "with open(\"covid19_risk_xgboost.pkl\", \"rb\") as file:\n",
    "    xgb_best = pickle.load(file)\n",
    "\n",
    "with open(\"age_scaler.pkl\", \"rb\") as file:\n",
    "    age_scaler = pickle.load(file)\n",
    "\n",
    "with open(\"docs_scaler.pkl\", \"rb\") as file:\n",
    "    docs_scaler = pickle.load(file)\n",
    "\n",
    "with open(\"beds_scaler.pkl\", \"rb\") as file:\n",
    "    beds_scaler = pickle.load(file)\n",
    "\n",
    "with open(\"medical.pkl\", \"rb\") as file:\n",
    "    medical = pickle.load(file)"
   ]
  },
  {
   "cell_type": "markdown",
   "metadata": {
    "Collapsed": "false",
    "persistent_id": "ab07431f-492d-445b-9cf3-7dca8cbf760f"
   },
   "source": [
    "## Take new input"
   ]
  },
  {
   "cell_type": "code",
   "execution_count": 3,
   "metadata": {
    "Collapsed": "false",
    "execution_event_id": "0feb82ae-f82d-47fb-a025-68c8dae36c18",
    "last_executed_text": "# Function: Take patient info\ndef patient_info():\n\n    # Demographic info\n    age = input(\"What's your age?\")\n    sex = input(\"What's your biological sex? (female: 1, male: 0)\")\n    country = input(\"Which country do you live in?\")\n    docs_per_10k = medical.loc[\n        medical[\"country\"].str.contains(country), \"docs_per_10k\"\n    ].item()\n    beds_per_10k = medical.loc[\n        medical[\"country\"].str.contains(country), \"beds_per_10k\"\n    ].item()\n\n    # Pre-conditions\n    preconition = input(\"Any chronic dieases that you know of? (yes: 1, no: 0)\")\n    hypertension = input(\"Do you have hypertension? (yes: 1, no: 0)\")\n    diabetes = input(\"Do you have diabetes? (yes: 1, no: 0)\")\n    heart = input(\"Do you have heart diseases? (yes: 1, no: 0)\")\n\n    # Symptoms\n    fever = input(\"Do you have fever? (yes: 1, no: 0)\")\n    cough = input(\"Are you coughing? (yes: 1, no: 0)\")\n    fatigue = input(\"Do you feel fatigue? (yes: 1, no: 0)\")\n    sore_throat = input(\"Do you have a sore throat? (yes: 1 , no:0)\")\n\n    # Save results in a list\n    return {\n        \"sex\": int(sex),\n        \"chronic_disease_binary\": int(preconition),\n        \"beds_per_10k\": float(beds_scaler.transform([[beds_per_10k]])),\n        \"docs_per_10k\": float(docs_scaler.transform([[docs_per_10k]])),\n        \"hypertension\": int(hypertension),\n        \"diabetes\": int(diabetes),\n        \"heart\": int(heart),\n        \"fever\": int(fever),\n        \"cough\": int(cough),\n        \"fatigue\": int(fatigue),\n        \"sore throat\": int(sore_throat),\n        \"age_scaled\": float(age_scaler.transform([[age]])),\n    }\n\n\n# Function: Output risk\ndef risk_predictor():\n\n    # Get patient info\n    new_case = patient_info()\n\n    # Convert to useable format\n    new_case = pd.DataFrame(new_case, index=[0])\n\n    # Make prediction\n    new_prediction = xgb_best.predict_proba(new_case)\n\n    # Print result\n    print(\n        \"Once contracted COVID-19, your mortality risk is {}%.\".format(\n            round(new_prediction.tolist()[0][1] * 100, 2)\n        )\n    )",
    "persistent_id": "456dfe32-6fc2-42c6-b60f-29ad83b7be37"
   },
   "outputs": [],
   "source": [
    "# Function: Take patient info\n",
    "def patient_info():\n",
    "\n",
    "    # Demographic info\n",
    "    age = input(\"What's your age?\")\n",
    "    sex = input(\"What's your biological sex? (female: 1, male: 0)\")\n",
    "    country = input(\"Which country do you live in?\")\n",
    "    docs_per_10k = medical.loc[\n",
    "        medical[\"country\"].str.contains(country), \"docs_per_10k\"\n",
    "    ].item()\n",
    "    beds_per_10k = medical.loc[\n",
    "        medical[\"country\"].str.contains(country), \"beds_per_10k\"\n",
    "    ].item()\n",
    "\n",
    "    # Pre-conditions\n",
    "    preconition = input(\"Any chronic dieases that you know of? (yes: 1, no: 0)\")\n",
    "    hypertension = input(\"Do you have hypertension? (yes: 1, no: 0)\")\n",
    "    diabetes = input(\"Do you have diabetes? (yes: 1, no: 0)\")\n",
    "    heart = input(\"Do you have heart diseases? (yes: 1, no: 0)\")\n",
    "\n",
    "    # Symptoms\n",
    "    fever = input(\"Do you have fever? (yes: 1, no: 0)\")\n",
    "    cough = input(\"Are you coughing? (yes: 1, no: 0)\")\n",
    "    fatigue = input(\"Do you feel fatigue? (yes: 1, no: 0)\")\n",
    "    sore_throat = input(\"Do you have a sore throat? (yes: 1 , no:0)\")\n",
    "\n",
    "    # Save results in a list\n",
    "    return {\n",
    "        \"sex\": int(sex),\n",
    "        \"chronic_disease_binary\": int(preconition),\n",
    "        \"beds_per_10k\": float(beds_scaler.transform([[beds_per_10k]])),\n",
    "        \"docs_per_10k\": float(docs_scaler.transform([[docs_per_10k]])),\n",
    "        \"hypertension\": int(hypertension),\n",
    "        \"diabetes\": int(diabetes),\n",
    "        \"heart\": int(heart),\n",
    "        \"fever\": int(fever),\n",
    "        \"cough\": int(cough),\n",
    "        \"fatigue\": int(fatigue),\n",
    "        \"sore throat\": int(sore_throat),\n",
    "        \"age_scaled\": float(age_scaler.transform([[age]])),\n",
    "    }\n",
    "\n",
    "\n",
    "# Function: Output risk\n",
    "def risk_predictor():\n",
    "\n",
    "    # Get patient info\n",
    "    new_case = patient_info()\n",
    "\n",
    "    # Convert to useable format\n",
    "    new_case = pd.DataFrame(new_case, index=[0])\n",
    "\n",
    "    # Make prediction\n",
    "    new_prediction = xgb_best.predict_proba(new_case)\n",
    "\n",
    "    # Print result\n",
    "    print(\n",
    "        \"Once contracted COVID-19, your mortality risk is {}%.\".format(\n",
    "            round(new_prediction.tolist()[0][1] * 100, 2)\n",
    "        )\n",
    "    )"
   ]
  },
  {
   "cell_type": "markdown",
   "metadata": {
    "Collapsed": "false",
    "persistent_id": "76d3b7ab-78f3-4bda-9e55-06fadea80a56"
   },
   "source": [
    "## Try it for yourself"
   ]
  },
  {
   "cell_type": "code",
   "execution_count": null,
   "metadata": {
    "Collapsed": "false",
    "execution_event_id": "4dfeb895-69bc-4244-91d2-4c491d00ae09",
    "last_executed_text": "risk_predictor()",
    "persistent_id": "01ccd8ad-3ba5-415e-a100-a0e3639e8605"
   },
   "outputs": [],
   "source": [
    "# Uncomment the function below \n",
    "# risk_predictor()"
   ]
  },
  {
   "cell_type": "code",
   "execution_count": null,
   "metadata": {
    "Collapsed": "false",
    "persistent_id": "fc1246bf-5b79-4ca6-8168-f329b1cc82d9"
   },
   "outputs": [],
   "source": []
  }
 ],
 "metadata": {
  "history": [
   {
    "cell": {
     "executionCount": 1,
     "executionEventId": "aa99185a-2bd1-4d31-be18-ec5e8964d19c",
     "hasError": false,
     "id": "4e852d14-cc55-4c79-b64d-03ad27a10761",
     "outputs": [],
     "persistentId": "f9846a06-287d-470f-950e-d2b2c73bea50",
     "text": "import pickle\nimport pandas as pd\nimport numpy as np"
    },
    "executionTime": "2020-03-28T00:51:46.274Z"
   },
   {
    "cell": {
     "executionCount": 2,
     "executionEventId": "cf458a52-197f-4292-b77e-4c88a8713856",
     "hasError": true,
     "id": "a10fe921-fd2e-4298-a84f-51a8e2dd2d91",
     "outputs": [
      {
       "ename": "ModuleNotFoundError",
       "evalue": "No module named 'risk'",
       "output_type": "error",
       "traceback": [
        "\u001b[0;31m---------------------------------------------------------------------------\u001b[0m",
        "\u001b[0;31mModuleNotFoundError\u001b[0m                       Traceback (most recent call last)",
        "\u001b[0;32m<ipython-input-2-10300f06c107>\u001b[0m in \u001b[0;36m<module>\u001b[0;34m\u001b[0m\n\u001b[0;32m----> 1\u001b[0;31m \u001b[0;32mimport\u001b[0m \u001b[0mrisk\u001b[0m\u001b[0;34m\u001b[0m\u001b[0;34m\u001b[0m\u001b[0m\n\u001b[0m",
        "\u001b[0;31mModuleNotFoundError\u001b[0m: No module named 'risk'"
       ]
      }
     ],
     "persistentId": "408ce60d-c221-477d-a6ea-297c6af27739",
     "text": "import risk"
    },
    "executionTime": "2020-03-28T00:57:20.787Z"
   },
   {
    "cell": {
     "executionCount": 3,
     "executionEventId": "41b7904b-1056-4798-86a1-f80d7e4e7f74",
     "hasError": true,
     "id": "a10fe921-fd2e-4298-a84f-51a8e2dd2d91",
     "outputs": [
      {
       "ename": "ModuleNotFoundError",
       "evalue": "No module named 'risk'",
       "output_type": "error",
       "traceback": [
        "\u001b[0;31m---------------------------------------------------------------------------\u001b[0m",
        "\u001b[0;31mModuleNotFoundError\u001b[0m                       Traceback (most recent call last)",
        "\u001b[0;32m<ipython-input-3-10300f06c107>\u001b[0m in \u001b[0;36m<module>\u001b[0;34m\u001b[0m\n\u001b[0;32m----> 1\u001b[0;31m \u001b[0;32mimport\u001b[0m \u001b[0mrisk\u001b[0m\u001b[0;34m\u001b[0m\u001b[0;34m\u001b[0m\u001b[0m\n\u001b[0m",
        "\u001b[0;31mModuleNotFoundError\u001b[0m: No module named 'risk'"
       ]
      }
     ],
     "persistentId": "408ce60d-c221-477d-a6ea-297c6af27739",
     "text": "import risk"
    },
    "executionTime": "2020-03-28T00:58:00.041Z"
   },
   {
    "cell": {
     "executionCount": 4,
     "executionEventId": "9645f3de-ac63-40ac-ad7b-d8372bdd0852",
     "hasError": false,
     "id": "de44c6ff-e4ee-4f17-9e39-0ca5d41396a3",
     "outputs": [],
     "persistentId": "f9846a06-287d-470f-950e-d2b2c73bea50",
     "text": "import pickle\nimport pandas as pd\nimport numpy as np"
    },
    "executionTime": "2020-03-28T01:03:24.588Z"
   },
   {
    "cell": {
     "executionCount": 5,
     "executionEventId": "964cc935-4557-42bb-9ea2-57c8279dc2f8",
     "hasError": true,
     "id": "1b6ecc3a-4101-447d-b170-f407933c829c",
     "outputs": [
      {
       "ename": "ModuleNotFoundError",
       "evalue": "No module named 'risk'",
       "output_type": "error",
       "traceback": [
        "\u001b[0;31m---------------------------------------------------------------------------\u001b[0m",
        "\u001b[0;31mModuleNotFoundError\u001b[0m                       Traceback (most recent call last)",
        "\u001b[0;32m<ipython-input-5-10300f06c107>\u001b[0m in \u001b[0;36m<module>\u001b[0;34m\u001b[0m\n\u001b[0;32m----> 1\u001b[0;31m \u001b[0;32mimport\u001b[0m \u001b[0mrisk\u001b[0m\u001b[0;34m\u001b[0m\u001b[0;34m\u001b[0m\u001b[0m\n\u001b[0m",
        "\u001b[0;31mModuleNotFoundError\u001b[0m: No module named 'risk'"
       ]
      }
     ],
     "persistentId": "408ce60d-c221-477d-a6ea-297c6af27739",
     "text": "import risk"
    },
    "executionTime": "2020-03-28T01:03:25.872Z"
   },
   {
    "cell": {
     "executionCount": 6,
     "executionEventId": "c0444f0c-85b8-444c-b419-00a42067d3b7",
     "hasError": true,
     "id": "1b6ecc3a-4101-447d-b170-f407933c829c",
     "outputs": [
      {
       "ename": "ModuleNotFoundError",
       "evalue": "No module named 'risk'",
       "output_type": "error",
       "traceback": [
        "\u001b[0;31m---------------------------------------------------------------------------\u001b[0m",
        "\u001b[0;31mModuleNotFoundError\u001b[0m                       Traceback (most recent call last)",
        "\u001b[0;32m<ipython-input-6-10300f06c107>\u001b[0m in \u001b[0;36m<module>\u001b[0;34m\u001b[0m\n\u001b[0;32m----> 1\u001b[0;31m \u001b[0;32mimport\u001b[0m \u001b[0mrisk\u001b[0m\u001b[0;34m\u001b[0m\u001b[0;34m\u001b[0m\u001b[0m\n\u001b[0m",
        "\u001b[0;31mModuleNotFoundError\u001b[0m: No module named 'risk'"
       ]
      }
     ],
     "persistentId": "408ce60d-c221-477d-a6ea-297c6af27739",
     "text": "import risk"
    },
    "executionTime": "2020-03-28T01:04:34.677Z"
   },
   {
    "cell": {
     "executionCount": 1,
     "executionEventId": "23329b2d-da48-4fc8-96e8-b3979726d490",
     "hasError": false,
     "id": "77d6a763-ee60-4594-aaab-6b68f90f1f02",
     "outputs": [],
     "persistentId": "f9846a06-287d-470f-950e-d2b2c73bea50",
     "text": "import pickle\nimport pandas as pd\nimport numpy as np"
    },
    "executionTime": "2020-03-28T17:45:23.354Z"
   },
   {
    "cell": {
     "executionCount": 2,
     "executionEventId": "2e71aacf-1ea9-4a61-bba9-8097f980a036",
     "hasError": true,
     "id": "8ff2043a-9cb8-44f9-857f-0a2a7730f8d7",
     "outputs": [
      {
       "ename": "TypeError",
       "evalue": "a bytes-like object is required, not 'str'",
       "output_type": "error",
       "traceback": [
        "\u001b[0;31m---------------------------------------------------------------------------\u001b[0m",
        "\u001b[0;31mTypeError\u001b[0m                                 Traceback (most recent call last)",
        "\u001b[0;32m<ipython-input-2-9ec6cae70257>\u001b[0m in \u001b[0;36m<module>\u001b[0;34m\u001b[0m\n\u001b[0;32m----> 1\u001b[0;31m \u001b[0mxgb\u001b[0m \u001b[0;34m=\u001b[0m \u001b[0mpickle\u001b[0m\u001b[0;34m.\u001b[0m\u001b[0mloads\u001b[0m\u001b[0;34m(\u001b[0m\u001b[0;34m\"covid19_risk_xgboost.pkl\"\u001b[0m\u001b[0;34m)\u001b[0m\u001b[0;34m\u001b[0m\u001b[0;34m\u001b[0m\u001b[0m\n\u001b[0m",
        "\u001b[0;31mTypeError\u001b[0m: a bytes-like object is required, not 'str'"
       ]
      }
     ],
     "persistentId": "e858e76e-09e5-4b24-8721-703f39e9fb7e",
     "text": "xgb = pickle.loads(\"covid19_risk_xgboost.pkl\") "
    },
    "executionTime": "2020-03-28T17:50:23.733Z"
   },
   {
    "cell": {
     "executionCount": 3,
     "executionEventId": "ed87a5ff-917f-4304-9efe-a8538a9ede61",
     "hasError": true,
     "id": "8ff2043a-9cb8-44f9-857f-0a2a7730f8d7",
     "outputs": [
      {
       "ename": "NameError",
       "evalue": "name 'covid19_risk_xgboost' is not defined",
       "output_type": "error",
       "traceback": [
        "\u001b[0;31m---------------------------------------------------------------------------\u001b[0m",
        "\u001b[0;31mNameError\u001b[0m                                 Traceback (most recent call last)",
        "\u001b[0;32m<ipython-input-3-3b7d7ae5b27f>\u001b[0m in \u001b[0;36m<module>\u001b[0;34m\u001b[0m\n\u001b[0;32m----> 1\u001b[0;31m \u001b[0mxgb\u001b[0m \u001b[0;34m=\u001b[0m \u001b[0mpickle\u001b[0m\u001b[0;34m.\u001b[0m\u001b[0mloads\u001b[0m\u001b[0;34m(\u001b[0m\u001b[0mcovid19_risk_xgboost\u001b[0m\u001b[0;34m.\u001b[0m\u001b[0mpkl\u001b[0m\u001b[0;34m)\u001b[0m\u001b[0;34m\u001b[0m\u001b[0;34m\u001b[0m\u001b[0m\n\u001b[0m",
        "\u001b[0;31mNameError\u001b[0m: name 'covid19_risk_xgboost' is not defined"
       ]
      }
     ],
     "persistentId": "e858e76e-09e5-4b24-8721-703f39e9fb7e",
     "text": "xgb = pickle.loads(covid19_risk_xgboost.pkl) "
    },
    "executionTime": "2020-03-28T17:50:31.234Z"
   },
   {
    "cell": {
     "executionCount": 4,
     "executionEventId": "e67b030c-3dbb-4884-b7ed-8a6d7c2bac18",
     "hasError": true,
     "id": "8ff2043a-9cb8-44f9-857f-0a2a7730f8d7",
     "outputs": [
      {
       "ename": "NameError",
       "evalue": "name 'covid19_risk_xgboost' is not defined",
       "output_type": "error",
       "traceback": [
        "\u001b[0;31m---------------------------------------------------------------------------\u001b[0m",
        "\u001b[0;31mNameError\u001b[0m                                 Traceback (most recent call last)",
        "\u001b[0;32m<ipython-input-4-36f7fe842b83>\u001b[0m in \u001b[0;36m<module>\u001b[0;34m\u001b[0m\n\u001b[1;32m      1\u001b[0m \u001b[0;32mwith\u001b[0m \u001b[0mopen\u001b[0m\u001b[0;34m(\u001b[0m\u001b[0;34m\"covid19_risk_xgboost.pkl\"\u001b[0m\u001b[0;34m,\u001b[0m \u001b[0;34m\"rb\"\u001b[0m\u001b[0;34m)\u001b[0m \u001b[0;32mas\u001b[0m \u001b[0mmodel\u001b[0m\u001b[0;34m:\u001b[0m\u001b[0;34m\u001b[0m\u001b[0;34m\u001b[0m\u001b[0m\n\u001b[0;32m----> 2\u001b[0;31m     \u001b[0mxgb\u001b[0m \u001b[0;34m=\u001b[0m \u001b[0mpickle\u001b[0m\u001b[0;34m.\u001b[0m\u001b[0mload\u001b[0m\u001b[0;34m(\u001b[0m\u001b[0mcovid19_risk_xgboost\u001b[0m\u001b[0;34m.\u001b[0m\u001b[0mpkl\u001b[0m\u001b[0;34m)\u001b[0m\u001b[0;34m\u001b[0m\u001b[0;34m\u001b[0m\u001b[0m\n\u001b[0m",
        "\u001b[0;31mNameError\u001b[0m: name 'covid19_risk_xgboost' is not defined"
       ]
      }
     ],
     "persistentId": "e858e76e-09e5-4b24-8721-703f39e9fb7e",
     "text": "with open(\"covid19_risk_xgboost.pkl\", \"rb\") as model:\n    xgb = pickle.load(covid19_risk_xgboost.pkl)"
    },
    "executionTime": "2020-03-28T17:52:19.396Z"
   },
   {
    "cell": {
     "executionCount": 5,
     "executionEventId": "32e35f84-56b2-4407-8ae0-435cfb52848d",
     "hasError": false,
     "id": "8ff2043a-9cb8-44f9-857f-0a2a7730f8d7",
     "outputs": [],
     "persistentId": "e858e76e-09e5-4b24-8721-703f39e9fb7e",
     "text": "with open(\"covid19_risk_xgboost.pkl\", \"rb\") as model:\n    xgb = pickle.load(model)"
    },
    "executionTime": "2020-03-28T17:52:33.243Z"
   },
   {
    "cell": {
     "executionCount": 6,
     "executionEventId": "77e85b94-dc5a-4c1c-aaa2-3f8baefc8837",
     "hasError": false,
     "id": "02d1bb93-84ea-4ec0-bce3-72c90947ab54",
     "outputs": [
      {
       "data": {
        "text/plain": "XGBClassifier(base_score=0.5, booster='gbtree', colsample_bylevel=1,\n              colsample_bynode=1, colsample_bytree=0.5,\n              early_stopping_rounds=10, gamma=0.1,\n              learning_rate=0.09230000000000005, max_delta_step=0, max_depth=5,\n              min_child_weight=3, missing=nan, n_estimators=100, n_jobs=1,\n              nthread=None, objective='binary:logistic', random_state=0,\n              reg_alpha=1e-05, reg_lambda=1, scale_pos_weight=1, seed=None,\n              silent=None, subsample=0.9, verbosity=1)"
       },
       "execution_count": 6,
       "metadata": {},
       "output_type": "execute_result"
      }
     ],
     "persistentId": "344233a8-ae56-4517-b663-ae0dfe81b691",
     "text": "xgb"
    },
    "executionTime": "2020-03-28T17:52:35.725Z"
   },
   {
    "cell": {
     "executionCount": 7,
     "executionEventId": "e7473a75-991d-49af-830a-80920317fa35",
     "hasError": true,
     "id": "8f38b5f8-89f9-4dea-b91b-d90fd222fbb5",
     "outputs": [
      {
       "ename": "UnpicklingError",
       "evalue": "invalid load key, '\\x06'.",
       "output_type": "error",
       "traceback": [
        "\u001b[0;31m---------------------------------------------------------------------------\u001b[0m",
        "\u001b[0;31mUnpicklingError\u001b[0m                           Traceback (most recent call last)",
        "\u001b[0;32m<ipython-input-7-1f3ba7e6c5e7>\u001b[0m in \u001b[0;36m<module>\u001b[0;34m\u001b[0m\n\u001b[1;32m      1\u001b[0m \u001b[0;32mwith\u001b[0m \u001b[0mopen\u001b[0m\u001b[0;34m(\u001b[0m\u001b[0;34m\"age_scaler.pkl\"\u001b[0m\u001b[0;34m,\u001b[0m \u001b[0;34m\"rb\"\u001b[0m\u001b[0;34m)\u001b[0m \u001b[0;32mas\u001b[0m \u001b[0mf\u001b[0m\u001b[0;34m:\u001b[0m\u001b[0;34m\u001b[0m\u001b[0;34m\u001b[0m\u001b[0m\n\u001b[0;32m----> 2\u001b[0;31m     \u001b[0msc\u001b[0m \u001b[0;34m=\u001b[0m \u001b[0mpickle\u001b[0m\u001b[0;34m.\u001b[0m\u001b[0mload\u001b[0m\u001b[0;34m(\u001b[0m\u001b[0mf\u001b[0m\u001b[0;34m)\u001b[0m\u001b[0;34m\u001b[0m\u001b[0;34m\u001b[0m\u001b[0m\n\u001b[0m",
        "\u001b[0;31mUnpicklingError\u001b[0m: invalid load key, '\\x06'."
       ]
      }
     ],
     "persistentId": "456dfe32-6fc2-42c6-b60f-29ad83b7be37",
     "text": "with open(\"age_scaler.pkl\", \"rb\") as f:\n    sc = pickle.load(f)"
    },
    "executionTime": "2020-03-28T17:53:34.471Z"
   },
   {
    "cell": {
     "executionCount": 8,
     "executionEventId": "7fc738a1-7a46-4790-8923-0c6bf3188500",
     "hasError": true,
     "id": "8f38b5f8-89f9-4dea-b91b-d90fd222fbb5",
     "outputs": [
      {
       "ename": "UnpicklingError",
       "evalue": "invalid load key, '\\x06'.",
       "output_type": "error",
       "traceback": [
        "\u001b[0;31m---------------------------------------------------------------------------\u001b[0m",
        "\u001b[0;31mUnpicklingError\u001b[0m                           Traceback (most recent call last)",
        "\u001b[0;32m<ipython-input-8-95324cd409ee>\u001b[0m in \u001b[0;36m<module>\u001b[0;34m\u001b[0m\n\u001b[1;32m      1\u001b[0m \u001b[0;32mwith\u001b[0m \u001b[0mopen\u001b[0m\u001b[0;34m(\u001b[0m\u001b[0;34m\"age_scaler.pkl\"\u001b[0m\u001b[0;34m,\u001b[0m \u001b[0;34m\"rb\"\u001b[0m\u001b[0;34m)\u001b[0m \u001b[0;32mas\u001b[0m \u001b[0mscaler\u001b[0m\u001b[0;34m:\u001b[0m\u001b[0;34m\u001b[0m\u001b[0;34m\u001b[0m\u001b[0m\n\u001b[0;32m----> 2\u001b[0;31m     \u001b[0msc\u001b[0m \u001b[0;34m=\u001b[0m \u001b[0mpickle\u001b[0m\u001b[0;34m.\u001b[0m\u001b[0mload\u001b[0m\u001b[0;34m(\u001b[0m\u001b[0mscaler\u001b[0m\u001b[0;34m)\u001b[0m\u001b[0;34m\u001b[0m\u001b[0;34m\u001b[0m\u001b[0m\n\u001b[0m",
        "\u001b[0;31mUnpicklingError\u001b[0m: invalid load key, '\\x06'."
       ]
      }
     ],
     "persistentId": "456dfe32-6fc2-42c6-b60f-29ad83b7be37",
     "text": "with open(\"age_scaler.pkl\", \"rb\") as scaler:\n    sc = pickle.load(scaler)"
    },
    "executionTime": "2020-03-28T17:53:50.467Z"
   },
   {
    "cell": {
     "executionCount": 9,
     "executionEventId": "80d23b8a-66a0-44c7-9932-fd220def0e89",
     "hasError": false,
     "id": "8ff2043a-9cb8-44f9-857f-0a2a7730f8d7",
     "outputs": [],
     "persistentId": "e858e76e-09e5-4b24-8721-703f39e9fb7e",
     "text": "# Read from pickle\nwith open(\"covid19_risk_xgboost.pkl\", \"rb\") as file:\n    xgb = pickle.load(file)"
    },
    "executionTime": "2020-03-28T17:59:11.034Z"
   },
   {
    "cell": {
     "executionCount": 10,
     "executionEventId": "77e0a098-e34e-4443-970b-4a24c6c47637",
     "hasError": false,
     "id": "8f38b5f8-89f9-4dea-b91b-d90fd222fbb5",
     "outputs": [],
     "persistentId": "456dfe32-6fc2-42c6-b60f-29ad83b7be37",
     "text": "with open(\"age_scaler.pkl\", \"rb\") as file:\n    age_scaler = pickle.load(file)"
    },
    "executionTime": "2020-03-28T17:59:27.533Z"
   },
   {
    "cell": {
     "executionCount": 11,
     "executionEventId": "517afaee-e882-4327-b79a-d64e69cad37e",
     "hasError": false,
     "id": "5b3dd111-f215-4e8f-8789-6e8ad422c50c",
     "outputs": [],
     "persistentId": "a9c872c7-32a5-49cc-9b8f-27dfb569b771",
     "text": "with open(\"docs_scaler.pkl\", \"rb\") as file:\n    docs_scaler = pickle.load(file)"
    },
    "executionTime": "2020-03-28T17:59:40.226Z"
   },
   {
    "cell": {
     "executionCount": 12,
     "executionEventId": "f687651b-1554-4262-b413-7402fbcaaf07",
     "hasError": false,
     "id": "09e5a99a-802b-4112-a141-f3d0094c3ce5",
     "outputs": [],
     "persistentId": "47b05997-756d-4961-b7ef-6cc7e834b5b3",
     "text": "with open(\"docs.pkl\", \"rb\") as file:\n    docs = pickle.load(file)"
    },
    "executionTime": "2020-03-28T18:00:10.523Z"
   },
   {
    "cell": {
     "executionCount": 13,
     "executionEventId": "4fe5c612-8b0c-4294-a8e0-65d5dbae5a59",
     "hasError": false,
     "id": "5021beea-5118-4f13-9ff5-dda242e1ae87",
     "outputs": [
      {
       "data": {
        "text/html": "<div>\n<style scoped>\n    .dataframe tbody tr th:only-of-type {\n        vertical-align: middle;\n    }\n\n    .dataframe tbody tr th {\n        vertical-align: top;\n    }\n\n    .dataframe thead th {\n        text-align: right;\n    }\n</style>\n<table border=\"1\" class=\"dataframe\">\n  <thead>\n    <tr style=\"text-align: right;\">\n      <th></th>\n      <th>Country</th>\n      <th>Year</th>\n      <th>Medical doctors (per 10 000 population)</th>\n    </tr>\n  </thead>\n  <tbody>\n    <tr>\n      <td>0</td>\n      <td>Afghanistan</td>\n      <td>2016</td>\n      <td>2.840</td>\n    </tr>\n    <tr>\n      <td>12</td>\n      <td>Albania</td>\n      <td>2016</td>\n      <td>11.998</td>\n    </tr>\n    <tr>\n      <td>17</td>\n      <td>Algeria</td>\n      <td>2016</td>\n      <td>18.300</td>\n    </tr>\n    <tr>\n      <td>21</td>\n      <td>Andorra</td>\n      <td>2015</td>\n      <td>33.333</td>\n    </tr>\n    <tr>\n      <td>23</td>\n      <td>Angola</td>\n      <td>2017</td>\n      <td>2.149</td>\n    </tr>\n    <tr>\n      <td>...</td>\n      <td>...</td>\n      <td>...</td>\n      <td>...</td>\n    </tr>\n    <tr>\n      <td>1691</td>\n      <td>Venezuela (Bolivarian Republic of)</td>\n      <td>2001</td>\n      <td>19.240</td>\n    </tr>\n    <tr>\n      <td>1692</td>\n      <td>Viet Nam</td>\n      <td>2016</td>\n      <td>8.199</td>\n    </tr>\n    <tr>\n      <td>1704</td>\n      <td>Yemen</td>\n      <td>2014</td>\n      <td>3.104</td>\n    </tr>\n    <tr>\n      <td>1709</td>\n      <td>Zambia</td>\n      <td>2016</td>\n      <td>0.913</td>\n    </tr>\n    <tr>\n      <td>1718</td>\n      <td>Zimbabwe</td>\n      <td>2014</td>\n      <td>0.763</td>\n    </tr>\n  </tbody>\n</table>\n<p>193 rows × 3 columns</p>\n</div>",
        "text/plain": "                                 Country  Year  \\\n0                            Afghanistan  2016   \n12                               Albania  2016   \n17                               Algeria  2016   \n21                               Andorra  2015   \n23                                Angola  2017   \n...                                  ...   ...   \n1691  Venezuela (Bolivarian Republic of)  2001   \n1692                            Viet Nam  2016   \n1704                               Yemen  2014   \n1709                              Zambia  2016   \n1718                            Zimbabwe  2014   \n\n      Medical doctors (per 10 000 population)  \n0                                       2.840  \n12                                     11.998  \n17                                     18.300  \n21                                     33.333  \n23                                      2.149  \n...                                       ...  \n1691                                   19.240  \n1692                                    8.199  \n1704                                    3.104  \n1709                                    0.913  \n1718                                    0.763  \n\n[193 rows x 3 columns]"
       },
       "execution_count": 13,
       "metadata": {},
       "output_type": "execute_result"
      }
     ],
     "persistentId": "364f60dc-8371-4460-8742-04fc7af8d147",
     "text": "docs"
    },
    "executionTime": "2020-03-28T18:00:12.597Z"
   },
   {
    "cell": {
     "executionCount": 14,
     "executionEventId": "984bccc3-40c1-4665-a9ce-7da2b45fcbb0",
     "hasError": false,
     "id": "09e5a99a-802b-4112-a141-f3d0094c3ce5",
     "outputs": [],
     "persistentId": "47b05997-756d-4961-b7ef-6cc7e834b5b3",
     "text": "with open(\"docs.pkl\", \"rb\") as file:\n    docs = pickle.load(file)"
    },
    "executionTime": "2020-03-28T18:02:40.310Z"
   },
   {
    "cell": {
     "executionCount": 15,
     "executionEventId": "9f793aa6-9df1-4b44-ae3e-899b204bfa70",
     "hasError": false,
     "id": "5021beea-5118-4f13-9ff5-dda242e1ae87",
     "outputs": [
      {
       "data": {
        "text/html": "<div>\n<style scoped>\n    .dataframe tbody tr th:only-of-type {\n        vertical-align: middle;\n    }\n\n    .dataframe tbody tr th {\n        vertical-align: top;\n    }\n\n    .dataframe thead th {\n        text-align: right;\n    }\n</style>\n<table border=\"1\" class=\"dataframe\">\n  <thead>\n    <tr style=\"text-align: right;\">\n      <th></th>\n      <th>country</th>\n      <th>year</th>\n      <th>docs_per_10k</th>\n    </tr>\n  </thead>\n  <tbody>\n    <tr>\n      <td>0</td>\n      <td>Afghanistan</td>\n      <td>2016</td>\n      <td>2.840</td>\n    </tr>\n    <tr>\n      <td>12</td>\n      <td>Albania</td>\n      <td>2016</td>\n      <td>11.998</td>\n    </tr>\n    <tr>\n      <td>17</td>\n      <td>Algeria</td>\n      <td>2016</td>\n      <td>18.300</td>\n    </tr>\n    <tr>\n      <td>21</td>\n      <td>Andorra</td>\n      <td>2015</td>\n      <td>33.333</td>\n    </tr>\n    <tr>\n      <td>23</td>\n      <td>Angola</td>\n      <td>2017</td>\n      <td>2.149</td>\n    </tr>\n    <tr>\n      <td>...</td>\n      <td>...</td>\n      <td>...</td>\n      <td>...</td>\n    </tr>\n    <tr>\n      <td>1691</td>\n      <td>Venezuela</td>\n      <td>2001</td>\n      <td>19.240</td>\n    </tr>\n    <tr>\n      <td>1692</td>\n      <td>Viet Nam</td>\n      <td>2016</td>\n      <td>8.199</td>\n    </tr>\n    <tr>\n      <td>1704</td>\n      <td>Yemen</td>\n      <td>2014</td>\n      <td>3.104</td>\n    </tr>\n    <tr>\n      <td>1709</td>\n      <td>Zambia</td>\n      <td>2016</td>\n      <td>0.913</td>\n    </tr>\n    <tr>\n      <td>1718</td>\n      <td>Zimbabwe</td>\n      <td>2014</td>\n      <td>0.763</td>\n    </tr>\n  </tbody>\n</table>\n<p>193 rows × 3 columns</p>\n</div>",
        "text/plain": "          country  year  docs_per_10k\n0     Afghanistan  2016         2.840\n12        Albania  2016        11.998\n17        Algeria  2016        18.300\n21        Andorra  2015        33.333\n23         Angola  2017         2.149\n...           ...   ...           ...\n1691    Venezuela  2001        19.240\n1692     Viet Nam  2016         8.199\n1704        Yemen  2014         3.104\n1709       Zambia  2016         0.913\n1718     Zimbabwe  2014         0.763\n\n[193 rows x 3 columns]"
       },
       "execution_count": 15,
       "metadata": {},
       "output_type": "execute_result"
      }
     ],
     "persistentId": "364f60dc-8371-4460-8742-04fc7af8d147",
     "text": "docs"
    },
    "executionTime": "2020-03-28T18:02:41.659Z"
   },
   {
    "cell": {
     "executionCount": 16,
     "executionEventId": "82746997-174c-4a28-9892-fdb934b02d08",
     "hasError": false,
     "id": "1417b61b-5682-4b4b-9a2a-2fb87e099d22",
     "outputs": [],
     "persistentId": "e858e76e-09e5-4b24-8721-703f39e9fb7e",
     "text": "# Read from pickle\nwith open(\"covid19_risk_xgboost.pkl\", \"rb\") as file:\n    xgb = pickle.load(file)\n    \nwith open(\"age_scaler.pkl\", \"rb\") as file:\n    age_scaler = pickle.load(file)\n\nwith open(\"docs_scaler.pkl\", \"rb\") as file:\n    docs_scaler = pickle.load(file)\n\nwith open(\"docs.pkl\", \"rb\") as file:\n    docs = pickle.load(file)"
    },
    "executionTime": "2020-03-28T18:04:21.584Z"
   },
   {
    "cell": {
     "executionCount": 17,
     "executionEventId": "eb4244d1-4c58-48a8-81c9-5ed1547c21ef",
     "hasError": false,
     "id": "46b8ff3d-c47c-4c3c-b573-b8ac308a9187",
     "outputs": [],
     "persistentId": "f9846a06-287d-470f-950e-d2b2c73bea50",
     "text": "import pickle\nimport pandas as pd\nimport numpy as np"
    },
    "executionTime": "2020-03-28T18:04:23.653Z"
   },
   {
    "cell": {
     "executionCount": 18,
     "executionEventId": "869e249d-00db-456f-b7b3-056a4cf1e608",
     "hasError": false,
     "id": "1417b61b-5682-4b4b-9a2a-2fb87e099d22",
     "outputs": [],
     "persistentId": "e858e76e-09e5-4b24-8721-703f39e9fb7e",
     "text": "# Read from pickle\nwith open(\"covid19_risk_xgboost.pkl\", \"rb\") as file:\n    xgb = pickle.load(file)\n    \nwith open(\"age_scaler.pkl\", \"rb\") as file:\n    age_scaler = pickle.load(file)\n\nwith open(\"docs_scaler.pkl\", \"rb\") as file:\n    docs_scaler = pickle.load(file)\n\nwith open(\"docs.pkl\", \"rb\") as file:\n    docs = pickle.load(file)"
    },
    "executionTime": "2020-03-28T18:04:24.098Z"
   },
   {
    "cell": {
     "executionCount": 19,
     "executionEventId": "11379859-3e17-4936-a34a-520a4c793836",
     "hasError": false,
     "id": "2a8ef9e8-bf47-4dcf-b376-c91544ed5624",
     "outputs": [],
     "persistentId": "456dfe32-6fc2-42c6-b60f-29ad83b7be37",
     "text": "# Function: Take patient info\ndef patient_info():\n\n    # Demographic info\n    age = input(\"What's your age?\")\n    sex = input(\"What's your biological sex? (female: 1, male: 0)\")\n    country = input(\"Which country do you live in?\")\n    docs_per_10k = docs.loc[\n        docs[\"country\"].str.contains(country), \"docs_per_10k\"\n    ].item()\n\n    # Pre-conditions\n    hypertension = input(\"Do you have hypertension? (yes: 1, no: 0)\")\n    diabetes = input(\"Do you have diabetes? (yes: 1, no: 0)\")\n    heart = input(\"Do you have heart diseases? (yes: 1, no: 0)\")\n\n    # Symptoms\n    fever = input(\"Do you have fever? (yes: 1, no: 0)\")\n    cough = input(\"Are you coughing? (yes: 1, no: 0)\")\n    fatigue = input(\"Do you feel fatigue? (yes: 1, no: 0)\")\n    sore_throat = input(\"Do you have a sore throat? (yes: 1 , no:0)\")\n\n    # Save results in a list\n    return {\n        \"sex\": int(sex),\n        \"docs_per_10k\": float(docs_scaler.transform([[docs_per_10k]])),\n        \"hypertension\": int(hypertension),\n        \"diabetes\": int(diabetes),\n        \"heart\": int(heart),\n        \"fever\": int(fever),\n        \"cough\": int(cough),\n        \"fatigue\": int(fatigue),\n        \"sore throat\": int(sore_throat),\n        \"age_scaled\": float(age_scaler.transform([[age]])),\n    }"
    },
    "executionTime": "2020-03-28T18:05:36.217Z"
   },
   {
    "cell": {
     "executionCount": 20,
     "executionEventId": "9dc12216-d2f2-4998-8409-1b7dc0bfce93",
     "hasError": false,
     "id": "74c7c676-00a5-4e2f-9d13-765ed2f6d40a",
     "outputs": [],
     "persistentId": "a9c872c7-32a5-49cc-9b8f-27dfb569b771",
     "text": "# Function: Output risk\ndef risk_predictor():\n\n    # Get patient info\n    new_case = patient_info()\n\n    # Convert to useable format\n    new_case = pd.DataFrame(new_case, index=[0])\n\n    # Make prediction\n    new_prediction = xgb_opt.predict_proba(new_case)\n\n    # Print result\n    print(\n        \"Once contracted COVID-19, your mortality risk is {}%.\".format(\n            round(new_prediction.tolist()[0][1] * 100, 2)\n        )\n    )"
    },
    "executionTime": "2020-03-28T18:05:54.896Z"
   },
   {
    "cell": {
     "executionCount": 21,
     "executionEventId": "408f4d01-bc80-4e7c-8b05-07bb9909decb",
     "hasError": false,
     "id": "46b8ff3d-c47c-4c3c-b573-b8ac308a9187",
     "outputs": [],
     "persistentId": "f9846a06-287d-470f-950e-d2b2c73bea50",
     "text": "import pickle\nimport pandas as pd\nimport numpy as np\n\nimport xgboost as xgb\nfrom xgboost.sklearn import XGBClassifier\nfrom sklearn.preprocessing import MinMaxScaler"
    },
    "executionTime": "2020-03-28T18:06:39.261Z"
   },
   {
    "cell": {
     "executionCount": 22,
     "executionEventId": "ede7fb18-d87a-4e41-9635-3b8435809b34",
     "hasError": false,
     "id": "1417b61b-5682-4b4b-9a2a-2fb87e099d22",
     "outputs": [],
     "persistentId": "e858e76e-09e5-4b24-8721-703f39e9fb7e",
     "text": "# Read from pickle\nwith open(\"covid19_risk_xgboost.pkl\", \"rb\") as file:\n    xgb = pickle.load(file)\n\nwith open(\"age_scaler.pkl\", \"rb\") as file:\n    age_scaler = pickle.load(file)\n\nwith open(\"docs_scaler.pkl\", \"rb\") as file:\n    docs_scaler = pickle.load(file)\n\nwith open(\"docs.pkl\", \"rb\") as file:\n    docs = pickle.load(file)"
    },
    "executionTime": "2020-03-28T18:06:40.226Z"
   },
   {
    "cell": {
     "executionCount": 23,
     "executionEventId": "e78ad874-e9eb-4b7a-9987-9c2e3b88cb99",
     "hasError": false,
     "id": "2a8ef9e8-bf47-4dcf-b376-c91544ed5624",
     "outputs": [],
     "persistentId": "456dfe32-6fc2-42c6-b60f-29ad83b7be37",
     "text": "# Function: Take patient info\ndef patient_info():\n\n    # Demographic info\n    age = input(\"What's your age?\")\n    sex = input(\"What's your biological sex? (female: 1, male: 0)\")\n    country = input(\"Which country do you live in?\")\n    docs_per_10k = docs.loc[\n        docs[\"country\"].str.contains(country), \"docs_per_10k\"\n    ].item()\n\n    # Pre-conditions\n    hypertension = input(\"Do you have hypertension? (yes: 1, no: 0)\")\n    diabetes = input(\"Do you have diabetes? (yes: 1, no: 0)\")\n    heart = input(\"Do you have heart diseases? (yes: 1, no: 0)\")\n\n    # Symptoms\n    fever = input(\"Do you have fever? (yes: 1, no: 0)\")\n    cough = input(\"Are you coughing? (yes: 1, no: 0)\")\n    fatigue = input(\"Do you feel fatigue? (yes: 1, no: 0)\")\n    sore_throat = input(\"Do you have a sore throat? (yes: 1 , no:0)\")\n\n    # Save results in a list\n    return {\n        \"sex\": int(sex),\n        \"docs_per_10k\": float(docs_scaler.transform([[docs_per_10k]])),\n        \"hypertension\": int(hypertension),\n        \"diabetes\": int(diabetes),\n        \"heart\": int(heart),\n        \"fever\": int(fever),\n        \"cough\": int(cough),\n        \"fatigue\": int(fatigue),\n        \"sore throat\": int(sore_throat),\n        \"age_scaled\": float(age_scaler.transform([[age]])),\n    }"
    },
    "executionTime": "2020-03-28T18:06:41.494Z"
   },
   {
    "cell": {
     "executionCount": 24,
     "executionEventId": "51d2d9c2-c5a2-417a-b1f5-205a944091c1",
     "hasError": false,
     "id": "74c7c676-00a5-4e2f-9d13-765ed2f6d40a",
     "outputs": [],
     "persistentId": "a9c872c7-32a5-49cc-9b8f-27dfb569b771",
     "text": "# Function: Output risk\ndef risk_predictor():\n\n    # Get patient info\n    new_case = patient_info()\n\n    # Convert to useable format\n    new_case = pd.DataFrame(new_case, index=[0])\n\n    # Make prediction\n    new_prediction = xgb_opt.predict_proba(new_case)\n\n    # Print result\n    print(\n        \"Once contracted COVID-19, your mortality risk is {}%.\".format(\n            round(new_prediction.tolist()[0][1] * 100, 2)\n        )\n    )"
    },
    "executionTime": "2020-03-28T18:06:42.913Z"
   },
   {
    "cell": {
     "executionCount": 25,
     "executionEventId": "a98ec520-6921-4fc5-9a63-b753d67f77da",
     "hasError": false,
     "id": "74c7c676-00a5-4e2f-9d13-765ed2f6d40a",
     "outputs": [],
     "persistentId": "a9c872c7-32a5-49cc-9b8f-27dfb569b771",
     "text": "# Function: Output risk\ndef risk_predictor():\n\n    # Get patient info\n    new_case = patient_info()\n\n    # Convert to useable format\n    new_case = pd.DataFrame(new_case, index=[0])\n\n    # Make prediction\n    new_prediction = xgb.predict_proba(new_case)\n\n    # Print result\n    print(\n        \"Once contracted COVID-19, your mortality risk is {}%.\".format(\n            round(new_prediction.tolist()[0][1] * 100, 2)\n        )\n    )"
    },
    "executionTime": "2020-03-28T18:06:57.136Z"
   },
   {
    "cell": {
     "executionCount": 26,
     "executionEventId": "d0c845f2-2e21-4157-bced-f4a6e5c1ec1f",
     "hasError": false,
     "id": "cee25649-8b0d-475c-98c2-7e60920b0edf",
     "outputs": [
      {
       "data": {
        "text/plain": "<function __main__.risk_predictor()>"
       },
       "execution_count": 26,
       "metadata": {},
       "output_type": "execute_result"
      }
     ],
     "persistentId": "47b05997-756d-4961-b7ef-6cc7e834b5b3",
     "text": "risk_predictor"
    },
    "executionTime": "2020-03-28T18:07:02.352Z"
   },
   {
    "cell": {
     "executionCount": 27,
     "executionEventId": "ab2f165e-d548-4d7f-baac-d116843f5ba9",
     "hasError": false,
     "id": "cee25649-8b0d-475c-98c2-7e60920b0edf",
     "outputs": [
      {
       "name": "stdin",
       "output_type": "stream",
       "text": "What's your age? 25\nWhat's your biological sex? (female: 1, male: 0) 1\nWhich country do you live in? United States\n"
      },
      {
       "name": "stderr",
       "output_type": "stream",
       "text": "/Users/apple/anaconda3/lib/python3.7/site-packages/ipykernel_launcher.py:9: FutureWarning: `item` has been deprecated and will be removed in a future version\n  if __name__ == '__main__':\n"
      },
      {
       "name": "stdin",
       "output_type": "stream",
       "text": "Do you have hypertension? (yes: 1, no: 0) 1\nDo you have diabetes? (yes: 1, no: 0) 1\nDo you have heart diseases? (yes: 1, no: 0) 1\nDo you have fever? (yes: 1, no: 0) 1\nAre you coughing? (yes: 1, no: 0) 1\nDo you feel fatigue? (yes: 1, no: 0) 1\nDo you have a sore throat? (yes: 1 , no:0) 1\n"
      },
      {
       "name": "stdout",
       "output_type": "stream",
       "text": "Once contracted COVID-19, your mortality risk is 5.73%.\n"
      }
     ],
     "persistentId": "47b05997-756d-4961-b7ef-6cc7e834b5b3",
     "text": "risk_predictor()"
    },
    "executionTime": "2020-03-28T18:07:24.207Z"
   },
   {
    "cell": {
     "executionCount": 28,
     "executionEventId": "ef7e7597-63e5-4c35-a548-379402ebd4ad",
     "hasError": false,
     "id": "46b8ff3d-c47c-4c3c-b573-b8ac308a9187",
     "outputs": [],
     "persistentId": "f9846a06-287d-470f-950e-d2b2c73bea50",
     "text": "import pickle\nimport pandas as pd\nimport numpy as np\n\nimport xgboost as xgb\nfrom xgboost.sklearn import XGBClassifier\nfrom sklearn.preprocessing import MinMaxScaler\n\nimport warnings\nwarnings.simplefilter(\"ignore\")"
    },
    "executionTime": "2020-03-28T18:07:38.910Z"
   },
   {
    "cell": {
     "executionCount": 29,
     "executionEventId": "90a9b91b-e5bf-4210-b5ce-a2e0d53ab1ba",
     "hasError": false,
     "id": "1417b61b-5682-4b4b-9a2a-2fb87e099d22",
     "outputs": [],
     "persistentId": "e858e76e-09e5-4b24-8721-703f39e9fb7e",
     "text": "# Read from pickle\nwith open(\"covid19_risk_xgboost.pkl\", \"rb\") as file:\n    xgb = pickle.load(file)\n\nwith open(\"age_scaler.pkl\", \"rb\") as file:\n    age_scaler = pickle.load(file)\n\nwith open(\"docs_scaler.pkl\", \"rb\") as file:\n    docs_scaler = pickle.load(file)\n\nwith open(\"docs.pkl\", \"rb\") as file:\n    docs = pickle.load(file)"
    },
    "executionTime": "2020-03-28T18:07:40.061Z"
   },
   {
    "cell": {
     "executionCount": 30,
     "executionEventId": "50859042-682d-464f-b9ad-951b80e2c3a3",
     "hasError": false,
     "id": "2a8ef9e8-bf47-4dcf-b376-c91544ed5624",
     "outputs": [],
     "persistentId": "456dfe32-6fc2-42c6-b60f-29ad83b7be37",
     "text": "# Function: Take patient info\ndef patient_info():\n\n    # Demographic info\n    age = input(\"What's your age?\")\n    sex = input(\"What's your biological sex? (female: 1, male: 0)\")\n    country = input(\"Which country do you live in?\")\n    docs_per_10k = docs.loc[\n        docs[\"country\"].str.contains(country), \"docs_per_10k\"\n    ].item()\n\n    # Pre-conditions\n    hypertension = input(\"Do you have hypertension? (yes: 1, no: 0)\")\n    diabetes = input(\"Do you have diabetes? (yes: 1, no: 0)\")\n    heart = input(\"Do you have heart diseases? (yes: 1, no: 0)\")\n\n    # Symptoms\n    fever = input(\"Do you have fever? (yes: 1, no: 0)\")\n    cough = input(\"Are you coughing? (yes: 1, no: 0)\")\n    fatigue = input(\"Do you feel fatigue? (yes: 1, no: 0)\")\n    sore_throat = input(\"Do you have a sore throat? (yes: 1 , no:0)\")\n\n    # Save results in a list\n    return {\n        \"sex\": int(sex),\n        \"docs_per_10k\": float(docs_scaler.transform([[docs_per_10k]])),\n        \"hypertension\": int(hypertension),\n        \"diabetes\": int(diabetes),\n        \"heart\": int(heart),\n        \"fever\": int(fever),\n        \"cough\": int(cough),\n        \"fatigue\": int(fatigue),\n        \"sore throat\": int(sore_throat),\n        \"age_scaled\": float(age_scaler.transform([[age]])),\n    }"
    },
    "executionTime": "2020-03-28T18:07:41.606Z"
   },
   {
    "cell": {
     "executionCount": 31,
     "executionEventId": "0947cc32-e8c7-4fb3-9c3a-f385db10e938",
     "hasError": false,
     "id": "74c7c676-00a5-4e2f-9d13-765ed2f6d40a",
     "outputs": [],
     "persistentId": "a9c872c7-32a5-49cc-9b8f-27dfb569b771",
     "text": "# Function: Output risk\ndef risk_predictor():\n\n    # Get patient info\n    new_case = patient_info()\n\n    # Convert to useable format\n    new_case = pd.DataFrame(new_case, index=[0])\n\n    # Make prediction\n    new_prediction = xgb.predict_proba(new_case)\n\n    # Print result\n    print(\n        \"Once contracted COVID-19, your mortality risk is {}%.\".format(\n            round(new_prediction.tolist()[0][1] * 100, 2)\n        )\n    )"
    },
    "executionTime": "2020-03-28T18:07:42.554Z"
   },
   {
    "cell": {
     "executionCount": 32,
     "executionEventId": "d84ba59a-f10f-4ef3-97f0-82cb2337b158",
     "hasError": false,
     "id": "cee25649-8b0d-475c-98c2-7e60920b0edf",
     "outputs": [
      {
       "name": "stdin",
       "output_type": "stream",
       "text": "What's your age? 25\nWhat's your biological sex? (female: 1, male: 0) 1\nWhich country do you live in? United States\nDo you have hypertension? (yes: 1, no: 0) 0\nDo you have diabetes? (yes: 1, no: 0) 0\nDo you have heart diseases? (yes: 1, no: 0) 0\nDo you have fever? (yes: 1, no: 0) 0\nAre you coughing? (yes: 1, no: 0) 0\nDo you feel fatigue? (yes: 1, no: 0) 0\nDo you have a sore throat? (yes: 1 , no:0) 0\n"
      },
      {
       "name": "stdout",
       "output_type": "stream",
       "text": "Once contracted COVID-19, your mortality risk is 1.15%.\n"
      }
     ],
     "persistentId": "47b05997-756d-4961-b7ef-6cc7e834b5b3",
     "text": "risk_predictor()"
    },
    "executionTime": "2020-03-28T18:07:56.167Z"
   },
   {
    "cell": {
     "executionCount": 1,
     "executionEventId": "576d962d-9ee0-4c18-adf4-be11dae2cc00",
     "hasError": false,
     "id": "62cdf423-3ee0-4076-8a82-5af8448f7a2e",
     "outputs": [],
     "persistentId": "75f4045a-4eef-493f-b19e-bd2f159410be",
     "text": "# Import libraries\nimport pickle\n#import pandas as pd\n#import numpy as np\n#import xgboost as xgb\n#from xgboost.sklearn import XGBClassifier\n#from sklearn.preprocessing import MinMaxScaler\n\nimport warnings\nwarnings.simplefilter(\"ignore\")"
    },
    "executionTime": "2020-03-29T03:12:28.447Z"
   },
   {
    "cell": {
     "executionCount": 2,
     "executionEventId": "1a3e893f-3883-4676-8c1a-080fe7ff925a",
     "hasError": true,
     "id": "35cf285b-5906-4c78-b698-b7dbd83768d4",
     "outputs": [
      {
       "ename": "FileNotFoundError",
       "evalue": "[Errno 2] No such file or directory: 'bedss_scaler.pkl'",
       "output_type": "error",
       "traceback": [
        "\u001b[0;31m---------------------------------------------------------------------------\u001b[0m",
        "\u001b[0;31mFileNotFoundError\u001b[0m                         Traceback (most recent call last)",
        "\u001b[0;32m<ipython-input-2-79c569af1822>\u001b[0m in \u001b[0;36m<module>\u001b[0;34m\u001b[0m\n\u001b[1;32m      9\u001b[0m     \u001b[0mdocs_scaler\u001b[0m \u001b[0;34m=\u001b[0m \u001b[0mpickle\u001b[0m\u001b[0;34m.\u001b[0m\u001b[0mload\u001b[0m\u001b[0;34m(\u001b[0m\u001b[0mfile\u001b[0m\u001b[0;34m)\u001b[0m\u001b[0;34m\u001b[0m\u001b[0;34m\u001b[0m\u001b[0m\n\u001b[1;32m     10\u001b[0m \u001b[0;34m\u001b[0m\u001b[0m\n\u001b[0;32m---> 11\u001b[0;31m \u001b[0;32mwith\u001b[0m \u001b[0mopen\u001b[0m\u001b[0;34m(\u001b[0m\u001b[0;34m\"bedss_scaler.pkl\"\u001b[0m\u001b[0;34m,\u001b[0m \u001b[0;34m\"rb\"\u001b[0m\u001b[0;34m)\u001b[0m \u001b[0;32mas\u001b[0m \u001b[0mfile\u001b[0m\u001b[0;34m:\u001b[0m\u001b[0;34m\u001b[0m\u001b[0;34m\u001b[0m\u001b[0m\n\u001b[0m\u001b[1;32m     12\u001b[0m     \u001b[0mbeds_scaler\u001b[0m \u001b[0;34m=\u001b[0m \u001b[0mpickle\u001b[0m\u001b[0;34m.\u001b[0m\u001b[0mload\u001b[0m\u001b[0;34m(\u001b[0m\u001b[0mfile\u001b[0m\u001b[0;34m)\u001b[0m\u001b[0;34m\u001b[0m\u001b[0;34m\u001b[0m\u001b[0m\n\u001b[1;32m     13\u001b[0m \u001b[0;34m\u001b[0m\u001b[0m\n",
        "\u001b[0;31mFileNotFoundError\u001b[0m: [Errno 2] No such file or directory: 'bedss_scaler.pkl'"
       ]
      }
     ],
     "persistentId": "e858e76e-09e5-4b24-8721-703f39e9fb7e",
     "text": "# Read data and models from pickles\nwith open(\"covid19_risk_xgboost.pkl\", \"rb\") as file:\n    xgb = pickle.load(file)\n\nwith open(\"age_scaler.pkl\", \"rb\") as file:\n    age_scaler = pickle.load(file)\n\nwith open(\"docs_scaler.pkl\", \"rb\") as file:\n    docs_scaler = pickle.load(file)\n    \nwith open(\"bedss_scaler.pkl\", \"rb\") as file:\n    beds_scaler = pickle.load(file)\n\nwith open(\"medical.pkl\", \"rb\") as file:\n    medical = pickle.load(file)"
    },
    "executionTime": "2020-03-29T03:13:16.036Z"
   },
   {
    "cell": {
     "executionCount": 3,
     "executionEventId": "ac36773a-45ce-4663-95e1-cb360785f6cd",
     "hasError": false,
     "id": "35cf285b-5906-4c78-b698-b7dbd83768d4",
     "outputs": [],
     "persistentId": "e858e76e-09e5-4b24-8721-703f39e9fb7e",
     "text": "# Read data and models from pickles\nwith open(\"covid19_risk_xgboost.pkl\", \"rb\") as file:\n    xgb = pickle.load(file)\n\nwith open(\"age_scaler.pkl\", \"rb\") as file:\n    age_scaler = pickle.load(file)\n\nwith open(\"docs_scaler.pkl\", \"rb\") as file:\n    docs_scaler = pickle.load(file)\n    \nwith open(\"beds_scaler.pkl\", \"rb\") as file:\n    beds_scaler = pickle.load(file)\n\nwith open(\"medical.pkl\", \"rb\") as file:\n    medical = pickle.load(file)"
    },
    "executionTime": "2020-03-29T03:13:21.521Z"
   },
   {
    "cell": {
     "executionCount": 4,
     "executionEventId": "cfab6099-dde0-48a0-b4d3-17829e8ac1eb",
     "hasError": true,
     "id": "ee19ac11-472d-469a-a631-b64458a45504",
     "outputs": [
      {
       "ename": "TypeError",
       "evalue": "'str' object is not callable",
       "output_type": "error",
       "traceback": [
        "\u001b[0;31m---------------------------------------------------------------------------\u001b[0m",
        "\u001b[0;31mTypeError\u001b[0m                                 Traceback (most recent call last)",
        "\u001b[0;32m<ipython-input-4-1ddf9c051c2d>\u001b[0m in \u001b[0;36m<module>\u001b[0;34m\u001b[0m\n\u001b[0;32m----> 1\u001b[0;31m \u001b[0mxgb\u001b[0m\u001b[0;34m.\u001b[0m\u001b[0mbooster\u001b[0m\u001b[0;34m(\u001b[0m\u001b[0;34m)\u001b[0m\u001b[0;34m\u001b[0m\u001b[0;34m\u001b[0m\u001b[0m\n\u001b[0m",
        "\u001b[0;31mTypeError\u001b[0m: 'str' object is not callable"
       ]
      }
     ],
     "persistentId": "939d43d3-279f-426d-9a28-d9ddd51c830f",
     "text": "xgb.booster()"
    },
    "executionTime": "2020-03-29T03:14:10.926Z"
   },
   {
    "cell": {
     "executionCount": 5,
     "executionEventId": "6dcb3b45-443a-42e6-82b4-b6a144988832",
     "hasError": false,
     "id": "ee19ac11-472d-469a-a631-b64458a45504",
     "outputs": [
      {
       "data": {
        "text/plain": "XGBClassifier(base_score=0.5, booster='gbtree', colsample_bylevel=1,\n              colsample_bynode=1, colsample_bytree=0.8,\n              early_stopping_rounds=10, gamma=0.30000000000000004,\n              learning_rate=0.08730000000000004, max_delta_step=0, max_depth=2,\n              min_child_weight=3, missing=nan, n_estimators=100, n_jobs=1,\n              nthread=None, objective='binary:logistic', random_state=0,\n              reg_alpha=1e-05, reg_lambda=1, scale_pos_weight=1, seed=None,\n              silent=None, subsample=0.5, verbosity=1)"
       },
       "execution_count": 5,
       "metadata": {},
       "output_type": "execute_result"
      }
     ],
     "persistentId": "939d43d3-279f-426d-9a28-d9ddd51c830f",
     "text": "xgb"
    },
    "executionTime": "2020-03-29T03:14:14.758Z"
   },
   {
    "cell": {
     "executionCount": 6,
     "executionEventId": "cb0232ca-b474-4a8b-a581-d08b9c30d934",
     "hasError": false,
     "id": "5bc896e1-be4f-40f0-86ad-bc393bfb400d",
     "outputs": [],
     "persistentId": "456dfe32-6fc2-42c6-b60f-29ad83b7be37",
     "text": "# Function: Take patient info\ndef patient_info():\n\n    # Demographic info\n    age = input(\"What's your age?\")\n    sex = input(\"What's your biological sex? (female: 1, male: 0)\")\n    country = input(\"Which country do you live in?\")\n    docs_per_10k = medical.loc[\n        medical[\"country\"].str.contains(country), \"docs_per_10k\"\n    ].item()\n    beds_per_10k = medical.loc[\n        medical[\"country\"].str.contains(country), \"beds_per_10k\"\n    ].item()\n\n    # Pre-conditions\n    hypertension = input(\"Do you have hypertension? (yes: 1, no: 0)\")\n    diabetes = input(\"Do you have diabetes? (yes: 1, no: 0)\")\n    heart = input(\"Do you have heart diseases? (yes: 1, no: 0)\")\n\n    # Symptoms\n    fever = input(\"Do you have fever? (yes: 1, no: 0)\")\n    cough = input(\"Are you coughing? (yes: 1, no: 0)\")\n    fatigue = input(\"Do you feel fatigue? (yes: 1, no: 0)\")\n    sore_throat = input(\"Do you have a sore throat? (yes: 1 , no:0)\")\n\n    # Save results in a list\n    return {\n        \"sex\": int(sex),\n        \"docs_per_10k\": float(docs_scaler.transform([[docs_per_10k]])),\n        \"beds_per_10k\": float(docs_scaler.transform([[beds_per_10k]])),\n        \"hypertension\": int(hypertension),\n        \"diabetes\": int(diabetes),\n        \"heart\": int(heart),\n        \"fever\": int(fever),\n        \"cough\": int(cough),\n        \"fatigue\": int(fatigue),\n        \"sore throat\": int(sore_throat),\n        \"age_scaled\": float(age_scaler.transform([[age]])),\n    }"
    },
    "executionTime": "2020-03-29T03:14:48.440Z"
   },
   {
    "cell": {
     "executionCount": 7,
     "executionEventId": "02db33f2-621d-43e1-8ef6-166141c9412e",
     "hasError": false,
     "id": "538a5c46-db58-4646-819d-644a1fcdef6a",
     "outputs": [],
     "persistentId": "a9c872c7-32a5-49cc-9b8f-27dfb569b771",
     "text": "# Function: Output risk\ndef risk_predictor():\n\n    # Get patient info\n    new_case = patient_info()\n\n    # Convert to useable format\n    new_case = pd.DataFrame(new_case, index=[0])\n\n    # Make prediction\n    new_prediction = xgb.predict_proba(new_case)\n\n    # Print result\n    print(\n        \"Once contracted COVID-19, your mortality risk is {}%.\".format(\n            round(new_prediction.tolist()[0][1] * 100, 2)\n        )\n    )"
    },
    "executionTime": "2020-03-29T03:14:56.467Z"
   },
   {
    "cell": {
     "executionCount": 8,
     "executionEventId": "1b104d76-c157-4683-86ca-97c658b6d7cb",
     "hasError": true,
     "id": "c5b0864a-d22b-4249-a98d-d0738ab32d8d",
     "outputs": [
      {
       "name": "stdin",
       "output_type": "stream",
       "text": "What's your age? 25\nWhat's your biological sex? (female: 1, male: 0) 1\nWhich country do you live in? United States\nDo you have hypertension? (yes: 1, no: 0) 0\nDo you have diabetes? (yes: 1, no: 0) 0\nDo you have heart diseases? (yes: 1, no: 0) 0\nDo you have fever? (yes: 1, no: 0) 0\nAre you coughing? (yes: 1, no: 0) 0\nDo you feel fatigue? (yes: 1, no: 0) 0\nDo you have a sore throat? (yes: 1 , no:0) 0\n"
      },
      {
       "ename": "ValueError",
       "evalue": "feature_names mismatch: ['sex', 'beds_per_10k', 'docs_per_10k', 'hypertension', 'diabetes', 'heart', 'fever', 'cough', 'fatigue', 'sore throat', 'age_scaled'] ['sex', 'docs_per_10k', 'beds_per_10k', 'hypertension', 'diabetes', 'heart', 'fever', 'cough', 'fatigue', 'sore throat', 'age_scaled']",
       "output_type": "error",
       "traceback": [
        "\u001b[0;31m---------------------------------------------------------------------------\u001b[0m",
        "\u001b[0;31mValueError\u001b[0m                                Traceback (most recent call last)",
        "\u001b[0;32m<ipython-input-8-4bd1f3c2539c>\u001b[0m in \u001b[0;36m<module>\u001b[0;34m\u001b[0m\n\u001b[0;32m----> 1\u001b[0;31m \u001b[0mrisk_predictor\u001b[0m\u001b[0;34m(\u001b[0m\u001b[0;34m)\u001b[0m\u001b[0;34m\u001b[0m\u001b[0;34m\u001b[0m\u001b[0m\n\u001b[0m",
        "\u001b[0;32m<ipython-input-7-a977aefc9cb6>\u001b[0m in \u001b[0;36mrisk_predictor\u001b[0;34m()\u001b[0m\n\u001b[1;32m      9\u001b[0m \u001b[0;34m\u001b[0m\u001b[0m\n\u001b[1;32m     10\u001b[0m     \u001b[0;31m# Make prediction\u001b[0m\u001b[0;34m\u001b[0m\u001b[0;34m\u001b[0m\u001b[0;34m\u001b[0m\u001b[0m\n\u001b[0;32m---> 11\u001b[0;31m     \u001b[0mnew_prediction\u001b[0m \u001b[0;34m=\u001b[0m \u001b[0mxgb\u001b[0m\u001b[0;34m.\u001b[0m\u001b[0mpredict_proba\u001b[0m\u001b[0;34m(\u001b[0m\u001b[0mnew_case\u001b[0m\u001b[0;34m)\u001b[0m\u001b[0;34m\u001b[0m\u001b[0;34m\u001b[0m\u001b[0m\n\u001b[0m\u001b[1;32m     12\u001b[0m \u001b[0;34m\u001b[0m\u001b[0m\n\u001b[1;32m     13\u001b[0m     \u001b[0;31m# Print result\u001b[0m\u001b[0;34m\u001b[0m\u001b[0;34m\u001b[0m\u001b[0;34m\u001b[0m\u001b[0m\n",
        "\u001b[0;32m~/anaconda3/lib/python3.7/site-packages/xgboost/sklearn.py\u001b[0m in \u001b[0;36mpredict_proba\u001b[0;34m(self, data, ntree_limit, validate_features)\u001b[0m\n\u001b[1;32m    832\u001b[0m         class_probs = self.get_booster().predict(test_dmatrix,\n\u001b[1;32m    833\u001b[0m                                                  \u001b[0mntree_limit\u001b[0m\u001b[0;34m=\u001b[0m\u001b[0mntree_limit\u001b[0m\u001b[0;34m,\u001b[0m\u001b[0;34m\u001b[0m\u001b[0;34m\u001b[0m\u001b[0m\n\u001b[0;32m--> 834\u001b[0;31m                                                  validate_features=validate_features)\n\u001b[0m\u001b[1;32m    835\u001b[0m         \u001b[0;32mif\u001b[0m \u001b[0mself\u001b[0m\u001b[0;34m.\u001b[0m\u001b[0mobjective\u001b[0m \u001b[0;34m==\u001b[0m \u001b[0;34m\"multi:softprob\"\u001b[0m\u001b[0;34m:\u001b[0m\u001b[0;34m\u001b[0m\u001b[0;34m\u001b[0m\u001b[0m\n\u001b[1;32m    836\u001b[0m             \u001b[0;32mreturn\u001b[0m \u001b[0mclass_probs\u001b[0m\u001b[0;34m\u001b[0m\u001b[0;34m\u001b[0m\u001b[0m\n",
        "\u001b[0;32m~/anaconda3/lib/python3.7/site-packages/xgboost/core.py\u001b[0m in \u001b[0;36mpredict\u001b[0;34m(self, data, output_margin, ntree_limit, pred_leaf, pred_contribs, approx_contribs, pred_interactions, validate_features)\u001b[0m\n\u001b[1;32m   1282\u001b[0m \u001b[0;34m\u001b[0m\u001b[0m\n\u001b[1;32m   1283\u001b[0m         \u001b[0;32mif\u001b[0m \u001b[0mvalidate_features\u001b[0m\u001b[0;34m:\u001b[0m\u001b[0;34m\u001b[0m\u001b[0;34m\u001b[0m\u001b[0m\n\u001b[0;32m-> 1284\u001b[0;31m             \u001b[0mself\u001b[0m\u001b[0;34m.\u001b[0m\u001b[0m_validate_features\u001b[0m\u001b[0;34m(\u001b[0m\u001b[0mdata\u001b[0m\u001b[0;34m)\u001b[0m\u001b[0;34m\u001b[0m\u001b[0;34m\u001b[0m\u001b[0m\n\u001b[0m\u001b[1;32m   1285\u001b[0m \u001b[0;34m\u001b[0m\u001b[0m\n\u001b[1;32m   1286\u001b[0m         \u001b[0mlength\u001b[0m \u001b[0;34m=\u001b[0m \u001b[0mc_bst_ulong\u001b[0m\u001b[0;34m(\u001b[0m\u001b[0;34m)\u001b[0m\u001b[0;34m\u001b[0m\u001b[0;34m\u001b[0m\u001b[0m\n",
        "\u001b[0;32m~/anaconda3/lib/python3.7/site-packages/xgboost/core.py\u001b[0m in \u001b[0;36m_validate_features\u001b[0;34m(self, data)\u001b[0m\n\u001b[1;32m   1688\u001b[0m \u001b[0;34m\u001b[0m\u001b[0m\n\u001b[1;32m   1689\u001b[0m                 raise ValueError(msg.format(self.feature_names,\n\u001b[0;32m-> 1690\u001b[0;31m                                             data.feature_names))\n\u001b[0m\u001b[1;32m   1691\u001b[0m \u001b[0;34m\u001b[0m\u001b[0m\n\u001b[1;32m   1692\u001b[0m     \u001b[0;32mdef\u001b[0m \u001b[0mget_split_value_histogram\u001b[0m\u001b[0;34m(\u001b[0m\u001b[0mself\u001b[0m\u001b[0;34m,\u001b[0m \u001b[0mfeature\u001b[0m\u001b[0;34m,\u001b[0m \u001b[0mfmap\u001b[0m\u001b[0;34m=\u001b[0m\u001b[0;34m''\u001b[0m\u001b[0;34m,\u001b[0m \u001b[0mbins\u001b[0m\u001b[0;34m=\u001b[0m\u001b[0;32mNone\u001b[0m\u001b[0;34m,\u001b[0m \u001b[0mas_pandas\u001b[0m\u001b[0;34m=\u001b[0m\u001b[0;32mTrue\u001b[0m\u001b[0;34m)\u001b[0m\u001b[0;34m:\u001b[0m\u001b[0;34m\u001b[0m\u001b[0;34m\u001b[0m\u001b[0m\n",
        "\u001b[0;31mValueError\u001b[0m: feature_names mismatch: ['sex', 'beds_per_10k', 'docs_per_10k', 'hypertension', 'diabetes', 'heart', 'fever', 'cough', 'fatigue', 'sore throat', 'age_scaled'] ['sex', 'docs_per_10k', 'beds_per_10k', 'hypertension', 'diabetes', 'heart', 'fever', 'cough', 'fatigue', 'sore throat', 'age_scaled']"
       ]
      }
     ],
     "persistentId": "47b05997-756d-4961-b7ef-6cc7e834b5b3",
     "text": "risk_predictor()"
    },
    "executionTime": "2020-03-29T03:15:09.879Z"
   },
   {
    "cell": {
     "executionCount": 9,
     "executionEventId": "bd64bf87-287e-4e15-bf54-9ba7e4cf05a1",
     "hasError": false,
     "id": "5bc896e1-be4f-40f0-86ad-bc393bfb400d",
     "outputs": [],
     "persistentId": "456dfe32-6fc2-42c6-b60f-29ad83b7be37",
     "text": "# Function: Take patient info\ndef patient_info():\n\n    # Demographic info\n    age = input(\"What's your age?\")\n    sex = input(\"What's your biological sex? (female: 1, male: 0)\")\n    country = input(\"Which country do you live in?\")\n    docs_per_10k = medical.loc[\n        medical[\"country\"].str.contains(country), \"docs_per_10k\"\n    ].item()\n    beds_per_10k = medical.loc[\n        medical[\"country\"].str.contains(country), \"beds_per_10k\"\n    ].item()\n\n    # Pre-conditions\n    hypertension = input(\"Do you have hypertension? (yes: 1, no: 0)\")\n    diabetes = input(\"Do you have diabetes? (yes: 1, no: 0)\")\n    heart = input(\"Do you have heart diseases? (yes: 1, no: 0)\")\n\n    # Symptoms\n    fever = input(\"Do you have fever? (yes: 1, no: 0)\")\n    cough = input(\"Are you coughing? (yes: 1, no: 0)\")\n    fatigue = input(\"Do you feel fatigue? (yes: 1, no: 0)\")\n    sore_throat = input(\"Do you have a sore throat? (yes: 1 , no:0)\")\n\n    # Save results in a list\n    return {\n        \"sex\": int(sex),\n        \"beds_per_10k\": float(beds_scaler.transform([[beds_per_10k]])),\n        \"docs_per_10k\": float(docs_scaler.transform([[docs_per_10k]])),\n        \"hypertension\": int(hypertension),\n        \"diabetes\": int(diabetes),\n        \"heart\": int(heart),\n        \"fever\": int(fever),\n        \"cough\": int(cough),\n        \"fatigue\": int(fatigue),\n        \"sore throat\": int(sore_throat),\n        \"age_scaled\": float(age_scaler.transform([[age]])),\n    }"
    },
    "executionTime": "2020-03-29T03:15:35.077Z"
   },
   {
    "cell": {
     "executionCount": 10,
     "executionEventId": "5fe8399a-ada1-41f9-95fe-5be456686733",
     "hasError": false,
     "id": "538a5c46-db58-4646-819d-644a1fcdef6a",
     "outputs": [],
     "persistentId": "a9c872c7-32a5-49cc-9b8f-27dfb569b771",
     "text": "# Function: Output risk\ndef risk_predictor():\n\n    # Get patient info\n    new_case = patient_info()\n\n    # Convert to useable format\n    new_case = pd.DataFrame(new_case, index=[0])\n\n    # Make prediction\n    new_prediction = xgb.predict_proba(new_case)\n\n    # Print result\n    print(\n        \"Once contracted COVID-19, your mortality risk is {}%.\".format(\n            round(new_prediction.tolist()[0][1] * 100, 2)\n        )\n    )"
    },
    "executionTime": "2020-03-29T03:15:37.274Z"
   },
   {
    "cell": {
     "executionCount": 11,
     "executionEventId": "14ed6e4d-83c6-4e3d-ac68-fffc37c8e0af",
     "hasError": false,
     "id": "c5b0864a-d22b-4249-a98d-d0738ab32d8d",
     "outputs": [
      {
       "name": "stdin",
       "output_type": "stream",
       "text": "What's your age? 25\nWhat's your biological sex? (female: 1, male: 0) 1\nWhich country do you live in? United States\nDo you have hypertension? (yes: 1, no: 0) 0\nDo you have diabetes? (yes: 1, no: 0) 0\nDo you have heart diseases? (yes: 1, no: 0) 0\nDo you have fever? (yes: 1, no: 0) 0\nAre you coughing? (yes: 1, no: 0) 0\nDo you feel fatigue? (yes: 1, no: 0) 0\nDo you have a sore throat? (yes: 1 , no:0) 0\n"
      },
      {
       "name": "stdout",
       "output_type": "stream",
       "text": "Once contracted COVID-19, your mortality risk is 0.6%.\n"
      }
     ],
     "persistentId": "47b05997-756d-4961-b7ef-6cc7e834b5b3",
     "text": "risk_predictor()"
    },
    "executionTime": "2020-03-29T03:15:49.637Z"
   },
   {
    "cell": {
     "executionCount": 12,
     "executionEventId": "343fc74c-aa7a-43e9-8432-81f6a3cad03c",
     "hasError": false,
     "id": "35cf285b-5906-4c78-b698-b7dbd83768d4",
     "outputs": [],
     "persistentId": "e858e76e-09e5-4b24-8721-703f39e9fb7e",
     "text": "import pickle\n\n# Read data and models from pickles\nwith open(\"covid19_risk_xgboost.pkl\", \"rb\") as file:\n    xgb = pickle.load(file)\n\nwith open(\"age_scaler.pkl\", \"rb\") as file:\n    age_scaler = pickle.load(file)\n\nwith open(\"docs_scaler.pkl\", \"rb\") as file:\n    docs_scaler = pickle.load(file)\n    \nwith open(\"beds_scaler.pkl\", \"rb\") as file:\n    beds_scaler = pickle.load(file)\n\nwith open(\"medical.pkl\", \"rb\") as file:\n    medical = pickle.load(file)"
    },
    "executionTime": "2020-03-29T03:17:13.102Z"
   },
   {
    "cell": {
     "executionCount": 13,
     "executionEventId": "824fab9a-54ed-4555-821e-175561fe2bdd",
     "hasError": false,
     "id": "35cf285b-5906-4c78-b698-b7dbd83768d4",
     "outputs": [],
     "persistentId": "e858e76e-09e5-4b24-8721-703f39e9fb7e",
     "text": "import pickle\n\n# Read data and models from pickles\nwith open(\"covid19_risk_xgboost.pkl\", \"rb\") as file:\n    xgb = pickle.load(file)\n\nwith open(\"age_scaler.pkl\", \"rb\") as file:\n    age_scaler = pickle.load(file)\n\nwith open(\"docs_scaler.pkl\", \"rb\") as file:\n    docs_scaler = pickle.load(file)\n    \nwith open(\"beds_scaler.pkl\", \"rb\") as file:\n    beds_scaler = pickle.load(file)\n\nwith open(\"medical.pkl\", \"rb\") as file:\n    medical = pickle.load(file)"
    },
    "executionTime": "2020-03-29T03:17:17.836Z"
   },
   {
    "cell": {
     "executionCount": 1,
     "executionEventId": "7a40c14a-8cf2-4d40-8d81-67dd9abf2cfb",
     "hasError": false,
     "id": "35cf285b-5906-4c78-b698-b7dbd83768d4",
     "outputs": [],
     "persistentId": "e858e76e-09e5-4b24-8721-703f39e9fb7e",
     "text": "import pickle\n\n# Read data and models from pickles\nwith open(\"covid19_risk_xgboost.pkl\", \"rb\") as file:\n    xgb = pickle.load(file)\n\nwith open(\"age_scaler.pkl\", \"rb\") as file:\n    age_scaler = pickle.load(file)\n\nwith open(\"docs_scaler.pkl\", \"rb\") as file:\n    docs_scaler = pickle.load(file)\n    \nwith open(\"beds_scaler.pkl\", \"rb\") as file:\n    beds_scaler = pickle.load(file)\n\nwith open(\"medical.pkl\", \"rb\") as file:\n    medical = pickle.load(file)"
    },
    "executionTime": "2020-03-29T03:17:53.932Z"
   },
   {
    "cell": {
     "executionCount": 2,
     "executionEventId": "5611b359-4a12-4169-9bbd-147ad05a013e",
     "hasError": false,
     "id": "5bc896e1-be4f-40f0-86ad-bc393bfb400d",
     "outputs": [],
     "persistentId": "456dfe32-6fc2-42c6-b60f-29ad83b7be37",
     "text": "# Function: Take patient info\ndef patient_info():\n\n    # Demographic info\n    age = input(\"What's your age?\")\n    sex = input(\"What's your biological sex? (female: 1, male: 0)\")\n    country = input(\"Which country do you live in?\")\n    docs_per_10k = medical.loc[\n        medical[\"country\"].str.contains(country), \"docs_per_10k\"\n    ].item()\n    beds_per_10k = medical.loc[\n        medical[\"country\"].str.contains(country), \"beds_per_10k\"\n    ].item()\n\n    # Pre-conditions\n    hypertension = input(\"Do you have hypertension? (yes: 1, no: 0)\")\n    diabetes = input(\"Do you have diabetes? (yes: 1, no: 0)\")\n    heart = input(\"Do you have heart diseases? (yes: 1, no: 0)\")\n\n    # Symptoms\n    fever = input(\"Do you have fever? (yes: 1, no: 0)\")\n    cough = input(\"Are you coughing? (yes: 1, no: 0)\")\n    fatigue = input(\"Do you feel fatigue? (yes: 1, no: 0)\")\n    sore_throat = input(\"Do you have a sore throat? (yes: 1 , no:0)\")\n\n    # Save results in a list\n    return {\n        \"sex\": int(sex),\n        \"beds_per_10k\": float(beds_scaler.transform([[beds_per_10k]])),\n        \"docs_per_10k\": float(docs_scaler.transform([[docs_per_10k]])),\n        \"hypertension\": int(hypertension),\n        \"diabetes\": int(diabetes),\n        \"heart\": int(heart),\n        \"fever\": int(fever),\n        \"cough\": int(cough),\n        \"fatigue\": int(fatigue),\n        \"sore throat\": int(sore_throat),\n        \"age_scaled\": float(age_scaler.transform([[age]])),\n    }\n\n# Function: Output risk\ndef risk_predictor():\n\n    # Get patient info\n    new_case = patient_info()\n\n    # Convert to useable format\n    new_case = pd.DataFrame(new_case, index=[0])\n\n    # Make prediction\n    new_prediction = xgb.predict_proba(new_case)\n\n    # Print result\n    print(\n        \"Once contracted COVID-19, your mortality risk is {}%.\".format(\n            round(new_prediction.tolist()[0][1] * 100, 2)\n        )\n    )"
    },
    "executionTime": "2020-03-29T03:17:53.956Z"
   },
   {
    "cell": {
     "executionCount": 3,
     "executionEventId": "11286e5c-5893-4772-acd5-7ce6c27361df",
     "hasError": true,
     "id": "c5b0864a-d22b-4249-a98d-d0738ab32d8d",
     "outputs": [
      {
       "name": "stdin",
       "output_type": "stream",
       "text": "What's your age? 93\nWhat's your biological sex? (female: 1, male: 0) 1\nWhich country do you live in? United Kingdom\n"
      },
      {
       "name": "stderr",
       "output_type": "stream",
       "text": "/Users/apple/anaconda3/lib/python3.7/site-packages/ipykernel_launcher.py:9: FutureWarning: `item` has been deprecated and will be removed in a future version\n  if __name__ == '__main__':\n/Users/apple/anaconda3/lib/python3.7/site-packages/ipykernel_launcher.py:12: FutureWarning: `item` has been deprecated and will be removed in a future version\n  if sys.path[0] == '':\n"
      },
      {
       "name": "stdin",
       "output_type": "stream",
       "text": "Do you have hypertension? (yes: 1, no: 0) 0\nDo you have diabetes? (yes: 1, no: 0) 0\nDo you have heart diseases? (yes: 1, no: 0) 0\nDo you have fever? (yes: 1, no: 0) 0\nAre you coughing? (yes: 1, no: 0) 0\nDo you feel fatigue? (yes: 1, no: 0) 0\nDo you have a sore throat? (yes: 1 , no:0) 0\n"
      },
      {
       "ename": "NameError",
       "evalue": "name 'pd' is not defined",
       "output_type": "error",
       "traceback": [
        "\u001b[0;31m---------------------------------------------------------------------------\u001b[0m",
        "\u001b[0;31mNameError\u001b[0m                                 Traceback (most recent call last)",
        "\u001b[0;32m<ipython-input-3-d640ce7d4c83>\u001b[0m in \u001b[0;36m<module>\u001b[0;34m\u001b[0m\n\u001b[1;32m      1\u001b[0m \u001b[0;31m# Try it for yourself\u001b[0m\u001b[0;34m\u001b[0m\u001b[0;34m\u001b[0m\u001b[0;34m\u001b[0m\u001b[0m\n\u001b[0;32m----> 2\u001b[0;31m \u001b[0mrisk_predictor\u001b[0m\u001b[0;34m(\u001b[0m\u001b[0;34m)\u001b[0m\u001b[0;34m\u001b[0m\u001b[0;34m\u001b[0m\u001b[0m\n\u001b[0m",
        "\u001b[0;32m<ipython-input-2-2c4d68bc996a>\u001b[0m in \u001b[0;36mrisk_predictor\u001b[0;34m()\u001b[0m\n\u001b[1;32m     46\u001b[0m \u001b[0;34m\u001b[0m\u001b[0m\n\u001b[1;32m     47\u001b[0m     \u001b[0;31m# Convert to useable format\u001b[0m\u001b[0;34m\u001b[0m\u001b[0;34m\u001b[0m\u001b[0;34m\u001b[0m\u001b[0m\n\u001b[0;32m---> 48\u001b[0;31m     \u001b[0mnew_case\u001b[0m \u001b[0;34m=\u001b[0m \u001b[0mpd\u001b[0m\u001b[0;34m.\u001b[0m\u001b[0mDataFrame\u001b[0m\u001b[0;34m(\u001b[0m\u001b[0mnew_case\u001b[0m\u001b[0;34m,\u001b[0m \u001b[0mindex\u001b[0m\u001b[0;34m=\u001b[0m\u001b[0;34m[\u001b[0m\u001b[0;36m0\u001b[0m\u001b[0;34m]\u001b[0m\u001b[0;34m)\u001b[0m\u001b[0;34m\u001b[0m\u001b[0;34m\u001b[0m\u001b[0m\n\u001b[0m\u001b[1;32m     49\u001b[0m \u001b[0;34m\u001b[0m\u001b[0m\n\u001b[1;32m     50\u001b[0m     \u001b[0;31m# Make prediction\u001b[0m\u001b[0;34m\u001b[0m\u001b[0;34m\u001b[0m\u001b[0;34m\u001b[0m\u001b[0m\n",
        "\u001b[0;31mNameError\u001b[0m: name 'pd' is not defined"
       ]
      }
     ],
     "persistentId": "47b05997-756d-4961-b7ef-6cc7e834b5b3",
     "text": "# Try it for yourself\nrisk_predictor()"
    },
    "executionTime": "2020-03-29T03:18:35.611Z"
   },
   {
    "cell": {
     "executionCount": 4,
     "executionEventId": "2a70a64a-6f31-412a-8c94-82aa0b1a316e",
     "hasError": false,
     "id": "153aa247-aa10-4a26-b20a-fa4c7e2abf7f",
     "outputs": [
      {
       "data": {
        "text/plain": "0                Afghanistan\n1                    Albania\n2                    Algeria\n3                     Angola\n4        Antigua and Barbuda\n               ...          \n188    Saint Kitts and Nevis\n189                    Samoa\n190               San Marino\n191                    Tonga\n192                  Vanuatu\nName: country, Length: 193, dtype: object"
       },
       "execution_count": 4,
       "metadata": {},
       "output_type": "execute_result"
      }
     ],
     "persistentId": "947131fa-e732-4f97-bbe5-cb042a40e07f",
     "text": "medical[\"country\"]"
    },
    "executionTime": "2020-03-29T03:18:48.514Z"
   },
   {
    "cell": {
     "executionCount": 5,
     "executionEventId": "a6933870-015c-41de-88c3-c25aacd87e9f",
     "hasError": false,
     "id": "153aa247-aa10-4a26-b20a-fa4c7e2abf7f",
     "outputs": [
      {
       "data": {
        "text/plain": "array(['Afghanistan', 'Albania', 'Algeria', 'Angola',\n       'Antigua and Barbuda', 'Argentina', 'Armenia', 'Australia',\n       'Austria', 'Azerbaijan', 'Bahamas', 'Bahrain', 'Bangladesh',\n       'Barbados', 'Belarus', 'Belgium', 'Belize', 'Benin', 'Bhutan',\n       'Bolivia', 'Bosnia and Herzegovina', 'Botswana', 'Brazil',\n       'Brunei Darussalam', 'Bulgaria', 'Burkina Faso', 'Burundi',\n       'Cabo Verde', 'Cambodia', 'Cameroon', 'Canada',\n       'Central African Republic', 'Chad', 'Chile', 'China', 'Colombia',\n       'Comoros', 'Congo', 'Cook Islands', 'Costa Rica', 'Croatia',\n       'Cuba', 'Cyprus', 'Czechia', \"Côte d'Ivoire\",\n       \"Democratic People's Republic of Korea\",\n       'Democratic Republic of the Congo', 'Denmark', 'Djibouti',\n       'Dominican Republic', 'Ecuador', 'Egypt', 'El Salvador',\n       'Equatorial Guinea', 'Eritrea', 'Estonia', 'Eswatini', 'Ethiopia',\n       'Fiji', 'Finland', 'France', 'Gabon', 'Gambia', 'Georgia',\n       'Germany', 'Ghana', 'Greece', 'Grenada', 'Guatemala', 'Guinea',\n       'Guinea-Bissau', 'Guyana', 'Haiti', 'Honduras', 'Hungary',\n       'Iceland', 'India', 'Indonesia', 'Iran', 'Iraq', 'Ireland',\n       'Israel', 'Italy', 'Jamaica', 'Japan', 'Jordan', 'Kazakhstan',\n       'Kenya', 'Kiribati', 'Kuwait', 'Kyrgyzstan',\n       \"Lao People's Democratic Republic\", 'Latvia', 'Lebanon', 'Lesotho',\n       'Liberia', 'Libya', 'Lithuania', 'Luxembourg', 'Madagascar',\n       'Malawi', 'Malaysia', 'Maldives', 'Mali', 'Malta', 'Mauritania',\n       'Mauritius', 'Mexico', 'Mongolia', 'Montenegro', 'Morocco',\n       'Mozambique', 'Myanmar', 'Namibia', 'Nauru', 'Nepal',\n       'Netherlands', 'New Zealand', 'Nicaragua', 'Niger', 'Nigeria',\n       'Niue', 'Norway', 'Oman', 'Pakistan', 'Panama', 'Paraguay', 'Peru',\n       'Philippines', 'Poland', 'Portugal', 'Qatar', 'Republic of Korea',\n       'Republic of Moldova', 'Republic of North Macedonia', 'Romania',\n       'Russian Federation', 'Rwanda', 'Saint Lucia',\n       'Saint Vincent and the Grenadines', 'Sao Tome and Principe',\n       'Saudi Arabia', 'Senegal', 'Serbia', 'Seychelles', 'Sierra Leone',\n       'Singapore', 'Slovakia', 'Slovenia', 'Solomon Islands', 'Somalia',\n       'South Africa', 'Spain', 'Sri Lanka', 'Sudan', 'Suriname',\n       'Sweden', 'Switzerland', 'Syrian Arab Republic', 'Tajikistan',\n       'Thailand', 'Timor-Leste', 'Togo', 'Trinidad and Tobago',\n       'Tunisia', 'Turkey', 'Turkmenistan', 'Tuvalu', 'Uganda', 'Ukraine',\n       'United Arab Emirates',\n       'United Kingdom of Great Britain and Northern Ireland',\n       'United Republic of Tanzania', 'United States of America',\n       'Uruguay', 'Uzbekistan', 'Venezuela', 'Viet Nam', 'Yemen',\n       'Zambia', 'Zimbabwe', 'Andorra', 'Dominica', 'Marshall Islands',\n       'Micronesia', 'Monaco', 'Palau', 'Papua New Guinea',\n       'Saint Kitts and Nevis', 'Samoa', 'San Marino', 'Tonga', 'Vanuatu'],\n      dtype=object)"
       },
       "execution_count": 5,
       "metadata": {},
       "output_type": "execute_result"
      }
     ],
     "persistentId": "947131fa-e732-4f97-bbe5-cb042a40e07f",
     "text": "medical[\"country\"].unique()"
    },
    "executionTime": "2020-03-29T03:18:53.361Z"
   },
   {
    "cell": {
     "executionCount": 6,
     "executionEventId": "d01e3159-8a02-4b16-82ea-ff13d0d29a29",
     "hasError": false,
     "id": "153aa247-aa10-4a26-b20a-fa4c7e2abf7f",
     "outputs": [
      {
       "data": {
        "text/plain": "0      False\n1      False\n2      False\n3      False\n4      False\n       ...  \n188    False\n189    False\n190    False\n191    False\n192    False\nName: country, Length: 193, dtype: bool"
       },
       "execution_count": 6,
       "metadata": {},
       "output_type": "execute_result"
      }
     ],
     "persistentId": "947131fa-e732-4f97-bbe5-cb042a40e07f",
     "text": "medical[\"country\"].str.contains(\"United Kingdom\")"
    },
    "executionTime": "2020-03-29T03:19:17.476Z"
   },
   {
    "cell": {
     "executionCount": 7,
     "executionEventId": "881de536-7a4f-4aa7-9895-27b3f220852d",
     "hasError": false,
     "id": "153aa247-aa10-4a26-b20a-fa4c7e2abf7f",
     "outputs": [
      {
       "data": {
        "text/plain": "array([False,  True])"
       },
       "execution_count": 7,
       "metadata": {},
       "output_type": "execute_result"
      }
     ],
     "persistentId": "947131fa-e732-4f97-bbe5-cb042a40e07f",
     "text": "medical[\"country\"].str.contains(\"United Kingdom\").unique()"
    },
    "executionTime": "2020-03-29T03:19:27.581Z"
   },
   {
    "cell": {
     "executionCount": 1,
     "executionEventId": "a5afecba-569c-43ff-b898-6c3110e90222",
     "hasError": false,
     "id": "35cf285b-5906-4c78-b698-b7dbd83768d4",
     "outputs": [],
     "persistentId": "e858e76e-09e5-4b24-8721-703f39e9fb7e",
     "text": "# Import libraries\nimport pickle\nimport pandas as pd\n\n# Read data and models from pickles\nwith open(\"covid19_risk_xgboost.pkl\", \"rb\") as file:\n    xgb = pickle.load(file)\n\nwith open(\"age_scaler.pkl\", \"rb\") as file:\n    age_scaler = pickle.load(file)\n\nwith open(\"docs_scaler.pkl\", \"rb\") as file:\n    docs_scaler = pickle.load(file)\n\nwith open(\"beds_scaler.pkl\", \"rb\") as file:\n    beds_scaler = pickle.load(file)\n\nwith open(\"medical.pkl\", \"rb\") as file:\n    medical = pickle.load(file)"
    },
    "executionTime": "2020-03-29T03:22:06.167Z"
   },
   {
    "cell": {
     "executionCount": 2,
     "executionEventId": "6ddf47e0-2135-49a5-820d-d009101a1803",
     "hasError": false,
     "id": "5bc896e1-be4f-40f0-86ad-bc393bfb400d",
     "outputs": [],
     "persistentId": "456dfe32-6fc2-42c6-b60f-29ad83b7be37",
     "text": "# Function: Take patient info\ndef patient_info():\n\n    # Demographic info\n    age = input(\"What's your age?\")\n    sex = input(\"What's your biological sex? (female: 1, male: 0)\")\n    country = input(\"Which country do you live in?\")\n    docs_per_10k = medical.loc[\n        medical[\"country\"].str.contains(country), \"docs_per_10k\"\n    ].item()\n    beds_per_10k = medical.loc[\n        medical[\"country\"].str.contains(country), \"beds_per_10k\"\n    ].item()\n\n    # Pre-conditions\n    hypertension = input(\"Do you have hypertension? (yes: 1, no: 0)\")\n    diabetes = input(\"Do you have diabetes? (yes: 1, no: 0)\")\n    heart = input(\"Do you have heart diseases? (yes: 1, no: 0)\")\n\n    # Symptoms\n    fever = input(\"Do you have fever? (yes: 1, no: 0)\")\n    cough = input(\"Are you coughing? (yes: 1, no: 0)\")\n    fatigue = input(\"Do you feel fatigue? (yes: 1, no: 0)\")\n    sore_throat = input(\"Do you have a sore throat? (yes: 1 , no:0)\")\n\n    # Save results in a list\n    return {\n        \"sex\": int(sex),\n        \"beds_per_10k\": float(beds_scaler.transform([[beds_per_10k]])),\n        \"docs_per_10k\": float(docs_scaler.transform([[docs_per_10k]])),\n        \"hypertension\": int(hypertension),\n        \"diabetes\": int(diabetes),\n        \"heart\": int(heart),\n        \"fever\": int(fever),\n        \"cough\": int(cough),\n        \"fatigue\": int(fatigue),\n        \"sore throat\": int(sore_throat),\n        \"age_scaled\": float(age_scaler.transform([[age]])),\n    }\n\n\n# Function: Output risk\ndef risk_predictor():\n\n    # Get patient info\n    new_case = patient_info()\n\n    # Convert to useable format\n    new_case = pd.DataFrame(new_case, index=[0])\n\n    # Make prediction\n    new_prediction = xgb.predict_proba(new_case)\n\n    # Print result\n    print(\n        \"Once contracted COVID-19, your mortality risk is {}%.\".format(\n            round(new_prediction.tolist()[0][1] * 100, 2)\n        )\n    )"
    },
    "executionTime": "2020-03-29T03:22:06.188Z"
   },
   {
    "cell": {
     "executionCount": 1,
     "executionEventId": "50756895-c135-4d3d-87da-fd0fc7db6fd8",
     "hasError": false,
     "id": "35cf285b-5906-4c78-b698-b7dbd83768d4",
     "outputs": [],
     "persistentId": "e858e76e-09e5-4b24-8721-703f39e9fb7e",
     "text": "# Import libraries\nimport pickle\nimport pandas as pd\nfrom xgboost.sklearn import XGBClassifier\n\n\n# Read data and models from pickles\nwith open(\"covid19_risk_xgboost.pkl\", \"rb\") as file:\n    xgb = pickle.load(file)\n\nwith open(\"age_scaler.pkl\", \"rb\") as file:\n    age_scaler = pickle.load(file)\n\nwith open(\"docs_scaler.pkl\", \"rb\") as file:\n    docs_scaler = pickle.load(file)\n\nwith open(\"beds_scaler.pkl\", \"rb\") as file:\n    beds_scaler = pickle.load(file)\n\nwith open(\"medical.pkl\", \"rb\") as file:\n    medical = pickle.load(file)"
    },
    "executionTime": "2020-03-29T03:23:48.201Z"
   },
   {
    "cell": {
     "executionCount": 2,
     "executionEventId": "98474b8e-224e-4d95-b5cc-53fd58291459",
     "hasError": false,
     "id": "5bc896e1-be4f-40f0-86ad-bc393bfb400d",
     "outputs": [],
     "persistentId": "456dfe32-6fc2-42c6-b60f-29ad83b7be37",
     "text": "# Function: Take patient info\ndef patient_info():\n\n    # Demographic info\n    age = input(\"What's your age?\")\n    sex = input(\"What's your biological sex? (female: 1, male: 0)\")\n    country = input(\"Which country do you live in?\")\n    docs_per_10k = medical.loc[\n        medical[\"country\"].str.contains(country), \"docs_per_10k\"\n    ].item()\n    beds_per_10k = medical.loc[\n        medical[\"country\"].str.contains(country), \"beds_per_10k\"\n    ].item()\n\n    # Pre-conditions\n    hypertension = input(\"Do you have hypertension? (yes: 1, no: 0)\")\n    diabetes = input(\"Do you have diabetes? (yes: 1, no: 0)\")\n    heart = input(\"Do you have heart diseases? (yes: 1, no: 0)\")\n\n    # Symptoms\n    fever = input(\"Do you have fever? (yes: 1, no: 0)\")\n    cough = input(\"Are you coughing? (yes: 1, no: 0)\")\n    fatigue = input(\"Do you feel fatigue? (yes: 1, no: 0)\")\n    sore_throat = input(\"Do you have a sore throat? (yes: 1 , no:0)\")\n\n    # Save results in a list\n    return {\n        \"sex\": int(sex),\n        \"beds_per_10k\": float(beds_scaler.transform([[beds_per_10k]])),\n        \"docs_per_10k\": float(docs_scaler.transform([[docs_per_10k]])),\n        \"hypertension\": int(hypertension),\n        \"diabetes\": int(diabetes),\n        \"heart\": int(heart),\n        \"fever\": int(fever),\n        \"cough\": int(cough),\n        \"fatigue\": int(fatigue),\n        \"sore throat\": int(sore_throat),\n        \"age_scaled\": float(age_scaler.transform([[age]])),\n    }\n\n\n# Function: Output risk\ndef risk_predictor():\n\n    # Get patient info\n    new_case = patient_info()\n\n    # Convert to useable format\n    new_case = pd.DataFrame(new_case, index=[0])\n\n    # Make prediction\n    new_prediction = xgb.predict_proba(new_case)\n\n    # Print result\n    print(\n        \"Once contracted COVID-19, your mortality risk is {}%.\".format(\n            round(new_prediction.tolist()[0][1] * 100, 2)\n        )\n    )"
    },
    "executionTime": "2020-03-29T03:23:48.216Z"
   },
   {
    "cell": {
     "executionCount": 1,
     "executionEventId": "c4bf1ea4-2dc7-4fb7-8810-c96c2c00e65c",
     "hasError": false,
     "id": "35cf285b-5906-4c78-b698-b7dbd83768d4",
     "outputs": [],
     "persistentId": "e858e76e-09e5-4b24-8721-703f39e9fb7e",
     "text": "# Import libraries\nimport pickle\nimport pandas as pd\nfrom xgboost.sklearn import XGBClassifier\n\n\n# Read data and models from pickles\nwith open(\"covid19_risk_xgboost.pkl\", \"rb\") as file:\n    xgb = pickle.load(file)\n\nwith open(\"age_scaler.pkl\", \"rb\") as file:\n    age_scaler = pickle.load(file)\n\nwith open(\"docs_scaler.pkl\", \"rb\") as file:\n    docs_scaler = pickle.load(file)\n\nwith open(\"beds_scaler.pkl\", \"rb\") as file:\n    beds_scaler = pickle.load(file)\n\nwith open(\"medical.pkl\", \"rb\") as file:\n    medical = pickle.load(file)"
    },
    "executionTime": "2020-03-29T03:25:25.324Z"
   },
   {
    "cell": {
     "executionCount": 2,
     "executionEventId": "d84202d5-4139-427e-bbbb-8f5a717ddba0",
     "hasError": false,
     "id": "5bc896e1-be4f-40f0-86ad-bc393bfb400d",
     "outputs": [],
     "persistentId": "456dfe32-6fc2-42c6-b60f-29ad83b7be37",
     "text": "# Function: Take patient info\ndef patient_info():\n\n    # Demographic info\n    age = input(\"What's your age?\")\n    sex = input(\"What's your biological sex? (female: 1, male: 0)\")\n    country = input(\"Which country do you live in?\")\n    docs_per_10k = medical.loc[\n        medical[\"country\"].str.contains(country), \"docs_per_10k\"\n    ].item()\n    beds_per_10k = medical.loc[\n        medical[\"country\"].str.contains(country), \"beds_per_10k\"\n    ].item()\n\n    # Pre-conditions\n    hypertension = input(\"Do you have hypertension? (yes: 1, no: 0)\")\n    diabetes = input(\"Do you have diabetes? (yes: 1, no: 0)\")\n    heart = input(\"Do you have heart diseases? (yes: 1, no: 0)\")\n\n    # Symptoms\n    fever = input(\"Do you have fever? (yes: 1, no: 0)\")\n    cough = input(\"Are you coughing? (yes: 1, no: 0)\")\n    fatigue = input(\"Do you feel fatigue? (yes: 1, no: 0)\")\n    sore_throat = input(\"Do you have a sore throat? (yes: 1 , no:0)\")\n\n    # Save results in a list\n    return {\n        \"sex\": int(sex),\n        \"beds_per_10k\": float(beds_scaler.transform([[beds_per_10k]])),\n        \"docs_per_10k\": float(docs_scaler.transform([[docs_per_10k]])),\n        \"hypertension\": int(hypertension),\n        \"diabetes\": int(diabetes),\n        \"heart\": int(heart),\n        \"fever\": int(fever),\n        \"cough\": int(cough),\n        \"fatigue\": int(fatigue),\n        \"sore throat\": int(sore_throat),\n        \"age_scaled\": float(age_scaler.transform([[age]])),\n    }\n\n\n# Function: Output risk\ndef risk_predictor():\n\n    # Get patient info\n    new_case = patient_info()\n\n    # Convert to useable format\n    new_case = pd.DataFrame(new_case, index=[0])\n\n    # Make prediction\n    new_prediction = xgb.predict_proba(new_case)\n\n    # Print result\n    print(\n        \"Once contracted COVID-19, your mortality risk is {}%.\".format(\n            round(new_prediction.tolist()[0][1] * 100, 2)\n        )\n    )"
    },
    "executionTime": "2020-03-29T03:25:25.351Z"
   },
   {
    "cell": {
     "executionCount": 1,
     "executionEventId": "bff3d37c-8aae-4da1-88bd-c2a37012ff4b",
     "hasError": false,
     "id": "35cf285b-5906-4c78-b698-b7dbd83768d4",
     "outputs": [],
     "persistentId": "e858e76e-09e5-4b24-8721-703f39e9fb7e",
     "text": "# Import libraries\nimport pickle\nimport joblib\nimport pandas as pd\nfrom xgboost.sklearn import XGBClassifier\nfrom sklearn.preprocessing import RobustScaler\n\n# Read data and models from pickles\nwith open(\"covid19_risk_xgboost.pkl\", \"rb\") as file:\n    xgb_opt = pickle.load(file)\n\nwith open(\"age_scaler.pkl\", \"rb\") as file:\n    age_scaler = pickle.load(file)\n\nwith open(\"docs_scaler.pkl\", \"rb\") as file:\n    docs_scaler = pickle.load(file)\n\nwith open(\"beds_scaler.pkl\", \"rb\") as file:\n    beds_scaler = pickle.load(file)\n\nwith open(\"medical.pkl\", \"rb\") as file:\n    medical = pickle.load(file)"
    },
    "executionTime": "2020-03-29T03:27:08.772Z"
   },
   {
    "cell": {
     "executionCount": 2,
     "executionEventId": "17b05d82-eac3-4e82-a051-d0487d4402b3",
     "hasError": false,
     "id": "5bc896e1-be4f-40f0-86ad-bc393bfb400d",
     "outputs": [],
     "persistentId": "456dfe32-6fc2-42c6-b60f-29ad83b7be37",
     "text": "# Function: Take patient info\ndef patient_info():\n\n    # Demographic info\n    age = input(\"What's your age?\")\n    sex = input(\"What's your biological sex? (female: 1, male: 0)\")\n    country = input(\"Which country do you live in?\")\n    docs_per_10k = medical.loc[\n        medical[\"country\"].str.contains(country), \"docs_per_10k\"\n    ].item()\n    beds_per_10k = medical.loc[\n        medical[\"country\"].str.contains(country), \"beds_per_10k\"\n    ].item()\n\n    # Pre-conditions\n    hypertension = input(\"Do you have hypertension? (yes: 1, no: 0)\")\n    diabetes = input(\"Do you have diabetes? (yes: 1, no: 0)\")\n    heart = input(\"Do you have heart diseases? (yes: 1, no: 0)\")\n\n    # Symptoms\n    fever = input(\"Do you have fever? (yes: 1, no: 0)\")\n    cough = input(\"Are you coughing? (yes: 1, no: 0)\")\n    fatigue = input(\"Do you feel fatigue? (yes: 1, no: 0)\")\n    sore_throat = input(\"Do you have a sore throat? (yes: 1 , no:0)\")\n\n    # Save results in a list\n    return {\n        \"sex\": int(sex),\n        \"beds_per_10k\": float(beds_scaler.transform([[beds_per_10k]])),\n        \"docs_per_10k\": float(docs_scaler.transform([[docs_per_10k]])),\n        \"hypertension\": int(hypertension),\n        \"diabetes\": int(diabetes),\n        \"heart\": int(heart),\n        \"fever\": int(fever),\n        \"cough\": int(cough),\n        \"fatigue\": int(fatigue),\n        \"sore throat\": int(sore_throat),\n        \"age_scaled\": float(age_scaler.transform([[age]])),\n    }\n\n\n# Function: Output risk\ndef risk_predictor():\n\n    # Get patient info\n    new_case = patient_info()\n\n    # Convert to useable format\n    new_case = pd.DataFrame(new_case, index=[0])\n\n    # Make prediction\n    new_prediction = xgb_opt.predict_proba(new_case)\n\n    # Print result\n    print(\n        \"Once contracted COVID-19, your mortality risk is {}%.\".format(\n            round(new_prediction.tolist()[0][1] * 100, 2)\n        )\n    )"
    },
    "executionTime": "2020-03-29T03:27:08.795Z"
   },
   {
    "cell": {
     "executionCount": 3,
     "executionEventId": "e5ee6c9f-47bb-40c4-a620-04f6b7271d3f",
     "hasError": true,
     "id": "ccf6b0ad-e518-4d85-aeba-da08fc78f0fe",
     "outputs": [
      {
       "name": "stdin",
       "output_type": "stream",
       "text": "What's your age? 25\nWhat's your biological sex? (female: 1, male: 0) 1\nWhich country do you live in? China\n"
      },
      {
       "name": "stderr",
       "output_type": "stream",
       "text": "/Users/apple/anaconda3/lib/python3.7/site-packages/ipykernel_launcher.py:9: FutureWarning: `item` has been deprecated and will be removed in a future version\n  if __name__ == '__main__':\n/Users/apple/anaconda3/lib/python3.7/site-packages/ipykernel_launcher.py:12: FutureWarning: `item` has been deprecated and will be removed in a future version\n  if sys.path[0] == '':\n"
      },
      {
       "name": "stdin",
       "output_type": "stream",
       "text": "Do you have hypertension? (yes: 1, no: 0) 1\nDo you have diabetes? (yes: 1, no: 0) 1\nDo you have heart diseases? (yes: 1, no: 0) 1\nDo you have fever? (yes: 1, no: 0) \nAre you coughing? (yes: 1, no: 0) 1\nDo you feel fatigue? (yes: 1, no: 0) 1\nDo you have a sore throat? (yes: 1 , no:0) 1\n"
      },
      {
       "ename": "ValueError",
       "evalue": "invalid literal for int() with base 10: ''",
       "output_type": "error",
       "traceback": [
        "\u001b[0;31m---------------------------------------------------------------------------\u001b[0m",
        "\u001b[0;31mValueError\u001b[0m                                Traceback (most recent call last)",
        "\u001b[0;32m<ipython-input-3-7bde2b7685f5>\u001b[0m in \u001b[0;36m<module>\u001b[0;34m\u001b[0m\n\u001b[1;32m      1\u001b[0m \u001b[0;31m# Try it for yourself\u001b[0m\u001b[0;34m\u001b[0m\u001b[0;34m\u001b[0m\u001b[0;34m\u001b[0m\u001b[0m\n\u001b[0;32m----> 2\u001b[0;31m \u001b[0mrisk_predictor\u001b[0m\u001b[0;34m(\u001b[0m\u001b[0;34m)\u001b[0m\u001b[0;34m\u001b[0m\u001b[0;34m\u001b[0m\u001b[0m\n\u001b[0m",
        "\u001b[0;32m<ipython-input-2-217417c3f706>\u001b[0m in \u001b[0;36mrisk_predictor\u001b[0;34m()\u001b[0m\n\u001b[1;32m     44\u001b[0m \u001b[0;34m\u001b[0m\u001b[0m\n\u001b[1;32m     45\u001b[0m     \u001b[0;31m# Get patient info\u001b[0m\u001b[0;34m\u001b[0m\u001b[0;34m\u001b[0m\u001b[0;34m\u001b[0m\u001b[0m\n\u001b[0;32m---> 46\u001b[0;31m     \u001b[0mnew_case\u001b[0m \u001b[0;34m=\u001b[0m \u001b[0mpatient_info\u001b[0m\u001b[0;34m(\u001b[0m\u001b[0;34m)\u001b[0m\u001b[0;34m\u001b[0m\u001b[0;34m\u001b[0m\u001b[0m\n\u001b[0m\u001b[1;32m     47\u001b[0m \u001b[0;34m\u001b[0m\u001b[0m\n\u001b[1;32m     48\u001b[0m     \u001b[0;31m# Convert to useable format\u001b[0m\u001b[0;34m\u001b[0m\u001b[0;34m\u001b[0m\u001b[0;34m\u001b[0m\u001b[0m\n",
        "\u001b[0;32m<ipython-input-2-217417c3f706>\u001b[0m in \u001b[0;36mpatient_info\u001b[0;34m()\u001b[0m\n\u001b[1;32m     32\u001b[0m         \u001b[0;34m\"diabetes\"\u001b[0m\u001b[0;34m:\u001b[0m \u001b[0mint\u001b[0m\u001b[0;34m(\u001b[0m\u001b[0mdiabetes\u001b[0m\u001b[0;34m)\u001b[0m\u001b[0;34m,\u001b[0m\u001b[0;34m\u001b[0m\u001b[0;34m\u001b[0m\u001b[0m\n\u001b[1;32m     33\u001b[0m         \u001b[0;34m\"heart\"\u001b[0m\u001b[0;34m:\u001b[0m \u001b[0mint\u001b[0m\u001b[0;34m(\u001b[0m\u001b[0mheart\u001b[0m\u001b[0;34m)\u001b[0m\u001b[0;34m,\u001b[0m\u001b[0;34m\u001b[0m\u001b[0;34m\u001b[0m\u001b[0m\n\u001b[0;32m---> 34\u001b[0;31m         \u001b[0;34m\"fever\"\u001b[0m\u001b[0;34m:\u001b[0m \u001b[0mint\u001b[0m\u001b[0;34m(\u001b[0m\u001b[0mfever\u001b[0m\u001b[0;34m)\u001b[0m\u001b[0;34m,\u001b[0m\u001b[0;34m\u001b[0m\u001b[0;34m\u001b[0m\u001b[0m\n\u001b[0m\u001b[1;32m     35\u001b[0m         \u001b[0;34m\"cough\"\u001b[0m\u001b[0;34m:\u001b[0m \u001b[0mint\u001b[0m\u001b[0;34m(\u001b[0m\u001b[0mcough\u001b[0m\u001b[0;34m)\u001b[0m\u001b[0;34m,\u001b[0m\u001b[0;34m\u001b[0m\u001b[0;34m\u001b[0m\u001b[0m\n\u001b[1;32m     36\u001b[0m         \u001b[0;34m\"fatigue\"\u001b[0m\u001b[0;34m:\u001b[0m \u001b[0mint\u001b[0m\u001b[0;34m(\u001b[0m\u001b[0mfatigue\u001b[0m\u001b[0;34m)\u001b[0m\u001b[0;34m,\u001b[0m\u001b[0;34m\u001b[0m\u001b[0;34m\u001b[0m\u001b[0m\n",
        "\u001b[0;31mValueError\u001b[0m: invalid literal for int() with base 10: ''"
       ]
      }
     ],
     "persistentId": "01ccd8ad-3ba5-415e-a100-a0e3639e8605",
     "text": "# Try it for yourself\nrisk_predictor()"
    },
    "executionTime": "2020-03-29T03:28:54.563Z"
   },
   {
    "cell": {
     "executionCount": 4,
     "executionEventId": "51f57dce-ffd4-4e52-b511-adf1d4adf079",
     "hasError": false,
     "id": "eb0a2e20-9af9-4853-b0ce-84ba210e88c9",
     "outputs": [],
     "persistentId": "e402b9b8-a4dd-4aeb-bd89-43f8c3937805",
     "text": "# Import libraries\n%matplotlib inline\nimport matplotlib.pyplot as plt\nimport seaborn as sns\n\nimport numpy as np\nimport pandas as pd\nimport geopandas as gpd\nimport folium\n\nimport missingno as msno\nfrom statistics import median\nimport re\n\nfrom sklearn.preprocessing import RobustScaler\nfrom sklearn.model_selection import train_test_split, GridSearchCV, cross_val_score\nfrom sklearn.metrics import classification_report, roc_auc_score, plot_confusion_matrix\nimport xgboost as xgb\nfrom xgboost.sklearn import XGBClassifier\nimport shap\nimport pickle\nimport joblib\n\nimport warnings\n\nwarnings.simplefilter(\"ignore\")"
    },
    "executionTime": "2020-03-29T03:36:38.037Z"
   },
   {
    "cell": {
     "executionCount": 5,
     "executionEventId": "a72b83c6-ec71-4a27-a81a-0e39fc7a1fde",
     "hasError": false,
     "id": "fabb92fd-d24a-415b-82a1-f3c46450a4de",
     "outputs": [],
     "persistentId": "e858e76e-09e5-4b24-8721-703f39e9fb7e",
     "text": "# Read data and models from pickles\nwith open(\"covid19_risk_xgboost.pkl\", \"rb\") as file:\n    xgb_step5 = pickle.load(file)\n\nwith open(\"age_scaler.pkl\", \"rb\") as file:\n    age_scaler = pickle.load(file)\n\nwith open(\"docs_scaler.pkl\", \"rb\") as file:\n    docs_scaler = pickle.load(file)\n\nwith open(\"beds_scaler.pkl\", \"rb\") as file:\n    beds_scaler = pickle.load(file)\n\nwith open(\"medical.pkl\", \"rb\") as file:\n    medical = pickle.load(file)"
    },
    "executionTime": "2020-03-29T03:36:40.444Z"
   },
   {
    "cell": {
     "executionCount": 6,
     "executionEventId": "3b144692-f4fb-48cd-9df9-a37a8ccd0c71",
     "hasError": false,
     "id": "2f4a8f82-5d59-4358-a60d-8bf9ae45bf12",
     "outputs": [],
     "persistentId": "456dfe32-6fc2-42c6-b60f-29ad83b7be37",
     "text": "# Function: Take patient info\ndef patient_info():\n\n    # Demographic info\n    age = input(\"What's your age?\")\n    sex = input(\"What's your biological sex? (female: 1, male: 0)\")\n    country = input(\"Which country do you live in?\")\n    docs_per_10k = medical.loc[\n        medical[\"country\"].str.contains(country), \"docs_per_10k\"\n    ].item()\n    beds_per_10k = medical.loc[\n        medical[\"country\"].str.contains(country), \"beds_per_10k\"\n    ].item()\n\n    # Pre-conditions\n    hypertension = input(\"Do you have hypertension? (yes: 1, no: 0)\")\n    diabetes = input(\"Do you have diabetes? (yes: 1, no: 0)\")\n    heart = input(\"Do you have heart diseases? (yes: 1, no: 0)\")\n\n    # Symptoms\n    fever = input(\"Do you have fever? (yes: 1, no: 0)\")\n    cough = input(\"Are you coughing? (yes: 1, no: 0)\")\n    fatigue = input(\"Do you feel fatigue? (yes: 1, no: 0)\")\n    sore_throat = input(\"Do you have a sore throat? (yes: 1 , no:0)\")\n\n    # Save results in a list\n    return {\n        \"sex\": int(sex),\n        \"beds_per_10k\": float(beds_scaler.transform([[beds_per_10k]])),\n        \"docs_per_10k\": float(docs_scaler.transform([[docs_per_10k]])),\n        \"hypertension\": int(hypertension),\n        \"diabetes\": int(diabetes),\n        \"heart\": int(heart),\n        \"fever\": int(fever),\n        \"cough\": int(cough),\n        \"fatigue\": int(fatigue),\n        \"sore throat\": int(sore_throat),\n        \"age_scaled\": float(age_scaler.transform([[age]])),\n    }\n\n\n# Function: Output risk\ndef risk_predictor():\n\n    # Get patient info\n    new_case = patient_info()\n\n    # Convert to useable format\n    new_case = pd.DataFrame(new_case, index=[0])\n\n    # Make prediction\n    new_prediction = xgb_step5.predict_proba(new_case)\n\n    # Print result\n    print(\n        \"Once contracted COVID-19, your mortality risk is {}%.\".format(\n            round(new_prediction.tolist()[0][1] * 100, 2)\n        )\n    )"
    },
    "executionTime": "2020-03-29T03:36:41.760Z"
   },
   {
    "cell": {
     "executionCount": 7,
     "executionEventId": "f1155310-feb3-4c24-b8f1-fe341570bd98",
     "hasError": false,
     "id": "6954ee17-dd9b-4775-9d3f-8afa7467fb0b",
     "outputs": [
      {
       "name": "stdin",
       "output_type": "stream",
       "text": "What's your age? 25\nWhat's your biological sex? (female: 1, male: 0) 1\nWhich country do you live in? United States\nDo you have hypertension? (yes: 1, no: 0) 1\nDo you have diabetes? (yes: 1, no: 0) 1\nDo you have heart diseases? (yes: 1, no: 0) 1\nDo you have fever? (yes: 1, no: 0) 1\nAre you coughing? (yes: 1, no: 0) 1\nDo you feel fatigue? (yes: 1, no: 0) 1\nDo you have a sore throat? (yes: 1 , no:0) 1\n"
      },
      {
       "name": "stdout",
       "output_type": "stream",
       "text": "Once contracted COVID-19, your mortality risk is 2.42%.\n"
      }
     ],
     "persistentId": "01ccd8ad-3ba5-415e-a100-a0e3639e8605",
     "text": "# Try it for yourself\nrisk_predictor()"
    },
    "executionTime": "2020-03-29T03:36:55.422Z"
   },
   {
    "cell": {
     "executionCount": 1,
     "executionEventId": "7e002ba3-5525-435a-8986-fd8b3bc178aa",
     "hasError": false,
     "id": "eb0a2e20-9af9-4853-b0ce-84ba210e88c9",
     "outputs": [],
     "persistentId": "e402b9b8-a4dd-4aeb-bd89-43f8c3937805",
     "text": "# Import libraries\nimport numpy as np\nimport pandas as pd\nfrom sklearn.preprocessing import RobustScaler\nimport xgboost as xgb\nfrom xgboost.sklearn import XGBClassifier\nimport pickle\nimport joblib\n\nimport warnings\n\nwarnings.simplefilter(\"ignore\")"
    },
    "executionTime": "2020-03-29T03:38:20.765Z"
   },
   {
    "cell": {
     "executionCount": 2,
     "executionEventId": "68510208-f347-4f6e-827b-1160f9b67495",
     "hasError": false,
     "id": "fabb92fd-d24a-415b-82a1-f3c46450a4de",
     "outputs": [],
     "persistentId": "e858e76e-09e5-4b24-8721-703f39e9fb7e",
     "text": "# Read data and models from pickles\nwith open(\"covid19_risk_xgboost.pkl\", \"rb\") as file:\n    xgb_step5 = pickle.load(file)\n\nwith open(\"age_scaler.pkl\", \"rb\") as file:\n    age_scaler = pickle.load(file)\n\nwith open(\"docs_scaler.pkl\", \"rb\") as file:\n    docs_scaler = pickle.load(file)\n\nwith open(\"beds_scaler.pkl\", \"rb\") as file:\n    beds_scaler = pickle.load(file)\n\nwith open(\"medical.pkl\", \"rb\") as file:\n    medical = pickle.load(file)"
    },
    "executionTime": "2020-03-29T03:38:22.702Z"
   },
   {
    "cell": {
     "executionCount": 3,
     "executionEventId": "bb97acb4-a580-40c0-b24c-e044cf04a790",
     "hasError": false,
     "id": "2f4a8f82-5d59-4358-a60d-8bf9ae45bf12",
     "outputs": [],
     "persistentId": "456dfe32-6fc2-42c6-b60f-29ad83b7be37",
     "text": "# Function: Take patient info\ndef patient_info():\n\n    # Demographic info\n    age = input(\"What's your age?\")\n    sex = input(\"What's your biological sex? (female: 1, male: 0)\")\n    country = input(\"Which country do you live in?\")\n    docs_per_10k = medical.loc[\n        medical[\"country\"].str.contains(country), \"docs_per_10k\"\n    ].item()\n    beds_per_10k = medical.loc[\n        medical[\"country\"].str.contains(country), \"beds_per_10k\"\n    ].item()\n\n    # Pre-conditions\n    hypertension = input(\"Do you have hypertension? (yes: 1, no: 0)\")\n    diabetes = input(\"Do you have diabetes? (yes: 1, no: 0)\")\n    heart = input(\"Do you have heart diseases? (yes: 1, no: 0)\")\n\n    # Symptoms\n    fever = input(\"Do you have fever? (yes: 1, no: 0)\")\n    cough = input(\"Are you coughing? (yes: 1, no: 0)\")\n    fatigue = input(\"Do you feel fatigue? (yes: 1, no: 0)\")\n    sore_throat = input(\"Do you have a sore throat? (yes: 1 , no:0)\")\n\n    # Save results in a list\n    return {\n        \"sex\": int(sex),\n        \"beds_per_10k\": float(beds_scaler.transform([[beds_per_10k]])),\n        \"docs_per_10k\": float(docs_scaler.transform([[docs_per_10k]])),\n        \"hypertension\": int(hypertension),\n        \"diabetes\": int(diabetes),\n        \"heart\": int(heart),\n        \"fever\": int(fever),\n        \"cough\": int(cough),\n        \"fatigue\": int(fatigue),\n        \"sore throat\": int(sore_throat),\n        \"age_scaled\": float(age_scaler.transform([[age]])),\n    }\n\n\n# Function: Output risk\ndef risk_predictor():\n\n    # Get patient info\n    new_case = patient_info()\n\n    # Convert to useable format\n    new_case = pd.DataFrame(new_case, index=[0])\n\n    # Make prediction\n    new_prediction = xgb_step5.predict_proba(new_case)\n\n    # Print result\n    print(\n        \"Once contracted COVID-19, your mortality risk is {}%.\".format(\n            round(new_prediction.tolist()[0][1] * 100, 2)\n        )\n    )"
    },
    "executionTime": "2020-03-29T03:38:25.363Z"
   },
   {
    "cell": {
     "executionCount": 4,
     "executionEventId": "1b4fbc60-c783-4f31-aa14-5d83d59166e2",
     "hasError": false,
     "id": "6954ee17-dd9b-4775-9d3f-8afa7467fb0b",
     "outputs": [
      {
       "name": "stdin",
       "output_type": "stream",
       "text": "What's your age? 25\nWhat's your biological sex? (female: 1, male: 0) 1\nWhich country do you live in? United States\nDo you have hypertension? (yes: 1, no: 0) 0\nDo you have diabetes? (yes: 1, no: 0) 0\nDo you have heart diseases? (yes: 1, no: 0) 0\nDo you have fever? (yes: 1, no: 0) 0\nAre you coughing? (yes: 1, no: 0) 0\nDo you feel fatigue? (yes: 1, no: 0) 0\nDo you have a sore throat? (yes: 1 , no:0) 0\n"
      },
      {
       "name": "stdout",
       "output_type": "stream",
       "text": "Once contracted COVID-19, your mortality risk is 0.6%.\n"
      }
     ],
     "persistentId": "01ccd8ad-3ba5-415e-a100-a0e3639e8605",
     "text": "# Try it for yourself\nrisk_predictor()"
    },
    "executionTime": "2020-03-29T03:38:38.571Z"
   },
   {
    "cell": {
     "executionCount": 5,
     "executionEventId": "829b1704-570d-46ad-9287-153465b8301e",
     "hasError": false,
     "id": "6954ee17-dd9b-4775-9d3f-8afa7467fb0b",
     "outputs": [
      {
       "name": "stdin",
       "output_type": "stream",
       "text": "What's your age? 93\nWhat's your biological sex? (female: 1, male: 0) 1\nWhich country do you live in? United Kingdom\nDo you have hypertension? (yes: 1, no: 0) 0\nDo you have diabetes? (yes: 1, no: 0) 0\nDo you have heart diseases? (yes: 1, no: 0) 0\nDo you have fever? (yes: 1, no: 0) 0\nAre you coughing? (yes: 1, no: 0) 0\nDo you feel fatigue? (yes: 1, no: 0) 0\nDo you have a sore throat? (yes: 1 , no:0) 0\n"
      },
      {
       "name": "stdout",
       "output_type": "stream",
       "text": "Once contracted COVID-19, your mortality risk is 61.46%.\n"
      }
     ],
     "persistentId": "01ccd8ad-3ba5-415e-a100-a0e3639e8605",
     "text": "# Try it for yourself\nrisk_predictor()"
    },
    "executionTime": "2020-03-29T03:38:56.423Z"
   },
   {
    "cell": {
     "executionCount": 1,
     "executionEventId": "bc945cf7-9ddc-4326-9aa6-44741a754dc4",
     "hasError": true,
     "id": "f4b35e18-8614-4329-bb9e-8ce1a482850d",
     "outputs": [
      {
       "ename": "NameError",
       "evalue": "name 'risk_predictor' is not defined",
       "output_type": "error",
       "traceback": [
        "\u001b[0;31m---------------------------------------------------------------------------\u001b[0m",
        "\u001b[0;31mNameError\u001b[0m                                 Traceback (most recent call last)",
        "\u001b[0;32m<ipython-input-1-4bd1f3c2539c>\u001b[0m in \u001b[0;36m<module>\u001b[0;34m\u001b[0m\n\u001b[0;32m----> 1\u001b[0;31m \u001b[0mrisk_predictor\u001b[0m\u001b[0;34m(\u001b[0m\u001b[0;34m)\u001b[0m\u001b[0;34m\u001b[0m\u001b[0;34m\u001b[0m\u001b[0m\n\u001b[0m",
        "\u001b[0;31mNameError\u001b[0m: name 'risk_predictor' is not defined"
       ]
      }
     ],
     "persistentId": "01ccd8ad-3ba5-415e-a100-a0e3639e8605",
     "text": "risk_predictor()"
    },
    "executionTime": "2020-03-29T05:37:52.027Z"
   },
   {
    "cell": {
     "executionCount": 1,
     "executionEventId": "25cc3131-9831-4381-8cc9-137f1e493824",
     "hasError": false,
     "id": "9100339f-fb35-4889-847c-53a558b9da7d",
     "outputs": [],
     "persistentId": "e402b9b8-a4dd-4aeb-bd89-43f8c3937805",
     "text": "# Import libraries\nimport numpy as np\nimport pandas as pd\nfrom sklearn.preprocessing import RobustScaler\nimport xgboost as xgb\nfrom xgboost.sklearn import XGBClassifier\nimport pickle\nimport joblib\n\nimport warnings\n\nwarnings.simplefilter(\"ignore\")"
    },
    "executionTime": "2020-03-29T05:38:01.856Z"
   },
   {
    "cell": {
     "executionCount": 2,
     "executionEventId": "8bbef844-cc01-4d4e-a994-0fdaf1d5c726",
     "hasError": false,
     "id": "8cb2803a-2ea1-4442-b9b9-bf72c2eec706",
     "outputs": [],
     "persistentId": "e858e76e-09e5-4b24-8721-703f39e9fb7e",
     "text": "# Read data and models from pickles\nwith open(\"covid19_risk_xgboost.pkl\", \"rb\") as file:\n    xgb_step5 = pickle.load(file)\n\nwith open(\"age_scaler.pkl\", \"rb\") as file:\n    age_scaler = pickle.load(file)\n\nwith open(\"docs_scaler.pkl\", \"rb\") as file:\n    docs_scaler = pickle.load(file)\n\nwith open(\"beds_scaler.pkl\", \"rb\") as file:\n    beds_scaler = pickle.load(file)\n\nwith open(\"medical.pkl\", \"rb\") as file:\n    medical = pickle.load(file)"
    },
    "executionTime": "2020-03-29T05:38:01.869Z"
   },
   {
    "cell": {
     "executionCount": 3,
     "executionEventId": "e9e4af09-4f85-45f8-93c8-1d0b2dc2704d",
     "hasError": false,
     "id": "b22a4de6-70c1-4470-b0d0-b1785fe4c8a8",
     "outputs": [],
     "persistentId": "456dfe32-6fc2-42c6-b60f-29ad83b7be37",
     "text": "# Function: Take patient info\ndef patient_info():\n\n    # Demographic info\n    age = input(\"What's your age?\")\n    sex = input(\"What's your biological sex? (female: 1, male: 0)\")\n    country = input(\"Which country do you live in?\")\n    docs_per_10k = medical.loc[\n        medical[\"country\"].str.contains(country), \"docs_per_10k\"\n    ].item()\n    beds_per_10k = medical.loc[\n        medical[\"country\"].str.contains(country), \"beds_per_10k\"\n    ].item()\n\n    # Pre-conditions\n    hypertension = input(\"Do you have hypertension? (yes: 1, no: 0)\")\n    diabetes = input(\"Do you have diabetes? (yes: 1, no: 0)\")\n    heart = input(\"Do you have heart diseases? (yes: 1, no: 0)\")\n\n    # Symptoms\n    fever = input(\"Do you have fever? (yes: 1, no: 0)\")\n    cough = input(\"Are you coughing? (yes: 1, no: 0)\")\n    fatigue = input(\"Do you feel fatigue? (yes: 1, no: 0)\")\n    sore_throat = input(\"Do you have a sore throat? (yes: 1 , no:0)\")\n\n    # Save results in a list\n    return {\n        \"sex\": int(sex),\n        \"beds_per_10k\": float(beds_scaler.transform([[beds_per_10k]])),\n        \"docs_per_10k\": float(docs_scaler.transform([[docs_per_10k]])),\n        \"hypertension\": int(hypertension),\n        \"diabetes\": int(diabetes),\n        \"heart\": int(heart),\n        \"fever\": int(fever),\n        \"cough\": int(cough),\n        \"fatigue\": int(fatigue),\n        \"sore throat\": int(sore_throat),\n        \"age_scaled\": float(age_scaler.transform([[age]])),\n    }\n\n\n# Function: Output risk\ndef risk_predictor():\n\n    # Get patient info\n    new_case = patient_info()\n\n    # Convert to useable format\n    new_case = pd.DataFrame(new_case, index=[0])\n\n    # Make prediction\n    new_prediction = xgb_step5.predict_proba(new_case)\n\n    # Print result\n    print(\n        \"Once contracted COVID-19, your mortality risk is {}%.\".format(\n            round(new_prediction.tolist()[0][1] * 100, 2)\n        )\n    )"
    },
    "executionTime": "2020-03-29T05:38:01.883Z"
   },
   {
    "cell": {
     "executionCount": 4,
     "executionEventId": "926758aa-2b4a-4853-8e37-3e83a366ab43",
     "hasError": true,
     "id": "f4b35e18-8614-4329-bb9e-8ce1a482850d",
     "outputs": [
      {
       "name": "stdin",
       "output_type": "stream",
       "text": "What's your age? 25\nWhat's your biological sex? (female: 1, male: 0) 1\nWhich country do you live in? Japan\nDo you have hypertension? (yes: 1, no: 0) 0\nDo you have diabetes? (yes: 1, no: 0) 0\nDo you have heart diseases? (yes: 1, no: 0) 0\nDo you have fever? (yes: 1, no: 0) -\nAre you coughing? (yes: 1, no: 0) 0\nDo you feel fatigue? (yes: 1, no: 0) 0\nDo you have a sore throat? (yes: 1 , no:0) 0\n"
      },
      {
       "ename": "ValueError",
       "evalue": "invalid literal for int() with base 10: '-'",
       "output_type": "error",
       "traceback": [
        "\u001b[0;31m---------------------------------------------------------------------------\u001b[0m",
        "\u001b[0;31mValueError\u001b[0m                                Traceback (most recent call last)",
        "\u001b[0;32m<ipython-input-4-4bd1f3c2539c>\u001b[0m in \u001b[0;36m<module>\u001b[0;34m\u001b[0m\n\u001b[0;32m----> 1\u001b[0;31m \u001b[0mrisk_predictor\u001b[0m\u001b[0;34m(\u001b[0m\u001b[0;34m)\u001b[0m\u001b[0;34m\u001b[0m\u001b[0;34m\u001b[0m\u001b[0m\n\u001b[0m",
        "\u001b[0;32m<ipython-input-3-7c5238f32fdb>\u001b[0m in \u001b[0;36mrisk_predictor\u001b[0;34m()\u001b[0m\n\u001b[1;32m     44\u001b[0m \u001b[0;34m\u001b[0m\u001b[0m\n\u001b[1;32m     45\u001b[0m     \u001b[0;31m# Get patient info\u001b[0m\u001b[0;34m\u001b[0m\u001b[0;34m\u001b[0m\u001b[0;34m\u001b[0m\u001b[0m\n\u001b[0;32m---> 46\u001b[0;31m     \u001b[0mnew_case\u001b[0m \u001b[0;34m=\u001b[0m \u001b[0mpatient_info\u001b[0m\u001b[0;34m(\u001b[0m\u001b[0;34m)\u001b[0m\u001b[0;34m\u001b[0m\u001b[0;34m\u001b[0m\u001b[0m\n\u001b[0m\u001b[1;32m     47\u001b[0m \u001b[0;34m\u001b[0m\u001b[0m\n\u001b[1;32m     48\u001b[0m     \u001b[0;31m# Convert to useable format\u001b[0m\u001b[0;34m\u001b[0m\u001b[0;34m\u001b[0m\u001b[0;34m\u001b[0m\u001b[0m\n",
        "\u001b[0;32m<ipython-input-3-7c5238f32fdb>\u001b[0m in \u001b[0;36mpatient_info\u001b[0;34m()\u001b[0m\n\u001b[1;32m     32\u001b[0m         \u001b[0;34m\"diabetes\"\u001b[0m\u001b[0;34m:\u001b[0m \u001b[0mint\u001b[0m\u001b[0;34m(\u001b[0m\u001b[0mdiabetes\u001b[0m\u001b[0;34m)\u001b[0m\u001b[0;34m,\u001b[0m\u001b[0;34m\u001b[0m\u001b[0;34m\u001b[0m\u001b[0m\n\u001b[1;32m     33\u001b[0m         \u001b[0;34m\"heart\"\u001b[0m\u001b[0;34m:\u001b[0m \u001b[0mint\u001b[0m\u001b[0;34m(\u001b[0m\u001b[0mheart\u001b[0m\u001b[0;34m)\u001b[0m\u001b[0;34m,\u001b[0m\u001b[0;34m\u001b[0m\u001b[0;34m\u001b[0m\u001b[0m\n\u001b[0;32m---> 34\u001b[0;31m         \u001b[0;34m\"fever\"\u001b[0m\u001b[0;34m:\u001b[0m \u001b[0mint\u001b[0m\u001b[0;34m(\u001b[0m\u001b[0mfever\u001b[0m\u001b[0;34m)\u001b[0m\u001b[0;34m,\u001b[0m\u001b[0;34m\u001b[0m\u001b[0;34m\u001b[0m\u001b[0m\n\u001b[0m\u001b[1;32m     35\u001b[0m         \u001b[0;34m\"cough\"\u001b[0m\u001b[0;34m:\u001b[0m \u001b[0mint\u001b[0m\u001b[0;34m(\u001b[0m\u001b[0mcough\u001b[0m\u001b[0;34m)\u001b[0m\u001b[0;34m,\u001b[0m\u001b[0;34m\u001b[0m\u001b[0;34m\u001b[0m\u001b[0m\n\u001b[1;32m     36\u001b[0m         \u001b[0;34m\"fatigue\"\u001b[0m\u001b[0;34m:\u001b[0m \u001b[0mint\u001b[0m\u001b[0;34m(\u001b[0m\u001b[0mfatigue\u001b[0m\u001b[0;34m)\u001b[0m\u001b[0;34m,\u001b[0m\u001b[0;34m\u001b[0m\u001b[0;34m\u001b[0m\u001b[0m\n",
        "\u001b[0;31mValueError\u001b[0m: invalid literal for int() with base 10: '-'"
       ]
      }
     ],
     "persistentId": "01ccd8ad-3ba5-415e-a100-a0e3639e8605",
     "text": "risk_predictor()"
    },
    "executionTime": "2020-03-29T05:38:20.008Z"
   },
   {
    "cell": {
     "executionCount": 5,
     "executionEventId": "7e66d975-91a6-43e4-be5f-5f548263c664",
     "hasError": false,
     "id": "f4b35e18-8614-4329-bb9e-8ce1a482850d",
     "outputs": [
      {
       "name": "stdin",
       "output_type": "stream",
       "text": "What's your age? 25\nWhat's your biological sex? (female: 1, male: 0) 1\nWhich country do you live in? Japan\nDo you have hypertension? (yes: 1, no: 0) 0\nDo you have diabetes? (yes: 1, no: 0) 0\nDo you have heart diseases? (yes: 1, no: 0) 0\nDo you have fever? (yes: 1, no: 0) 0\nAre you coughing? (yes: 1, no: 0) 0\nDo you feel fatigue? (yes: 1, no: 0) 0\nDo you have a sore throat? (yes: 1 , no:0) 0\n"
      },
      {
       "name": "stdout",
       "output_type": "stream",
       "text": "Once contracted COVID-19, your mortality risk is 0.48%.\n"
      }
     ],
     "persistentId": "01ccd8ad-3ba5-415e-a100-a0e3639e8605",
     "text": "risk_predictor()"
    },
    "executionTime": "2020-03-29T05:38:34.520Z"
   },
   {
    "cell": {
     "executionCount": 1,
     "executionEventId": "5513c20c-6484-4e85-bb9a-7cad3f6f13e6",
     "hasError": false,
     "id": "9100339f-fb35-4889-847c-53a558b9da7d",
     "outputs": [],
     "persistentId": "e402b9b8-a4dd-4aeb-bd89-43f8c3937805",
     "text": "# Import libraries\nimport numpy as np\nimport pandas as pd\nfrom sklearn.preprocessing import RobustScaler\nimport xgboost as xgb\nfrom xgboost.sklearn import XGBClassifier\nimport pickle\nimport joblib\n\nimport warnings\n\nwarnings.simplefilter(\"ignore\")"
    },
    "executionTime": "2020-03-29T05:42:24.258Z"
   },
   {
    "cell": {
     "executionCount": 2,
     "executionEventId": "408fcc5d-9a4a-470b-817a-ccc06549e1be",
     "hasError": false,
     "id": "8cb2803a-2ea1-4442-b9b9-bf72c2eec706",
     "outputs": [],
     "persistentId": "e858e76e-09e5-4b24-8721-703f39e9fb7e",
     "text": "# Read data and models from pickles\nwith open(\"covid19_risk_xgboost.pkl\", \"rb\") as file:\n    xgb_step5 = pickle.load(file)\n\nwith open(\"age_scaler.pkl\", \"rb\") as file:\n    age_scaler = pickle.load(file)\n\nwith open(\"docs_scaler.pkl\", \"rb\") as file:\n    docs_scaler = pickle.load(file)\n\nwith open(\"beds_scaler.pkl\", \"rb\") as file:\n    beds_scaler = pickle.load(file)\n\nwith open(\"medical.pkl\", \"rb\") as file:\n    medical = pickle.load(file)"
    },
    "executionTime": "2020-03-29T05:42:24.272Z"
   },
   {
    "cell": {
     "executionCount": 3,
     "executionEventId": "a0f0e68e-0c28-44d0-b0d3-25968c56f295",
     "hasError": false,
     "id": "b22a4de6-70c1-4470-b0d0-b1785fe4c8a8",
     "outputs": [],
     "persistentId": "456dfe32-6fc2-42c6-b60f-29ad83b7be37",
     "text": "# Function: Take patient info\ndef patient_info():\n\n    # Demographic info\n    age = input(\"What's your age?\")\n    sex = input(\"What's your biological sex? (female: 1, male: 0)\")\n    country = input(\"Which country do you live in?\")\n    docs_per_10k = medical.loc[\n        medical[\"country\"].str.contains(country), \"docs_per_10k\"\n    ].item()\n    beds_per_10k = medical.loc[\n        medical[\"country\"].str.contains(country), \"beds_per_10k\"\n    ].item()\n\n    # Pre-conditions\n    hypertension = input(\"Do you have hypertension? (yes: 1, no: 0)\")\n    diabetes = input(\"Do you have diabetes? (yes: 1, no: 0)\")\n    heart = input(\"Do you have heart diseases? (yes: 1, no: 0)\")\n\n    # Symptoms\n    fever = input(\"Do you have fever? (yes: 1, no: 0)\")\n    cough = input(\"Are you coughing? (yes: 1, no: 0)\")\n    fatigue = input(\"Do you feel fatigue? (yes: 1, no: 0)\")\n    sore_throat = input(\"Do you have a sore throat? (yes: 1 , no:0)\")\n\n    # Save results in a list\n    return {\n        \"sex\": int(sex),\n        \"beds_per_10k\": float(beds_scaler.transform([[beds_per_10k]])),\n        \"docs_per_10k\": float(docs_scaler.transform([[docs_per_10k]])),\n        \"hypertension\": int(hypertension),\n        \"diabetes\": int(diabetes),\n        \"heart\": int(heart),\n        \"fever\": int(fever),\n        \"cough\": int(cough),\n        \"fatigue\": int(fatigue),\n        \"sore throat\": int(sore_throat),\n        \"age_scaled\": float(age_scaler.transform([[age]])),\n    }\n\n\n# Function: Output risk\ndef risk_predictor():\n\n    # Get patient info\n    new_case = patient_info()\n\n    # Convert to useable format\n    new_case = pd.DataFrame(new_case, index=[0])\n\n    # Make prediction\n    new_prediction = xgb_step5.predict_proba(new_case)\n\n    # Print result\n    print(\n        \"Once contracted COVID-19, your mortality risk is {}%.\".format(\n            round(new_prediction.tolist()[0][1] * 100, 2)\n        )\n    )"
    },
    "executionTime": "2020-03-29T05:42:24.283Z"
   },
   {
    "cell": {
     "executionCount": 4,
     "executionEventId": "665a1c3a-6cca-4f29-a43c-24cc44b10baa",
     "hasError": false,
     "id": "f4b35e18-8614-4329-bb9e-8ce1a482850d",
     "outputs": [
      {
       "name": "stdin",
       "output_type": "stream",
       "text": "What's your age? 93\nWhat's your biological sex? (female: 1, male: 0) 1\nWhich country do you live in? United Kingdom\nDo you have hypertension? (yes: 1, no: 0) 0\nDo you have diabetes? (yes: 1, no: 0) 0\nDo you have heart diseases? (yes: 1, no: 0) 0\nDo you have fever? (yes: 1, no: 0) 0\nAre you coughing? (yes: 1, no: 0) 0\nDo you feel fatigue? (yes: 1, no: 0) 0\nDo you have a sore throat? (yes: 1 , no:0) 0\n"
      },
      {
       "name": "stdout",
       "output_type": "stream",
       "text": "Once contracted COVID-19, your mortality risk is 61.46%.\n"
      }
     ],
     "persistentId": "01ccd8ad-3ba5-415e-a100-a0e3639e8605",
     "text": "risk_predictor()"
    },
    "executionTime": "2020-03-29T05:42:43.531Z"
   },
   {
    "cell": {
     "executionCount": 5,
     "executionEventId": "9d8c4fd1-d7e6-4d9b-add6-092bdbe75f8c",
     "hasError": false,
     "id": "f4b35e18-8614-4329-bb9e-8ce1a482850d",
     "outputs": [
      {
       "name": "stdin",
       "output_type": "stream",
       "text": "What's your age? 71\nWhat's your biological sex? (female: 1, male: 0) 0\nWhich country do you live in? United Kingdom\nDo you have hypertension? (yes: 1, no: 0) 0\nDo you have diabetes? (yes: 1, no: 0) 0\nDo you have heart diseases? (yes: 1, no: 0) 0\nDo you have fever? (yes: 1, no: 0) 0\nAre you coughing? (yes: 1, no: 0) 0\nDo you feel fatigue? (yes: 1, no: 0) 0\nDo you have a sore throat? (yes: 1 , no:0) 0\n"
      },
      {
       "name": "stdout",
       "output_type": "stream",
       "text": "Once contracted COVID-19, your mortality risk is 30.26%.\n"
      }
     ],
     "persistentId": "01ccd8ad-3ba5-415e-a100-a0e3639e8605",
     "text": "risk_predictor()"
    },
    "executionTime": "2020-03-29T05:43:04.425Z"
   },
   {
    "cell": {
     "executionCount": 6,
     "executionEventId": "2bd85466-2101-4a99-b690-818dfca0a866",
     "hasError": false,
     "id": "f4b35e18-8614-4329-bb9e-8ce1a482850d",
     "outputs": [
      {
       "name": "stdin",
       "output_type": "stream",
       "text": "What's your age? 55\nWhat's your biological sex? (female: 1, male: 0) 0\nWhich country do you live in? United Kingdom\nDo you have hypertension? (yes: 1, no: 0) 0\nDo you have diabetes? (yes: 1, no: 0) 0\nDo you have heart diseases? (yes: 1, no: 0) 0\nDo you have fever? (yes: 1, no: 0) 0\nAre you coughing? (yes: 1, no: 0) 0\nDo you feel fatigue? (yes: 1, no: 0) 0\nDo you have a sore throat? (yes: 1 , no:0) 0\n"
      },
      {
       "name": "stdout",
       "output_type": "stream",
       "text": "Once contracted COVID-19, your mortality risk is 4.38%.\n"
      }
     ],
     "persistentId": "01ccd8ad-3ba5-415e-a100-a0e3639e8605",
     "text": "risk_predictor()"
    },
    "executionTime": "2020-03-29T05:43:30.949Z"
   },
   {
    "cell": {
     "executionCount": 1,
     "executionEventId": "5955d034-24c3-4442-8f47-8f762a43cc7c",
     "hasError": true,
     "id": "6f22c5a9-b900-4c7f-9618-eefdf9a05258",
     "outputs": [
      {
       "ename": "NameError",
       "evalue": "name 'risk_predictor' is not defined",
       "output_type": "error",
       "traceback": [
        "\u001b[0;31m---------------------------------------------------------------------------\u001b[0m",
        "\u001b[0;31mNameError\u001b[0m                                 Traceback (most recent call last)",
        "\u001b[0;32m<ipython-input-1-4bd1f3c2539c>\u001b[0m in \u001b[0;36m<module>\u001b[0;34m\u001b[0m\n\u001b[0;32m----> 1\u001b[0;31m \u001b[0mrisk_predictor\u001b[0m\u001b[0;34m(\u001b[0m\u001b[0;34m)\u001b[0m\u001b[0;34m\u001b[0m\u001b[0;34m\u001b[0m\u001b[0m\n\u001b[0m",
        "\u001b[0;31mNameError\u001b[0m: name 'risk_predictor' is not defined"
       ]
      }
     ],
     "persistentId": "01ccd8ad-3ba5-415e-a100-a0e3639e8605",
     "text": "risk_predictor()"
    },
    "executionTime": "2020-03-30T22:12:07.449Z"
   },
   {
    "cell": {
     "executionCount": 1,
     "executionEventId": "69aaeac9-49f3-47f7-97a9-fae427795a6a",
     "hasError": false,
     "id": "8571f934-e6b0-4a1e-9695-3f2b2daac0b9",
     "outputs": [],
     "persistentId": "e402b9b8-a4dd-4aeb-bd89-43f8c3937805",
     "text": "# Import libraries\nimport numpy as np\nimport pandas as pd\nfrom sklearn.preprocessing import RobustScaler\nimport xgboost as xgb\nfrom xgboost.sklearn import XGBClassifier\nimport pickle\nimport joblib\n\nimport warnings\n\nwarnings.simplefilter(\"ignore\")"
    },
    "executionTime": "2020-03-30T22:12:16.116Z"
   },
   {
    "cell": {
     "executionCount": 2,
     "executionEventId": "788089ba-dc91-47f3-9e49-abcb74521ef5",
     "hasError": false,
     "id": "afd9725c-8d25-45d5-aea8-0fdae2f02bb8",
     "outputs": [],
     "persistentId": "e858e76e-09e5-4b24-8721-703f39e9fb7e",
     "text": "# Read data and models from pickles\nwith open(\"covid19_risk_xgboost.pkl\", \"rb\") as file:\n    xgb_step5 = pickle.load(file)\n\nwith open(\"age_scaler.pkl\", \"rb\") as file:\n    age_scaler = pickle.load(file)\n\nwith open(\"docs_scaler.pkl\", \"rb\") as file:\n    docs_scaler = pickle.load(file)\n\nwith open(\"beds_scaler.pkl\", \"rb\") as file:\n    beds_scaler = pickle.load(file)\n\nwith open(\"medical.pkl\", \"rb\") as file:\n    medical = pickle.load(file)"
    },
    "executionTime": "2020-03-30T22:12:16.132Z"
   },
   {
    "cell": {
     "executionCount": 3,
     "executionEventId": "af202fc4-cab5-4665-8751-d6897d08eb1c",
     "hasError": false,
     "id": "3f571b14-265c-4ab5-bd34-1001726d5957",
     "outputs": [],
     "persistentId": "456dfe32-6fc2-42c6-b60f-29ad83b7be37",
     "text": "# Function: Take patient info\ndef patient_info():\n\n    # Demographic info\n    age = input(\"What's your age?\")\n    sex = input(\"What's your biological sex? (female: 1, male: 0)\")\n    country = input(\"Which country do you live in?\")\n    docs_per_10k = medical.loc[\n        medical[\"country\"].str.contains(country), \"docs_per_10k\"\n    ].item()\n    beds_per_10k = medical.loc[\n        medical[\"country\"].str.contains(country), \"beds_per_10k\"\n    ].item()\n\n    # Pre-conditions\n    hypertension = input(\"Do you have hypertension? (yes: 1, no: 0)\")\n    diabetes = input(\"Do you have diabetes? (yes: 1, no: 0)\")\n    heart = input(\"Do you have heart diseases? (yes: 1, no: 0)\")\n\n    # Symptoms\n    fever = input(\"Do you have fever? (yes: 1, no: 0)\")\n    cough = input(\"Are you coughing? (yes: 1, no: 0)\")\n    fatigue = input(\"Do you feel fatigue? (yes: 1, no: 0)\")\n    sore_throat = input(\"Do you have a sore throat? (yes: 1 , no:0)\")\n\n    # Save results in a list\n    return {\n        \"sex\": int(sex),\n        \"beds_per_10k\": float(beds_scaler.transform([[beds_per_10k]])),\n        \"docs_per_10k\": float(docs_scaler.transform([[docs_per_10k]])),\n        \"hypertension\": int(hypertension),\n        \"diabetes\": int(diabetes),\n        \"heart\": int(heart),\n        \"fever\": int(fever),\n        \"cough\": int(cough),\n        \"fatigue\": int(fatigue),\n        \"sore throat\": int(sore_throat),\n        \"age_scaled\": float(age_scaler.transform([[age]])),\n    }\n\n\n# Function: Output risk\ndef risk_predictor():\n\n    # Get patient info\n    new_case = patient_info()\n\n    # Convert to useable format\n    new_case = pd.DataFrame(new_case, index=[0])\n\n    # Make prediction\n    new_prediction = xgb_step5.predict_proba(new_case)\n\n    # Print result\n    print(\n        \"Once contracted COVID-19, your mortality risk is {}%.\".format(\n            round(new_prediction.tolist()[0][1] * 100, 2)\n        )\n    )"
    },
    "executionTime": "2020-03-30T22:12:16.149Z"
   },
   {
    "cell": {
     "executionCount": 4,
     "executionEventId": "0f2f6d87-4d1b-47f5-addd-c4cdb2b466fd",
     "hasError": false,
     "id": "6f22c5a9-b900-4c7f-9618-eefdf9a05258",
     "outputs": [
      {
       "name": "stdin",
       "output_type": "stream",
       "text": "What's your age? 93\nWhat's your biological sex? (female: 1, male: 0) 1\nWhich country do you live in? United Kingdom\nDo you have hypertension? (yes: 1, no: 0) 0\nDo you have diabetes? (yes: 1, no: 0) 0\nDo you have heart diseases? (yes: 1, no: 0) 0\nDo you have fever? (yes: 1, no: 0) 0\nAre you coughing? (yes: 1, no: 0) 0\nDo you feel fatigue? (yes: 1, no: 0) 0\nDo you have a sore throat? (yes: 1 , no:0) 0\n"
      },
      {
       "name": "stdout",
       "output_type": "stream",
       "text": "Once contracted COVID-19, your mortality risk is 61.46%.\n"
      }
     ],
     "persistentId": "01ccd8ad-3ba5-415e-a100-a0e3639e8605",
     "text": "risk_predictor()"
    },
    "executionTime": "2020-03-30T22:18:23.514Z"
   },
   {
    "cell": {
     "executionCount": 5,
     "executionEventId": "478e1ab3-3411-4540-816f-2788c8ef30c8",
     "hasError": false,
     "id": "6f22c5a9-b900-4c7f-9618-eefdf9a05258",
     "outputs": [
      {
       "name": "stdin",
       "output_type": "stream",
       "text": "What's your age? 25\nWhat's your biological sex? (female: 1, male: 0) 1\nWhich country do you live in? United States\nDo you have hypertension? (yes: 1, no: 0) 0\nDo you have diabetes? (yes: 1, no: 0) 0\nDo you have heart diseases? (yes: 1, no: 0) 0\nDo you have fever? (yes: 1, no: 0) 0\nAre you coughing? (yes: 1, no: 0) 0\nDo you feel fatigue? (yes: 1, no: 0) 0\nDo you have a sore throat? (yes: 1 , no:0) 0\n"
      },
      {
       "name": "stdout",
       "output_type": "stream",
       "text": "Once contracted COVID-19, your mortality risk is 0.6%.\n"
      }
     ],
     "persistentId": "01ccd8ad-3ba5-415e-a100-a0e3639e8605",
     "text": "risk_predictor()"
    },
    "executionTime": "2020-03-30T22:18:43.076Z"
   },
   {
    "cell": {
     "executionCount": 6,
     "executionEventId": "c77494d2-2300-4fb0-bdb3-aa862a6b7546",
     "hasError": false,
     "id": "560201f6-6d90-4ce9-81f8-a1da098288c0",
     "outputs": [],
     "persistentId": "e402b9b8-a4dd-4aeb-bd89-43f8c3937805",
     "text": "# Import libraries\nimport numpy as np\nimport pandas as pd\nfrom sklearn.preprocessing import RobustScaler\nimport xgboost as xgb\nfrom xgboost.sklearn import XGBClassifier\nimport pickle\nimport joblib\n\nimport warnings\n\nwarnings.simplefilter(\"ignore\")"
    },
    "executionTime": "2020-03-30T23:46:43.895Z"
   },
   {
    "cell": {
     "executionCount": 7,
     "executionEventId": "c3de1cd4-97e9-46b9-9dbc-7e2523413c0d",
     "hasError": false,
     "id": "4e07ce85-f4e7-440b-a22d-d656e7d64895",
     "outputs": [],
     "persistentId": "e858e76e-09e5-4b24-8721-703f39e9fb7e",
     "text": "# Read data and models from pickles\nwith open(\"covid19_risk_xgboost.pkl\", \"rb\") as file:\n    xgb_step5 = pickle.load(file)\n\nwith open(\"age_scaler.pkl\", \"rb\") as file:\n    age_scaler = pickle.load(file)\n\nwith open(\"docs_scaler.pkl\", \"rb\") as file:\n    docs_scaler = pickle.load(file)\n\nwith open(\"beds_scaler.pkl\", \"rb\") as file:\n    beds_scaler = pickle.load(file)\n\nwith open(\"medical.pkl\", \"rb\") as file:\n    medical = pickle.load(file)"
    },
    "executionTime": "2020-03-30T23:46:44.572Z"
   },
   {
    "cell": {
     "executionCount": 8,
     "executionEventId": "37b883a8-4fea-4627-af34-6f5d1b00cb92",
     "hasError": false,
     "id": "02a96d29-d619-4999-bf8b-c1e73f0e9446",
     "outputs": [],
     "persistentId": "456dfe32-6fc2-42c6-b60f-29ad83b7be37",
     "text": "# Function: Take patient info\ndef patient_info():\n\n    # Demographic info\n    age = input(\"What's your age?\")\n    sex = input(\"What's your biological sex? (female: 1, male: 0)\")\n    country = input(\"Which country do you live in?\")\n    docs_per_10k = medical.loc[\n        medical[\"country\"].str.contains(country), \"docs_per_10k\"\n    ].item()\n    beds_per_10k = medical.loc[\n        medical[\"country\"].str.contains(country), \"beds_per_10k\"\n    ].item()\n\n    # Pre-conditions\n    hypertension = input(\"Do you have hypertension? (yes: 1, no: 0)\")\n    diabetes = input(\"Do you have diabetes? (yes: 1, no: 0)\")\n    heart = input(\"Do you have heart diseases? (yes: 1, no: 0)\")\n\n    # Symptoms\n    fever = input(\"Do you have fever? (yes: 1, no: 0)\")\n    cough = input(\"Are you coughing? (yes: 1, no: 0)\")\n    fatigue = input(\"Do you feel fatigue? (yes: 1, no: 0)\")\n    sore_throat = input(\"Do you have a sore throat? (yes: 1 , no:0)\")\n\n    # Save results in a list\n    return {\n        \"sex\": int(sex),\n        \"beds_per_10k\": float(beds_scaler.transform([[beds_per_10k]])),\n        \"docs_per_10k\": float(docs_scaler.transform([[docs_per_10k]])),\n        \"hypertension\": int(hypertension),\n        \"diabetes\": int(diabetes),\n        \"heart\": int(heart),\n        \"fever\": int(fever),\n        \"cough\": int(cough),\n        \"fatigue\": int(fatigue),\n        \"sore throat\": int(sore_throat),\n        \"age_scaled\": float(age_scaler.transform([[age]])),\n    }\n\n\n# Function: Output risk\ndef risk_predictor():\n\n    # Get patient info\n    new_case = patient_info()\n\n    # Convert to useable format\n    new_case = pd.DataFrame(new_case, index=[0])\n\n    # Make prediction\n    new_prediction = xgb_best.predict_proba(new_case)\n\n    # Print result\n    print(\n        \"Once contracted COVID-19, your mortality risk is {}%.\".format(\n            round(new_prediction.tolist()[0][1] * 100, 2)\n        )\n    )"
    },
    "executionTime": "2020-03-30T23:46:55.595Z"
   },
   {
    "cell": {
     "executionCount": 9,
     "executionEventId": "03df48fb-e88d-4bb1-bb0b-56386e12968d",
     "hasError": true,
     "id": "ddabe29e-81f2-4dce-9cd1-7b2cec6a5dc5",
     "outputs": [
      {
       "name": "stdin",
       "output_type": "stream",
       "text": "What's your age? 25\nWhat's your biological sex? (female: 1, male: 0) 1\nWhich country do you live in? United States\nDo you have hypertension? (yes: 1, no: 0) 0\nDo you have diabetes? (yes: 1, no: 0) 0\nDo you have heart diseases? (yes: 1, no: 0) 0\nDo you have fever? (yes: 1, no: 0) 0\nAre you coughing? (yes: 1, no: 0) 0\nDo you feel fatigue? (yes: 1, no: 0) 0\nDo you have a sore throat? (yes: 1 , no:0) 0\n"
      },
      {
       "ename": "NameError",
       "evalue": "name 'xgb_best' is not defined",
       "output_type": "error",
       "traceback": [
        "\u001b[0;31m---------------------------------------------------------------------------\u001b[0m",
        "\u001b[0;31mNameError\u001b[0m                                 Traceback (most recent call last)",
        "\u001b[0;32m<ipython-input-9-4bd1f3c2539c>\u001b[0m in \u001b[0;36m<module>\u001b[0;34m\u001b[0m\n\u001b[0;32m----> 1\u001b[0;31m \u001b[0mrisk_predictor\u001b[0m\u001b[0;34m(\u001b[0m\u001b[0;34m)\u001b[0m\u001b[0;34m\u001b[0m\u001b[0;34m\u001b[0m\u001b[0m\n\u001b[0m",
        "\u001b[0;32m<ipython-input-8-8894f8230ef3>\u001b[0m in \u001b[0;36mrisk_predictor\u001b[0;34m()\u001b[0m\n\u001b[1;32m     50\u001b[0m \u001b[0;34m\u001b[0m\u001b[0m\n\u001b[1;32m     51\u001b[0m     \u001b[0;31m# Make prediction\u001b[0m\u001b[0;34m\u001b[0m\u001b[0;34m\u001b[0m\u001b[0;34m\u001b[0m\u001b[0m\n\u001b[0;32m---> 52\u001b[0;31m     \u001b[0mnew_prediction\u001b[0m \u001b[0;34m=\u001b[0m \u001b[0mxgb_best\u001b[0m\u001b[0;34m.\u001b[0m\u001b[0mpredict_proba\u001b[0m\u001b[0;34m(\u001b[0m\u001b[0mnew_case\u001b[0m\u001b[0;34m)\u001b[0m\u001b[0;34m\u001b[0m\u001b[0;34m\u001b[0m\u001b[0m\n\u001b[0m\u001b[1;32m     53\u001b[0m \u001b[0;34m\u001b[0m\u001b[0m\n\u001b[1;32m     54\u001b[0m     \u001b[0;31m# Print result\u001b[0m\u001b[0;34m\u001b[0m\u001b[0;34m\u001b[0m\u001b[0;34m\u001b[0m\u001b[0m\n",
        "\u001b[0;31mNameError\u001b[0m: name 'xgb_best' is not defined"
       ]
      }
     ],
     "persistentId": "01ccd8ad-3ba5-415e-a100-a0e3639e8605",
     "text": "risk_predictor()"
    },
    "executionTime": "2020-03-30T23:47:22.841Z"
   },
   {
    "cell": {
     "executionCount": 10,
     "executionEventId": "1c04b9cc-aca4-439b-8a7b-0a333201cb94",
     "hasError": false,
     "id": "4e07ce85-f4e7-440b-a22d-d656e7d64895",
     "outputs": [],
     "persistentId": "e858e76e-09e5-4b24-8721-703f39e9fb7e",
     "text": "# Read data and models from pickles\nwith open(\"covid19_risk_xgboost.pkl\", \"rb\") as file:\n    xgb_best = pickle.load(file)\n\nwith open(\"age_scaler.pkl\", \"rb\") as file:\n    age_scaler = pickle.load(file)\n\nwith open(\"docs_scaler.pkl\", \"rb\") as file:\n    docs_scaler = pickle.load(file)\n\nwith open(\"beds_scaler.pkl\", \"rb\") as file:\n    beds_scaler = pickle.load(file)\n\nwith open(\"medical.pkl\", \"rb\") as file:\n    medical = pickle.load(file)"
    },
    "executionTime": "2020-03-30T23:47:33.389Z"
   },
   {
    "cell": {
     "executionCount": 11,
     "executionEventId": "0f8c06ab-7583-4b04-9c70-7ccd379f753d",
     "hasError": true,
     "id": "fa9e2564-b64a-4f41-9feb-ec7ddb73c2f5",
     "outputs": [
      {
       "ename": "AttributeError",
       "evalue": "'XGBClassifier' object has no attribute 'feature_names'",
       "output_type": "error",
       "traceback": [
        "\u001b[0;31m---------------------------------------------------------------------------\u001b[0m",
        "\u001b[0;31mAttributeError\u001b[0m                            Traceback (most recent call last)",
        "\u001b[0;32m<ipython-input-11-1ecca51c54b3>\u001b[0m in \u001b[0;36m<module>\u001b[0;34m\u001b[0m\n\u001b[0;32m----> 1\u001b[0;31m \u001b[0mxgb_best\u001b[0m\u001b[0;34m.\u001b[0m\u001b[0mfeature_names\u001b[0m\u001b[0;34m\u001b[0m\u001b[0;34m\u001b[0m\u001b[0m\n\u001b[0m",
        "\u001b[0;31mAttributeError\u001b[0m: 'XGBClassifier' object has no attribute 'feature_names'"
       ]
      }
     ],
     "persistentId": "a890ba33-0338-4092-840c-2588535ca8c1",
     "text": "xgb_best.feature_names"
    },
    "executionTime": "2020-03-30T23:48:26.558Z"
   },
   {
    "cell": {
     "executionCount": 12,
     "executionEventId": "e5c787d7-bb71-4d92-854a-1f130528cc28",
     "hasError": true,
     "id": "fa9e2564-b64a-4f41-9feb-ec7ddb73c2f5",
     "outputs": [
      {
       "ename": "SyntaxError",
       "evalue": "invalid syntax (<ipython-input-12-144e3f7e25ea>, line 1)",
       "output_type": "error",
       "traceback": [
        "\u001b[0;36m  File \u001b[0;32m\"<ipython-input-12-144e3f7e25ea>\"\u001b[0;36m, line \u001b[0;32m1\u001b[0m\n\u001b[0;31m    xgb_best..get_booster()\u001b[0m\n\u001b[0m             ^\u001b[0m\n\u001b[0;31mSyntaxError\u001b[0m\u001b[0;31m:\u001b[0m invalid syntax\n"
       ]
      }
     ],
     "persistentId": "a890ba33-0338-4092-840c-2588535ca8c1",
     "text": "xgb_best..get_booster()"
    },
    "executionTime": "2020-03-30T23:48:50.969Z"
   },
   {
    "cell": {
     "executionCount": 13,
     "executionEventId": "fc3a3786-2d7e-4ab7-a2dc-8085f3f1f2e0",
     "hasError": false,
     "id": "fa9e2564-b64a-4f41-9feb-ec7ddb73c2f5",
     "outputs": [
      {
       "data": {
        "text/plain": "<xgboost.core.Booster at 0x1a389eb780>"
       },
       "execution_count": 13,
       "metadata": {},
       "output_type": "execute_result"
      }
     ],
     "persistentId": "a890ba33-0338-4092-840c-2588535ca8c1",
     "text": "xgb_best.get_booster()"
    },
    "executionTime": "2020-03-30T23:48:52.598Z"
   },
   {
    "cell": {
     "executionCount": 14,
     "executionEventId": "4f21860f-7866-472a-86a7-94b553e240b7",
     "hasError": false,
     "id": "fa9e2564-b64a-4f41-9feb-ec7ddb73c2f5",
     "outputs": [
      {
       "data": {
        "text/plain": "['sex',\n 'chronic_disease_binary',\n 'beds_per_10k',\n 'docs_per_10k',\n 'hypertension',\n 'diabetes',\n 'heart',\n 'fever',\n 'cough',\n 'fatigue',\n 'sore throat',\n 'age_scaled']"
       },
       "execution_count": 14,
       "metadata": {},
       "output_type": "execute_result"
      }
     ],
     "persistentId": "a890ba33-0338-4092-840c-2588535ca8c1",
     "text": "xgb_best.get_booster().feature_names"
    },
    "executionTime": "2020-03-30T23:49:05.056Z"
   },
   {
    "cell": {
     "executionCount": 15,
     "executionEventId": "efbeface-03db-43b2-a5b1-bf350c46b043",
     "hasError": false,
     "id": "02a96d29-d619-4999-bf8b-c1e73f0e9446",
     "outputs": [],
     "persistentId": "456dfe32-6fc2-42c6-b60f-29ad83b7be37",
     "text": "# Function: Take patient info\ndef patient_info():\n\n    # Demographic info\n    age = input(\"What's your age?\")\n    sex = input(\"What's your biological sex? (female: 1, male: 0)\")\n    country = input(\"Which country do you live in?\")\n    docs_per_10k = medical.loc[\n        medical[\"country\"].str.contains(country), \"docs_per_10k\"\n    ].item()\n    beds_per_10k = medical.loc[\n        medical[\"country\"].str.contains(country), \"beds_per_10k\"\n    ].item()\n\n    # Pre-conditions\n    preconition = input(\"Do you have any chronic dieases? (yes: 1, no: 0)\")\n    hypertension = input(\"Do you have hypertension? (yes: 1, no: 0)\")\n    diabetes = input(\"Do you have diabetes? (yes: 1, no: 0)\")\n    heart = input(\"Do you have heart diseases? (yes: 1, no: 0)\")\n\n    # Symptoms\n    fever = input(\"Do you have fever? (yes: 1, no: 0)\")\n    cough = input(\"Are you coughing? (yes: 1, no: 0)\")\n    fatigue = input(\"Do you feel fatigue? (yes: 1, no: 0)\")\n    sore_throat = input(\"Do you have a sore throat? (yes: 1 , no:0)\")\n\n    # Save results in a list\n    return {\n        \"sex\": int(sex),\n        \"chronic_disease_binary\": int(precondition),\n        \"beds_per_10k\": float(beds_scaler.transform([[beds_per_10k]])),\n        \"docs_per_10k\": float(docs_scaler.transform([[docs_per_10k]])),\n        \"hypertension\": int(hypertension),\n        \"diabetes\": int(diabetes),\n        \"heart\": int(heart),\n        \"fever\": int(fever),\n        \"cough\": int(cough),\n        \"fatigue\": int(fatigue),\n        \"sore throat\": int(sore_throat),\n        \"age_scaled\": float(age_scaler.transform([[age]])),\n    }\n\n\n# Function: Output risk\ndef risk_predictor():\n\n    # Get patient info\n    new_case = patient_info()\n\n    # Convert to useable format\n    new_case = pd.DataFrame(new_case, index=[0])\n\n    # Make prediction\n    new_prediction = xgb_best.predict_proba(new_case)\n\n    # Print result\n    print(\n        \"Once contracted COVID-19, your mortality risk is {}%.\".format(\n            round(new_prediction.tolist()[0][1] * 100, 2)\n        )\n    )"
    },
    "executionTime": "2020-03-30T23:50:36.324Z"
   },
   {
    "cell": {
     "executionCount": 16,
     "executionEventId": "8a341ec5-aab8-4bb5-81ef-3a4cf951dd6d",
     "hasError": true,
     "id": "ddabe29e-81f2-4dce-9cd1-7b2cec6a5dc5",
     "outputs": [
      {
       "name": "stdin",
       "output_type": "stream",
       "text": "What's your age? 25\nWhat's your biological sex? (female: 1, male: 0) 1\nWhich country do you live in? United States\nDo you have any chronic dieases? (yes: 1, no: 0) 0\nDo you have hypertension? (yes: 1, no: 0) 0\nDo you have diabetes? (yes: 1, no: 0) 0\nDo you have heart diseases? (yes: 1, no: 0) 0\nDo you have fever? (yes: 1, no: 0) 0\nAre you coughing? (yes: 1, no: 0) 0\nDo you feel fatigue? (yes: 1, no: 0) 0\nDo you have a sore throat? (yes: 1 , no:0) 0\n"
      },
      {
       "ename": "NameError",
       "evalue": "name 'precondition' is not defined",
       "output_type": "error",
       "traceback": [
        "\u001b[0;31m---------------------------------------------------------------------------\u001b[0m",
        "\u001b[0;31mNameError\u001b[0m                                 Traceback (most recent call last)",
        "\u001b[0;32m<ipython-input-16-4bd1f3c2539c>\u001b[0m in \u001b[0;36m<module>\u001b[0;34m\u001b[0m\n\u001b[0;32m----> 1\u001b[0;31m \u001b[0mrisk_predictor\u001b[0m\u001b[0;34m(\u001b[0m\u001b[0;34m)\u001b[0m\u001b[0;34m\u001b[0m\u001b[0;34m\u001b[0m\u001b[0m\n\u001b[0m",
        "\u001b[0;32m<ipython-input-15-d1b00719903d>\u001b[0m in \u001b[0;36mrisk_predictor\u001b[0;34m()\u001b[0m\n\u001b[1;32m     46\u001b[0m \u001b[0;34m\u001b[0m\u001b[0m\n\u001b[1;32m     47\u001b[0m     \u001b[0;31m# Get patient info\u001b[0m\u001b[0;34m\u001b[0m\u001b[0;34m\u001b[0m\u001b[0;34m\u001b[0m\u001b[0m\n\u001b[0;32m---> 48\u001b[0;31m     \u001b[0mnew_case\u001b[0m \u001b[0;34m=\u001b[0m \u001b[0mpatient_info\u001b[0m\u001b[0;34m(\u001b[0m\u001b[0;34m)\u001b[0m\u001b[0;34m\u001b[0m\u001b[0;34m\u001b[0m\u001b[0m\n\u001b[0m\u001b[1;32m     49\u001b[0m \u001b[0;34m\u001b[0m\u001b[0m\n\u001b[1;32m     50\u001b[0m     \u001b[0;31m# Convert to useable format\u001b[0m\u001b[0;34m\u001b[0m\u001b[0;34m\u001b[0m\u001b[0;34m\u001b[0m\u001b[0m\n",
        "\u001b[0;32m<ipython-input-15-d1b00719903d>\u001b[0m in \u001b[0;36mpatient_info\u001b[0;34m()\u001b[0m\n\u001b[1;32m     28\u001b[0m     return {\n\u001b[1;32m     29\u001b[0m         \u001b[0;34m\"sex\"\u001b[0m\u001b[0;34m:\u001b[0m \u001b[0mint\u001b[0m\u001b[0;34m(\u001b[0m\u001b[0msex\u001b[0m\u001b[0;34m)\u001b[0m\u001b[0;34m,\u001b[0m\u001b[0;34m\u001b[0m\u001b[0;34m\u001b[0m\u001b[0m\n\u001b[0;32m---> 30\u001b[0;31m         \u001b[0;34m\"chronic_disease_binary\"\u001b[0m\u001b[0;34m:\u001b[0m \u001b[0mint\u001b[0m\u001b[0;34m(\u001b[0m\u001b[0mprecondition\u001b[0m\u001b[0;34m)\u001b[0m\u001b[0;34m,\u001b[0m\u001b[0;34m\u001b[0m\u001b[0;34m\u001b[0m\u001b[0m\n\u001b[0m\u001b[1;32m     31\u001b[0m         \u001b[0;34m\"beds_per_10k\"\u001b[0m\u001b[0;34m:\u001b[0m \u001b[0mfloat\u001b[0m\u001b[0;34m(\u001b[0m\u001b[0mbeds_scaler\u001b[0m\u001b[0;34m.\u001b[0m\u001b[0mtransform\u001b[0m\u001b[0;34m(\u001b[0m\u001b[0;34m[\u001b[0m\u001b[0;34m[\u001b[0m\u001b[0mbeds_per_10k\u001b[0m\u001b[0;34m]\u001b[0m\u001b[0;34m]\u001b[0m\u001b[0;34m)\u001b[0m\u001b[0;34m)\u001b[0m\u001b[0;34m,\u001b[0m\u001b[0;34m\u001b[0m\u001b[0;34m\u001b[0m\u001b[0m\n\u001b[1;32m     32\u001b[0m         \u001b[0;34m\"docs_per_10k\"\u001b[0m\u001b[0;34m:\u001b[0m \u001b[0mfloat\u001b[0m\u001b[0;34m(\u001b[0m\u001b[0mdocs_scaler\u001b[0m\u001b[0;34m.\u001b[0m\u001b[0mtransform\u001b[0m\u001b[0;34m(\u001b[0m\u001b[0;34m[\u001b[0m\u001b[0;34m[\u001b[0m\u001b[0mdocs_per_10k\u001b[0m\u001b[0;34m]\u001b[0m\u001b[0;34m]\u001b[0m\u001b[0;34m)\u001b[0m\u001b[0;34m)\u001b[0m\u001b[0;34m,\u001b[0m\u001b[0;34m\u001b[0m\u001b[0;34m\u001b[0m\u001b[0m\n",
        "\u001b[0;31mNameError\u001b[0m: name 'precondition' is not defined"
       ]
      }
     ],
     "persistentId": "01ccd8ad-3ba5-415e-a100-a0e3639e8605",
     "text": "risk_predictor()"
    },
    "executionTime": "2020-03-30T23:51:02.684Z"
   },
   {
    "cell": {
     "executionCount": 17,
     "executionEventId": "9fa01b66-ebe8-4211-87d8-125180803101",
     "hasError": false,
     "id": "560201f6-6d90-4ce9-81f8-a1da098288c0",
     "outputs": [],
     "persistentId": "e402b9b8-a4dd-4aeb-bd89-43f8c3937805",
     "text": "# Import libraries\nimport numpy as np\nimport pandas as pd\nfrom sklearn.preprocessing import RobustScaler\nimport xgboost as xgb\nfrom xgboost.sklearn import XGBClassifier\nimport pickle\nimport joblib\n\nimport warnings\n\nwarnings.simplefilter(\"ignore\")"
    },
    "executionTime": "2020-03-30T23:51:36.112Z"
   },
   {
    "cell": {
     "executionCount": 18,
     "executionEventId": "4f223e30-06de-4397-81e1-d272871431e3",
     "hasError": false,
     "id": "4e07ce85-f4e7-440b-a22d-d656e7d64895",
     "outputs": [],
     "persistentId": "e858e76e-09e5-4b24-8721-703f39e9fb7e",
     "text": "# Read data and models from pickles\nwith open(\"covid19_risk_xgboost.pkl\", \"rb\") as file:\n    xgb_best = pickle.load(file)\n\nwith open(\"age_scaler.pkl\", \"rb\") as file:\n    age_scaler = pickle.load(file)\n\nwith open(\"docs_scaler.pkl\", \"rb\") as file:\n    docs_scaler = pickle.load(file)\n\nwith open(\"beds_scaler.pkl\", \"rb\") as file:\n    beds_scaler = pickle.load(file)\n\nwith open(\"medical.pkl\", \"rb\") as file:\n    medical = pickle.load(file)"
    },
    "executionTime": "2020-03-30T23:51:36.572Z"
   },
   {
    "cell": {
     "executionCount": 19,
     "executionEventId": "234c87d0-31e2-4c16-b6ed-0db54a4bc8c4",
     "hasError": false,
     "id": "fa9e2564-b64a-4f41-9feb-ec7ddb73c2f5",
     "outputs": [
      {
       "data": {
        "text/plain": "['sex',\n 'chronic_disease_binary',\n 'beds_per_10k',\n 'docs_per_10k',\n 'hypertension',\n 'diabetes',\n 'heart',\n 'fever',\n 'cough',\n 'fatigue',\n 'sore throat',\n 'age_scaled']"
       },
       "execution_count": 19,
       "metadata": {},
       "output_type": "execute_result"
      }
     ],
     "persistentId": "a890ba33-0338-4092-840c-2588535ca8c1",
     "text": "xgb_best.get_booster().feature_names"
    },
    "executionTime": "2020-03-30T23:51:37.335Z"
   },
   {
    "cell": {
     "executionCount": 20,
     "executionEventId": "181089e7-b187-44b1-ab68-f3c6912d5ab1",
     "hasError": false,
     "id": "02a96d29-d619-4999-bf8b-c1e73f0e9446",
     "outputs": [],
     "persistentId": "456dfe32-6fc2-42c6-b60f-29ad83b7be37",
     "text": "# Function: Take patient info\ndef patient_info():\n\n    # Demographic info\n    age = input(\"What's your age?\")\n    sex = input(\"What's your biological sex? (female: 1, male: 0)\")\n    country = input(\"Which country do you live in?\")\n    docs_per_10k = medical.loc[\n        medical[\"country\"].str.contains(country), \"docs_per_10k\"\n    ].item()\n    beds_per_10k = medical.loc[\n        medical[\"country\"].str.contains(country), \"beds_per_10k\"\n    ].item()\n\n    # Pre-conditions\n    preconition = input(\"Do you have any chronic dieases? (yes: 1, no: 0)\")\n    hypertension = input(\"Do you have hypertension? (yes: 1, no: 0)\")\n    diabetes = input(\"Do you have diabetes? (yes: 1, no: 0)\")\n    heart = input(\"Do you have heart diseases? (yes: 1, no: 0)\")\n\n    # Symptoms\n    fever = input(\"Do you have fever? (yes: 1, no: 0)\")\n    cough = input(\"Are you coughing? (yes: 1, no: 0)\")\n    fatigue = input(\"Do you feel fatigue? (yes: 1, no: 0)\")\n    sore_throat = input(\"Do you have a sore throat? (yes: 1 , no:0)\")\n\n    # Save results in a list\n    return {\n        \"sex\": int(sex),\n        \"chronic_disease_binary\": int(preconition),\n        \"beds_per_10k\": float(beds_scaler.transform([[beds_per_10k]])),\n        \"docs_per_10k\": float(docs_scaler.transform([[docs_per_10k]])),\n        \"hypertension\": int(hypertension),\n        \"diabetes\": int(diabetes),\n        \"heart\": int(heart),\n        \"fever\": int(fever),\n        \"cough\": int(cough),\n        \"fatigue\": int(fatigue),\n        \"sore throat\": int(sore_throat),\n        \"age_scaled\": float(age_scaler.transform([[age]])),\n    }\n\n\n# Function: Output risk\ndef risk_predictor():\n\n    # Get patient info\n    new_case = patient_info()\n\n    # Convert to useable format\n    new_case = pd.DataFrame(new_case, index=[0])\n\n    # Make prediction\n    new_prediction = xgb_best.predict_proba(new_case)\n\n    # Print result\n    print(\n        \"Once contracted COVID-19, your mortality risk is {}%.\".format(\n            round(new_prediction.tolist()[0][1] * 100, 2)\n        )\n    )"
    },
    "executionTime": "2020-03-30T23:51:41.506Z"
   },
   {
    "cell": {
     "executionCount": 21,
     "executionEventId": "9c21a592-0fa4-4c9b-a8cf-8ec410aae8b1",
     "hasError": false,
     "id": "ddabe29e-81f2-4dce-9cd1-7b2cec6a5dc5",
     "outputs": [
      {
       "name": "stdin",
       "output_type": "stream",
       "text": "What's your age? 25\nWhat's your biological sex? (female: 1, male: 0) 1\nWhich country do you live in? United States\nDo you have any chronic dieases? (yes: 1, no: 0) 0\nDo you have hypertension? (yes: 1, no: 0) 0\nDo you have diabetes? (yes: 1, no: 0) 0\nDo you have heart diseases? (yes: 1, no: 0) 0\nDo you have fever? (yes: 1, no: 0) 0\nAre you coughing? (yes: 1, no: 0) 0\nDo you feel fatigue? (yes: 1, no: 0) 0\nDo you have a sore throat? (yes: 1 , no:0) 0\n"
      },
      {
       "name": "stdout",
       "output_type": "stream",
       "text": "Once contracted COVID-19, your mortality risk is 0.69%.\n"
      }
     ],
     "persistentId": "01ccd8ad-3ba5-415e-a100-a0e3639e8605",
     "text": "risk_predictor()"
    },
    "executionTime": "2020-03-30T23:51:56.607Z"
   },
   {
    "cell": {
     "executionCount": 22,
     "executionEventId": "f4ac73e0-0b86-4874-abe4-fdaee94dfab9",
     "hasError": false,
     "id": "02a96d29-d619-4999-bf8b-c1e73f0e9446",
     "outputs": [],
     "persistentId": "456dfe32-6fc2-42c6-b60f-29ad83b7be37",
     "text": "# Function: Take patient info\ndef patient_info():\n\n    # Demographic info\n    age = input(\"What's your age?\")\n    sex = input(\"What's your biological sex? (female: 1, male: 0)\")\n    country = input(\"Which country do you live in?\")\n    docs_per_10k = medical.loc[\n        medical[\"country\"].str.contains(country), \"docs_per_10k\"\n    ].item()\n    beds_per_10k = medical.loc[\n        medical[\"country\"].str.contains(country), \"beds_per_10k\"\n    ].item()\n\n    # Pre-conditions\n    preconition = input(\"Any chronic dieases that you know of? (yes: 1, no: 0)\")\n    hypertension = input(\"Do you have hypertension? (yes: 1, no: 0)\")\n    diabetes = input(\"Do you have diabetes? (yes: 1, no: 0)\")\n    heart = input(\"Do you have heart diseases? (yes: 1, no: 0)\")\n\n    # Symptoms\n    fever = input(\"Do you have fever? (yes: 1, no: 0)\")\n    cough = input(\"Are you coughing? (yes: 1, no: 0)\")\n    fatigue = input(\"Do you feel fatigue? (yes: 1, no: 0)\")\n    sore_throat = input(\"Do you have a sore throat? (yes: 1 , no:0)\")\n\n    # Save results in a list\n    return {\n        \"sex\": int(sex),\n        \"chronic_disease_binary\": int(preconition),\n        \"beds_per_10k\": float(beds_scaler.transform([[beds_per_10k]])),\n        \"docs_per_10k\": float(docs_scaler.transform([[docs_per_10k]])),\n        \"hypertension\": int(hypertension),\n        \"diabetes\": int(diabetes),\n        \"heart\": int(heart),\n        \"fever\": int(fever),\n        \"cough\": int(cough),\n        \"fatigue\": int(fatigue),\n        \"sore throat\": int(sore_throat),\n        \"age_scaled\": float(age_scaler.transform([[age]])),\n    }\n\n\n# Function: Output risk\ndef risk_predictor():\n\n    # Get patient info\n    new_case = patient_info()\n\n    # Convert to useable format\n    new_case = pd.DataFrame(new_case, index=[0])\n\n    # Make prediction\n    new_prediction = xgb_best.predict_proba(new_case)\n\n    # Print result\n    print(\n        \"Once contracted COVID-19, your mortality risk is {}%.\".format(\n            round(new_prediction.tolist()[0][1] * 100, 2)\n        )\n    )"
    },
    "executionTime": "2020-03-30T23:52:12.862Z"
   },
   {
    "cell": {
     "executionCount": 23,
     "executionEventId": "e96862db-dad3-451a-9266-28b8d60fc9be",
     "hasError": false,
     "id": "ddabe29e-81f2-4dce-9cd1-7b2cec6a5dc5",
     "outputs": [
      {
       "name": "stdin",
       "output_type": "stream",
       "text": "What's your age? 25\nWhat's your biological sex? (female: 1, male: 0) 1\nWhich country do you live in? United States\nAny chronic dieases that you know of? (yes: 1, no: 0) 0\nDo you have hypertension? (yes: 1, no: 0) 0\nDo you have diabetes? (yes: 1, no: 0) 0\nDo you have heart diseases? (yes: 1, no: 0) 0\nDo you have fever? (yes: 1, no: 0) 0\nAre you coughing? (yes: 1, no: 0) 0\nDo you feel fatigue? (yes: 1, no: 0) 0\nDo you have a sore throat? (yes: 1 , no:0) 0\n"
      },
      {
       "name": "stdout",
       "output_type": "stream",
       "text": "Once contracted COVID-19, your mortality risk is 0.69%.\n"
      }
     ],
     "persistentId": "01ccd8ad-3ba5-415e-a100-a0e3639e8605",
     "text": "risk_predictor()"
    },
    "executionTime": "2020-03-30T23:52:36.048Z"
   },
   {
    "cell": {
     "executionCount": 1,
     "executionEventId": "158cedf5-ab63-4c77-8262-a1feda066379",
     "hasError": false,
     "id": "5966fa78-95c1-44ab-9e9c-b8c28494225a",
     "outputs": [],
     "persistentId": "e402b9b8-a4dd-4aeb-bd89-43f8c3937805",
     "text": "# Import libraries\nimport numpy as np\nimport pandas as pd\nfrom sklearn.preprocessing import RobustScaler\nimport xgboost as xgb\nfrom xgboost.sklearn import XGBClassifier\nimport pickle\nimport joblib\n\nimport warnings\n\nwarnings.simplefilter(\"ignore\")"
    },
    "executionTime": "2020-03-31T00:02:04.493Z"
   },
   {
    "cell": {
     "executionCount": 2,
     "executionEventId": "858d7f3c-873f-4731-9d52-dfdc121b9155",
     "hasError": false,
     "id": "08839421-c074-4a3a-96d7-2a1ba489778c",
     "outputs": [],
     "persistentId": "e858e76e-09e5-4b24-8721-703f39e9fb7e",
     "text": "# Read data and models from pickles\nwith open(\"covid19_risk_xgboost.pkl\", \"rb\") as file:\n    xgb_best = pickle.load(file)\n\nwith open(\"age_scaler.pkl\", \"rb\") as file:\n    age_scaler = pickle.load(file)\n\nwith open(\"docs_scaler.pkl\", \"rb\") as file:\n    docs_scaler = pickle.load(file)\n\nwith open(\"beds_scaler.pkl\", \"rb\") as file:\n    beds_scaler = pickle.load(file)\n\nwith open(\"medical.pkl\", \"rb\") as file:\n    medical = pickle.load(file)"
    },
    "executionTime": "2020-03-31T00:02:04.527Z"
   },
   {
    "cell": {
     "executionCount": 3,
     "executionEventId": "ae1044bb-2329-4ddf-baed-b60df081ec5c",
     "hasError": false,
     "id": "b5378e15-b384-465b-9177-1e58f978db73",
     "outputs": [],
     "persistentId": "456dfe32-6fc2-42c6-b60f-29ad83b7be37",
     "text": "# Function: Take patient info\ndef patient_info():\n\n    # Demographic info\n    age = input(\"What's your age?\")\n    sex = input(\"What's your biological sex? (female: 1, male: 0)\")\n    country = input(\"Which country do you live in?\")\n    docs_per_10k = medical.loc[\n        medical[\"country\"].str.contains(country), \"docs_per_10k\"\n    ].item()\n    beds_per_10k = medical.loc[\n        medical[\"country\"].str.contains(country), \"beds_per_10k\"\n    ].item()\n\n    # Pre-conditions\n    preconition = input(\"Any chronic dieases that you know of? (yes: 1, no: 0)\")\n    hypertension = input(\"Do you have hypertension? (yes: 1, no: 0)\")\n    diabetes = input(\"Do you have diabetes? (yes: 1, no: 0)\")\n    heart = input(\"Do you have heart diseases? (yes: 1, no: 0)\")\n\n    # Symptoms\n    fever = input(\"Do you have fever? (yes: 1, no: 0)\")\n    cough = input(\"Are you coughing? (yes: 1, no: 0)\")\n    fatigue = input(\"Do you feel fatigue? (yes: 1, no: 0)\")\n    sore_throat = input(\"Do you have a sore throat? (yes: 1 , no:0)\")\n\n    # Save results in a list\n    return {\n        \"sex\": int(sex),\n        \"chronic_disease_binary\": int(preconition),\n        \"beds_per_10k\": float(beds_scaler.transform([[beds_per_10k]])),\n        \"docs_per_10k\": float(docs_scaler.transform([[docs_per_10k]])),\n        \"hypertension\": int(hypertension),\n        \"diabetes\": int(diabetes),\n        \"heart\": int(heart),\n        \"fever\": int(fever),\n        \"cough\": int(cough),\n        \"fatigue\": int(fatigue),\n        \"sore throat\": int(sore_throat),\n        \"age_scaled\": float(age_scaler.transform([[age]])),\n    }\n\n\n# Function: Output risk\ndef risk_predictor():\n\n    # Get patient info\n    new_case = patient_info()\n\n    # Convert to useable format\n    new_case = pd.DataFrame(new_case, index=[0])\n\n    # Make prediction\n    new_prediction = xgb_best.predict_proba(new_case)\n\n    # Print result\n    print(\n        \"Once contracted COVID-19, your mortality risk is {}%.\".format(\n            round(new_prediction.tolist()[0][1] * 100, 2)\n        )\n    )"
    },
    "executionTime": "2020-03-31T00:02:04.541Z"
   },
   {
    "cell": {
     "executionCount": 4,
     "executionEventId": "73d96288-996e-4a81-809b-36ac83e79674",
     "hasError": false,
     "id": "fd16e12d-d9d1-40e5-9e87-93251cba6765",
     "outputs": [
      {
       "name": "stdin",
       "output_type": "stream",
       "text": "What's your age? 93\nWhat's your biological sex? (female: 1, male: 0) 1\nWhich country do you live in? United Kingdom\nAny chronic dieases that you know of? (yes: 1, no: 0) 1\nDo you have hypertension? (yes: 1, no: 0) 0\nDo you have diabetes? (yes: 1, no: 0) 0\nDo you have heart diseases? (yes: 1, no: 0) 0\nDo you have fever? (yes: 1, no: 0) 0\nAre you coughing? (yes: 1, no: 0) 0\nDo you feel fatigue? (yes: 1, no: 0) 0\nDo you have a sore throat? (yes: 1 , no:0) 0\n"
      },
      {
       "name": "stdout",
       "output_type": "stream",
       "text": "Once contracted COVID-19, your mortality risk is 69.9%.\n"
      }
     ],
     "persistentId": "01ccd8ad-3ba5-415e-a100-a0e3639e8605",
     "text": "risk_predictor()"
    },
    "executionTime": "2020-03-31T00:02:25.763Z"
   },
   {
    "cell": {
     "executionCount": 1,
     "executionEventId": "0deadbe9-8664-4f7d-94ec-02a9eafc1fea",
     "hasError": false,
     "id": "a32fa7ae-04c5-4a2d-a165-4a4cc4ad0c03",
     "outputs": [],
     "persistentId": "e402b9b8-a4dd-4aeb-bd89-43f8c3937805",
     "text": "# Import libraries\nimport numpy as np\nimport pandas as pd\nfrom sklearn.preprocessing import RobustScaler\nimport xgboost as xgb\nfrom xgboost.sklearn import XGBClassifier\nimport pickle\nimport joblib\n\nimport warnings\n\nwarnings.simplefilter(\"ignore\")"
    },
    "executionTime": "2020-03-31T16:42:39.627Z"
   },
   {
    "cell": {
     "executionCount": 2,
     "executionEventId": "d77e2c9e-1ff1-40dc-b63d-058f9546c470",
     "hasError": false,
     "id": "9111d379-5045-437f-a0e7-787ef99e2276",
     "outputs": [],
     "persistentId": "e858e76e-09e5-4b24-8721-703f39e9fb7e",
     "text": "# Read data and models from pickles\nwith open(\"covid19_risk_xgboost.pkl\", \"rb\") as file:\n    xgb_best = pickle.load(file)\n\nwith open(\"age_scaler.pkl\", \"rb\") as file:\n    age_scaler = pickle.load(file)\n\nwith open(\"docs_scaler.pkl\", \"rb\") as file:\n    docs_scaler = pickle.load(file)\n\nwith open(\"beds_scaler.pkl\", \"rb\") as file:\n    beds_scaler = pickle.load(file)\n\nwith open(\"medical.pkl\", \"rb\") as file:\n    medical = pickle.load(file)"
    },
    "executionTime": "2020-03-31T16:42:39.652Z"
   },
   {
    "cell": {
     "executionCount": 3,
     "executionEventId": "fbb54442-930b-4d4c-9e61-2b37eb401440",
     "hasError": false,
     "id": "57069b49-c2f0-4769-b4e7-d035ef7100e0",
     "outputs": [],
     "persistentId": "456dfe32-6fc2-42c6-b60f-29ad83b7be37",
     "text": "# Function: Take patient info\ndef patient_info():\n\n    # Demographic info\n    age = input(\"What's your age?\")\n    sex = input(\"What's your biological sex? (female: 1, male: 0)\")\n    country = input(\"Which country do you live in?\")\n    docs_per_10k = medical.loc[\n        medical[\"country\"].str.contains(country), \"docs_per_10k\"\n    ].item()\n    beds_per_10k = medical.loc[\n        medical[\"country\"].str.contains(country), \"beds_per_10k\"\n    ].item()\n\n    # Pre-conditions\n    preconition = input(\"Any chronic dieases that you know of? (yes: 1, no: 0)\")\n    hypertension = input(\"Do you have hypertension? (yes: 1, no: 0)\")\n    diabetes = input(\"Do you have diabetes? (yes: 1, no: 0)\")\n    heart = input(\"Do you have heart diseases? (yes: 1, no: 0)\")\n\n    # Symptoms\n    fever = input(\"Do you have fever? (yes: 1, no: 0)\")\n    cough = input(\"Are you coughing? (yes: 1, no: 0)\")\n    fatigue = input(\"Do you feel fatigue? (yes: 1, no: 0)\")\n    sore_throat = input(\"Do you have a sore throat? (yes: 1 , no:0)\")\n\n    # Save results in a list\n    return {\n        \"sex\": int(sex),\n        \"chronic_disease_binary\": int(preconition),\n        \"beds_per_10k\": float(beds_scaler.transform([[beds_per_10k]])),\n        \"docs_per_10k\": float(docs_scaler.transform([[docs_per_10k]])),\n        \"hypertension\": int(hypertension),\n        \"diabetes\": int(diabetes),\n        \"heart\": int(heart),\n        \"fever\": int(fever),\n        \"cough\": int(cough),\n        \"fatigue\": int(fatigue),\n        \"sore throat\": int(sore_throat),\n        \"age_scaled\": float(age_scaler.transform([[age]])),\n    }\n\n\n# Function: Output risk\ndef risk_predictor():\n\n    # Get patient info\n    new_case = patient_info()\n\n    # Convert to useable format\n    new_case = pd.DataFrame(new_case, index=[0])\n\n    # Make prediction\n    new_prediction = xgb_best.predict_proba(new_case)\n\n    # Print result\n    print(\n        \"Once contracted COVID-19, your mortality risk is {}%.\".format(\n            round(new_prediction.tolist()[0][1] * 100, 2)\n        )\n    )"
    },
    "executionTime": "2020-03-31T16:42:39.660Z"
   },
   {
    "cell": {
     "executionCount": 4,
     "executionEventId": "6152bdbd-2997-4fc8-b216-81d22460341a",
     "hasError": false,
     "id": "cfddf10c-9145-4a63-b243-4bd747ed4fef",
     "outputs": [
      {
       "name": "stdin",
       "output_type": "stream",
       "text": "What's your age? 93\nWhat's your biological sex? (female: 1, male: 0) 1\nWhich country do you live in? United Kingdom\nAny chronic dieases that you know of? (yes: 1, no: 0) 0\nDo you have hypertension? (yes: 1, no: 0) 0\nDo you have diabetes? (yes: 1, no: 0) 0\nDo you have heart diseases? (yes: 1, no: 0) 0\nDo you have fever? (yes: 1, no: 0) 0\nAre you coughing? (yes: 1, no: 0) 0\nDo you feel fatigue? (yes: 1, no: 0) 0\nDo you have a sore throat? (yes: 1 , no:0) 0\n"
      },
      {
       "name": "stdout",
       "output_type": "stream",
       "text": "Once contracted COVID-19, your mortality risk is 69.9%.\n"
      }
     ],
     "persistentId": "01ccd8ad-3ba5-415e-a100-a0e3639e8605",
     "text": "risk_predictor()"
    },
    "executionTime": "2020-03-31T16:42:58.356Z"
   },
   {
    "cell": {
     "executionCount": 5,
     "executionEventId": "4f0b13cb-a302-4a23-9693-663bfcf78436",
     "hasError": false,
     "id": "cfddf10c-9145-4a63-b243-4bd747ed4fef",
     "outputs": [
      {
       "name": "stdin",
       "output_type": "stream",
       "text": "What's your age? 93\nWhat's your biological sex? (female: 1, male: 0) 1\nWhich country do you live in? United Kingdom\nAny chronic dieases that you know of? (yes: 1, no: 0) 0\nDo you have hypertension? (yes: 1, no: 0) 0\nDo you have diabetes? (yes: 1, no: 0) 0\nDo you have heart diseases? (yes: 1, no: 0) 0\nDo you have fever? (yes: 1, no: 0) 0\nAre you coughing? (yes: 1, no: 0) 0\nDo you feel fatigue? (yes: 1, no: 0) 0\nDo you have a sore throat? (yes: 1 , no:0) 0\n"
      },
      {
       "name": "stdout",
       "output_type": "stream",
       "text": "Once contracted COVID-19, your mortality risk is 69.9%.\n"
      }
     ],
     "persistentId": "01ccd8ad-3ba5-415e-a100-a0e3639e8605",
     "text": "risk_predictor()"
    },
    "executionTime": "2020-03-31T16:52:48.227Z"
   },
   {
    "cell": {
     "executionCount": 6,
     "executionEventId": "3000713b-bbce-4be4-b374-a5287c9aa867",
     "hasError": false,
     "id": "cfddf10c-9145-4a63-b243-4bd747ed4fef",
     "outputs": [
      {
       "name": "stdin",
       "output_type": "stream",
       "text": "What's your age? 25\nWhat's your biological sex? (female: 1, male: 0) 1\nWhich country do you live in? United States\nAny chronic dieases that you know of? (yes: 1, no: 0) 0\nDo you have hypertension? (yes: 1, no: 0) 0\nDo you have diabetes? (yes: 1, no: 0) 0\nDo you have heart diseases? (yes: 1, no: 0) 0\nDo you have fever? (yes: 1, no: 0) 0\nAre you coughing? (yes: 1, no: 0) 0\nDo you feel fatigue? (yes: 1, no: 0) 0\nDo you have a sore throat? (yes: 1 , no:0) 0\n"
      },
      {
       "name": "stdout",
       "output_type": "stream",
       "text": "Once contracted COVID-19, your mortality risk is 4.25%.\n"
      }
     ],
     "persistentId": "01ccd8ad-3ba5-415e-a100-a0e3639e8605",
     "text": "risk_predictor()"
    },
    "executionTime": "2020-03-31T16:53:09.688Z"
   },
   {
    "cell": {
     "executionCount": 7,
     "executionEventId": "66778b72-55f5-4759-9631-ed971f20e99b",
     "hasError": false,
     "id": "cfddf10c-9145-4a63-b243-4bd747ed4fef",
     "outputs": [
      {
       "name": "stdin",
       "output_type": "stream",
       "text": "What's your age? 55\nWhat's your biological sex? (female: 1, male: 0) 0\nWhich country do you live in? United Kingdom\nAny chronic dieases that you know of? (yes: 1, no: 0) 0\nDo you have hypertension? (yes: 1, no: 0) 0\nDo you have diabetes? (yes: 1, no: 0) 0\nDo you have heart diseases? (yes: 1, no: 0) 0\nDo you have fever? (yes: 1, no: 0) 0\nAre you coughing? (yes: 1, no: 0) 0\nDo you feel fatigue? (yes: 1, no: 0) 0\nDo you have a sore throat? (yes: 1 , no:0) 0\n"
      },
      {
       "name": "stdout",
       "output_type": "stream",
       "text": "Once contracted COVID-19, your mortality risk is 8.44%.\n"
      }
     ],
     "persistentId": "01ccd8ad-3ba5-415e-a100-a0e3639e8605",
     "text": "risk_predictor()"
    },
    "executionTime": "2020-03-31T16:53:40.406Z"
   },
   {
    "cell": {
     "executionCount": 1,
     "executionEventId": "bb52914a-23a0-4772-a458-e691fd0719a0",
     "hasError": false,
     "id": "68494d2c-f0cc-4490-ad61-653a537818b1",
     "outputs": [],
     "persistentId": "e402b9b8-a4dd-4aeb-bd89-43f8c3937805",
     "text": "# Import libraries\nimport numpy as np\nimport pandas as pd\nfrom sklearn.preprocessing import RobustScaler\nimport xgboost as xgb\nfrom xgboost.sklearn import XGBClassifier\nimport pickle\nimport joblib\n\nimport warnings\n\nwarnings.simplefilter(\"ignore\")"
    },
    "executionTime": "2020-03-31T17:14:21.379Z"
   },
   {
    "cell": {
     "executionCount": 2,
     "executionEventId": "38abdf1d-e409-4759-a947-9c5f67d72e60",
     "hasError": false,
     "id": "8ea2d1cd-19e5-42ff-94b3-d90a21199d57",
     "outputs": [],
     "persistentId": "e858e76e-09e5-4b24-8721-703f39e9fb7e",
     "text": "# Read data and models from pickles\nwith open(\"covid19_risk_xgboost.pkl\", \"rb\") as file:\n    xgb_best = pickle.load(file)\n\nwith open(\"age_scaler.pkl\", \"rb\") as file:\n    age_scaler = pickle.load(file)\n\nwith open(\"docs_scaler.pkl\", \"rb\") as file:\n    docs_scaler = pickle.load(file)\n\nwith open(\"beds_scaler.pkl\", \"rb\") as file:\n    beds_scaler = pickle.load(file)\n\nwith open(\"medical.pkl\", \"rb\") as file:\n    medical = pickle.load(file)"
    },
    "executionTime": "2020-03-31T17:14:21.393Z"
   },
   {
    "cell": {
     "executionCount": 3,
     "executionEventId": "0feb82ae-f82d-47fb-a025-68c8dae36c18",
     "hasError": false,
     "id": "3299520e-6e60-4c14-81b4-3a7f1b833255",
     "outputs": [],
     "persistentId": "456dfe32-6fc2-42c6-b60f-29ad83b7be37",
     "text": "# Function: Take patient info\ndef patient_info():\n\n    # Demographic info\n    age = input(\"What's your age?\")\n    sex = input(\"What's your biological sex? (female: 1, male: 0)\")\n    country = input(\"Which country do you live in?\")\n    docs_per_10k = medical.loc[\n        medical[\"country\"].str.contains(country), \"docs_per_10k\"\n    ].item()\n    beds_per_10k = medical.loc[\n        medical[\"country\"].str.contains(country), \"beds_per_10k\"\n    ].item()\n\n    # Pre-conditions\n    preconition = input(\"Any chronic dieases that you know of? (yes: 1, no: 0)\")\n    hypertension = input(\"Do you have hypertension? (yes: 1, no: 0)\")\n    diabetes = input(\"Do you have diabetes? (yes: 1, no: 0)\")\n    heart = input(\"Do you have heart diseases? (yes: 1, no: 0)\")\n\n    # Symptoms\n    fever = input(\"Do you have fever? (yes: 1, no: 0)\")\n    cough = input(\"Are you coughing? (yes: 1, no: 0)\")\n    fatigue = input(\"Do you feel fatigue? (yes: 1, no: 0)\")\n    sore_throat = input(\"Do you have a sore throat? (yes: 1 , no:0)\")\n\n    # Save results in a list\n    return {\n        \"sex\": int(sex),\n        \"chronic_disease_binary\": int(preconition),\n        \"beds_per_10k\": float(beds_scaler.transform([[beds_per_10k]])),\n        \"docs_per_10k\": float(docs_scaler.transform([[docs_per_10k]])),\n        \"hypertension\": int(hypertension),\n        \"diabetes\": int(diabetes),\n        \"heart\": int(heart),\n        \"fever\": int(fever),\n        \"cough\": int(cough),\n        \"fatigue\": int(fatigue),\n        \"sore throat\": int(sore_throat),\n        \"age_scaled\": float(age_scaler.transform([[age]])),\n    }\n\n\n# Function: Output risk\ndef risk_predictor():\n\n    # Get patient info\n    new_case = patient_info()\n\n    # Convert to useable format\n    new_case = pd.DataFrame(new_case, index=[0])\n\n    # Make prediction\n    new_prediction = xgb_best.predict_proba(new_case)\n\n    # Print result\n    print(\n        \"Once contracted COVID-19, your mortality risk is {}%.\".format(\n            round(new_prediction.tolist()[0][1] * 100, 2)\n        )\n    )"
    },
    "executionTime": "2020-03-31T17:14:21.417Z"
   },
   {
    "cell": {
     "executionCount": 4,
     "executionEventId": "4dfeb895-69bc-4244-91d2-4c491d00ae09",
     "hasError": false,
     "id": "173162a7-8da8-4982-b7f3-76d3e285cda3",
     "outputs": [
      {
       "name": "stdin",
       "output_type": "stream",
       "text": "What's your age? 93\nWhat's your biological sex? (female: 1, male: 0) 1\nWhich country do you live in? United Kingdom\nAny chronic dieases that you know of? (yes: 1, no: 0) 0\nDo you have hypertension? (yes: 1, no: 0) 0\nDo you have diabetes? (yes: 1, no: 0) 0\nDo you have heart diseases? (yes: 1, no: 0) 0\nDo you have fever? (yes: 1, no: 0) 0\nAre you coughing? (yes: 1, no: 0) 0\nDo you feel fatigue? (yes: 1, no: 0) 0\nDo you have a sore throat? (yes: 1 , no:0) 0\n"
      },
      {
       "name": "stdout",
       "output_type": "stream",
       "text": "Once contracted COVID-19, your mortality risk is 69.9%.\n"
      }
     ],
     "persistentId": "01ccd8ad-3ba5-415e-a100-a0e3639e8605",
     "text": "risk_predictor()"
    },
    "executionTime": "2020-03-31T17:15:01.931Z"
   }
  ],
  "kernelspec": {
   "display_name": "Python 3",
   "language": "python",
   "name": "python3"
  },
  "language_info": {
   "codemirror_mode": {
    "name": "ipython",
    "version": 3
   },
   "file_extension": ".py",
   "mimetype": "text/x-python",
   "name": "python",
   "nbconvert_exporter": "python",
   "pygments_lexer": "ipython3",
   "version": "3.7.3"
  },
  "uuid": "5692d9b4-1c2b-4fb7-88a6-358e630ca583"
 },
 "nbformat": 4,
 "nbformat_minor": 4
}
