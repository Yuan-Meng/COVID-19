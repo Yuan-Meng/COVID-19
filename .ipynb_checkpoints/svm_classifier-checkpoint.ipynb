{
 "cells": [
  {
   "cell_type": "code",
   "execution_count": 1,
   "metadata": {},
   "outputs": [],
   "source": [
    "# Import libraries\n",
    "%matplotlib inline\n",
    "import matplotlib.pyplot as plt\n",
    "import seaborn as sns\n",
    "import numpy as np\n",
    "import pandas as pd\n",
    "from sklearn import svm\n",
    "from sklearn.preprocessing import RobustScaler\n",
    "from sklearn.impute import SimpleImputer\n",
    "from sklearn.model_selection import train_test_split, GridSearchCV, cross_val_score\n",
    "from sklearn.metrics import classification_report, roc_auc_score, plot_confusion_matrix\n",
    "from imblearn.over_sampling import SMOTE\n",
    "import pickle\n",
    "\n",
    "import warnings\n",
    "\n",
    "warnings.simplefilter(\"ignore\")"
   ]
  },
  {
   "cell_type": "markdown",
   "metadata": {},
   "source": [
    "# Load saved data and models"
   ]
  },
  {
   "cell_type": "code",
   "execution_count": 11,
   "metadata": {},
   "outputs": [],
   "source": [
    "# Load processed data\n",
    "with open(\"dtrain.pkl\", \"rb\") as file:\n",
    "    X_train = pickle.load(file)\n",
    "    \n",
    "with open(\"dtest.pkl\", \"rb\") as file:\n",
    "    X_test = pickle.load(file)    \n",
    "\n",
    "with open(\"dfull.pkl\", \"rb\") as file:\n",
    "    X = pickle.load(file)      \n",
    "    \n",
    "with open(\"ytrain.pkl\", \"rb\") as file:\n",
    "    y_train = pickle.load(file)        \n",
    "    \n",
    "with open(\"ytest.pkl\", \"rb\") as file:\n",
    "    y_test = pickle.load(file)   \n",
    "\n",
    "with open(\"yfull.pkl\", \"rb\") as file:\n",
    "    y = pickle.load(file)      \n",
    "    \n",
    "with open(\"medical.pkl\", \"rb\") as file:\n",
    "    medical = pickle.load(file)     "
   ]
  },
  {
   "cell_type": "code",
   "execution_count": null,
   "metadata": {},
   "outputs": [],
   "source": [
    "# # Drop chronic_disease_binary, which is pretty useless\n",
    "# X_train.drop([\"chronic_disease_binary\"], axis=1, inplace=True)\n",
    "# X_test.drop([\"chronic_disease_binary\"], axis=1, inplace=True)\n",
    "# X.drop([\"chronic_disease_binary\"], axis=1, inplace=True)"
   ]
  },
  {
   "cell_type": "markdown",
   "metadata": {},
   "source": [
    "# Preprocessing"
   ]
  },
  {
   "cell_type": "code",
   "execution_count": 13,
   "metadata": {},
   "outputs": [],
   "source": [
    "# Same feature names\n",
    "feature_names = X.columns.tolist()"
   ]
  },
  {
   "cell_type": "code",
   "execution_count": 14,
   "metadata": {},
   "outputs": [],
   "source": [
    "# Impute missing values\n",
    "imp_train = SimpleImputer(missing_values=np.nan, strategy='mean')\n",
    "imp_test = SimpleImputer(missing_values=np.nan, strategy='mean')\n",
    "imp_full = SimpleImputer(missing_values=np.nan, strategy='mean')\n",
    "\n",
    "X_train = imp_train.fit_transform(X_train)\n",
    "X_test = imp_test.fit_transform(X_test)\n",
    "X = imp_full.fit_transform(X)"
   ]
  },
  {
   "cell_type": "code",
   "execution_count": 15,
   "metadata": {},
   "outputs": [],
   "source": [
    "# Oversample\n",
    "res_train = SMOTE()\n",
    "X_train, y_train = res_train.fit_resample(X_train, y_train)\n",
    "\n",
    "res_test = SMOTE()\n",
    "X_test, y_test = res_test.fit_resample(X_test, y_test)\n",
    "\n",
    "res_full = SMOTE()\n",
    "X, y = res_full.fit_resample(X, y)"
   ]
  },
  {
   "cell_type": "code",
   "execution_count": 16,
   "metadata": {},
   "outputs": [],
   "source": [
    "# Convert back to dataframes (or scaler somehow doesn't work)\n",
    "X_train = pd.DataFrame(X_train, columns = feature_names)\n",
    "X_test = pd.DataFrame(X_test, columns = feature_names)\n",
    "X = pd.DataFrame(X, columns = feature_names)"
   ]
  },
  {
   "cell_type": "code",
   "execution_count": 17,
   "metadata": {},
   "outputs": [
    {
     "data": {
      "text/html": [
       "<div>\n",
       "<style scoped>\n",
       "    .dataframe tbody tr th:only-of-type {\n",
       "        vertical-align: middle;\n",
       "    }\n",
       "\n",
       "    .dataframe tbody tr th {\n",
       "        vertical-align: top;\n",
       "    }\n",
       "\n",
       "    .dataframe thead th {\n",
       "        text-align: right;\n",
       "    }\n",
       "</style>\n",
       "<table border=\"1\" class=\"dataframe\">\n",
       "  <thead>\n",
       "    <tr style=\"text-align: right;\">\n",
       "      <th></th>\n",
       "      <th>age</th>\n",
       "      <th>sex</th>\n",
       "      <th>chronic_disease_binary</th>\n",
       "      <th>beds_per_10k</th>\n",
       "      <th>docs_per_10k</th>\n",
       "      <th>hypertension</th>\n",
       "      <th>diabetes</th>\n",
       "      <th>heart</th>\n",
       "      <th>fever</th>\n",
       "      <th>cough</th>\n",
       "      <th>sore throat</th>\n",
       "      <th>fatigue</th>\n",
       "    </tr>\n",
       "  </thead>\n",
       "  <tbody>\n",
       "    <tr>\n",
       "      <th>0</th>\n",
       "      <td>46.5</td>\n",
       "      <td>0.396579</td>\n",
       "      <td>0.976562</td>\n",
       "      <td>42.0</td>\n",
       "      <td>17.855</td>\n",
       "      <td>0.0</td>\n",
       "      <td>0.0</td>\n",
       "      <td>0.0</td>\n",
       "      <td>0.0</td>\n",
       "      <td>0.0</td>\n",
       "      <td>0.0</td>\n",
       "      <td>0.0</td>\n",
       "    </tr>\n",
       "    <tr>\n",
       "      <th>1</th>\n",
       "      <td>46.5</td>\n",
       "      <td>0.396579</td>\n",
       "      <td>0.976562</td>\n",
       "      <td>42.0</td>\n",
       "      <td>17.855</td>\n",
       "      <td>0.0</td>\n",
       "      <td>0.0</td>\n",
       "      <td>0.0</td>\n",
       "      <td>0.0</td>\n",
       "      <td>0.0</td>\n",
       "      <td>0.0</td>\n",
       "      <td>0.0</td>\n",
       "    </tr>\n",
       "    <tr>\n",
       "      <th>2</th>\n",
       "      <td>46.5</td>\n",
       "      <td>0.396579</td>\n",
       "      <td>0.976562</td>\n",
       "      <td>42.0</td>\n",
       "      <td>17.855</td>\n",
       "      <td>0.0</td>\n",
       "      <td>0.0</td>\n",
       "      <td>0.0</td>\n",
       "      <td>0.0</td>\n",
       "      <td>0.0</td>\n",
       "      <td>0.0</td>\n",
       "      <td>0.0</td>\n",
       "    </tr>\n",
       "    <tr>\n",
       "      <th>3</th>\n",
       "      <td>46.5</td>\n",
       "      <td>0.396579</td>\n",
       "      <td>0.976562</td>\n",
       "      <td>42.0</td>\n",
       "      <td>17.855</td>\n",
       "      <td>0.0</td>\n",
       "      <td>0.0</td>\n",
       "      <td>0.0</td>\n",
       "      <td>0.0</td>\n",
       "      <td>0.0</td>\n",
       "      <td>0.0</td>\n",
       "      <td>0.0</td>\n",
       "    </tr>\n",
       "    <tr>\n",
       "      <th>4</th>\n",
       "      <td>46.5</td>\n",
       "      <td>0.396579</td>\n",
       "      <td>0.976562</td>\n",
       "      <td>42.0</td>\n",
       "      <td>17.855</td>\n",
       "      <td>0.0</td>\n",
       "      <td>0.0</td>\n",
       "      <td>0.0</td>\n",
       "      <td>0.0</td>\n",
       "      <td>0.0</td>\n",
       "      <td>0.0</td>\n",
       "      <td>0.0</td>\n",
       "    </tr>\n",
       "  </tbody>\n",
       "</table>\n",
       "</div>"
      ],
      "text/plain": [
       "    age       sex  chronic_disease_binary  beds_per_10k  docs_per_10k  \\\n",
       "0  46.5  0.396579                0.976562          42.0        17.855   \n",
       "1  46.5  0.396579                0.976562          42.0        17.855   \n",
       "2  46.5  0.396579                0.976562          42.0        17.855   \n",
       "3  46.5  0.396579                0.976562          42.0        17.855   \n",
       "4  46.5  0.396579                0.976562          42.0        17.855   \n",
       "\n",
       "   hypertension  diabetes  heart  fever  cough  sore throat  fatigue  \n",
       "0           0.0       0.0    0.0    0.0    0.0          0.0      0.0  \n",
       "1           0.0       0.0    0.0    0.0    0.0          0.0      0.0  \n",
       "2           0.0       0.0    0.0    0.0    0.0          0.0      0.0  \n",
       "3           0.0       0.0    0.0    0.0    0.0          0.0      0.0  \n",
       "4           0.0       0.0    0.0    0.0    0.0          0.0      0.0  "
      ]
     },
     "execution_count": 17,
     "metadata": {},
     "output_type": "execute_result"
    }
   ],
   "source": [
    "X.head()"
   ]
  },
  {
   "cell_type": "code",
   "execution_count": 18,
   "metadata": {},
   "outputs": [],
   "source": [
    "# Scale age, docs, and beds\n",
    "age_train = RobustScaler()\n",
    "age_test = RobustScaler()\n",
    "age_full = RobustScaler()\n",
    "\n",
    "X_train[\"age\"] = age_train.fit_transform(X_train[[\"age\"]])\n",
    "X_test[\"age\"] = age_test.fit_transform(X_test[[\"age\"]])\n",
    "X[\"age\"] = age_full.fit_transform(X[[\"age\"]])\n",
    "\n",
    "beds_train = RobustScaler()\n",
    "beds_test = RobustScaler()\n",
    "beds_full = RobustScaler()\n",
    "\n",
    "X_train[\"beds_per_10k\"] = beds_train.fit_transform(X_train[[\"beds_per_10k\"]])\n",
    "X_test[\"beds_per_10k\"] = beds_test.fit_transform(X_test[[\"beds_per_10k\"]])\n",
    "X[\"beds_per_10k\"] = beds_full.fit_transform(X[[\"beds_per_10k\"]])\n",
    "\n",
    "docs_train = RobustScaler()\n",
    "docs_test = RobustScaler()\n",
    "docs_full = RobustScaler()\n",
    "\n",
    "X_train[\"docs_per_10k\"] = docs_train.fit_transform(X_train[[\"docs_per_10k\"]])\n",
    "X_test[\"docs_per_10k\"] = docs_test.fit_transform(X_test[[\"docs_per_10k\"]])\n",
    "X[\"docs_per_10k\"] = docs_full.fit_transform(X[[\"docs_per_10k\"]])"
   ]
  },
  {
   "cell_type": "markdown",
   "metadata": {},
   "source": [
    "# Model training"
   ]
  },
  {
   "cell_type": "code",
   "execution_count": 19,
   "metadata": {},
   "outputs": [
    {
     "name": "stdout",
     "output_type": "stream",
     "text": [
      "AUC in each fold: [0.93058705 0.95389267 0.94557823 0.93386243 0.95414462 0.90400605\n",
      " 0.95414462 0.94646007 0.96195515 0.95666415]; mean: 0.9441295036533133\n",
      "\n",
      "              precision    recall  f1-score   support\n",
      "\n",
      "           0       0.91      0.92      0.91       159\n",
      "           1       0.92      0.91      0.91       159\n",
      "\n",
      "    accuracy                           0.91       318\n",
      "   macro avg       0.91      0.91      0.91       318\n",
      "weighted avg       0.91      0.91      0.91       318\n",
      "\n"
     ]
    },
    {
     "data": {
      "image/png": "[encoded data removed]",
      "text/plain": [
       "<Figure size 432x288 with 2 Axes>"
      ]
     },
     "metadata": {
      "needs_background": "light"
     },
     "output_type": "display_data"
    }
   ],
   "source": [
    "# SVM classifier object\n",
    "clf = svm.SVC(probability=True)\n",
    "\n",
    "# Train classifier and evaluate performance\n",
    "def model_fit(model, data_train, data_test, target_train, target_test):\n",
    "\n",
    "    # Fit on training data\n",
    "    model.fit(data_train, target_train)\n",
    "\n",
    "    # Cross validate on training data\n",
    "    scores = cross_val_score(model, data_train, target_train, cv=10, scoring=\"roc_auc\")\n",
    "    print(\"AUC in each fold: {}; mean: {}\\n\".format(scores, scores.mean()))\n",
    "\n",
    "    # Predict outcome for testing data\n",
    "    y_pred = model.predict(data_test)\n",
    "\n",
    "    # Display performance metrics\n",
    "    svm_eval = classification_report(target_test, y_pred, labels=[0, 1])\n",
    "    print(svm_eval)\n",
    "\n",
    "    # Confusion matrix\n",
    "    plot_confusion_matrix(\n",
    "        model,\n",
    "        data_test,\n",
    "        target_test,\n",
    "        display_labels=[\"survived\", \"dead\"],\n",
    "        cmap=plt.cm.Blues,\n",
    "        normalize=None,\n",
    "    )\n",
    "    plt.title(\"Confusion matrix\")\n",
    "    \n",
    "model_fit(clf, X_train, X_test, y_train, y_test)    "
   ]
  },
  {
   "cell_type": "code",
   "execution_count": 20,
   "metadata": {},
   "outputs": [
    {
     "name": "stdout",
     "output_type": "stream",
     "text": [
      "              precision    recall  f1-score   support\n",
      "\n",
      "           0       0.93      0.90      0.91       789\n",
      "           1       0.91      0.93      0.92       789\n",
      "\n",
      "    accuracy                           0.92      1578\n",
      "   macro avg       0.92      0.92      0.92      1578\n",
      "weighted avg       0.92      0.92      0.92      1578\n",
      "\n"
     ]
    },
    {
     "data": {
      "text/plain": [
       "Text(0.5, 1.0, 'Confusion matrix')"
      ]
     },
     "execution_count": 20,
     "metadata": {},
     "output_type": "execute_result"
    },
    {
     "data": {
      "image/png": "[encoded data removed]",
      "text/plain": [
       "<Figure size 432x288 with 2 Axes>"
      ]
     },
     "metadata": {
      "needs_background": "light"
     },
     "output_type": "display_data"
    }
   ],
   "source": [
    "# Retrain on full data\n",
    "clf.fit(X, y)\n",
    "\n",
    "# Cross validation\n",
    "y_pred = clf.predict(X)\n",
    "svm_eval = classification_report(y, y_pred, labels=[0, 1])\n",
    "print(svm_eval)\n",
    "\n",
    "# Confusion matrix\n",
    "plot_confusion_matrix(\n",
    "    clf,\n",
    "    X,\n",
    "    y,\n",
    "    display_labels=[\"survived\", \"dead\"],\n",
    "    cmap=plt.cm.Blues,\n",
    "    normalize=None,\n",
    ")\n",
    "plt.title(\"Confusion matrix\")"
   ]
  },
  {
   "cell_type": "markdown",
   "metadata": {},
   "source": [
    "# Predict your risk"
   ]
  },
  {
   "cell_type": "markdown",
   "metadata": {},
   "source": [
    "## Try for yourself"
   ]
  },
  {
   "cell_type": "code",
   "execution_count": 21,
   "metadata": {},
   "outputs": [
    {
     "data": {
      "text/html": [
       "<div>\n",
       "<style scoped>\n",
       "    .dataframe tbody tr th:only-of-type {\n",
       "        vertical-align: middle;\n",
       "    }\n",
       "\n",
       "    .dataframe tbody tr th {\n",
       "        vertical-align: top;\n",
       "    }\n",
       "\n",
       "    .dataframe thead th {\n",
       "        text-align: right;\n",
       "    }\n",
       "</style>\n",
       "<table border=\"1\" class=\"dataframe\">\n",
       "  <thead>\n",
       "    <tr style=\"text-align: right;\">\n",
       "      <th></th>\n",
       "      <th>age</th>\n",
       "      <th>sex</th>\n",
       "      <th>chronic_disease_binary</th>\n",
       "      <th>beds_per_10k</th>\n",
       "      <th>docs_per_10k</th>\n",
       "      <th>hypertension</th>\n",
       "      <th>diabetes</th>\n",
       "      <th>heart</th>\n",
       "      <th>fever</th>\n",
       "      <th>cough</th>\n",
       "      <th>sore throat</th>\n",
       "      <th>fatigue</th>\n",
       "    </tr>\n",
       "  </thead>\n",
       "  <tbody>\n",
       "    <tr>\n",
       "      <th>0</th>\n",
       "      <td>-0.273069</td>\n",
       "      <td>0.396579</td>\n",
       "      <td>0.976562</td>\n",
       "      <td>0.492991</td>\n",
       "      <td>0.843751</td>\n",
       "      <td>0.0</td>\n",
       "      <td>0.0</td>\n",
       "      <td>0.0</td>\n",
       "      <td>0.0</td>\n",
       "      <td>0.0</td>\n",
       "      <td>0.0</td>\n",
       "      <td>0.0</td>\n",
       "    </tr>\n",
       "    <tr>\n",
       "      <th>1</th>\n",
       "      <td>-0.273069</td>\n",
       "      <td>0.396579</td>\n",
       "      <td>0.976562</td>\n",
       "      <td>0.492991</td>\n",
       "      <td>0.843751</td>\n",
       "      <td>0.0</td>\n",
       "      <td>0.0</td>\n",
       "      <td>0.0</td>\n",
       "      <td>0.0</td>\n",
       "      <td>0.0</td>\n",
       "      <td>0.0</td>\n",
       "      <td>0.0</td>\n",
       "    </tr>\n",
       "    <tr>\n",
       "      <th>2</th>\n",
       "      <td>-0.273069</td>\n",
       "      <td>0.396579</td>\n",
       "      <td>0.976562</td>\n",
       "      <td>0.492991</td>\n",
       "      <td>0.843751</td>\n",
       "      <td>0.0</td>\n",
       "      <td>0.0</td>\n",
       "      <td>0.0</td>\n",
       "      <td>0.0</td>\n",
       "      <td>0.0</td>\n",
       "      <td>0.0</td>\n",
       "      <td>0.0</td>\n",
       "    </tr>\n",
       "    <tr>\n",
       "      <th>3</th>\n",
       "      <td>-0.273069</td>\n",
       "      <td>0.396579</td>\n",
       "      <td>0.976562</td>\n",
       "      <td>0.492991</td>\n",
       "      <td>0.843751</td>\n",
       "      <td>0.0</td>\n",
       "      <td>0.0</td>\n",
       "      <td>0.0</td>\n",
       "      <td>0.0</td>\n",
       "      <td>0.0</td>\n",
       "      <td>0.0</td>\n",
       "      <td>0.0</td>\n",
       "    </tr>\n",
       "    <tr>\n",
       "      <th>4</th>\n",
       "      <td>-0.273069</td>\n",
       "      <td>0.396579</td>\n",
       "      <td>0.976562</td>\n",
       "      <td>0.492991</td>\n",
       "      <td>0.843751</td>\n",
       "      <td>0.0</td>\n",
       "      <td>0.0</td>\n",
       "      <td>0.0</td>\n",
       "      <td>0.0</td>\n",
       "      <td>0.0</td>\n",
       "      <td>0.0</td>\n",
       "      <td>0.0</td>\n",
       "    </tr>\n",
       "  </tbody>\n",
       "</table>\n",
       "</div>"
      ],
      "text/plain": [
       "        age       sex  chronic_disease_binary  beds_per_10k  docs_per_10k  \\\n",
       "0 -0.273069  0.396579                0.976562      0.492991      0.843751   \n",
       "1 -0.273069  0.396579                0.976562      0.492991      0.843751   \n",
       "2 -0.273069  0.396579                0.976562      0.492991      0.843751   \n",
       "3 -0.273069  0.396579                0.976562      0.492991      0.843751   \n",
       "4 -0.273069  0.396579                0.976562      0.492991      0.843751   \n",
       "\n",
       "   hypertension  diabetes  heart  fever  cough  sore throat  fatigue  \n",
       "0           0.0       0.0    0.0    0.0    0.0          0.0      0.0  \n",
       "1           0.0       0.0    0.0    0.0    0.0          0.0      0.0  \n",
       "2           0.0       0.0    0.0    0.0    0.0          0.0      0.0  \n",
       "3           0.0       0.0    0.0    0.0    0.0          0.0      0.0  \n",
       "4           0.0       0.0    0.0    0.0    0.0          0.0      0.0  "
      ]
     },
     "execution_count": 21,
     "metadata": {},
     "output_type": "execute_result"
    }
   ],
   "source": [
    "X.head()"
   ]
  },
  {
   "cell_type": "code",
   "execution_count": null,
   "metadata": {},
   "outputs": [],
   "source": [
    "# Function: Take patient info\n",
    "def patient_info():\n",
    "\n",
    "    # Demographic info\n",
    "    age = input(\"What's your age?\")\n",
    "    sex = input(\"What's your biological sex? (female: 1, male: 0)\")\n",
    "    country = input(\"Which country do you live in?\")\n",
    "    docs_per_10k = medical.loc[\n",
    "        medical[\"country\"].str.contains(country), \"docs_per_10k\"\n",
    "    ].item()\n",
    "    beds_per_10k = medical.loc[\n",
    "        medical[\"country\"].str.contains(country), \"beds_per_10k\"\n",
    "    ].item()\n",
    "\n",
    "    # Pre-conditions\n",
    "    preconition = input(\"Any chronic dieases that you know of? (yes: 1, no: 0)\")\n",
    "    hypertension = input(\"Do you have hypertension? (yes: 1, no: 0)\")\n",
    "    diabetes = input(\"Do you have diabetes? (yes: 1, no: 0)\")\n",
    "    heart = input(\"Do you have heart diseases? (yes: 1, no: 0)\")\n",
    "\n",
    "    # Symptoms\n",
    "    fever = input(\"Do you have fever? (yes: 1, no: 0)\")\n",
    "    cough = input(\"Are you coughing? (yes: 1, no: 0)\")\n",
    "    fatigue = input(\"Do you feel fatigue? (yes: 1, no: 0)\")\n",
    "    sore_throat = input(\"Do you have a sore throat? (yes: 1 , no:0)\")\n",
    "\n",
    "    # Save results in a list\n",
    "    return {\n",
    "        \"age\": float(age_full.transform([[age]])),\n",
    "        \"sex\": int(sex),\n",
    "        \"chronic_disease_binary\": int(preconition),\n",
    "        \"beds_per_10k\": float(beds_full.transform([[beds_per_10k]])),\n",
    "        \"docs_per_10k\": float(docs_full.transform([[docs_per_10k]])),\n",
    "        \"hypertension\": int(hypertension),\n",
    "        \"diabetes\": int(diabetes),\n",
    "        \"heart\": int(heart),\n",
    "        \"fever\": int(fever),\n",
    "        \"cough\": int(cough),\n",
    "        \"sore throat\": int(sore_throat),\n",
    "        \"fatigue\": int(fatigue),\n",
    "    }\n",
    "\n",
    "# Function: Output risk\n",
    "def risk_predictor():\n",
    "\n",
    "    # Get patient info\n",
    "    new_case = patient_info()\n",
    "\n",
    "    # Convert to useable format\n",
    "    new_case = pd.DataFrame(new_case, index=[0])\n",
    "\n",
    "    # Make prediction\n",
    "    new_prediction = clf.predict_proba(new_case)\n",
    "\n",
    "    # Print result\n",
    "    print(\n",
    "        \"Once contracted COVID-19, your mortality risk is {}%.\".format(\n",
    "            round(new_prediction[0][1] * 100, 2)\n",
    "        )\n",
    "    )"
   ]
  },
  {
   "cell_type": "code",
   "execution_count": null,
   "metadata": {},
   "outputs": [],
   "source": [
    "risk_predictor()"
   ]
  },
  {
   "cell_type": "markdown",
   "metadata": {},
   "source": [
    "## Save model"
   ]
  },
  {
   "cell_type": "code",
   "execution_count": null,
   "metadata": {},
   "outputs": [],
   "source": [
    "with open(\"covid19_risk_svm.pkl\", \"wb\") as file:\n",
    "    pickle.dump(clf, file, protocol = 2)"
   ]
  },
  {
   "cell_type": "code",
   "execution_count": null,
   "metadata": {},
   "outputs": [],
   "source": [
    "with open(\"svm_scaler.pkl\", \"wb\") as file:\n",
    "    pickle.dump(scale_full, file, protocol = 2)"
   ]
  },
  {
   "cell_type": "code",
   "execution_count": null,
   "metadata": {},
   "outputs": [],
   "source": []
  }
 ],
 "metadata": {
  "kernelspec": {
   "display_name": "Python 3",
   "language": "python",
   "name": "python3"
  },
  "language_info": {
   "codemirror_mode": {
    "name": "ipython",
    "version": 3
   },
   "file_extension": ".py",
   "mimetype": "text/x-python",
   "name": "python",
   "nbconvert_exporter": "python",
   "pygments_lexer": "ipython3",
   "version": "3.7.6"
  }
 },
 "nbformat": 4,
 "nbformat_minor": 4
}
